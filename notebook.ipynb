{
 "cells": [
  {
   "cell_type": "code",
   "execution_count": 1,
   "metadata": {},
   "outputs": [
    {
     "name": "stderr",
     "output_type": "stream",
     "text": [
      "/global/homes/o/omard/.local/cori/3.7-anaconda-2019.07/lib/python3.7/site-packages/healpy/fitsfunc.py:352: UserWarning: If you are not specifying the input dtype and using the default np.float64 dtype of read_map(), please consider that it will change in a future version to None as to keep the same dtype of the input file: please explicitly set the dtype if it is important to you.\n",
      "  \"If you are not specifying the input dtype and using the default \"\n"
     ]
    },
    {
     "name": "stdout",
     "output_type": "stream",
     "text": [
      "NSIDE = 4096\n",
      "ORDERING = RING in fits file\n",
      "INDXSCHM = IMPLICIT\n"
     ]
    }
   ],
   "source": [
    "import pathlib\n",
    "\n",
    "from falafel import utils, qe\n",
    "\n",
    "from pixell import lensing, curvedsky\n",
    "\n",
    "import solenspipe\n",
    "\n",
    "import pytempura\n",
    "\n",
    "import healpy as hp\n",
    "\n",
    "import numpy as np\n",
    "\n",
    "import matplotlib.pyplot as plt\n",
    "%matplotlib inline\n",
    "\n",
    "\n",
    "nside = 4096\n",
    "noise_sigma = 17\n",
    "mlmax = 6000\n",
    "fwhm = 1.4\n",
    "\n",
    "kappa_lmin, kappa_lmax = 100, 3000\n",
    "\n",
    "source_dir = pathlib.Path('/global/cscratch1/sd/omard/scatteringtfms/sims/')\n",
    "\n",
    "kappa_name = 'healpix_4096_KappaeffLSStoCMBfullsky.fits'\n",
    "cmb_name = 'Sehgalsimparams_healpix_4096_KappaeffLSStoCMBfullsky_phi_SimLens_Tsynfastnopell_fast_lmax8000_nside4096_interp2.5_method1_1_lensed_map.fits'\n",
    "tsz_name = 'tSZ_skymap_healpix_nopell_Nside4096_y_tSZrescale0p75.fits'\n",
    "\n",
    "mappa_tsz = hp.read_map(source_dir/tsz_name)"
   ]
  },
  {
   "cell_type": "code",
   "execution_count": 2,
   "metadata": {},
   "outputs": [],
   "source": [
    "maschera = np.load(source_dir/'maschera.npy')"
   ]
  },
  {
   "cell_type": "code",
   "execution_count": 3,
   "metadata": {},
   "outputs": [],
   "source": [
    "mappa_tsz_masked = maschera*mappa_tsz"
   ]
  },
  {
   "cell_type": "code",
   "execution_count": 31,
   "metadata": {},
   "outputs": [],
   "source": [
    "cltsz = hp.anafast(mappa_tsz)"
   ]
  },
  {
   "cell_type": "code",
   "execution_count": 50,
   "metadata": {},
   "outputs": [],
   "source": [
    "mappa_tsz_2 = hp.pixelfunc.ud_grade(mappa_tsz, 2*nside)"
   ]
  },
  {
   "cell_type": "code",
   "execution_count": 51,
   "metadata": {},
   "outputs": [],
   "source": [
    "cltsz2 = hp.anafast(mappa_tsz_2)"
   ]
  },
  {
   "cell_type": "code",
   "execution_count": 5,
   "metadata": {},
   "outputs": [],
   "source": [
    "cltsz_masked = hp.anafast(mappa_tsz_masked, pol = False)"
   ]
  },
  {
   "cell_type": "code",
   "execution_count": 33,
   "metadata": {},
   "outputs": [],
   "source": [
    "tsz_power = 'Sehgal_sim_tSZPS_unbinned_8192_y_rescale0p75.txt'\n",
    "ell, cltsz_lambda = np.loadtxt(source_dir/tsz_power, unpack = True)"
   ]
  },
  {
   "cell_type": "code",
   "execution_count": 14,
   "metadata": {},
   "outputs": [],
   "source": [
    "ls = np.arange(0, len(cltsz_masked))"
   ]
  },
  {
   "cell_type": "code",
   "execution_count": 15,
   "metadata": {},
   "outputs": [],
   "source": [
    "w2 = np.mean(maschera**2.)"
   ]
  },
  {
   "cell_type": "code",
   "execution_count": 18,
   "metadata": {},
   "outputs": [
    {
     "data": {
      "text/plain": [
       "(12288,)"
      ]
     },
     "execution_count": 18,
     "metadata": {},
     "output_type": "execute_result"
    }
   ],
   "source": [
    "cltsz_masked.shape"
   ]
  },
  {
   "cell_type": "code",
   "execution_count": 26,
   "metadata": {},
   "outputs": [
    {
     "name": "stderr",
     "output_type": "stream",
     "text": [
      "/global/homes/o/omard/.local/cori/3.7-anaconda-2019.07/lib/python3.7/site-packages/szar/foregrounds.py:180: UserWarning: Warning: Requested ells go higher than available. Extrapolating above highest ell.\n",
      "  warnings.warn(\"Warning: Requested ells go higher than available.\" + \\\n",
      "/global/homes/o/omard/.local/cori/3.7-anaconda-2019.07/lib/python3.7/site-packages/szar/foregrounds.py:63: RuntimeWarning: divide by zero encountered in true_divide\n",
      "  cls = A_tsz * dls*2.*np.pi*np.nan_to_num(1./ells/(ells+1.)) / ffunc(nu0)**2./tcmb**2.\n"
     ]
    }
   ],
   "source": [
    "from szar import foregrounds as sfg\n",
    "powery = sfg.power_y(ls)\n",
    "powery[0] = 1e-10"
   ]
  },
  {
   "cell_type": "code",
   "execution_count": 43,
   "metadata": {},
   "outputs": [],
   "source": [
    "pixel_window = hp.sphtfunc.pixwin(nside)\n",
    "lpixel = np.arange(0, len(pixel_window))\n",
    "p4096 = np.interp(ell, lpixel, pixel_window)"
   ]
  },
  {
   "cell_type": "code",
   "execution_count": 44,
   "metadata": {},
   "outputs": [],
   "source": [
    "pixel_window_2 = hp.sphtfunc.pixwin(2*nside)\n",
    "lpixel = np.arange(0, len(pixel_window))\n",
    "p8192 = np.interp(ell, lpixel, pixel_window)"
   ]
  },
  {
   "cell_type": "code",
   "execution_count": 46,
   "metadata": {},
   "outputs": [
    {
     "data": {
      "text/plain": [
       "<matplotlib.legend.Legend at 0x1554a58bd978>"
      ]
     },
     "execution_count": 46,
     "metadata": {},
     "output_type": "execute_result"
    },
    {
     "data": {
      "image/png": "[encoded data removed]",
      "text/plain": [
       "<Figure size 432x288 with 1 Axes>"
      ]
     },
     "metadata": {
      "needs_background": "light"
     },
     "output_type": "display_data"
    }
   ],
   "source": [
    "plt.title('y power, Mask M_200 > 1e15 with radius 5 arcmin')\n",
    "plt.xlabel('$l$')\n",
    "plt.ylabel('$C_l$')\n",
    "plt.loglog(ell, cltsz_lambda/p8192**2.*p4096**2., label = 'tSZ power from LAMBDA')\n",
    "plt.loglog(ls, cltsz, label = 'tSZ power')\n",
    "plt.loglog(ls, cltsz_masked/w2, label = 'Masked tSZ power')\n",
    "plt.loglog(ls, powery, label = 'SZAR Theory line')\n",
    "plt.legend()"
   ]
  },
  {
   "cell_type": "code",
   "execution_count": null,
   "metadata": {},
   "outputs": [],
   "source": []
  }
 ],
 "metadata": {
  "kernelspec": {
   "display_name": "cobaya-env",
   "language": "python",
   "name": "cobaya"
  },
  "language_info": {
   "codemirror_mode": {
    "name": "ipython",
    "version": 3
   },
   "file_extension": ".py",
   "mimetype": "text/x-python",
   "name": "python",
   "nbconvert_exporter": "python",
   "pygments_lexer": "ipython3",
   "version": "3.7.3"
  },
  "orig_nbformat": 4
 },
 "nbformat": 4,
 "nbformat_minor": 2
}
