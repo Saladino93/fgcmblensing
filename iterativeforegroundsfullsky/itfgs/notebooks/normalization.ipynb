{
 "cells": [
  {
   "cell_type": "code",
   "execution_count": 5,
   "id": "0e6b9758-5e0e-45e5-8a75-3101c555f595",
   "metadata": {},
   "outputs": [
    {
     "name": "stdout",
     "output_type": "stream",
     "text": [
      "The autoreload extension is already loaded. To reload it, use:\n",
      "  %reload_ext autoreload\n"
     ]
    },
    {
     "name": "stderr",
     "output_type": "stream",
     "text": [
      "/global/u2/o/omard/plancklens/plancklens/utils.py:323: RuntimeWarning: invalid value encountered in divide\n",
      "  cls['pp'][ell[idc]] = cols[5][idc] / wpp(ell[idc])\n",
      "/global/u2/o/omard/plancklens/plancklens/utils.py:324: RuntimeWarning: invalid value encountered in divide\n",
      "  cls['pt'][ell[idc]] = cols[6][idc] / wptpe(ell[idc])\n",
      "/global/u2/o/omard/plancklens/plancklens/utils.py:325: RuntimeWarning: invalid value encountered in divide\n",
      "  cls['pe'][ell[idc]] = cols[7][idc] / wptpe(ell[idc])\n"
     ]
    }
   ],
   "source": [
    "import numpy as np\n",
    "\n",
    "import pathlib\n",
    "\n",
    "from matplotlib import pylab as pl\n",
    "\n",
    "%load_ext autoreload\n",
    "%autoreload 2\n",
    "\n",
    "import plancklens\n",
    "\n",
    "from plancklens import utils as putils\n",
    "\n",
    "import os\n",
    "from os.path import join as opj\n",
    "\n",
    "\n",
    "\n",
    "cls_path = opj(os.path.dirname(plancklens.__file__), 'data', 'clssehgal')\n",
    "cls_unl = putils.camb_clfile(opj(cls_path, 'Sehgal_lenspotentialCls.dat'))"
   ]
  },
  {
   "cell_type": "code",
   "execution_count": 17,
   "id": "e2668043-026c-488d-8a31-f9608712844c",
   "metadata": {},
   "outputs": [],
   "source": [
    "pp = cls_unl['pp']\n",
    "l_pp = np.arange(0, len(pp))"
   ]
  },
  {
   "cell_type": "code",
   "execution_count": 21,
   "id": "49c758e7-7fed-4541-85d9-45f849ec8fe9",
   "metadata": {},
   "outputs": [],
   "source": [
    "outputdir = pathlib.Path('results')"
   ]
  },
  {
   "cell_type": "code",
   "execution_count": 22,
   "id": "dfe1ef95-f366-4eb9-b5c2-8c9890d0a2ce",
   "metadata": {},
   "outputs": [],
   "source": [
    "version = 'tol7'"
   ]
  },
  {
   "cell_type": "code",
   "execution_count": null,
   "id": "1cfceaf8-feb8-4b4f-8bfd-d09ea3bab652",
   "metadata": {},
   "outputs": [],
   "source": []
  }
 ],
 "metadata": {
  "kernelspec": {
   "display_name": "lenscarf",
   "language": "python",
   "name": "lenscarf"
  },
  "language_info": {
   "codemirror_mode": {
    "name": "ipython",
    "version": 3
   },
   "file_extension": ".py",
   "mimetype": "text/x-python",
   "name": "python",
   "nbconvert_exporter": "python",
   "pygments_lexer": "ipython3",
   "version": "3.8.13"
  }
 },
 "nbformat": 4,
 "nbformat_minor": 5
}
