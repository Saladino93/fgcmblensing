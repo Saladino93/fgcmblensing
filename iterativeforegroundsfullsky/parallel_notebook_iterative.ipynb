{
 "cells": [
  {
   "cell_type": "code",
   "execution_count": 1,
   "id": "6bd15d84-7678-4946-af63-a0004753b697",
   "metadata": {},
   "outputs": [],
   "source": [
    "import numpy as np\n",
    "import ipcmagic\n",
    "import ipyparallel as ipp"
   ]
  },
  {
   "cell_type": "code",
   "execution_count": 2,
   "id": "a2116735-8b7e-4530-b4ec-ca027d396f18",
   "metadata": {},
   "outputs": [
    {
     "data": {
      "text/plain": [
       "3"
      ]
     },
     "execution_count": 2,
     "metadata": {},
     "output_type": "execute_result"
    }
   ],
   "source": [
    "3"
   ]
  },
  {
   "cell_type": "code",
   "execution_count": 5,
   "id": "2d1dab1c-e0e6-41a5-bbac-7b7198942bc1",
   "metadata": {},
   "outputs": [],
   "source": [
    "import plancklens"
   ]
  },
  {
   "cell_type": "code",
   "execution_count": 15,
   "id": "42e96814-8799-4e81-90fd-dc93dfb5a7e3",
   "metadata": {},
   "outputs": [],
   "source": [
    "import plancklens"
   ]
  },
  {
   "cell_type": "code",
   "execution_count": 6,
   "id": "e9b3534f-21f0-4fb2-b4d2-a283e63cd7da",
   "metadata": {},
   "outputs": [
    {
     "name": "stdout",
     "output_type": "stream",
     "text": [
      "Manage an IPyParallel cluster.\n",
      "\n",
      "    Usage:\n",
      "      %ipcluster start -n <num_engines> [options]\n",
      "      %ipcluster stop\n",
      "      %ipcluster (-h | --help)\n",
      "      %ipcluster --version\n",
      "\n",
      "    Options:\n",
      "      -h --help                Show this screen.\n",
      "      -v --version             Show version.\n",
      "      -n --num_engines <int>   Number of engines\n",
      "      --launcher <str>         Job launcher (mpirun | srun | local)\n",
      "      --dask                   Create a dask.distributed cluster\n",
      "    \n"
     ]
    }
   ],
   "source": [
    "%ipcluster --help"
   ]
  },
  {
   "cell_type": "code",
   "execution_count": 7,
   "id": "8c354593-bddb-4c6e-8db9-e139ad512f3d",
   "metadata": {},
   "outputs": [
    {
     "name": "stdout",
     "output_type": "stream",
     "text": [
      "1.1.0\n"
     ]
    }
   ],
   "source": [
    "%ipcluster --version"
   ]
  },
  {
   "cell_type": "code",
   "execution_count": 9,
   "id": "563b15b8-3022-4f6b-b220-7225cc3aa0d6",
   "metadata": {},
   "outputs": [
    {
     "data": {
      "application/vnd.jupyter.widget-view+json": {
       "model_id": "8a8d75de2480453083f73df47161b936",
       "version_major": 2,
       "version_minor": 0
      },
      "text/plain": [
       "  0%|          | 0/16 [00:00<?, ?engine/s]"
      ]
     },
     "metadata": {},
     "output_type": "display_data"
    }
   ],
   "source": [
    "%ipcluster start -n 16 --launcher srun"
   ]
  },
  {
   "cell_type": "code",
   "execution_count": 10,
   "id": "987f343e-8b32-461c-9a23-d26df93b00db",
   "metadata": {},
   "outputs": [],
   "source": [
    "c = ipp.Client()"
   ]
  },
  {
   "cell_type": "code",
   "execution_count": 11,
   "id": "8fcc4c44-2afd-4264-9113-52ec5a5199bf",
   "metadata": {},
   "outputs": [
    {
     "data": {
      "text/plain": [
       "[0, 1, 2, 3, 4, 5, 6, 7, 8, 9, 10, 11, 12, 13, 14, 15]"
      ]
     },
     "execution_count": 11,
     "metadata": {},
     "output_type": "execute_result"
    }
   ],
   "source": [
    "c.ids"
   ]
  },
  {
   "cell_type": "code",
   "execution_count": 16,
   "id": "7de91e6e-e473-41ff-8b7f-892155678563",
   "metadata": {},
   "outputs": [
    {
     "name": "stderr",
     "output_type": "stream",
     "text": [
      "[5:execute]\n",
      "\u001b[0;31m---------------------------------------------------------------------------\u001b[0m\n",
      "\u001b[0;31mModuleNotFoundError\u001b[0m                       Traceback (most recent call last)\n",
      "Input \u001b[0;32mIn [4]\u001b[0m, in \u001b[0;36m<module>\u001b[0;34m\u001b[0m\n",
      "\u001b[0;32m----> 1\u001b[0m \u001b[38;5;28;01mimport\u001b[39;00m \u001b[38;5;21;01mlenscarf\u001b[39;00m\n",
      "\n",
      "\u001b[0;31mModuleNotFoundError\u001b[0m: No module named 'lenscarf'\n",
      "[3:execute]\n",
      "\u001b[0;31m---------------------------------------------------------------------------\u001b[0m\n",
      "\u001b[0;31mModuleNotFoundError\u001b[0m                       Traceback (most recent call last)\n",
      "Input \u001b[0;32mIn [4]\u001b[0m, in \u001b[0;36m<module>\u001b[0;34m\u001b[0m\n",
      "\u001b[0;32m----> 1\u001b[0m \u001b[38;5;28;01mimport\u001b[39;00m \u001b[38;5;21;01mlenscarf\u001b[39;00m\n",
      "\n",
      "\u001b[0;31mModuleNotFoundError\u001b[0m: No module named 'lenscarf'\n",
      "[9:execute]\n",
      "\u001b[0;31m---------------------------------------------------------------------------\u001b[0m\n",
      "\u001b[0;31mModuleNotFoundError\u001b[0m                       Traceback (most recent call last)\n",
      "Input \u001b[0;32mIn [4]\u001b[0m, in \u001b[0;36m<module>\u001b[0;34m\u001b[0m\n",
      "\u001b[0;32m----> 1\u001b[0m \u001b[38;5;28;01mimport\u001b[39;00m \u001b[38;5;21;01mlenscarf\u001b[39;00m\n",
      "\n",
      "\u001b[0;31mModuleNotFoundError\u001b[0m: No module named 'lenscarf'\n",
      "[6:execute]\n",
      "\u001b[0;31m---------------------------------------------------------------------------\u001b[0m\n",
      "\u001b[0;31mModuleNotFoundError\u001b[0m                       Traceback (most recent call last)\n",
      "Input \u001b[0;32mIn [4]\u001b[0m, in \u001b[0;36m<module>\u001b[0;34m\u001b[0m\n",
      "\u001b[0;32m----> 1\u001b[0m \u001b[38;5;28;01mimport\u001b[39;00m \u001b[38;5;21;01mlenscarf\u001b[39;00m\n",
      "\n",
      "\u001b[0;31mModuleNotFoundError\u001b[0m: No module named 'lenscarf'\n",
      "[7:execute] ModuleNotFoundError: No module named 'lenscarf'\n",
      "[2:execute] ModuleNotFoundError: No module named 'lenscarf'\n",
      "[14:execute] ModuleNotFoundError: No module named 'lenscarf'\n",
      "[0:execute] ModuleNotFoundError: No module named 'lenscarf'\n",
      "[1:execute] ModuleNotFoundError: No module named 'lenscarf'\n",
      "[12:execute] ModuleNotFoundError: No module named 'lenscarf'\n",
      "[4:execute] ModuleNotFoundError: No module named 'lenscarf'\n",
      "[8:execute] ModuleNotFoundError: No module named 'lenscarf'\n",
      "[11:execute] ModuleNotFoundError: No module named 'lenscarf'\n",
      "[10:execute] ModuleNotFoundError: No module named 'lenscarf'\n",
      "[13:execute] ModuleNotFoundError: No module named 'lenscarf'\n",
      "[15:execute] ModuleNotFoundError: No module named 'lenscarf'\n"
     ]
    },
    {
     "ename": "AlreadyDisplayedError",
     "evalue": "16 errors",
     "output_type": "error",
     "traceback": [
      "16 errors"
     ]
    }
   ],
   "source": [
    "%%px\n",
    "import lenscarf"
   ]
  },
  {
   "cell_type": "code",
   "execution_count": null,
   "id": "40408d72-8703-45a3-b0ac-2ca743a54a10",
   "metadata": {},
   "outputs": [],
   "source": []
  },
  {
   "cell_type": "code",
   "execution_count": null,
   "id": "4e590726-8161-4ced-a85c-cb5c729a4592",
   "metadata": {},
   "outputs": [],
   "source": []
  },
  {
   "cell_type": "code",
   "execution_count": null,
   "id": "72293402-c6b5-4e34-aefa-06fdd72e05b5",
   "metadata": {},
   "outputs": [],
   "source": []
  },
  {
   "cell_type": "code",
   "execution_count": 43,
   "id": "43a12bff-9a7d-4604-bd51-e892c542034e",
   "metadata": {},
   "outputs": [],
   "source": [
    "view = c[:]\n",
    "view.activate()"
   ]
  },
  {
   "cell_type": "code",
   "execution_count": 44,
   "id": "eec6ff60-3416-495c-8ec7-e2e6f966af45",
   "metadata": {},
   "outputs": [],
   "source": [
    "def my_func():\n",
    "      !python tryparallelnotebook.py"
   ]
  },
  {
   "cell_type": "code",
   "execution_count": 18,
   "id": "f1af6be8-67f7-49d1-9816-f0c9eddefc99",
   "metadata": {},
   "outputs": [],
   "source": [
    "r = view.map_async(my_func, np.arange(16,dtype='float'))"
   ]
  },
  {
   "cell_type": "code",
   "execution_count": null,
   "id": "b712b2e6-5a41-44c9-91aa-6ff0de0a52d5",
   "metadata": {},
   "outputs": [],
   "source": []
  },
  {
   "cell_type": "code",
   "execution_count": null,
   "id": "34119fd9-5792-4679-8472-d9938f8b3ebd",
   "metadata": {},
   "outputs": [],
   "source": []
  },
  {
   "cell_type": "code",
   "execution_count": 17,
   "id": "5d99767a-30ce-4653-8676-c140381ab65f",
   "metadata": {},
   "outputs": [
    {
     "name": "stderr",
     "output_type": "stream",
     "text": [
      "ERROR:tornado.general:Uncaught exception in zmqstream callback\n",
      "Traceback (most recent call last):\n",
      "  File \"/apps/daint/UES/jenkins/7.0.UP03/21.09/daint-gpu/software/jupyterlab/3.2.8-CrayGNU-21.09-batchspawner-cuda/lib/python3.9/site-packages/zmq/eventloop/zmqstream.py\", line 461, in _handle_events\n",
      "    self._rebuild_io_state()\n",
      "  File \"/apps/daint/UES/jenkins/7.0.UP03/21.09/daint-gpu/software/jupyterlab/3.2.8-CrayGNU-21.09-batchspawner-cuda/lib/python3.9/site-packages/zmq/eventloop/zmqstream.py\", line 516, in _rebuild_io_state\n",
      "    self._update_handler(state)\n",
      "  File \"/apps/daint/UES/jenkins/7.0.UP03/21.09/daint-gpu/software/jupyterlab/3.2.8-CrayGNU-21.09-batchspawner-cuda/lib/python3.9/site-packages/zmq/eventloop/zmqstream.py\", line 533, in _update_handler\n",
      "    if state & self.socket.events:\n",
      "  File \"/apps/daint/UES/jenkins/7.0.UP03/21.09/daint-gpu/software/jupyterlab/3.2.8-CrayGNU-21.09-batchspawner-cuda/lib/python3.9/site-packages/zmq/sugar/attrsettr.py\", line 51, in __getattr__\n",
      "    return self._get_attr_opt(upper_key, opt)\n",
      "  File \"/apps/daint/UES/jenkins/7.0.UP03/21.09/daint-gpu/software/jupyterlab/3.2.8-CrayGNU-21.09-batchspawner-cuda/lib/python3.9/site-packages/zmq/sugar/attrsettr.py\", line 63, in _get_attr_opt\n",
      "    return self.get(opt)\n",
      "  File \"zmq/backend/cython/socket.pyx\", line 464, in zmq.backend.cython.socket.Socket.get\n",
      "  File \"zmq/backend/cython/socket.pyx\", line 135, in zmq.backend.cython.socket._check_closed\n",
      "zmq.error.ZMQError: Socket operation on non-socket\n",
      "ERROR:tornado.application:Exception in callback functools.partial(<function ZMQStream._update_handler.<locals>.<lambda> at 0x155538631e50>)\n",
      "Traceback (most recent call last):\n",
      "  File \"/apps/daint/UES/jenkins/7.0.UP03/21.09/daint-gpu/software/jupyterlab/3.2.8-CrayGNU-21.09-batchspawner-cuda/lib/python3.9/site-packages/tornado/ioloop.py\", line 741, in _run_callback\n",
      "    ret = callback()\n",
      "  File \"/apps/daint/UES/jenkins/7.0.UP03/21.09/daint-gpu/software/jupyterlab/3.2.8-CrayGNU-21.09-batchspawner-cuda/lib/python3.9/site-packages/zmq/eventloop/zmqstream.py\", line 536, in <lambda>\n",
      "    self.io_loop.add_callback(lambda: self._handle_events(self.socket, 0))\n",
      "  File \"/apps/daint/UES/jenkins/7.0.UP03/21.09/daint-gpu/software/jupyterlab/3.2.8-CrayGNU-21.09-batchspawner-cuda/lib/python3.9/site-packages/zmq/eventloop/zmqstream.py\", line 461, in _handle_events\n",
      "    self._rebuild_io_state()\n",
      "  File \"/apps/daint/UES/jenkins/7.0.UP03/21.09/daint-gpu/software/jupyterlab/3.2.8-CrayGNU-21.09-batchspawner-cuda/lib/python3.9/site-packages/zmq/eventloop/zmqstream.py\", line 516, in _rebuild_io_state\n",
      "    self._update_handler(state)\n",
      "  File \"/apps/daint/UES/jenkins/7.0.UP03/21.09/daint-gpu/software/jupyterlab/3.2.8-CrayGNU-21.09-batchspawner-cuda/lib/python3.9/site-packages/zmq/eventloop/zmqstream.py\", line 533, in _update_handler\n",
      "    if state & self.socket.events:\n",
      "  File \"/apps/daint/UES/jenkins/7.0.UP03/21.09/daint-gpu/software/jupyterlab/3.2.8-CrayGNU-21.09-batchspawner-cuda/lib/python3.9/site-packages/zmq/sugar/attrsettr.py\", line 51, in __getattr__\n",
      "    return self._get_attr_opt(upper_key, opt)\n",
      "  File \"/apps/daint/UES/jenkins/7.0.UP03/21.09/daint-gpu/software/jupyterlab/3.2.8-CrayGNU-21.09-batchspawner-cuda/lib/python3.9/site-packages/zmq/sugar/attrsettr.py\", line 63, in _get_attr_opt\n",
      "    return self.get(opt)\n",
      "  File \"zmq/backend/cython/socket.pyx\", line 464, in zmq.backend.cython.socket.Socket.get\n",
      "  File \"zmq/backend/cython/socket.pyx\", line 135, in zmq.backend.cython.socket._check_closed\n",
      "zmq.error.ZMQError: Socket operation on non-socket\n",
      "ERROR:tornado.application:Exception in callback functools.partial(<function ZMQStream._update_handler.<locals>.<lambda> at 0x15554a8f7280>)\n",
      "Traceback (most recent call last):\n",
      "  File \"/apps/daint/UES/jenkins/7.0.UP03/21.09/daint-gpu/software/jupyterlab/3.2.8-CrayGNU-21.09-batchspawner-cuda/lib/python3.9/site-packages/tornado/ioloop.py\", line 741, in _run_callback\n",
      "    ret = callback()\n",
      "  File \"/apps/daint/UES/jenkins/7.0.UP03/21.09/daint-gpu/software/jupyterlab/3.2.8-CrayGNU-21.09-batchspawner-cuda/lib/python3.9/site-packages/zmq/eventloop/zmqstream.py\", line 536, in <lambda>\n",
      "    self.io_loop.add_callback(lambda: self._handle_events(self.socket, 0))\n",
      "  File \"/apps/daint/UES/jenkins/7.0.UP03/21.09/daint-gpu/software/jupyterlab/3.2.8-CrayGNU-21.09-batchspawner-cuda/lib/python3.9/site-packages/zmq/eventloop/zmqstream.py\", line 445, in _handle_events\n",
      "    zmq_events = self.socket.EVENTS\n",
      "  File \"/apps/daint/UES/jenkins/7.0.UP03/21.09/daint-gpu/software/jupyterlab/3.2.8-CrayGNU-21.09-batchspawner-cuda/lib/python3.9/site-packages/zmq/sugar/attrsettr.py\", line 51, in __getattr__\n",
      "    return self._get_attr_opt(upper_key, opt)\n",
      "  File \"/apps/daint/UES/jenkins/7.0.UP03/21.09/daint-gpu/software/jupyterlab/3.2.8-CrayGNU-21.09-batchspawner-cuda/lib/python3.9/site-packages/zmq/sugar/attrsettr.py\", line 63, in _get_attr_opt\n",
      "    return self.get(opt)\n",
      "  File \"zmq/backend/cython/socket.pyx\", line 464, in zmq.backend.cython.socket.Socket.get\n",
      "  File \"zmq/backend/cython/socket.pyx\", line 135, in zmq.backend.cython.socket._check_closed\n",
      "zmq.error.ZMQError: Socket operation on non-socket\n"
     ]
    },
    {
     "name": "stdout",
     "output_type": "stream",
     "text": [
      "IPCluster stopped.\n"
     ]
    }
   ],
   "source": [
    "%ipcluster stop\n"
   ]
  },
  {
   "cell_type": "code",
   "execution_count": null,
   "id": "86fbddbd-4ba4-4140-b692-526fb71fca70",
   "metadata": {},
   "outputs": [],
   "source": []
  }
 ],
 "metadata": {
  "kernelspec": {
   "display_name": "Python 3 (ipykernel)",
   "language": "python",
   "name": "python3"
  },
  "language_info": {
   "codemirror_mode": {
    "name": "ipython",
    "version": 3
   },
   "file_extension": ".py",
   "mimetype": "text/x-python",
   "name": "python",
   "nbconvert_exporter": "python",
   "pygments_lexer": "ipython3",
   "version": "3.9.4"
  }
 },
 "nbformat": 4,
 "nbformat_minor": 5
}
