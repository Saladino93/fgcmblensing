{
 "cells": [
  {
   "cell_type": "code",
   "execution_count": 12,
   "metadata": {},
   "outputs": [
    {
     "name": "stdout",
     "output_type": "stream",
     "text": [
      "Four-point correlation function:\n",
      "C(Abs(l2))**2 + C(Abs(l3))**2 + C(Abs(l4))**2\n"
     ]
    }
   ],
   "source": [
    "import sympy as sp\n",
    "\n",
    "# Define the variables\n",
    "l1, l2, l3, l4 = sp.symbols('l1 l2 l3 l4')\n",
    "\n",
    "# Define the basic correlator\n",
    "C = sp.Function('C')(sp.Abs(l1))\n",
    "\n",
    "# Define the three-point function\n",
    "B = sp.Function('B')(l1, l2, l3)\n",
    "\n",
    "# Apply Wick's theorem\n",
    "term1 = C.subs(l1, -l2) * C.subs(l1, -l2)\n",
    "term2 = C.subs(l1, -l3) * C.subs(l1, -l3)\n",
    "term3 = C.subs(l1, -l4) * C.subs(l1, -l4)\n",
    "\n",
    "# Combine the terms\n",
    "four_point = term1 + term2 + term3\n",
    "\n",
    "# Simplify the expression\n",
    "four_point = four_point.simplify()\n",
    "\n",
    "# Print the result\n",
    "print(\"Four-point correlation function:\")\n",
    "print(four_point)"
   ]
  },
  {
   "cell_type": "code",
   "execution_count": 13,
   "metadata": {},
   "outputs": [
    {
     "data": {
      "text/latex": [
       "$\\displaystyle C^{2}{\\left(\\left|{l_{2}}\\right| \\right)} + C^{2}{\\left(\\left|{l_{3}}\\right| \\right)} + C^{2}{\\left(\\left|{l_{4}}\\right| \\right)}$"
      ],
      "text/plain": [
       "C(Abs(l2))**2 + C(Abs(l3))**2 + C(Abs(l4))**2"
      ]
     },
     "execution_count": 13,
     "metadata": {},
     "output_type": "execute_result"
    }
   ],
   "source": [
    "four_point"
   ]
  }
 ],
 "metadata": {
  "kernelspec": {
   "display_name": "cmbanalysis",
   "language": "python",
   "name": "python3"
  },
  "language_info": {
   "codemirror_mode": {
    "name": "ipython",
    "version": 3
   },
   "file_extension": ".py",
   "mimetype": "text/x-python",
   "name": "python",
   "nbconvert_exporter": "python",
   "pygments_lexer": "ipython3",
   "version": "3.10.8"
  },
  "orig_nbformat": 4
 },
 "nbformat": 4,
 "nbformat_minor": 2
}
