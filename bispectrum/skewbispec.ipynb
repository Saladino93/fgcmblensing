{
 "cells": [
  {
   "cell_type": "code",
   "execution_count": 1049,
   "metadata": {},
   "outputs": [
    {
     "name": "stdout",
     "output_type": "stream",
     "text": [
      "The autoreload extension is already loaded. To reload it, use:\n",
      "  %reload_ext autoreload\n"
     ]
    }
   ],
   "source": [
    "%load_ext autoreload\n",
    "%autoreload 2\n",
    "\n",
    "\n",
    "import matplotlib.pyplot as plt\n",
    "import numpy as np\n",
    "import scipy\n",
    "from scipy import integrate as sinteg\n",
    "\n",
    "import integrated_bispectrum\n",
    "\n",
    "import integrated_bispectrum_vec_general\n",
    "\n",
    "from NumbaQuadpack import quadpack_sig, dqags\n",
    "import numba as nb"
   ]
  },
  {
   "cell_type": "code",
   "execution_count": 1573,
   "metadata": {},
   "outputs": [],
   "source": [
    "import bispectrum_3D_numba as b3n\n",
    "import interpolated_quantities_numba as iqn"
   ]
  },
  {
   "cell_type": "code",
   "execution_count": null,
   "metadata": {},
   "outputs": [],
   "source": []
  },
  {
   "cell_type": "code",
   "execution_count": null,
   "metadata": {},
   "outputs": [],
   "source": []
  },
  {
   "cell_type": "code",
   "execution_count": 1550,
   "metadata": {},
   "outputs": [
    {
     "name": "stdout",
     "output_type": "stream",
     "text": [
      "61.1 µs ± 5.4 µs per loop (mean ± std. dev. of 7 runs, 10,000 loops each)\n"
     ]
    }
   ],
   "source": [
    "%timeit integrated_bispectrum.bispectrum_matter(1, 1, 1, np.pi/3, np.pi/3, np.pi/3, 1, model = 'TR')"
   ]
  },
  {
   "cell_type": "code",
   "execution_count": 1570,
   "metadata": {},
   "outputs": [
    {
     "data": {
      "text/plain": [
       "248790.50270500773"
      ]
     },
     "execution_count": 1570,
     "metadata": {},
     "output_type": "execute_result"
    }
   ],
   "source": [
    "b3n.bispectrum_matter_TR(1, 1, 1, np.pi/3, np.pi/3, np.pi/3, 1, model = 'TR')"
   ]
  },
  {
   "cell_type": "code",
   "execution_count": 1592,
   "metadata": {},
   "outputs": [
    {
     "name": "stdout",
     "output_type": "stream",
     "text": [
      "1.3 µs ± 6.88 ns per loop (mean ± std. dev. of 7 runs, 1,000,000 loops each)\n"
     ]
    }
   ],
   "source": [
    "%timeit b3n.bispectrum_matter_TR(1, 1, 1, np.pi/3, np.pi/3, np.pi/3, 1)"
   ]
  },
  {
   "cell_type": "code",
   "execution_count": null,
   "metadata": {},
   "outputs": [],
   "source": [
    "def bispectrum_at_ells_of_chi(chi, data): \n",
    "        return chi**(-4)*iqn.Wkk(chi)**3*b3n.bispectrum_matter(l/chi, l/chi, l/chi, angle, angle, angle, iqn.zofchi(chi))"
   ]
  },
  {
   "cell_type": "code",
   "execution_count": 1651,
   "metadata": {},
   "outputs": [],
   "source": [
    "@np.vectorize\n",
    "def integrate_bispectrum_kkk(l1, l2, l3, angle12, angle13, angle23, model = 'TR'):\n",
    "    bispectrum_at_ells_of_chi = lambda chi: chi**(-4)*integrated_bispectrum.Wkk(chi)**3*integrated_bispectrum.bispectrum_matter(l1/chi, l2/chi, l3/chi, angle12, angle13, angle23, integrated_bispectrum.zofchi(chi), model = model)\n",
    "    #return sinteg.quadrature(bispectrum_at_ells_of_chi, 0, integrated_bispectrum.chistar, maxiter = 50, rtol = 1e-8)[0]\n",
    "    return sinteg.quadrature(bispectrum_at_ells_of_chi, 0, integrated_bispectrum.chistar, maxiter = 2, miniter = 1, rtol = 1e-12)[0]"
   ]
  },
  {
   "cell_type": "code",
   "execution_count": 1652,
   "metadata": {},
   "outputs": [
    {
     "name": "stdout",
     "output_type": "stream",
     "text": [
      "433 µs ± 11.8 µs per loop (mean ± std. dev. of 7 runs, 1,000 loops each)\n"
     ]
    }
   ],
   "source": [
    "%timeit integrate_bispectrum_kkk(1, 1, 1, np.pi/3, np.pi/3, np.pi/3, model = 'TR')"
   ]
  },
  {
   "cell_type": "code",
   "execution_count": 1646,
   "metadata": {},
   "outputs": [],
   "source": [
    "#@np.vectorize\n",
    "#@jit\n",
    "def integrate_bispectrum_kkk_prova(l_, angle_):\n",
    "    @nb.cfunc(quadpack_sig)\n",
    "    def bispectrum_at_ells_of_chi(chi, data_): \n",
    "        data = nb.carray(data_, (2,))\n",
    "        l, angle = data[0], data[1]\n",
    "        return chi**(-4)*iqn.Wkk(chi)**3*b3n.bispectrum_matter_TR(l/chi, l/chi, l/chi, angle, angle, angle, iqn.zofchi(chi))\n",
    "    funcptr = bispectrum_at_ells_of_chi.address\n",
    "    data = np.array([l_, angle_], dtype = np.float64)\n",
    "    sol, abserr, success = dqags(funcptr, 0, integrated_bispectrum.chistar, data = data, epsabs = 1e-1, epsrel = 1e-1)\n",
    "    return sol #sinteg.quadrature(bispectrum_at_ells_of_chi, 0, integrated_bispectrum.chistar, maxiter = 50, rtol = 1e-8)[0]"
   ]
  },
  {
   "cell_type": "code",
   "execution_count": 1686,
   "metadata": {},
   "outputs": [
    {
     "data": {
      "text/plain": [
       "13858.934986501856"
      ]
     },
     "execution_count": 1686,
     "metadata": {},
     "output_type": "execute_result"
    }
   ],
   "source": [
    "integrated_bispectrum.chistar"
   ]
  },
  {
   "cell_type": "code",
   "execution_count": 1740,
   "metadata": {},
   "outputs": [],
   "source": [
    "@np.vectorize\n",
    "def integrate_bispectrum_kkk_prova_2(l, angle):\n",
    "    @np.vectorize\n",
    "    def bispectrum_at_ells_of_chi(chi): \n",
    "        return chi**(-4)*iqn.Wkk(chi)**3*b3n.bispectrum_matter_TR(l/chi, l/chi, l/chi, angle, angle, angle, iqn.zofchi(chi))\n",
    "    return sinteg.quadrature(bispectrum_at_ells_of_chi, 0, integrated_bispectrum.chistar, miniter = 10, maxiter = 50, rtol = 1e-8)[0]"
   ]
  },
  {
   "cell_type": "code",
   "execution_count": 1745,
   "metadata": {},
   "outputs": [],
   "source": [
    "#get points and weights for Gaussian quadrature using numpy legendre module\n",
    "def gaussxw(a, b, N):\n",
    "    x, w = np.polynomial.legendre.leggauss(N)\n",
    "    return 0.5*(b-a)*x + 0.5*(b+a), 0.5*(b-a)*w\n",
    "\n"
   ]
  },
  {
   "cell_type": "code",
   "execution_count": 1768,
   "metadata": {},
   "outputs": [],
   "source": [
    "xs, ws = gaussxw(0, integrated_bispectrum.chistar, 10)"
   ]
  },
  {
   "cell_type": "code",
   "execution_count": 1779,
   "metadata": {},
   "outputs": [],
   "source": [
    "xs, ws = gaussxw(0, b3n.chistar, 10)\n",
    "\n",
    "@np.vectorize\n",
    "def integrate_bispectrum_kkk_TR_gauss(l1, l2, l3, angle12, angle13, angle23):\n",
    "    @np.vectorize\n",
    "    def bispectrum_at_ells_of_chi(chi): \n",
    "        return chi**(-4)*iqn.Wkk(chi)**3*b3n.bispectrum_matter_TR(l1/chi, l2/chi, l3/chi, angle12, angle13, angle23, iqn.zofchi(chi))\n",
    "    return np.dot(bispectrum_at_ells_of_chi(xs), ws)\n",
    "\n",
    "def get_angle_12(L1, L2, L3):\n",
    "    term = (L1**2+L2**2-L3**2)/(2*L1*L2)\n",
    "    return np.arccos(term)\n",
    "\n",
    "@jit\n",
    "def integrate_bispectrum_kkk_TR_gauss_from_triangle(l1, l2, l3):\n",
    "    def bispectrum_at_ells_of_chi(chi): \n",
    "        angle12, angle13, angle23 = get_angle_12(l1, l2, l3), get_angle_12(l1, l3, l2), get_angle_12(l2, l3, l1)\n",
    "        return chi**(-4)*iqn.Wkk(chi)**3*b3n.bispectrum_matter_TR(l1/chi, l2/chi, l3/chi, angle12, angle13, angle23, iqn.zofchi(chi))\n",
    "    return np.dot(bispectrum_at_ells_of_chi(xs, l1, l2, l3), ws)"
   ]
  },
  {
   "cell_type": "code",
   "execution_count": 1781,
   "metadata": {},
   "outputs": [
    {
     "name": "stdout",
     "output_type": "stream",
     "text": [
      "640 ns ± 11 ns per loop (mean ± std. dev. of 7 runs, 1,000,000 loops each)\n"
     ]
    }
   ],
   "source": [
    "def get_angle_cos12(L1, L2, L3):\n",
    "    return (L1**2+L2**2-L3**2)/(2*L1*L2)\n",
    "%timeit get_angle_cos12(3, 4, 5)"
   ]
  },
  {
   "cell_type": "code",
   "execution_count": null,
   "metadata": {},
   "outputs": [],
   "source": []
  },
  {
   "cell_type": "code",
   "execution_count": 1780,
   "metadata": {},
   "outputs": [
    {
     "ename": "TypingError",
     "evalue": "Failed in object mode pipeline (step: convert make_function into JIT functions)\n\u001b[1mCannot capture the non-constant value associated with variable 'l1' in a function that will escape.\n\u001b[1m\nFile \"../../../../../../var/folders/5s/mpby42n15_ng7rv494cv19tw0000gn/T/ipykernel_68835/1941456660.py\", line 17:\u001b[0m\n\u001b[1m<source missing, REPL/exec in use?>\u001b[0m\n\u001b[0m",
     "output_type": "error",
     "traceback": [
      "\u001b[0;31m---------------------------------------------------------------------------\u001b[0m",
      "\u001b[0;31mTypingError\u001b[0m                               Traceback (most recent call last)",
      "Cell \u001b[0;32mIn[1780], line 1\u001b[0m\n\u001b[0;32m----> 1\u001b[0m integrate_bispectrum_kkk_TR_gauss_from_triangle(\u001b[39m3\u001b[39;49m, \u001b[39m4\u001b[39;49m, \u001b[39m5\u001b[39;49m)\n",
      "File \u001b[0;32m/opt/homebrew/Caskroom/miniforge/base/envs/cmbanalysis/lib/python3.10/site-packages/numba/core/dispatcher.py:468\u001b[0m, in \u001b[0;36m_DispatcherBase._compile_for_args\u001b[0;34m(self, *args, **kws)\u001b[0m\n\u001b[1;32m    464\u001b[0m         msg \u001b[39m=\u001b[39m (\u001b[39mf\u001b[39m\u001b[39m\"\u001b[39m\u001b[39m{\u001b[39;00m\u001b[39mstr\u001b[39m(e)\u001b[39m.\u001b[39mrstrip()\u001b[39m}\u001b[39;00m\u001b[39m \u001b[39m\u001b[39m\\n\u001b[39;00m\u001b[39m\\n\u001b[39;00m\u001b[39mThis error may have been caused \u001b[39m\u001b[39m\"\u001b[39m\n\u001b[1;32m    465\u001b[0m                \u001b[39mf\u001b[39m\u001b[39m\"\u001b[39m\u001b[39mby the following argument(s):\u001b[39m\u001b[39m\\n\u001b[39;00m\u001b[39m{\u001b[39;00margs_str\u001b[39m}\u001b[39;00m\u001b[39m\\n\u001b[39;00m\u001b[39m\"\u001b[39m)\n\u001b[1;32m    466\u001b[0m         e\u001b[39m.\u001b[39mpatch_message(msg)\n\u001b[0;32m--> 468\u001b[0m     error_rewrite(e, \u001b[39m'\u001b[39;49m\u001b[39mtyping\u001b[39;49m\u001b[39m'\u001b[39;49m)\n\u001b[1;32m    469\u001b[0m \u001b[39mexcept\u001b[39;00m errors\u001b[39m.\u001b[39mUnsupportedError \u001b[39mas\u001b[39;00m e:\n\u001b[1;32m    470\u001b[0m     \u001b[39m# Something unsupported is present in the user code, add help info\u001b[39;00m\n\u001b[1;32m    471\u001b[0m     error_rewrite(e, \u001b[39m'\u001b[39m\u001b[39munsupported_error\u001b[39m\u001b[39m'\u001b[39m)\n",
      "File \u001b[0;32m/opt/homebrew/Caskroom/miniforge/base/envs/cmbanalysis/lib/python3.10/site-packages/numba/core/dispatcher.py:409\u001b[0m, in \u001b[0;36m_DispatcherBase._compile_for_args.<locals>.error_rewrite\u001b[0;34m(e, issue_type)\u001b[0m\n\u001b[1;32m    407\u001b[0m     \u001b[39mraise\u001b[39;00m e\n\u001b[1;32m    408\u001b[0m \u001b[39melse\u001b[39;00m:\n\u001b[0;32m--> 409\u001b[0m     \u001b[39mraise\u001b[39;00m e\u001b[39m.\u001b[39mwith_traceback(\u001b[39mNone\u001b[39;00m)\n",
      "\u001b[0;31mTypingError\u001b[0m: Failed in object mode pipeline (step: convert make_function into JIT functions)\n\u001b[1mCannot capture the non-constant value associated with variable 'l1' in a function that will escape.\n\u001b[1m\nFile \"../../../../../../var/folders/5s/mpby42n15_ng7rv494cv19tw0000gn/T/ipykernel_68835/1941456660.py\", line 17:\u001b[0m\n\u001b[1m<source missing, REPL/exec in use?>\u001b[0m\n\u001b[0m"
     ]
    }
   ],
   "source": [
    "integrate_bispectrum_kkk_TR_gauss_from_triangle(3, 4, 5)"
   ]
  },
  {
   "cell_type": "code",
   "execution_count": null,
   "metadata": {},
   "outputs": [],
   "source": []
  },
  {
   "cell_type": "code",
   "execution_count": 1771,
   "metadata": {},
   "outputs": [],
   "source": [
    "@np.vectorize\n",
    "def integrate_bispectrum_kkk_prova_gauss(l, angle):\n",
    "    @np.vectorize\n",
    "    def bispectrum_at_ells_of_chi(chi): \n",
    "        return chi**(-4)*iqn.Wkk(chi)**3*b3n.bispectrum_matter_TR(l/chi, l/chi, l/chi, angle, angle, angle, iqn.zofchi(chi))\n",
    "    return np.dot(bispectrum_at_ells_of_chi(xs), ws)"
   ]
  },
  {
   "cell_type": "code",
   "execution_count": 1772,
   "metadata": {},
   "outputs": [
    {
     "name": "stdout",
     "output_type": "stream",
     "text": [
      "92.9 µs ± 2.24 µs per loop (mean ± std. dev. of 7 runs, 10,000 loops each)\n"
     ]
    }
   ],
   "source": [
    "%timeit integrate_bispectrum_kkk_prova_gauss(100, np.pi/3)"
   ]
  },
  {
   "cell_type": "code",
   "execution_count": 1743,
   "metadata": {},
   "outputs": [],
   "source": [
    "@np.vectorize\n",
    "def integrate_bispectrum_kkk_prova_3(l, angle):\n",
    "    @np.vectorize\n",
    "    def bispectrum_at_ells_of_chi(chi): \n",
    "        return chi**(-4)*iqn.Wkk(chi)**3*b3n.bispectrum_matter_TR(l/chi, l/chi, l/chi, angle, angle, angle, iqn.zofchi(chi))\n",
    "    return sinteg.fixed_quad(bispectrum_at_ells_of_chi, 0, integrated_bispectrum.chistar, n = 10)[0]\n",
    "    #return sinteg.quadrature(bispectrum_at_ells_of_chi, 0, integrated_bispectrum.chistar, miniter = 10, maxiter = 50, rtol = 1e-8)[0]"
   ]
  },
  {
   "cell_type": "code",
   "execution_count": 1744,
   "metadata": {},
   "outputs": [
    {
     "data": {
      "text/plain": [
       "0.9900840114937858"
      ]
     },
     "execution_count": 1744,
     "metadata": {},
     "output_type": "execute_result"
    }
   ],
   "source": [
    "integrate_bispectrum_kkk_prova_2(100, np.pi/3)/integrate_bispectrum_kkk_prova_3(100, np.pi/3)"
   ]
  },
  {
   "cell_type": "code",
   "execution_count": 1767,
   "metadata": {},
   "outputs": [
    {
     "data": {
      "text/plain": [
       "0.9270836018936137"
      ]
     },
     "execution_count": 1767,
     "metadata": {},
     "output_type": "execute_result"
    }
   ],
   "source": [
    "integrate_bispectrum_kkk_prova_gauss(100, np.pi/3)/integrate_bispectrum_kkk_prova_2(100, np.pi/3)"
   ]
  },
  {
   "cell_type": "code",
   "execution_count": 1774,
   "metadata": {},
   "outputs": [
    {
     "name": "stdout",
     "output_type": "stream",
     "text": [
      "216 µs ± 1.12 µs per loop (mean ± std. dev. of 7 runs, 1,000 loops each)\n"
     ]
    }
   ],
   "source": [
    "%timeit integrate_bispectrum_kkk_prova_2(100, np.pi/3)"
   ]
  },
  {
   "cell_type": "code",
   "execution_count": 1753,
   "metadata": {},
   "outputs": [
    {
     "name": "stdout",
     "output_type": "stream",
     "text": [
      "104 µs ± 117 ns per loop (mean ± std. dev. of 7 runs, 10,000 loops each)\n"
     ]
    }
   ],
   "source": [
    "%timeit integrate_bispectrum_kkk_prova_3(100, np.pi/3)"
   ]
  },
  {
   "cell_type": "code",
   "execution_count": null,
   "metadata": {},
   "outputs": [],
   "source": [
    "#@np.vectorize\n",
    "#@jit\n",
    "def integrate_bispectrum_kkk_prova(l_, angle_):\n",
    "    @nb.cfunc(quadpack_sig)\n",
    "    def bispectrum_at_ells_of_chi(chi, data_): \n",
    "        data = nb.carray(data_, (2,))\n",
    "        l, angle = data[0], data[1]\n",
    "        return chi**(-4)*iqn.Wkk(chi)**3*b3n.bispectrum_matter_TR(l/chi, l/chi, l/chi, angle, angle, angle, iqn.zofchi(chi))\n",
    "    funcptr = bispectrum_at_ells_of_chi.address\n",
    "    data = np.array([l_, angle_], dtype = np.float64)\n",
    "    sol, abserr, success = dqags(funcptr, 0, integrated_bispectrum.chistar, data = data, epsabs = 1e-1, epsrel = 1e-1)\n",
    "    return sol #sinteg.quadrature(bispectrum_at_ells_of_chi, 0, integrated_bispectrum.chistar, maxiter = 50, rtol = 1e-8)[0]"
   ]
  },
  {
   "cell_type": "code",
   "execution_count": 1735,
   "metadata": {},
   "outputs": [
    {
     "name": "stdout",
     "output_type": "stream",
     "text": [
      "4.88 µs ± 70.3 ns per loop (mean ± std. dev. of 7 runs, 100,000 loops each)\n"
     ]
    }
   ],
   "source": [
    "%timeit iqn.zofchi(precomputed_chis)"
   ]
  },
  {
   "cell_type": "code",
   "execution_count": 1669,
   "metadata": {},
   "outputs": [],
   "source": [
    "@nb.njit\n",
    "def integrate_bispectrum_kkk_alt_(l_, angle_):\n",
    "    @np.vectorize(excluded=['l', 'angle'])\n",
    "    def bispectrum_at_ells_of_chi(chi, l, angle): \n",
    "        return chi**(-4)*iqn.Wkk(chi)**3*b3n.bispectrum_matter_TR(l/chi, l/chi, l/chi, angle, angle, angle, iqn.zofchi(chi))\n",
    "    return integrate_numba(bispectrum_at_ells_of_chi(precomputed_chis, l, angle), precomputed_chis)"
   ]
  },
  {
   "cell_type": "code",
   "execution_count": 1715,
   "metadata": {},
   "outputs": [],
   "source": [
    "def integrate_bispectrum_kkk_prova(l_, angle_):\n",
    "    @nb.cfunc(quadpack_sig)\n",
    "    def bispectrum_at_ells_of_chi(chi, data_): \n",
    "        data = nb.carray(data_, (2,))\n",
    "        l, angle = data[0], data[1]\n",
    "        return chi**(-4)#*iqn.Wkk(chi)**3*b3n.bispectrum_matter_TR(l/chi, l/chi, l/chi, angle, angle, angle, iqn.zofchi(chi))\n",
    "    funcptr = bispectrum_at_ells_of_chi.address\n",
    "    data = np.array([l_, angle_], dtype = np.float64)\n",
    "    sol, abserr, success = dqags(funcptr, 0, integrated_bispectrum.chistar, data = data, epsabs = 1, epsrel = 1)\n",
    "    return sol #sinteg.quadrature(bispectrum_at_ells_of_chi, 0, integrated_bispectrum.chistar, maxiter = 50, rtol = 1e-8)[0]"
   ]
  },
  {
   "cell_type": "code",
   "execution_count": 1727,
   "metadata": {},
   "outputs": [],
   "source": [
    "@nb.cfunc(quadpack_sig)\n",
    "def f(chi, data):\n",
    "    return chi**-4*iqn.Wkk(chi)**3\n",
    "funcptr = f.address\n",
    "\n",
    "a = 0\n",
    "b = integrated_bispectrum.chistar"
   ]
  },
  {
   "cell_type": "code",
   "execution_count": 1728,
   "metadata": {},
   "outputs": [
    {
     "name": "stdout",
     "output_type": "stream",
     "text": [
      "18.1 µs ± 119 ns per loop (mean ± std. dev. of 7 runs, 100,000 loops each)\n"
     ]
    }
   ],
   "source": [
    "%timeit sol, abserr, success = dqags(funcptr, a, b)"
   ]
  },
  {
   "cell_type": "code",
   "execution_count": 1726,
   "metadata": {},
   "outputs": [
    {
     "name": "stdout",
     "output_type": "stream",
     "text": [
      "20.8 µs ± 437 ns per loop (mean ± std. dev. of 7 runs, 10,000 loops each)\n"
     ]
    }
   ],
   "source": [
    "def ff(chi):\n",
    "    return chi**-4*iqn.Wkk(chi)**3\n",
    "%timeit sinteg.quadrature(ff, a, b)"
   ]
  },
  {
   "cell_type": "code",
   "execution_count": null,
   "metadata": {},
   "outputs": [],
   "source": []
  },
  {
   "cell_type": "code",
   "execution_count": 1713,
   "metadata": {},
   "outputs": [
    {
     "data": {
      "text/plain": [
       "1.5655939787716132e-13"
      ]
     },
     "execution_count": 1713,
     "metadata": {},
     "output_type": "execute_result"
    }
   ],
   "source": [
    "integrate_bispectrum_kkk_prova(100., np.pi/3)"
   ]
  },
  {
   "cell_type": "code",
   "execution_count": 1678,
   "metadata": {},
   "outputs": [
    {
     "data": {
      "text/plain": [
       "array(1.58120502e-13)"
      ]
     },
     "execution_count": 1678,
     "metadata": {},
     "output_type": "execute_result"
    }
   ],
   "source": [
    "integrate_bispectrum_kkk_prova_2(100., np.pi/3)"
   ]
  },
  {
   "cell_type": "code",
   "execution_count": 1716,
   "metadata": {},
   "outputs": [
    {
     "name": "stdout",
     "output_type": "stream",
     "text": [
      "20.2 ms ± 779 µs per loop (mean ± std. dev. of 7 runs, 10 loops each)\n"
     ]
    }
   ],
   "source": [
    "%timeit integrate_bispectrum_kkk_prova(100, np.pi/3)"
   ]
  },
  {
   "cell_type": "code",
   "execution_count": 1690,
   "metadata": {},
   "outputs": [
    {
     "name": "stdout",
     "output_type": "stream",
     "text": [
      "219 µs ± 5.63 µs per loop (mean ± std. dev. of 7 runs, 1,000 loops each)\n"
     ]
    }
   ],
   "source": [
    "%timeit integrate_bispectrum_kkk_prova_2(100, np.pi/3)"
   ]
  },
  {
   "cell_type": "code",
   "execution_count": 1701,
   "metadata": {},
   "outputs": [],
   "source": [
    "@nb.cfunc(quadpack_sig)\n",
    "def f(x, data_):\n",
    "    data = nb.carray(data_, (2,))\n",
    "    return np.sum(data)*x**2\n",
    "funcptr = f.address\n",
    "a = 0\n",
    "b = 1000\n",
    "data = np.array([1.0,2.0],np.float64)"
   ]
  },
  {
   "cell_type": "code",
   "execution_count": 1702,
   "metadata": {},
   "outputs": [],
   "source": [
    "def ff(x):\n",
    "    return x**2"
   ]
  },
  {
   "cell_type": "code",
   "execution_count": 1703,
   "metadata": {},
   "outputs": [
    {
     "name": "stdout",
     "output_type": "stream",
     "text": [
      "898 ns ± 8.2 ns per loop (mean ± std. dev. of 7 runs, 1,000,000 loops each)\n"
     ]
    }
   ],
   "source": [
    "%timeit sol, abserr, success = dqags(funcptr, a, b, data = data)"
   ]
  },
  {
   "cell_type": "code",
   "execution_count": 1704,
   "metadata": {},
   "outputs": [
    {
     "name": "stdout",
     "output_type": "stream",
     "text": [
      "20.6 µs ± 153 ns per loop (mean ± std. dev. of 7 runs, 10,000 loops each)\n"
     ]
    }
   ],
   "source": [
    "%timeit sinteg.quadrature(ff, a, b)"
   ]
  },
  {
   "cell_type": "code",
   "execution_count": null,
   "metadata": {},
   "outputs": [],
   "source": []
  },
  {
   "cell_type": "code",
   "execution_count": 2,
   "metadata": {},
   "outputs": [],
   "source": [
    "#https://github.com/toshiyan/cmblensplus/blob/dcd212906da8039f63839d69e8bb45ebccd55d09/F90/src_utils/bstool.f90#L988\n",
    "def W3j_approx(l1,l2,l3):\n",
    "  #ind = np.where((l1+l2+l3)%2 != 0)\n",
    "  if (l1+l2+l3)%2 != 0:\n",
    "    result = 0\n",
    "  else:\n",
    "    Lh = (l1+l2+l3)*0.5\n",
    "    a1 = ((Lh-l1+0.5)/(Lh-l1+1))**(Lh-l1+0.25)\n",
    "    a2 = ((Lh-l2+0.5)/(Lh-l2+1))**(Lh-l2+0.25)\n",
    "    a3 = ((Lh-l3+0.5)/(Lh-l3+1))**(Lh-l3+0.25)\n",
    "    b = 1/((Lh-l1+1)*(Lh-l2+1)*(Lh-l3+1))**(0.25)\n",
    "    result = (-1)**Lh/np.sqrt(2*np.pi) * np.exp(1.5)* (Lh+1)**(-0.25) * a1*a2*a3*b\n",
    "  #result[ind] = 0\n",
    "  return result"
   ]
  },
  {
   "cell_type": "code",
   "execution_count": 3,
   "metadata": {},
   "outputs": [],
   "source": [
    "@np.vectorize\n",
    "def geom_factor(l1, l2, l3):\n",
    "    result = np.sqrt((2*l1+1)*(2*l2+1)*(2*l3+1)/(4*np.pi))\n",
    "    result *= W3j_approx(l1, l2, l3)\n",
    "    return result\n"
   ]
  },
  {
   "cell_type": "code",
   "execution_count": 27,
   "metadata": {},
   "outputs": [
    {
     "name": "stdout",
     "output_type": "stream",
     "text": [
      "7.33 µs ± 63.9 ns per loop (mean ± std. dev. of 7 runs, 100,000 loops each)\n"
     ]
    }
   ],
   "source": [
    "%timeit integrated_bispectrum.zofchi(precomputed_chis)"
   ]
  },
  {
   "cell_type": "code",
   "execution_count": 60,
   "metadata": {},
   "outputs": [],
   "source": [
    "chi_precalculated, z_precalculated = np.loadtxt(\"products/zs.txt\", unpack = True)"
   ]
  },
  {
   "cell_type": "code",
   "execution_count": 72,
   "metadata": {},
   "outputs": [],
   "source": [
    "chi_kk, Wkk = np.loadtxt(\"products/Wkk.txt\", unpack = True)"
   ]
  },
  {
   "cell_type": "code",
   "execution_count": 130,
   "metadata": {},
   "outputs": [],
   "source": [
    "from numba import jit\n",
    "\n",
    "@jit\n",
    "def zofchi_numba(newchis):\n",
    "    return np.interp(newchis, chi_precalculated, z_precalculated)\n",
    "\n",
    "@jit\n",
    "def Wkk_numba(newchis):\n",
    "    return np.interp(newchis, chi_kk, Wkk)\n",
    "\n",
    "@jit\n",
    "def integrate_numba(y, x):\n",
    "    return np.trapz(y, x)\n",
    "\n"
   ]
  },
  {
   "cell_type": "code",
   "execution_count": 131,
   "metadata": {},
   "outputs": [
    {
     "data": {
      "text/plain": [
       "40.5"
      ]
     },
     "execution_count": 131,
     "metadata": {},
     "output_type": "execute_result"
    }
   ],
   "source": [
    "integrate_numba(np.arange(0., 10., 1), np.arange(0., 10., 1))"
   ]
  },
  {
   "cell_type": "code",
   "execution_count": 68,
   "metadata": {},
   "outputs": [
    {
     "name": "stdout",
     "output_type": "stream",
     "text": [
      "7.6 µs ± 26 ns per loop (mean ± std. dev. of 7 runs, 100,000 loops each)\n"
     ]
    }
   ],
   "source": [
    "%timeit zofchi_numba(np.arange(0., 1000., 1))"
   ]
  },
  {
   "cell_type": "code",
   "execution_count": 69,
   "metadata": {},
   "outputs": [
    {
     "name": "stdout",
     "output_type": "stream",
     "text": [
      "17.3 µs ± 156 ns per loop (mean ± std. dev. of 7 runs, 100,000 loops each)\n"
     ]
    }
   ],
   "source": [
    "%timeit zofchi_numba(np.linspace(0, 400, 1000))"
   ]
  },
  {
   "cell_type": "code",
   "execution_count": 70,
   "metadata": {},
   "outputs": [
    {
     "name": "stdout",
     "output_type": "stream",
     "text": [
      "22.6 µs ± 847 ns per loop (mean ± std. dev. of 7 runs, 10,000 loops each)\n"
     ]
    }
   ],
   "source": [
    "%timeit np.interp(np.linspace(0, 400, 1000), chi, z)"
   ]
  },
  {
   "cell_type": "code",
   "execution_count": 1052,
   "metadata": {},
   "outputs": [],
   "source": [
    "@np.vectorize\n",
    "def integrate_bispectrum_kkk_prova(l, angle, model = 'TR'):\n",
    "    @nb.cfunc(quadpack_sig)\n",
    "    def bispectrum_at_ells_of_chi(chi, data): \n",
    "        return chi**(-4)*integrated_bispectrum.Wkk(chi)**3*integrated_bispectrum.bispectrum_matter(l/chi, l/chi, l/chi, angle, angle, angle, integrated_bispectrum.zofchi(chi), model = model)\n",
    "    funcptr = bispectrum_at_ells_of_chi.address\n",
    "    sol, abserr, success = dqags(funcptr, 0, integrated_bispectrum.chistar)\n",
    "    return sol #sinteg.quadrature(bispectrum_at_ells_of_chi, 0, integrated_bispectrum.chistar, maxiter = 50, rtol = 1e-8)[0]"
   ]
  },
  {
   "cell_type": "code",
   "execution_count": null,
   "metadata": {},
   "outputs": [],
   "source": []
  },
  {
   "cell_type": "code",
   "execution_count": 1119,
   "metadata": {},
   "outputs": [],
   "source": [
    "P2D = np.loadtxt(\"products/matterpower_P.txt\", unpack = True)\n",
    "k = np.loadtxt(\"products/matterpower_k.txt\", unpack = True)\n",
    "z = np.loadtxt(\"products/matterpower_z.txt\", unpack = True)"
   ]
  },
  {
   "cell_type": "code",
   "execution_count": 1120,
   "metadata": {},
   "outputs": [
    {
     "name": "stderr",
     "output_type": "stream",
     "text": [
      "/var/folders/5s/mpby42n15_ng7rv494cv19tw0000gn/T/ipykernel_68835/181510802.py:1: RuntimeWarning: divide by zero encountered in log10\n",
      "  logz = np.log10(z)\n"
     ]
    }
   ],
   "source": [
    "logz = np.log10(z)\n",
    "logk = np.log10(k)"
   ]
  },
  {
   "cell_type": "code",
   "execution_count": 1133,
   "metadata": {},
   "outputs": [
    {
     "data": {
      "text/plain": [
       "(1000, 1001)"
      ]
     },
     "execution_count": 1133,
     "metadata": {},
     "output_type": "execute_result"
    }
   ],
   "source": [
    "np.log10(P2D).shape"
   ]
  },
  {
   "cell_type": "code",
   "execution_count": 1134,
   "metadata": {},
   "outputs": [
    {
     "data": {
      "text/plain": [
       "(1001,)"
      ]
     },
     "execution_count": 1134,
     "metadata": {},
     "output_type": "execute_result"
    }
   ],
   "source": [
    "logz.shape"
   ]
  },
  {
   "cell_type": "code",
   "execution_count": 1171,
   "metadata": {},
   "outputs": [
    {
     "name": "stdout",
     "output_type": "stream",
     "text": [
      "Error is: 4.53e-06\n"
     ]
    },
    {
     "data": {
      "image/png": "[encoded data removed]",
      "text/plain": [
       "<Figure size 640x480 with 1 Axes>"
      ]
     },
     "metadata": {},
     "output_type": "display_data"
    }
   ],
   "source": [
    "nx = 50\n",
    "ny = 37\n",
    "xv, xh = np.linspace(0, 1,       nx, endpoint=True,  retstep=True)\n",
    "yv, yh = np.linspace(0, 2*np.pi, ny, endpoint=False, retstep=True)\n",
    "x, y = np.meshgrid(xv, yv, indexing='ij')\n",
    "\n",
    "test_function = lambda x, y: np.exp(x)*np.exp(np.sin(y))\n",
    "f = test_function(x, y)\n",
    "\n",
    "test_x = -xh/2.0\n",
    "test_y = 271.43\n",
    "fa = test_function(test_x, test_y)\n",
    "\n",
    "interpolater = fast_interp.interp2d([0,0], [1,2*np.pi], [xh,yh], f, k=5, p=[False,True], e=[1,0])\n",
    "fe = interpolater(test_x, test_y)\n",
    "\n",
    "plt.plot(interpolater(xv, xv))\n",
    "plt.plot(test_function(xv, xv))\n",
    "\n",
    "\n",
    "print('Error is: {:0.2e}'.format(np.abs(fe-fa)))"
   ]
  },
  {
   "cell_type": "code",
   "execution_count": 1152,
   "metadata": {},
   "outputs": [
    {
     "data": {
      "text/plain": [
       "(50,)"
      ]
     },
     "execution_count": 1152,
     "metadata": {},
     "output_type": "execute_result"
    }
   ],
   "source": [
    "xv.shape"
   ]
  },
  {
   "cell_type": "code",
   "execution_count": 1279,
   "metadata": {},
   "outputs": [],
   "source": [
    "import fast_interp\n",
    "\n",
    "interpolated = fast_interp.interp2d([logz[1:].min(), logk.min()], [logz[1:].max(), logk.max()], [round(logz[3]-logz[2], 4), round(logk[3]-logk[2], 4)], (P2D)[1:, :].T, k = 5, p = [False, False], c = [False, False], e = [True, True])\n"
   ]
  },
  {
   "cell_type": "code",
   "execution_count": 1526,
   "metadata": {},
   "outputs": [],
   "source": [
    "zgrid = np.loadtxt('products/neff_z.txt')\n",
    "ksneff = np.loadtxt('products/neff_k.txt')\n",
    "neff2D = np.loadtxt('products/neff.txt')"
   ]
  },
  {
   "cell_type": "code",
   "execution_count": 1530,
   "metadata": {},
   "outputs": [],
   "source": [
    "neff2Dinterp = scipy.interpolate.RectBivariateSpline(zgrid, ksneff, neff2D)\n",
    "neff2Dinterpf = lambda z, k: neff2Dinterp(z, k, grid = False)"
   ]
  },
  {
   "cell_type": "code",
   "execution_count": 1539,
   "metadata": {},
   "outputs": [],
   "source": [
    "from interpolation.splines import UCGrid, nodes\n",
    "from interpolation.splines import eval_linear\n",
    "from interpolation.splines import extrap_options as xto\n",
    "\n",
    "functions = [lambda z, k: integrated_bispectrum.PK.P(z, k, grid = False), lambda z, k: integrated_bispectrum.PKlin.P(z, k, grid = False), lambda z, k: neff2Dinterp(z, k, grid = False)]\n",
    "name = [\"non_lin\", \"lin\", \"neff\"]\n",
    "for name, function in zip(name, functions):\n",
    "    grid = UCGrid((-12., logz.max(), 1000), (logk.min(), logk.max(), 1000))\n",
    "    gp = nodes(grid)\n",
    "    N = int(np.sqrt(gp.shape[0]))\n",
    "    values = function(10**gp[:,0], 10**gp[:,1]).reshape((N, N))\n",
    "    np.savetxt(f\"numbaproducts/{name}_matter_power.txt\", values)\n",
    "\n",
    "np.savetxt(\"numbaproducts/z_k_matter_powers.txt\", gp)"
   ]
  },
  {
   "cell_type": "code",
   "execution_count": 1547,
   "metadata": {},
   "outputs": [
    {
     "data": {
      "text/plain": [
       "((-12.0, 3.0, 1000), (-5.0, 2.0, 1000))"
      ]
     },
     "execution_count": 1547,
     "metadata": {},
     "output_type": "execute_result"
    }
   ],
   "source": [
    "grid"
   ]
  },
  {
   "cell_type": "code",
   "execution_count": 1519,
   "metadata": {},
   "outputs": [],
   "source": [
    "zfake, kfake = np.log10(np.logspace(-3, 3, 1000)), np.log10(np.logspace(-3, 2, 1000))\n",
    "points = np.array([zfake, kfake]).T"
   ]
  },
  {
   "cell_type": "code",
   "execution_count": 1520,
   "metadata": {},
   "outputs": [],
   "source": [
    "val = eval_linear(grid, values, points, xto.NEAREST)"
   ]
  },
  {
   "cell_type": "code",
   "execution_count": 1513,
   "metadata": {},
   "outputs": [
    {
     "name": "stdout",
     "output_type": "stream",
     "text": [
      "3.42 µs ± 6.09 ns per loop (mean ± std. dev. of 7 runs, 100,000 loops each)\n"
     ]
    }
   ],
   "source": [
    "%timeit val = eval_linear(grid, values, points)"
   ]
  },
  {
   "cell_type": "code",
   "execution_count": 1514,
   "metadata": {},
   "outputs": [
    {
     "name": "stdout",
     "output_type": "stream",
     "text": [
      "175 µs ± 1.24 µs per loop (mean ± std. dev. of 7 runs, 10,000 loops each)\n"
     ]
    }
   ],
   "source": [
    "%timeit integrated_bispectrum.P(10**zfake, 10**kfake, grid = False)"
   ]
  },
  {
   "cell_type": "code",
   "execution_count": 1515,
   "metadata": {},
   "outputs": [
    {
     "name": "stdout",
     "output_type": "stream",
     "text": [
      "3.34 µs ± 15.6 ns per loop (mean ± std. dev. of 7 runs, 100,000 loops each)\n"
     ]
    }
   ],
   "source": [
    "%timeit eval_linear_numba(grid, values, points)"
   ]
  },
  {
   "cell_type": "code",
   "execution_count": 1507,
   "metadata": {},
   "outputs": [],
   "source": [
    "@jit(nopython=True)\n",
    "def eval_linear_numba(grid, values, points):\n",
    "    return eval_linear(grid, values, points)"
   ]
  },
  {
   "cell_type": "code",
   "execution_count": 1521,
   "metadata": {},
   "outputs": [
    {
     "data": {
      "text/plain": [
       "[<matplotlib.lines.Line2D at 0x2ef666200>]"
      ]
     },
     "execution_count": 1521,
     "metadata": {},
     "output_type": "execute_result"
    },
    {
     "data": {
      "image/png": "[encoded data removed]",
      "text/plain": [
       "<Figure size 640x480 with 1 Axes>"
      ]
     },
     "metadata": {},
     "output_type": "display_data"
    }
   ],
   "source": [
    "plt.loglog(10**kfake, val)\n",
    "plt.semilogy(10**kfake, integrated_bispectrum.P(10**zfake, 10**kfake, grid = False))"
   ]
  },
  {
   "cell_type": "code",
   "execution_count": 1299,
   "metadata": {},
   "outputs": [
    {
     "name": "stdout",
     "output_type": "stream",
     "text": [
      "9.61 µs ± 41.9 ns per loop (mean ± std. dev. of 7 runs, 100,000 loops each)\n"
     ]
    }
   ],
   "source": [
    "%timeit integrated_bispectrum.P(z[10:100], k[10:100], grid = False)"
   ]
  },
  {
   "cell_type": "code",
   "execution_count": 1301,
   "metadata": {},
   "outputs": [
    {
     "name": "stdout",
     "output_type": "stream",
     "text": [
      "236 µs ± 1.52 µs per loop (mean ± std. dev. of 7 runs, 1,000 loops each)\n"
     ]
    }
   ],
   "source": [
    "%timeit interp2d(z[10:100], k[10:100], z, k, P2D.T)"
   ]
  },
  {
   "cell_type": "code",
   "execution_count": 1313,
   "metadata": {},
   "outputs": [],
   "source": [
    "@jit(nopython=True)\n",
    "def function(zz, kk):\n",
    "    return interp2d(zz, kk, z, k, P2D.T)"
   ]
  },
  {
   "cell_type": "code",
   "execution_count": 1314,
   "metadata": {},
   "outputs": [],
   "source": [
    "zz, kk = z[10:100], k[10:100]"
   ]
  },
  {
   "cell_type": "code",
   "execution_count": 1317,
   "metadata": {},
   "outputs": [
    {
     "name": "stdout",
     "output_type": "stream",
     "text": [
      "243 µs ± 2.2 µs per loop (mean ± std. dev. of 7 runs, 1,000 loops each)\n"
     ]
    }
   ],
   "source": [
    "%timeit function(zz, kk)"
   ]
  },
  {
   "cell_type": "code",
   "execution_count": 1302,
   "metadata": {},
   "outputs": [
    {
     "data": {
      "text/plain": [
       "(90,)"
      ]
     },
     "execution_count": 1302,
     "metadata": {},
     "output_type": "execute_result"
    }
   ],
   "source": [
    "interp2d(z[10:100], k[10:100], z, k, P2D.T).shape"
   ]
  },
  {
   "cell_type": "code",
   "execution_count": 1294,
   "metadata": {},
   "outputs": [
    {
     "data": {
      "text/plain": [
       "array([  5.30380963, 179.59485392])"
      ]
     },
     "execution_count": 1294,
     "metadata": {},
     "output_type": "execute_result"
    }
   ],
   "source": [
    "interp2d(np.array([2, 1]), np.array([5, 1]), z, k, P2D.T)"
   ]
  },
  {
   "cell_type": "code",
   "execution_count": 1280,
   "metadata": {},
   "outputs": [],
   "source": [
    "interpolate2d_Rect_Scipy = scipy.interpolate.RectBivariateSpline(logk, logz[1:], P2D[:, 1:].T)"
   ]
  },
  {
   "cell_type": "code",
   "execution_count": 1282,
   "metadata": {},
   "outputs": [
    {
     "data": {
      "text/plain": [
       "[<matplotlib.lines.Line2D at 0x2bd75acb0>]"
      ]
     },
     "execution_count": 1282,
     "metadata": {},
     "output_type": "execute_result"
    },
    {
     "data": {
      "image/png": "[encoded data removed]",
      "text/plain": [
       "<Figure size 640x480 with 1 Axes>"
      ]
     },
     "metadata": {},
     "output_type": "display_data"
    }
   ],
   "source": [
    "ksin = np.log10(k[1:700])\n",
    "zsin = np.log10(200)*np.ones_like(ksin)\n",
    "plt.semilogy((interpolated(zsin, ksin)))\n",
    "plt.plot(interpolate2d_Rect_Scipy(zsin, ksin, grid = False))"
   ]
  },
  {
   "cell_type": "code",
   "execution_count": 4,
   "metadata": {},
   "outputs": [],
   "source": [
    "@np.vectorize\n",
    "def integrate_bispectrum_kkk(l1, l2, l3, angle12, angle13, angle23, model = 'TR'):\n",
    "    bispectrum_at_ells_of_chi = lambda chi: chi**(-4)*integrated_bispectrum.Wkk(chi)**3*integrated_bispectrum.bispectrum_matter(l1/chi, l2/chi, l3/chi, angle12, angle13, angle23, integrated_bispectrum.zofchi(chi), model = model)\n",
    "    return sinteg.quadrature(bispectrum_at_ells_of_chi, 0, integrated_bispectrum.chistar, maxiter = 50, rtol = 1e-8)[0]"
   ]
  },
  {
   "cell_type": "code",
   "execution_count": 102,
   "metadata": {},
   "outputs": [
    {
     "data": {
      "text/plain": [
       "0.00022351546572828087"
      ]
     },
     "execution_count": 102,
     "metadata": {},
     "output_type": "execute_result"
    }
   ],
   "source": [
    "zofchi_numba(1)"
   ]
  },
  {
   "cell_type": "code",
   "execution_count": 157,
   "metadata": {},
   "outputs": [
    {
     "name": "stdout",
     "output_type": "stream",
     "text": [
      "Note: redshifts have been re-sorted (earliest first)\n"
     ]
    },
    {
     "name": "stderr",
     "output_type": "stream",
     "text": [
      "/Users/omard/Documents/projects/fgcmblensing/bispectrum/integrated_bispectrum.py:244: RuntimeWarning: divide by zero encountered in divide\n",
      "  \n"
     ]
    }
   ],
   "source": [
    "from scipy.integrate import simpson\n",
    "import itertools"
   ]
  },
  {
   "cell_type": "code",
   "execution_count": 183,
   "metadata": {},
   "outputs": [
    {
     "name": "stdout",
     "output_type": "stream",
     "text": [
      "59.9 µs ± 376 ns per loop (mean ± std. dev. of 7 runs, 10,000 loops each)\n"
     ]
    }
   ],
   "source": [
    "%timeit integrated_bispectrum.bispectrum_matter(k1, k2, k3, theta12, theta13, theta23, z)"
   ]
  },
  {
   "cell_type": "code",
   "execution_count": 179,
   "metadata": {},
   "outputs": [
    {
     "name": "stdout",
     "output_type": "stream",
     "text": [
      "13.8 µs ± 56.8 ns per loop (mean ± std. dev. of 7 runs, 100,000 loops each)\n"
     ]
    }
   ],
   "source": [
    "%timeit integrated_bispectrum.F2ptker_vector(k1, k2, theta12, z)"
   ]
  },
  {
   "cell_type": "code",
   "execution_count": 236,
   "metadata": {},
   "outputs": [],
   "source": [
    "rng = np.random.default_rng()"
   ]
  },
  {
   "cell_type": "code",
   "execution_count": 241,
   "metadata": {},
   "outputs": [
    {
     "data": {
      "text/plain": [
       "1.0000000000000002"
      ]
     },
     "execution_count": 241,
     "metadata": {},
     "output_type": "execute_result"
    }
   ],
   "source": [
    "np.trapz(pdf, precomputed_chis)"
   ]
  },
  {
   "cell_type": "code",
   "execution_count": 1058,
   "metadata": {},
   "outputs": [
    {
     "data": {
      "text/plain": [
       "[<matplotlib.lines.Line2D at 0x297c97370>]"
      ]
     },
     "execution_count": 1058,
     "metadata": {},
     "output_type": "execute_result"
    },
    {
     "data": {
      "image/png": "[encoded data removed]",
      "text/plain": [
       "<Figure size 640x480 with 1 Axes>"
      ]
     },
     "metadata": {},
     "output_type": "display_data"
    }
   ],
   "source": [
    "precomputed_chis = np.linspace(1e-10, integrated_bispectrum.chistar/1e3, 10000)\n",
    "precomputed_chis = np.append(precomputed_chis, np.linspace(integrated_bispectrum.chistar/1e3, integrated_bispectrum.chistar/2, 100))\n",
    "precomputed_chis = np.append(precomputed_chis, np.linspace(integrated_bispectrum.chistar/2, integrated_bispectrum.chistar*3/4, 100))\n",
    "precomputed_chis = np.append(precomputed_chis, np.linspace(integrated_bispectrum.chistar*3/4, integrated_bispectrum.chistar, 120))\n",
    "norm = np.trapz(Wkk_numba(precomputed_chis), precomputed_chis)\n",
    "\n",
    "plt.plot(precomputed_chis, Wkk_numba(precomputed_chis))\n",
    "\n",
    "pdf = Wkk_numba(precomputed_chis)/norm\n",
    "pdf /= pdf.sum()\n",
    "#choose random chis\n",
    "chis = rng.choice(precomputed_chis, size = 50, p = pdf, replace = False)\n",
    "chis = np.sort(chis)\n",
    "chis = np.append(np.logspace(1e-10, np.log10(chis.min()), 10), chis)\n",
    "plt.plot(chis, Wkk_numba(chis), 'o')\n",
    "#plt.plot(precomputed_chis, integrated_bispectrum.Wkk(precomputed_chis))"
   ]
  },
  {
   "cell_type": "code",
   "execution_count": 1684,
   "metadata": {},
   "outputs": [],
   "source": [
    "@np.vectorize\n",
    "def integrate_bispectrum_kkk(l1, l2, l3, angle12, angle13, angle23, model = 'TR'):\n",
    "    bispectrum_at_ells_of_chi = lambda chi: chi**(-4)*integrated_bispectrum.Wkk(chi)**3*integrated_bispectrum.bispectrum_matter(l1/chi, l2/chi, l3/chi, angle12, angle13, angle23, integrated_bispectrum.zofchi(chi), model = model)\n",
    "    #return sinteg.quadrature(bispectrum_at_ells_of_chi, 0, integrated_bispectrum.chistar, maxiter = 50, rtol = 1e-8)[0]\n",
    "    return sinteg.quadrature(bispectrum_at_ells_of_chi, 0, integrated_bispectrum.chistar, maxiter = 100, miniter = 50, rtol = 1e-12)[0]"
   ]
  },
  {
   "cell_type": "code",
   "execution_count": 1542,
   "metadata": {},
   "outputs": [],
   "source": [
    "np.savetxt(\"numbaproducts/precomputed_dchis.txt\", np.c_[precomputed_chis, dchis])"
   ]
  },
  {
   "cell_type": "code",
   "execution_count": 1059,
   "metadata": {},
   "outputs": [
    {
     "name": "stdout",
     "output_type": "stream",
     "text": [
      "277 µs ± 4.92 µs per loop (mean ± std. dev. of 7 runs, 1,000 loops each)\n"
     ]
    }
   ],
   "source": [
    "dchis = (chis[2:]-chis[:-2])/2\n",
    "precomputed_chis = chis[1:-1]\n",
    "\n",
    "def integrate_bispectrum_kkk_alt_(l1, l2, l3, angle12, angle13, angle23, model = 'TR'):\n",
    "    bispectrum_at_ells_of_chi = lambda chi: chi**(-4)*Wkk_numba(chi)**3*integrated_bispectrum.bispectrum_matter(l1/chi, l2/chi, l3/chi, angle12, angle13, angle23, zofchi_numba(chi), model = model)\n",
    "    #value = bispectrum_at_ells_of_chi(precomputed_chis)\n",
    "    return integrate_numba(bispectrum_at_ells_of_chi(precomputed_chis), precomputed_chis)\n",
    "    #return simpson(value, precomputed_chis)\n",
    "    #return sinteg.quadrature(bispectrum_at_ells_of_chi, 0, integrated_bispectrum.chistar, maxiter = 50, rtol = 1e-8)[0]\n",
    "    #return sinteg.quadrature(bispectrum_at_ells_of_chi, 0, integrated_bispectrum.chistar, maxiter = 50, rtol = 1e-8)[0]\n",
    "    #return np.dot(dchis, bispectrum_at_ells_of_chi(precomputed_chis))\n",
    "integrate_bispectrum_kkk_alt = np.vectorize(integrate_bispectrum_kkk_alt_, excluded = ['model'])\n",
    "\n",
    "%timeit integrate_bispectrum_kkk_alt(1, 1, 1, np.pi/3, np.pi/3, np.pi/3, model = 'TR')\n"
   ]
  },
  {
   "cell_type": "code",
   "execution_count": 512,
   "metadata": {},
   "outputs": [
    {
     "data": {
      "text/plain": [
       "1.1802988410151742"
      ]
     },
     "execution_count": 512,
     "metadata": {},
     "output_type": "execute_result"
    }
   ],
   "source": [
    "integrate_bispectrum_kkk_alt(1, 1, 1, np.pi/3, np.pi/3, np.pi/3, model = 'TR')/integrate_bispectrum_kkk(1, 1, 1, np.pi/3, np.pi/3, np.pi/3, model = 'TR')"
   ]
  },
  {
   "cell_type": "code",
   "execution_count": 391,
   "metadata": {},
   "outputs": [
    {
     "data": {
      "text/plain": [
       "array(6.39148569e-15)"
      ]
     },
     "execution_count": 391,
     "metadata": {},
     "output_type": "execute_result"
    }
   ],
   "source": [
    "integrate_bispectrum_kkk(1, 1, 1, np.pi/3, np.pi/3, np.pi/3, model = 'TR')"
   ]
  },
  {
   "cell_type": "code",
   "execution_count": 392,
   "metadata": {},
   "outputs": [
    {
     "data": {
      "text/plain": [
       "0.9999951952987476"
      ]
     },
     "execution_count": 392,
     "metadata": {},
     "output_type": "execute_result"
    }
   ],
   "source": [
    "integrate_bispectrum_kkk_alt(1, 1, 1, np.pi/3, np.pi/3, np.pi/3, model = 'TR')/integrate_bispectrum_kkk(1, 1, 1, np.pi/3, np.pi/3, np.pi/3, model = 'TR')"
   ]
  },
  {
   "cell_type": "code",
   "execution_count": null,
   "metadata": {},
   "outputs": [],
   "source": []
  },
  {
   "cell_type": "code",
   "execution_count": 490,
   "metadata": {},
   "outputs": [
    {
     "name": "stdout",
     "output_type": "stream",
     "text": [
      "352 µs ± 6.46 µs per loop (mean ± std. dev. of 7 runs, 1,000 loops each)\n"
     ]
    }
   ],
   "source": [
    "%timeit integrate_bispectrum_kkk_alt(1, 1, 1, np.pi/3, np.pi/3, np.pi/3, model = 'TR')"
   ]
  },
  {
   "cell_type": "code",
   "execution_count": 491,
   "metadata": {},
   "outputs": [
    {
     "name": "stdout",
     "output_type": "stream",
     "text": [
      "591 µs ± 12.9 µs per loop (mean ± std. dev. of 7 runs, 1,000 loops each)\n"
     ]
    }
   ],
   "source": [
    "%timeit integrate_bispectrum_kkk(1, 1, 1, np.pi/3, np.pi/3, np.pi/3, model = 'TR')"
   ]
  },
  {
   "cell_type": "code",
   "execution_count": 88,
   "metadata": {},
   "outputs": [],
   "source": [
    "bispectrum_at_ells_of_chi = lambda l1, l2, l3, angle12, angle13, angle23, chi, model: chi**(-4)*integrated_bispectrum.Wkk(chi)**3*integrated_bispectrum.bispectrum_matter(l1/chi, l2/chi, l3/chi, angle12, angle13, angle23, integrated_bispectrum.zofchi(chi), model = model)"
   ]
  },
  {
   "cell_type": "code",
   "execution_count": 1773,
   "metadata": {},
   "outputs": [
    {
     "name": "stderr",
     "output_type": "stream",
     "text": [
      "/var/folders/5s/mpby42n15_ng7rv494cv19tw0000gn/T/ipykernel_68835/2716358792.py:5: RuntimeWarning: divide by zero encountered in divide\n",
      "  calculated = 8/(ls**3)**2*integrate_bispectrum_kkk(ls, ls, ls, angle12, angle13, angle23, model = model)#list(map(integrate_bispectrum_kkk_single, ls))\n",
      "/var/folders/5s/mpby42n15_ng7rv494cv19tw0000gn/T/ipykernel_68835/2716358792.py:6: RuntimeWarning: divide by zero encountered in divide\n",
      "  calculated_alt = 8/(ls**3)**2*integrate_bispectrum_kkk_prova_gauss(ls, np.pi/3)#integrate_bispectrum_kkk_alt(ls, ls, ls, angle12, angle13, angle23, model = model)\n",
      "/var/folders/5s/mpby42n15_ng7rv494cv19tw0000gn/T/ipykernel_68835/2716358792.py:7: RuntimeWarning: invalid value encountered in multiply\n",
      "  p = plt.plot(ls, calculated*ls**6, label = model)\n",
      "/var/folders/5s/mpby42n15_ng7rv494cv19tw0000gn/T/ipykernel_68835/2716358792.py:8: RuntimeWarning: invalid value encountered in multiply\n",
      "  plt.plot(ls, calculated_alt*ls**6, label = model + ' alt', color = p[0].get_color(), linestyle = '--')\n"
     ]
    },
    {
     "data": {
      "text/plain": [
       "Text(0.5, 0, '$L$')"
      ]
     },
     "execution_count": 1773,
     "metadata": {},
     "output_type": "execute_result"
    },
    {
     "data": {
      "image/png": "[encoded data removed]",
      "text/plain": [
       "<Figure size 640x480 with 1 Axes>"
      ]
     },
     "metadata": {},
     "output_type": "display_data"
    }
   ],
   "source": [
    "ls = np.arange(1, 4000)\n",
    "models = ['TR']\n",
    "for model in models:\n",
    "    angle12, angle13, angle23 = np.pi/3, np.pi/3, np.pi/3\n",
    "    calculated = 8/(ls**3)**2*integrate_bispectrum_kkk(ls, ls, ls, angle12, angle13, angle23, model = model)#list(map(integrate_bispectrum_kkk_single, ls))\n",
    "    calculated_alt = 8/(ls**3)**2*integrate_bispectrum_kkk_prova_gauss(ls, np.pi/3)#integrate_bispectrum_kkk_alt(ls, ls, ls, angle12, angle13, angle23, model = model)\n",
    "    p = plt.plot(ls, calculated*ls**6, label = model)\n",
    "    plt.plot(ls, calculated_alt*ls**6, label = model + ' alt', color = p[0].get_color(), linestyle = '--')\n",
    "#plt.xscale('log')\n",
    "plt.yscale('log')\n",
    "plt.xlim(100, 4000)\n",
    "plt.legend()\n",
    "plt.ylabel('$L^6B$')\n",
    "plt.xlabel('$L$')"
   ]
  },
  {
   "cell_type": "code",
   "execution_count": 1048,
   "metadata": {},
   "outputs": [
    {
     "name": "stderr",
     "output_type": "stream",
     "text": [
      "/var/folders/5s/mpby42n15_ng7rv494cv19tw0000gn/T/ipykernel_68835/4239412873.py:5: RuntimeWarning: divide by zero encountered in divide\n",
      "  calculated = 8/(ls**3)**2*integrate_bispectrum_kkk(ls, ls, ls, angle12, angle13, angle23, model = model)#list(map(integrate_bispectrum_kkk_single, ls))\n",
      "/var/folders/5s/mpby42n15_ng7rv494cv19tw0000gn/T/ipykernel_68835/4239412873.py:6: RuntimeWarning: divide by zero encountered in divide\n",
      "  calculated_alt = 8/(ls**3)**2*integrate_bispectrum_kkk_alt(ls, ls, ls, angle12, angle13, angle23, model = model)\n",
      "/var/folders/5s/mpby42n15_ng7rv494cv19tw0000gn/T/ipykernel_68835/4239412873.py:7: RuntimeWarning: invalid value encountered in divide\n",
      "  p = plt.plot(ls, calculated/calculated_alt, label = model)\n"
     ]
    },
    {
     "data": {
      "image/png": "[encoded data removed]",
      "text/plain": [
       "<Figure size 640x480 with 1 Axes>"
      ]
     },
     "metadata": {},
     "output_type": "display_data"
    }
   ],
   "source": [
    "ls = np.arange(1, 4000)\n",
    "models = ['TR', 'GM', 'SC']\n",
    "for model in models:\n",
    "    angle12, angle13, angle23 = np.pi/3, np.pi/3, np.pi/3\n",
    "    calculated = 8/(ls**3)**2*integrate_bispectrum_kkk(ls, ls, ls, angle12, angle13, angle23, model = model)#list(map(integrate_bispectrum_kkk_single, ls))\n",
    "    calculated_alt = 8/(ls**3)**2*integrate_bispectrum_kkk_alt(ls, ls, ls, angle12, angle13, angle23, model = model)\n",
    "    p = plt.plot(ls, calculated/calculated_alt, label = model)\n",
    "    #plt.plot(ls, calculated_alt*ls**6, label = model + ' alt', color = p[0].get_color(), linestyle = '--')\n",
    "#plt.xscale('log')\n",
    "plt.yscale('log')"
   ]
  },
  {
   "cell_type": "code",
   "execution_count": 516,
   "metadata": {},
   "outputs": [],
   "source": [
    "import vegas\n",
    "\n",
    "lmin, lmax = 1, 4000\n",
    "\n",
    "integ = vegas.Integrator([[lmin, lmax], [0, 2*np.pi], [lmin, lmax], [0, 2*np.pi]])\n",
    "nitn, neval = 10, 1e2\n",
    "\n",
    "values = []\n",
    "\n",
    "def get_angle_12(L1, L2, L3):\n",
    "    term = (L1**2+L2**2-L3**2)/(2*L1*L2)\n",
    "    return np.arccos(term)\n",
    "\n",
    "Rs = np.linspace(0.1, 6, 10)\n",
    "\n",
    "Rdeg = R/60\n",
    "Rradians = np.deg2rad(Rdeg)\n",
    "sigma = Rradians / (2.0 * np.sqrt(2.0 * np.log(2.0)))\n",
    "WR = lambda l: np.exp(-(l*(l+1))/2*sigma**2)\n",
    "\n",
    "models = ['TR', 'GM', 'SC']\n",
    "results = {}\n",
    "for model in models:\n",
    "    values = []\n",
    "    for R in Rs:\n",
    "\n",
    "        Rdeg = R/60\n",
    "        Rradians = np.deg2rad(Rdeg)\n",
    "        sigma = Rradians / (2.0 * np.sqrt(2.0 * np.log(2.0)))\n",
    "        WR = lambda l: np.exp(-(l*(l+1))/2*sigma**2)\n",
    "        #WR = lambda l: np.exp(-l**2*Rradians**2/2)\n",
    "\n",
    "        @vegas.batchintegrand\n",
    "        def integrand(x):\n",
    "            l, thetal = x[:, 0], x[:, 1]\n",
    "            L, thetaL = x[:, 2], x[:, 3]\n",
    "\n",
    "            lx, ly = np.cos(thetal)*l, np.sin(thetal)*l\n",
    "            Lplx = L*np.cos(thetaL)+lx\n",
    "            Lply = L*np.sin(thetaL)+ly\n",
    "            Lplv = np.array([Lplx, Lply])\n",
    "            Lpl = np.linalg.norm(Lplv, axis = 0)\n",
    "            angle12 = get_angle_12(l, L, Lpl)\n",
    "            angle13 = get_angle_12(l, Lpl, L)\n",
    "            angle23 = get_angle_12(L, Lpl, l)\n",
    "            value = L*l*WR(L)*WR(l)*WR(Lpl)*integrate_bispectrum_kkk_alt(l, L, Lpl, angle12, angle13, angle23, model = model)\n",
    "            return value/(2*np.pi)**2/(2*np.pi)**2\n",
    "\n",
    "        result = integ(integrand, nitn = nitn, neval = neval)\n",
    "        values += [result.mean]\n",
    "        \n",
    "    Rs, values = np.array(Rs), np.array(values)\n",
    "    results[model] = values"
   ]
  },
  {
   "cell_type": "code",
   "execution_count": 517,
   "metadata": {},
   "outputs": [],
   "source": [
    "results_sims = np.load('results.npy', allow_pickle = True).take(0)\n",
    "results_G_Born = np.load('resultsG.npy', allow_pickle = True).take(0)"
   ]
  },
  {
   "cell_type": "code",
   "execution_count": 518,
   "metadata": {},
   "outputs": [
    {
     "data": {
      "image/png": "[encoded data removed]",
      "text/plain": [
       "<Figure size 640x480 with 1 Axes>"
      ]
     },
     "metadata": {},
     "output_type": "display_data"
    }
   ],
   "source": [
    "for k, values in results.items():\n",
    "    plt.plot(Rs, abs(values), label = k, ls = '--')\n",
    "\n",
    "fwhms = np.arange(0.5, 6, 1.)\n",
    "plt.title('Skewness in function of smoothing scale')\n",
    "for k in results_sims.keys():\n",
    "    skews = np.array(results_sims[k])\n",
    "    plt.plot(fwhms, abs(skews), label = k)\n",
    "\n",
    "N = 2\n",
    "meanskew = 0\n",
    "for i in range(N):\n",
    "    meanskew += np.array(results_G_Born[i])\n",
    "meanskew /= N\n",
    "plt.plot(fwhms, abs(meanskew), label = 'Mean skew from Gaussian realizations for NL Born', ls = ':')\n",
    "\n",
    "plt.ylabel(r'$\\rm{abs}(\\hat{\\gamma})(\\kappa_{\\rm{sim}})$')\n",
    "plt.xlabel(r'$\\rm{fwhm} (armin)$')\n",
    "\n",
    "#plt.hlines(-1e-6, 0.5, 6, color = 'k', ls = '--', label = '-1e-6 line', alpha = 0.4)\n",
    "plt.yscale('log')\n",
    "plt.legend(fontsize = 5)\n",
    "plt.savefig('empirical_skew_demuni.png', dpi = 300)"
   ]
  },
  {
   "cell_type": "code",
   "execution_count": null,
   "metadata": {},
   "outputs": [],
   "source": []
  },
  {
   "attachments": {},
   "cell_type": "markdown",
   "metadata": {},
   "source": [
    "## Calculating $N^{3/2,\\mathrm{cross}}$"
   ]
  },
  {
   "cell_type": "code",
   "execution_count": 953,
   "metadata": {},
   "outputs": [
    {
     "name": "stderr",
     "output_type": "stream",
     "text": [
      "/var/folders/5s/mpby42n15_ng7rv494cv19tw0000gn/T/ipykernel_68835/2565879204.py:56: RuntimeWarning: invalid value encountered in divide\n",
      "  Alkappa = modlmap**4*1/integral/4\n",
      "/Users/omard/Documents/projects/symlens/symlens/utils.py:170: RuntimeWarning: invalid value encountered in divide\n",
      "  res = np.bincount(self.digitized,(data2d).reshape(-1))[1:-1]/np.bincount(self.digitized)[1:-1]\n",
      "/Users/omard/Documents/projects/symlens/symlens/qe.py:748: RuntimeWarning: overflow encountered in multiply\n",
      "  return Al * modlmap*(modlmap+1.)/4.\n",
      "/Users/omard/Documents/projects/symlens/symlens/utils.py:170: RuntimeWarning: invalid value encountered in divide\n",
      "  res = np.bincount(self.digitized,(data2d).reshape(-1))[1:-1]/np.bincount(self.digitized)[1:-1]\n"
     ]
    }
   ],
   "source": [
    "import camb\n",
    "import symlens as s\n",
    "from pixell import enmap, utils as putils\n",
    "import numpy as np\n",
    "\n",
    "TCMB = 2.73e6\n",
    "\n",
    "potential_file = \"lensedCMB_dmn1_lenspotentialCls.dat\"\n",
    "d = np.loadtxt(f'/Users/omard/Documents/projects/fgcmblensing/input/giulio/{potential_file}')\n",
    "l = d[:, 0]\n",
    "lfact = 2*np.pi/l/(l+1)\n",
    "unlensed = d[:, 1]\n",
    "unlensed *= lfact**2#/TCMB**2.\n",
    "ddlensing = d[:, 5]\n",
    "kk = 2*np.pi*ddlensing/4\n",
    "pp = 4/l**2/(l+1)**2*kk\n",
    "\n",
    "TCMB = 2.73e6\n",
    "\n",
    "dd = np.loadtxt('/Users/omard/Documents/projects/fgcmblensing/input/giulio/lensedCMB_dmn1_lensedgradCls.dat')\n",
    "\n",
    "d = np.loadtxt('/Users/omard/Documents/projects/fgcmblensing/input/giulio/lensedCMB_dmn1_lensedCls.dat')\n",
    "L, TT = d[:, 0], d[:, 1]\n",
    "lensed = d[:, 1]\n",
    "lfact = 2*np.pi/L/(L+1)\n",
    "TT *= lfact#/TCMB**2.\n",
    "lensed *= lfact\n",
    "\n",
    "unlensed = np.interp(L, l, unlensed)\n",
    "\n",
    "\n",
    "\n",
    "get_noise = lambda x, level, theta: (level*np.pi/180/60)**2*np.exp(x*(x+1)*np.deg2rad(theta / 60)**2/8/np.log(2))\n",
    "\n",
    "shape,wcs = enmap.geometry(shape=(512,512),res=2.0*putils.arcmin,pos=(0,0))\n",
    "\n",
    "modlmap = enmap.modlmap(shape,wcs)\n",
    "\n",
    "f = s.Ldl1 * s.e('uC_T_T_l1') + s.Ldl2 * s.e('uC_T_T_l2')\n",
    "\n",
    "F = f / 2 / s.e('tC_T_T_l1') / s.e('tC_T_T_l2')\n",
    "\n",
    "expr1 = f * F\n",
    "\n",
    "fsky = 0.4\n",
    "noise, beam = 1., 1.\n",
    "\n",
    "feed_dict = {}\n",
    "feed_dict['uC_T_T'] = s.interp(L,TT)(modlmap)\n",
    "feed_dict['tC_T_T'] = s.interp(L,TT)(modlmap)+s.interp(L,get_noise(L, noise, beam))(modlmap)\n",
    "\n",
    "tellmin = 10\n",
    "tellmax = 3000\n",
    "xmask = s.mask_kspace(shape,wcs,lmin=tellmin,lmax=tellmax)\n",
    "integral = s.integrate(shape,wcs,feed_dict,expr1,xmask=xmask,ymask=xmask).real\n",
    "Alkappa = modlmap**4*1/integral/4\n",
    "\n",
    "AlkappaR = s.A_l(shape,wcs,feed_dict,\"hu_ok\",\"TT\",xmask=xmask,ymask=xmask)\n",
    "\n",
    "bin_edges = np.arange(1,4000,20)\n",
    "binner = s.bin2D(modlmap,bin_edges)\n",
    "A_l = Alkappa\n",
    "\n",
    "cents, ALR1D = binner.bin(AlkappaR)\n",
    "\n",
    "cents, AL1D = binner.bin(A_l)\n",
    "\n",
    "Nl = s.N_l_from_A_l_optimal(shape,wcs,AlkappaR)\n",
    "cents, Nl1D = binner.bin(Nl)\n",
    "\n",
    "expr = integral\n",
    "cents, expr1D = binner.bin(expr)"
   ]
  },
  {
   "cell_type": "code",
   "execution_count": 954,
   "metadata": {},
   "outputs": [],
   "source": [
    "Alphi = expr1D**-1"
   ]
  },
  {
   "cell_type": "code",
   "execution_count": 955,
   "metadata": {},
   "outputs": [],
   "source": [
    "lmin, lmax = tellmin, tellmax\n",
    "selection = (L >= lmin) & (L <= lmax)"
   ]
  },
  {
   "cell_type": "code",
   "execution_count": 956,
   "metadata": {},
   "outputs": [],
   "source": [
    "unlensed_for_interp = unlensed.copy()\n",
    "unlensed_for_interp[~selection] = 0"
   ]
  },
  {
   "cell_type": "code",
   "execution_count": 957,
   "metadata": {},
   "outputs": [],
   "source": [
    "#from scipy.interpolate import InterpolatedUnivariateSpline"
   ]
  },
  {
   "cell_type": "code",
   "execution_count": 958,
   "metadata": {},
   "outputs": [],
   "source": [
    "import scipy as sp\n",
    "\n",
    "uTT = sp.interpolate.InterpolatedUnivariateSpline(L, unlensed_for_interp)#, fill_value = 0., bounds_error = False)\n",
    "lTT = sp.interpolate.InterpolatedUnivariateSpline(L[selection], lensed[selection])#, fill_value = 0., bounds_error = False)\n",
    "tTT = sp.interpolate.InterpolatedUnivariateSpline(L[selection], lensed[selection]+get_noise(L, noise, beam)[selection])#, fill_value = 1e20, bounds_error = False)"
   ]
  },
  {
   "cell_type": "code",
   "execution_count": 959,
   "metadata": {},
   "outputs": [],
   "source": [
    "import scipy as sp\n",
    "\n",
    "uTT = sp.interpolate.interp1d(L[selection], unlensed[selection], fill_value = 0., bounds_error = False)\n",
    "lTT = sp.interpolate.interp1d(L[selection], lensed[selection], fill_value = 0., bounds_error = False)\n",
    "tTT = sp.interpolate.interp1d(L[selection], lensed[selection]+get_noise(L, noise, beam)[selection], fill_value = 1e20, bounds_error = False)"
   ]
  },
  {
   "cell_type": "code",
   "execution_count": 994,
   "metadata": {},
   "outputs": [],
   "source": [
    "def dot(a, b):\n",
    "    return np.einsum('abc, abc -> bc', a, b)\n",
    "\n",
    "def fTT(l1v, l2v, l1n, l2n):\n",
    "    return dot(l1v+l2v, l1v)*lTT(l1n)+dot(l1v+l2v, l2v)*lTT(l2n)\n",
    "\n",
    "def ftotTT(l):\n",
    "    return tTT(l)\n",
    "\n",
    "def filters(ells):\n",
    "    return (ells>=lmin) & (ells<=lmax)\n",
    "\n",
    "def gTT(lv, Lv, lvnorm):\n",
    "    l1v, l2v = lv, Lv-lv\n",
    "    l1n, l2n = lvnorm, np.linalg.norm(l2v, axis = 0)\n",
    "    return fTT(l1v, l2v, l1n, l2n)/(2*ftotTT(l1n)*ftotTT(l2n))#*filters(l1n)*filters(l2n)"
   ]
  },
  {
   "cell_type": "code",
   "execution_count": 1040,
   "metadata": {},
   "outputs": [],
   "source": [
    "LLs = np.arange(1, 4000, 5)\n",
    "lls = np.arange(1, 4000, 5)\n",
    "thetals = np.linspace(1e-4, 2*np.pi-1e-4, 200)\n",
    "\n",
    "ls, thetas = np.meshgrid(lls, thetals, indexing = 'ij')\n",
    "lx = ls*np.cos(thetas)\n",
    "costhetas = np.cos(thetas)\n",
    "\n",
    "for L_ in LLs:\n",
    "    \n",
    "    Lv = np.ones_like(ls)*L_\n",
    "    \n",
    "    Ldotl = Lv*lx\n",
    "    \n",
    "    L_l = Lv**2+ls**2-2*Ldotl\n",
    "    L_l = np.sqrt(L_l)\n",
    "\n",
    "    L_dot_L_l = -Lv**2.+Ldotl\n",
    "    l_dot_L_l = -ls**2.+Ldotl\n",
    "\n",
    "    integrate_bispectrum_kkk_alt(L1mod, L2mod, L3mod, thet12, thet23, thet13, model = \"TR\")\n"
   ]
  },
  {
   "cell_type": "code",
   "execution_count": 1037,
   "metadata": {},
   "outputs": [
    {
     "data": {
      "text/plain": [
       "(800, 200)"
      ]
     },
     "execution_count": 1037,
     "metadata": {},
     "output_type": "execute_result"
    }
   ],
   "source": [
    "thetas.shape"
   ]
  },
  {
   "cell_type": "code",
   "execution_count": 1033,
   "metadata": {},
   "outputs": [
    {
     "data": {
      "text/plain": [
       "(1,)"
      ]
     },
     "execution_count": 1033,
     "metadata": {},
     "output_type": "execute_result"
    }
   ],
   "source": [
    "thetals.shape"
   ]
  },
  {
   "cell_type": "code",
   "execution_count": 1032,
   "metadata": {},
   "outputs": [
    {
     "data": {
      "text/plain": [
       "(1, 800)"
      ]
     },
     "execution_count": 1032,
     "metadata": {},
     "output_type": "execute_result"
    }
   ],
   "source": [
    "thetas.shape"
   ]
  },
  {
   "cell_type": "code",
   "execution_count": 1031,
   "metadata": {},
   "outputs": [
    {
     "data": {
      "text/plain": [
       "(1, 800)"
      ]
     },
     "execution_count": 1031,
     "metadata": {},
     "output_type": "execute_result"
    }
   ],
   "source": [
    "ls.shape"
   ]
  },
  {
   "cell_type": "code",
   "execution_count": 1028,
   "metadata": {},
   "outputs": [
    {
     "data": {
      "text/plain": [
       "array([1.])"
      ]
     },
     "execution_count": 1028,
     "metadata": {},
     "output_type": "execute_result"
    }
   ],
   "source": [
    "costhetas[0]"
   ]
  },
  {
   "cell_type": "code",
   "execution_count": 1025,
   "metadata": {},
   "outputs": [
    {
     "data": {
      "text/plain": [
       "0.999999995"
      ]
     },
     "execution_count": 1025,
     "metadata": {},
     "output_type": "execute_result"
    }
   ],
   "source": [
    "Ldotl[0]"
   ]
  },
  {
   "cell_type": "code",
   "execution_count": null,
   "metadata": {},
   "outputs": [],
   "source": []
  },
  {
   "cell_type": "code",
   "execution_count": 1010,
   "metadata": {},
   "outputs": [],
   "source": [
    "def prodfTot(l1n, l2n):\n",
    "    return ftotTT(l1n)*ftotTT(l2n)\n",
    "vprod = prodfTot(l1smesh, l2smesh)\n",
    "interprodfTot = sp.interpolate.RectBivariateSpline(l1s, l2s, vprod)"
   ]
  },
  {
   "cell_type": "code",
   "execution_count": 1001,
   "metadata": {},
   "outputs": [
    {
     "data": {
      "text/plain": [
       "(3199, 3199)"
      ]
     },
     "execution_count": 1001,
     "metadata": {},
     "output_type": "execute_result"
    }
   ],
   "source": []
  },
  {
   "cell_type": "code",
   "execution_count": 1041,
   "metadata": {},
   "outputs": [],
   "source": [
    "nthetas = 100\n",
    "nrs = 1000\n",
    "theta = np.linspace(0, 2*np.pi, nthetas)\n",
    "r = np.linspace(lmin, lmax, nrs)\n",
    "R, T = np.meshgrid(r, theta, indexing = 'ij')"
   ]
  },
  {
   "cell_type": "code",
   "execution_count": 1042,
   "metadata": {},
   "outputs": [],
   "source": [
    "lv = np.array([R * np.cos(T), R * np.sin(T)])"
   ]
  },
  {
   "cell_type": "code",
   "execution_count": 1043,
   "metadata": {},
   "outputs": [],
   "source": [
    "def integrand(R, T, Lv, g):\n",
    "    lv = np.array([R * np.cos(T), R * np.sin(T)])\n",
    "    return g(lv, Lv[:, None, None], R)\n",
    "\n",
    "def get_polar_integral(g):\n",
    "    def polar_integral(Lv, lmin, lmax, nthetas = 100, nrs = 1000, epstheta = 1e-4):\n",
    "        theta = np.linspace(0+epstheta, 2*np.pi-epstheta, nthetas)\n",
    "        r = np.linspace(lmin, lmax, nrs)\n",
    "        R, T = np.meshgrid(r, theta, indexing = 'ij')\n",
    "        integrand_values = integrand(R, T, Lv, g) * R\n",
    "        result = np.einsum('ij->', integrand_values) * ((lmax-lmin) / nrs) * ((2*np.pi-2*epstheta) / nthetas)\n",
    "        return result\n",
    "    return polar_integral"
   ]
  },
  {
   "cell_type": "code",
   "execution_count": 1044,
   "metadata": {},
   "outputs": [],
   "source": [
    "\n",
    "def get_function(lext):\n",
    "    def function(lv, Lv, lvnorm):\n",
    "        resultA = gTT(lv, Lv, lvnorm)\n",
    "        diff = lext-lv\n",
    "        diffnorm = np.linalg.norm(diff, axis = 0)\n",
    "        resultB = uTT(diffnorm)#*filters(diffnorm)\n",
    "        diff_dot_lext = dot(diff, lext)\n",
    "        diff_L = Lv-lext\n",
    "        diff_dot_diff_L = dot(diff, diff_L)\n",
    "        return resultA * resultB * diff_dot_lext * diff_dot_diff_L\n",
    "    return function"
   ]
  },
  {
   "cell_type": "code",
   "execution_count": 1045,
   "metadata": {},
   "outputs": [],
   "source": [
    "def get_angle_12(L1, L2, L3):\n",
    "    term = (L1**2+L2**2-L3**2)/(2*L1*L2)\n",
    "    return np.nan_to_num(np.arccos(term))"
   ]
  },
  {
   "cell_type": "code",
   "execution_count": 1046,
   "metadata": {},
   "outputs": [],
   "source": [
    "def integrand_ext(lext, R, Lv, lmin, lmax, nthetas, nrs):\n",
    "    result = np.zeros_like(R)\n",
    "    for i in range(nrs):\n",
    "        for j in range(nthetas):\n",
    "            l_ = lext[:, i, j]\n",
    "            f = get_function(l_[:, None, None])\n",
    "            polar_integrals = get_polar_integral(f)\n",
    "            result[i, j] = polar_integrals(Lv, lmin, lmax, nthetas, nrs)\n",
    "    return result"
   ]
  },
  {
   "cell_type": "code",
   "execution_count": 992,
   "metadata": {},
   "outputs": [],
   "source": [
    "def polar_integral_ext(integrand_ext, Lv, lmin, lmax, nthetas = 100, nrs = 100, epstheta = 1e-3):\n",
    "    theta = np.linspace(0+epstheta, 2*np.pi-epstheta, nthetas)\n",
    "    r = np.linspace(lmin, lmax, nrs)\n",
    "    Rext, Text = np.meshgrid(r, theta, indexing = 'ij')\n",
    "    lext = np.array([Rext * np.cos(Text), Rext * np.sin(Text)])\n",
    "    integrand_values = integrand_ext(lext, Rext, Lv, lmin, lmax, nthetas, nrs) * Rext\n",
    "    L1 = Lv[:, None, None]\n",
    "    L2 = lext\n",
    "    L3 = L1-lext\n",
    "    L1mod = Lv[0]\n",
    "    L2mod = Rext\n",
    "    L3mod = np.linalg.norm(L3, axis = 0)\n",
    "    thet12, thet23, thet13 = get_angle_12(L1mod, L2mod, L3mod), get_angle_12(L2mod, L3mod, L1mod), get_angle_12(L3mod, L1mod, L2mod)\n",
    "    #print('Shape', integrate_bispectrum_kkk_alt(L1mod, L2mod, L3mod, thet12, thet23, thet13, model = \"TR\").shape)\n",
    "    bispectrum_term = 8/(L1mod*(L1mod+1)*L2mod*(L2mod+1)*L3mod*(L3mod+1))*integrate_bispectrum_kkk_alt(L1mod, L2mod, L3mod, thet12, thet23, thet13, model = \"TR\")\n",
    "    integrand_values *= bispectrum_term\n",
    "    result = np.einsum('ij->', integrand_values) * ((lmax-lmin) / nrs) * ((2*np.pi-2*epstheta) / nthetas)\n",
    "    return result/(2.*np.pi)**2/(2.*np.pi)**2"
   ]
  },
  {
   "cell_type": "code",
   "execution_count": null,
   "metadata": {},
   "outputs": [],
   "source": [
    "integrate_bispectrum_kkk_alt(L1mod, L2mod, L3mod, thet12, thet23, thet13, model = \"TR\")"
   ]
  },
  {
   "cell_type": "code",
   "execution_count": 995,
   "metadata": {},
   "outputs": [
    {
     "name": "stdout",
     "output_type": "stream",
     "text": [
      "65.3 ms ± 727 µs per loop (mean ± std. dev. of 7 runs, 10 loops each)\n"
     ]
    }
   ],
   "source": [
    "%timeit polar_integral_ext(integrand_ext, np.array([200, 0]), lmin, lmax, nthetas = 20, nrs = 20)\n"
   ]
  },
  {
   "cell_type": "code",
   "execution_count": 988,
   "metadata": {},
   "outputs": [
    {
     "data": {
      "text/plain": [
       "0.00020246481436939586"
      ]
     },
     "execution_count": 988,
     "metadata": {},
     "output_type": "execute_result"
    }
   ],
   "source": [
    "-polar_integral_ext(integrand_ext, np.array([200, 0]), lmin, lmax, nthetas = 200, nrs = 200)\n"
   ]
  },
  {
   "cell_type": "code",
   "execution_count": 989,
   "metadata": {},
   "outputs": [
    {
     "name": "stderr",
     "output_type": "stream",
     "text": [
      "Process SpawnPoolWorker-23:\n",
      "Process SpawnPoolWorker-22:\n",
      "Process SpawnPoolWorker-21:\n",
      "Traceback (most recent call last):\n",
      "  File \"/opt/homebrew/Caskroom/miniforge/base/envs/cmbanalysis/lib/python3.10/multiprocessing/process.py\", line 314, in _bootstrap\n",
      "    self.run()\n",
      "  File \"/opt/homebrew/Caskroom/miniforge/base/envs/cmbanalysis/lib/python3.10/multiprocessing/process.py\", line 108, in run\n",
      "    self._target(*self._args, **self._kwargs)\n",
      "  File \"/opt/homebrew/Caskroom/miniforge/base/envs/cmbanalysis/lib/python3.10/multiprocessing/pool.py\", line 114, in worker\n",
      "    task = get()\n",
      "  File \"/opt/homebrew/Caskroom/miniforge/base/envs/cmbanalysis/lib/python3.10/multiprocessing/queues.py\", line 364, in get\n",
      "    with self._rlock:\n",
      "  File \"/opt/homebrew/Caskroom/miniforge/base/envs/cmbanalysis/lib/python3.10/multiprocessing/synchronize.py\", line 95, in __enter__\n",
      "    return self._semlock.__enter__()\n",
      "KeyboardInterrupt\n",
      "Traceback (most recent call last):\n",
      "  File \"/opt/homebrew/Caskroom/miniforge/base/envs/cmbanalysis/lib/python3.10/multiprocessing/process.py\", line 314, in _bootstrap\n",
      "    self.run()\n",
      "  File \"/opt/homebrew/Caskroom/miniforge/base/envs/cmbanalysis/lib/python3.10/multiprocessing/process.py\", line 108, in run\n",
      "    self._target(*self._args, **self._kwargs)\n",
      "  File \"/opt/homebrew/Caskroom/miniforge/base/envs/cmbanalysis/lib/python3.10/multiprocessing/pool.py\", line 114, in worker\n",
      "    task = get()\n",
      "  File \"/opt/homebrew/Caskroom/miniforge/base/envs/cmbanalysis/lib/python3.10/multiprocessing/queues.py\", line 364, in get\n",
      "    with self._rlock:\n",
      "  File \"/opt/homebrew/Caskroom/miniforge/base/envs/cmbanalysis/lib/python3.10/multiprocessing/synchronize.py\", line 95, in __enter__\n",
      "    return self._semlock.__enter__()\n",
      "KeyboardInterrupt\n",
      "Traceback (most recent call last):\n",
      "  File \"/opt/homebrew/Caskroom/miniforge/base/envs/cmbanalysis/lib/python3.10/multiprocessing/process.py\", line 314, in _bootstrap\n",
      "    self.run()\n",
      "  File \"/opt/homebrew/Caskroom/miniforge/base/envs/cmbanalysis/lib/python3.10/multiprocessing/process.py\", line 108, in run\n",
      "    self._target(*self._args, **self._kwargs)\n",
      "  File \"/opt/homebrew/Caskroom/miniforge/base/envs/cmbanalysis/lib/python3.10/multiprocessing/pool.py\", line 114, in worker\n",
      "    task = get()\n",
      "  File \"/opt/homebrew/Caskroom/miniforge/base/envs/cmbanalysis/lib/python3.10/multiprocessing/queues.py\", line 364, in get\n",
      "    with self._rlock:\n",
      "  File \"/opt/homebrew/Caskroom/miniforge/base/envs/cmbanalysis/lib/python3.10/multiprocessing/synchronize.py\", line 95, in __enter__\n",
      "    return self._semlock.__enter__()\n",
      "KeyboardInterrupt\n"
     ]
    },
    {
     "ename": "KeyboardInterrupt",
     "evalue": "",
     "output_type": "error",
     "traceback": [
      "\u001b[0;31m---------------------------------------------------------------------------\u001b[0m",
      "\u001b[0;31mKeyboardInterrupt\u001b[0m                         Traceback (most recent call last)",
      "Cell \u001b[0;32mIn[989], line 1\u001b[0m\n\u001b[0;32m----> 1\u001b[0m \u001b[39m-\u001b[39mpolar_integral_ext(integrand_ext, np\u001b[39m.\u001b[39;49marray([\u001b[39m200\u001b[39;49m, \u001b[39m0\u001b[39;49m]), lmin, lmax, nthetas \u001b[39m=\u001b[39;49m \u001b[39m400\u001b[39;49m, nrs \u001b[39m=\u001b[39;49m \u001b[39m400\u001b[39;49m)\n",
      "Cell \u001b[0;32mIn[985], line 6\u001b[0m, in \u001b[0;36mpolar_integral_ext\u001b[0;34m(integrand_ext, Lv, lmin, lmax, nthetas, nrs, epstheta)\u001b[0m\n\u001b[1;32m      4\u001b[0m Rext, Text \u001b[39m=\u001b[39m np\u001b[39m.\u001b[39mmeshgrid(r, theta, indexing \u001b[39m=\u001b[39m \u001b[39m'\u001b[39m\u001b[39mij\u001b[39m\u001b[39m'\u001b[39m)\n\u001b[1;32m      5\u001b[0m lext \u001b[39m=\u001b[39m np\u001b[39m.\u001b[39marray([Rext \u001b[39m*\u001b[39m np\u001b[39m.\u001b[39mcos(Text), Rext \u001b[39m*\u001b[39m np\u001b[39m.\u001b[39msin(Text)])\n\u001b[0;32m----> 6\u001b[0m integrand_values \u001b[39m=\u001b[39m integrand_ext(lext, Rext, Lv, lmin, lmax, nthetas, nrs) \u001b[39m*\u001b[39m Rext\n\u001b[1;32m      7\u001b[0m L1 \u001b[39m=\u001b[39m Lv[:, \u001b[39mNone\u001b[39;00m, \u001b[39mNone\u001b[39;00m]\n\u001b[1;32m      8\u001b[0m L2 \u001b[39m=\u001b[39m lext\n",
      "Cell \u001b[0;32mIn[984], line 8\u001b[0m, in \u001b[0;36mintegrand_ext\u001b[0;34m(lext, R, Lv, lmin, lmax, nthetas, nrs)\u001b[0m\n\u001b[1;32m      6\u001b[0m         f \u001b[39m=\u001b[39m get_function(l_[:, \u001b[39mNone\u001b[39;00m, \u001b[39mNone\u001b[39;00m])\n\u001b[1;32m      7\u001b[0m         polar_integrals \u001b[39m=\u001b[39m get_polar_integral(f)\n\u001b[0;32m----> 8\u001b[0m         result[i, j] \u001b[39m=\u001b[39m polar_integrals(Lv, lmin, lmax, nthetas, nrs)\n\u001b[1;32m      9\u001b[0m \u001b[39mreturn\u001b[39;00m result\n",
      "Cell \u001b[0;32mIn[963], line 10\u001b[0m, in \u001b[0;36mget_polar_integral.<locals>.polar_integral\u001b[0;34m(Lv, lmin, lmax, nthetas, nrs, epstheta)\u001b[0m\n\u001b[1;32m      8\u001b[0m r \u001b[39m=\u001b[39m np\u001b[39m.\u001b[39mlinspace(lmin, lmax, nrs)\n\u001b[1;32m      9\u001b[0m R, T \u001b[39m=\u001b[39m np\u001b[39m.\u001b[39mmeshgrid(r, theta, indexing \u001b[39m=\u001b[39m \u001b[39m'\u001b[39m\u001b[39mij\u001b[39m\u001b[39m'\u001b[39m)\n\u001b[0;32m---> 10\u001b[0m integrand_values \u001b[39m=\u001b[39m integrand(R, T, Lv, g) \u001b[39m*\u001b[39m R\n\u001b[1;32m     11\u001b[0m result \u001b[39m=\u001b[39m np\u001b[39m.\u001b[39meinsum(\u001b[39m'\u001b[39m\u001b[39mij->\u001b[39m\u001b[39m'\u001b[39m, integrand_values) \u001b[39m*\u001b[39m ((lmax\u001b[39m-\u001b[39mlmin) \u001b[39m/\u001b[39m nrs) \u001b[39m*\u001b[39m ((\u001b[39m2\u001b[39m\u001b[39m*\u001b[39mnp\u001b[39m.\u001b[39mpi\u001b[39m-\u001b[39m\u001b[39m2\u001b[39m\u001b[39m*\u001b[39mepstheta) \u001b[39m/\u001b[39m nthetas)\n\u001b[1;32m     12\u001b[0m \u001b[39mreturn\u001b[39;00m result\n",
      "Cell \u001b[0;32mIn[963], line 3\u001b[0m, in \u001b[0;36mintegrand\u001b[0;34m(R, T, Lv, g)\u001b[0m\n\u001b[1;32m      1\u001b[0m \u001b[39mdef\u001b[39;00m \u001b[39mintegrand\u001b[39m(R, T, Lv, g):\n\u001b[1;32m      2\u001b[0m     lv \u001b[39m=\u001b[39m np\u001b[39m.\u001b[39marray([R \u001b[39m*\u001b[39m np\u001b[39m.\u001b[39mcos(T), R \u001b[39m*\u001b[39m np\u001b[39m.\u001b[39msin(T)])\n\u001b[0;32m----> 3\u001b[0m     \u001b[39mreturn\u001b[39;00m g(lv, Lv[:, \u001b[39mNone\u001b[39;49;00m, \u001b[39mNone\u001b[39;49;00m], R)\n",
      "Cell \u001b[0;32mIn[982], line 3\u001b[0m, in \u001b[0;36mget_function.<locals>.function\u001b[0;34m(lv, Lv, lvnorm)\u001b[0m\n\u001b[1;32m      2\u001b[0m \u001b[39mdef\u001b[39;00m \u001b[39mfunction\u001b[39m(lv, Lv, lvnorm):\n\u001b[0;32m----> 3\u001b[0m     resultA \u001b[39m=\u001b[39m gTT(lv, Lv, lvnorm)\n\u001b[1;32m      4\u001b[0m     diff \u001b[39m=\u001b[39m lext\u001b[39m-\u001b[39mlv\n\u001b[1;32m      5\u001b[0m     diffnorm \u001b[39m=\u001b[39m np\u001b[39m.\u001b[39mlinalg\u001b[39m.\u001b[39mnorm(diff, axis \u001b[39m=\u001b[39m \u001b[39m0\u001b[39m)\n",
      "Cell \u001b[0;32mIn[960], line 16\u001b[0m, in \u001b[0;36mgTT\u001b[0;34m(lv, Lv, lvnorm)\u001b[0m\n\u001b[1;32m     14\u001b[0m l1v, l2v \u001b[39m=\u001b[39m lv, Lv\u001b[39m-\u001b[39mlv\n\u001b[1;32m     15\u001b[0m l1n, l2n \u001b[39m=\u001b[39m lvnorm, np\u001b[39m.\u001b[39mlinalg\u001b[39m.\u001b[39mnorm(l2v, axis \u001b[39m=\u001b[39m \u001b[39m0\u001b[39m)\n\u001b[0;32m---> 16\u001b[0m \u001b[39mreturn\u001b[39;00m fTT(l1v, l2v, l1n, l2n)\u001b[39m/\u001b[39m(\u001b[39m2\u001b[39m\u001b[39m*\u001b[39mftotTT(l1n)\u001b[39m*\u001b[39mftotTT(l2n))\u001b[39m*\u001b[39mfilters(l1n)\u001b[39m*\u001b[39mfilters(l2n)\n",
      "Cell \u001b[0;32mIn[960], line 8\u001b[0m, in \u001b[0;36mftotTT\u001b[0;34m(l)\u001b[0m\n\u001b[1;32m      7\u001b[0m \u001b[39mdef\u001b[39;00m \u001b[39mftotTT\u001b[39m(l):\n\u001b[0;32m----> 8\u001b[0m     \u001b[39mreturn\u001b[39;00m tTT(l)\n",
      "File \u001b[0;32m/opt/homebrew/Caskroom/miniforge/base/envs/cmbanalysis/lib/python3.10/site-packages/scipy/interpolate/_polyint.py:78\u001b[0m, in \u001b[0;36m_Interpolator1D.__call__\u001b[0;34m(self, x)\u001b[0m\n\u001b[1;32m     57\u001b[0m \u001b[39m\u001b[39m\u001b[39m\"\"\"\u001b[39;00m\n\u001b[1;32m     58\u001b[0m \u001b[39mEvaluate the interpolant\u001b[39;00m\n\u001b[1;32m     59\u001b[0m \n\u001b[0;32m   (...)\u001b[0m\n\u001b[1;32m     75\u001b[0m \n\u001b[1;32m     76\u001b[0m \u001b[39m\"\"\"\u001b[39;00m\n\u001b[1;32m     77\u001b[0m x, x_shape \u001b[39m=\u001b[39m \u001b[39mself\u001b[39m\u001b[39m.\u001b[39m_prepare_x(x)\n\u001b[0;32m---> 78\u001b[0m y \u001b[39m=\u001b[39m \u001b[39mself\u001b[39;49m\u001b[39m.\u001b[39;49m_evaluate(x)\n\u001b[1;32m     79\u001b[0m \u001b[39mreturn\u001b[39;00m \u001b[39mself\u001b[39m\u001b[39m.\u001b[39m_finish_y(y, x_shape)\n",
      "File \u001b[0;32m/opt/homebrew/Caskroom/miniforge/base/envs/cmbanalysis/lib/python3.10/site-packages/scipy/interpolate/_interpolate.py:693\u001b[0m, in \u001b[0;36minterp1d._evaluate\u001b[0;34m(self, x_new)\u001b[0m\n\u001b[1;32m    688\u001b[0m \u001b[39mdef\u001b[39;00m \u001b[39m_evaluate\u001b[39m(\u001b[39mself\u001b[39m, x_new):\n\u001b[1;32m    689\u001b[0m     \u001b[39m# 1. Handle values in x_new that are outside of x. Throw error,\u001b[39;00m\n\u001b[1;32m    690\u001b[0m     \u001b[39m#    or return a list of mask array indicating the outofbounds values.\u001b[39;00m\n\u001b[1;32m    691\u001b[0m     \u001b[39m#    The behavior is set by the bounds_error variable.\u001b[39;00m\n\u001b[1;32m    692\u001b[0m     x_new \u001b[39m=\u001b[39m asarray(x_new)\n\u001b[0;32m--> 693\u001b[0m     y_new \u001b[39m=\u001b[39m \u001b[39mself\u001b[39;49m\u001b[39m.\u001b[39;49m_call(\u001b[39mself\u001b[39;49m, x_new)\n\u001b[1;32m    694\u001b[0m     \u001b[39mif\u001b[39;00m \u001b[39mnot\u001b[39;00m \u001b[39mself\u001b[39m\u001b[39m.\u001b[39m_extrapolate:\n\u001b[1;32m    695\u001b[0m         below_bounds, above_bounds \u001b[39m=\u001b[39m \u001b[39mself\u001b[39m\u001b[39m.\u001b[39m_check_bounds(x_new)\n",
      "File \u001b[0;32m/opt/homebrew/Caskroom/miniforge/base/envs/cmbanalysis/lib/python3.10/site-packages/scipy/interpolate/_interpolate.py:617\u001b[0m, in \u001b[0;36minterp1d._call_linear_np\u001b[0;34m(self, x_new)\u001b[0m\n\u001b[1;32m    615\u001b[0m \u001b[39mdef\u001b[39;00m \u001b[39m_call_linear_np\u001b[39m(\u001b[39mself\u001b[39m, x_new):\n\u001b[1;32m    616\u001b[0m     \u001b[39m# Note that out-of-bounds values are taken care of in self._evaluate\u001b[39;00m\n\u001b[0;32m--> 617\u001b[0m     \u001b[39mreturn\u001b[39;00m np\u001b[39m.\u001b[39;49minterp(x_new, \u001b[39mself\u001b[39;49m\u001b[39m.\u001b[39;49mx, \u001b[39mself\u001b[39;49m\u001b[39m.\u001b[39;49my)\n",
      "File \u001b[0;32m<__array_function__ internals>:180\u001b[0m, in \u001b[0;36minterp\u001b[0;34m(*args, **kwargs)\u001b[0m\n",
      "File \u001b[0;32m/opt/homebrew/Caskroom/miniforge/base/envs/cmbanalysis/lib/python3.10/site-packages/numpy/lib/function_base.py:1594\u001b[0m, in \u001b[0;36minterp\u001b[0;34m(x, xp, fp, left, right, period)\u001b[0m\n\u001b[1;32m   1591\u001b[0m     xp \u001b[39m=\u001b[39m np\u001b[39m.\u001b[39mconcatenate((xp[\u001b[39m-\u001b[39m\u001b[39m1\u001b[39m:]\u001b[39m-\u001b[39mperiod, xp, xp[\u001b[39m0\u001b[39m:\u001b[39m1\u001b[39m]\u001b[39m+\u001b[39mperiod))\n\u001b[1;32m   1592\u001b[0m     fp \u001b[39m=\u001b[39m np\u001b[39m.\u001b[39mconcatenate((fp[\u001b[39m-\u001b[39m\u001b[39m1\u001b[39m:], fp, fp[\u001b[39m0\u001b[39m:\u001b[39m1\u001b[39m]))\n\u001b[0;32m-> 1594\u001b[0m \u001b[39mreturn\u001b[39;00m interp_func(x, xp, fp, left, right)\n",
      "\u001b[0;31mKeyboardInterrupt\u001b[0m: "
     ]
    }
   ],
   "source": [
    "-polar_integral_ext(integrand_ext, np.array([200, 0]), lmin, lmax, nthetas = 400, nrs = 400)\n"
   ]
  },
  {
   "cell_type": "code",
   "execution_count": 987,
   "metadata": {},
   "outputs": [
    {
     "data": {
      "text/plain": [
       "0.0008083460881641134"
      ]
     },
     "execution_count": 987,
     "metadata": {},
     "output_type": "execute_result"
    }
   ],
   "source": [
    "-polar_integral_ext(integrand_ext, np.array([200, 0]), lmin, lmax, nthetas = 80, nrs = 80)\n"
   ]
  },
  {
   "cell_type": "code",
   "execution_count": 969,
   "metadata": {},
   "outputs": [],
   "source": [
    "from joblib import Parallel, delayed"
   ]
  },
  {
   "cell_type": "code",
   "execution_count": 970,
   "metadata": {},
   "outputs": [],
   "source": [
    "batch_size = 5\n",
    "n_jobs = 4\n",
    "backend = \"threading\""
   ]
  },
  {
   "cell_type": "code",
   "execution_count": 971,
   "metadata": {},
   "outputs": [],
   "source": [
    "def do(LL):\n",
    "    Lv = np.array([LL, 0])\n",
    "    return -polar_integral_ext(integrand_ext, Lv, lmin, lmax, nthetas = 80, nrs = 100)*np.interp(LL, cents, Alphi)\n"
   ]
  },
  {
   "cell_type": "code",
   "execution_count": 972,
   "metadata": {},
   "outputs": [],
   "source": [
    "Llist = np.linspace(50, 2000, 20)"
   ]
  },
  {
   "cell_type": "code",
   "execution_count": 973,
   "metadata": {},
   "outputs": [],
   "source": [
    "results = Parallel(n_jobs = n_jobs, batch_size = batch_size, backend=backend, verbose=0)(delayed(do)(LL) for LL in Llist)"
   ]
  },
  {
   "cell_type": "code",
   "execution_count": null,
   "metadata": {},
   "outputs": [],
   "source": []
  },
  {
   "cell_type": "code",
   "execution_count": 974,
   "metadata": {},
   "outputs": [],
   "source": [
    "results = np.array(results)"
   ]
  },
  {
   "cell_type": "code",
   "execution_count": 975,
   "metadata": {},
   "outputs": [],
   "source": [
    "selection = results<0"
   ]
  },
  {
   "cell_type": "code",
   "execution_count": 976,
   "metadata": {},
   "outputs": [],
   "source": [
    "negativeresults = results.copy()\n",
    "negativeresults[~selection] = np.nan\n",
    "\n",
    "positiveresults = results.copy()\n",
    "positiveresults[selection] = np.nan"
   ]
  },
  {
   "cell_type": "code",
   "execution_count": 977,
   "metadata": {},
   "outputs": [
    {
     "data": {
      "text/plain": [
       "(50, 4000)"
      ]
     },
     "execution_count": 977,
     "metadata": {},
     "output_type": "execute_result"
    },
    {
     "data": {
      "image/png": "[encoded data removed]",
      "text/plain": [
       "<Figure size 640x480 with 1 Axes>"
      ]
     },
     "metadata": {},
     "output_type": "display_data"
    }
   ],
   "source": [
    "plt.loglog(Llist, (positiveresults)*Llist**4/2/np.pi, color = 'b')\n",
    "plt.loglog(Llist, (-negativeresults)*Llist**4/2/np.pi, ls = '--', color = 'b')\n",
    "\n",
    "#plt.loglog(Llist, abs(results)*Llist**4/2/np.pi, color = 'b')\n",
    "\n",
    "\n",
    "plt.plot(l, pp*l**4/2/np.pi)\n",
    "plt.xlim(50, 4000)"
   ]
  },
  {
   "cell_type": "code",
   "execution_count": 980,
   "metadata": {},
   "outputs": [
    {
     "data": {
      "text/plain": [
       "(100.0, 4000.0)"
      ]
     },
     "execution_count": 980,
     "metadata": {},
     "output_type": "execute_result"
    },
    {
     "data": {
      "image/png": "[encoded data removed]",
      "text/plain": [
       "<Figure size 640x480 with 1 Axes>"
      ]
     },
     "metadata": {},
     "output_type": "display_data"
    }
   ],
   "source": [
    "plt.plot(Llist, (results)/np.interp(Llist, l, pp), 'o')\n",
    "plt.xlim(100, 4000)"
   ]
  },
  {
   "cell_type": "code",
   "execution_count": 481,
   "metadata": {},
   "outputs": [],
   "source": [
    "Ls = np.arange(5, 1000, 10)"
   ]
  },
  {
   "cell_type": "code",
   "execution_count": 482,
   "metadata": {},
   "outputs": [],
   "source": [
    "import vegas\n",
    "\n",
    "lmin, lmax = 1, 4000\n",
    "\n",
    "integ = vegas.Integrator([[lmin, lmax], [0, 2*np.pi]])\n",
    "nitn, neval = 10, 1e2\n",
    "    "
   ]
  },
  {
   "cell_type": "code",
   "execution_count": 483,
   "metadata": {},
   "outputs": [],
   "source": [
    "Rs = {}\n",
    "names = ['par', 'perp']\n",
    "result_temps = {n: [] for n in names}\n",
    "for L in Ls:\n",
    "    Lvec = np.array([L, 0])\n",
    "    def integrand(x):\n",
    "            l, theta = x \n",
    "            common = g(np.array([l*np.cos(theta), l*np.sin(theta)]), Lvec)*uTT(l)*l**2*l\n",
    "            return [common*f(theta)**2 for f in [np.cos, np.sin]]\n",
    "    result = integ(integrand, nitn = nitn, neval = neval)\n",
    "    [result_temps[n].append(result[i].mean) for i, n in enumerate(names)]\n",
    "Rs = {n: np.array(result_temps[n])/(2*np.pi)**2 for n in names}"
   ]
  },
  {
   "cell_type": "code",
   "execution_count": 484,
   "metadata": {},
   "outputs": [
    {
     "data": {
      "text/plain": [
       "<matplotlib.legend.Legend at 0x2ab6b1d80>"
      ]
     },
     "execution_count": 484,
     "metadata": {},
     "output_type": "execute_result"
    },
    {
     "data": {
      "image/png": "[encoded data removed]",
      "text/plain": [
       "<Figure size 640x480 with 1 Axes>"
      ]
     },
     "metadata": {},
     "output_type": "display_data"
    }
   ],
   "source": [
    "for n in names:\n",
    "    plt.plot(Ls, Rs[n]*1/Ls**2*1e-11, label = n)\n",
    "plt.legend()"
   ]
  },
  {
   "cell_type": "code",
   "execution_count": 485,
   "metadata": {},
   "outputs": [],
   "source": [
    "model = 'TR'"
   ]
  },
  {
   "cell_type": "code",
   "execution_count": 486,
   "metadata": {},
   "outputs": [],
   "source": [
    "lmin, lmax = 1, 4000\n",
    "integ = vegas.Integrator([[lmin, lmax], [0, 2*np.pi]])\n",
    "nitn, neval = 10, 1e2"
   ]
  },
  {
   "cell_type": "code",
   "execution_count": 487,
   "metadata": {},
   "outputs": [
    {
     "name": "stderr",
     "output_type": "stream",
     "text": [
      "/var/folders/5s/mpby42n15_ng7rv494cv19tw0000gn/T/ipykernel_55200/135368975.py:12: RuntimeWarning: invalid value encountered in arccos\n",
      "  return np.arccos(term)\n"
     ]
    }
   ],
   "source": [
    "betas = {}\n",
    "bparf = lambda l, theta, L: np.cos(theta)*(l*np.cos(theta)-L)*l\n",
    "bperpf = lambda l, theta, L: np.sin(theta)**2*l**2\n",
    "\n",
    "\n",
    "result_temps = {n: [] for n in names}\n",
    "for L in Ls:\n",
    "    Lvec = np.array([L, 0])\n",
    "\n",
    "    def integrand(x):\n",
    "        l, theta = x\n",
    "        Lmlv = np.array([L-l*np.cos(theta), -l*np.sin(theta)])\n",
    "        Lml = np.linalg.norm(Lmlv)\n",
    "        angle12 = get_angle_12(l, -L, Lml)\n",
    "        angle13 = get_angle_12(l, Lml, -L)\n",
    "        angle23 = get_angle_12(-L, Lml, l)\n",
    "        angle12, angle13, angle23 = np.nan_to_num(angle12), np.nan_to_num(angle13), np.nan_to_num(angle23)\n",
    "        factortophi = -8/(l*L*Lml)**2\n",
    "        common = factortophi*integrate_bispectrum_kkk(l, Lml, L, angle12, angle13, angle23, model = model)*l\n",
    "        return [f(l, theta, L)*common for f in [bparf, bperpf]]\n",
    "\n",
    "    result = integ(integrand, nitn = nitn, neval = neval)\n",
    "    [result_temps[n].append(result[i].mean) for i, n in enumerate(names)]\n",
    "betas = {n: np.array(result_temps[n])/(2*np.pi)**2 for n in names}"
   ]
  },
  {
   "cell_type": "code",
   "execution_count": 488,
   "metadata": {},
   "outputs": [
    {
     "data": {
      "text/plain": [
       "<matplotlib.legend.Legend at 0x2ab99d7e0>"
      ]
     },
     "execution_count": 488,
     "metadata": {},
     "output_type": "execute_result"
    },
    {
     "data": {
      "image/png": "[encoded data removed]",
      "text/plain": [
       "<Figure size 640x480 with 1 Axes>"
      ]
     },
     "metadata": {},
     "output_type": "display_data"
    }
   ],
   "source": [
    "for n in names:\n",
    "    plt.plot(Ls, betas[n]*Ls**4*1e10, label = n)\n",
    "plt.legend()"
   ]
  },
  {
   "cell_type": "code",
   "execution_count": 489,
   "metadata": {},
   "outputs": [],
   "source": [
    "integ = vegas.Integrator([[lmin, lmax], [0, 2*np.pi]])\n",
    "nitn, neval = 10, 1e3\n",
    "\n",
    "def SfTT(l1v, l2v, l1n, l2n):\n",
    "    return np.dot(l1v+l2v, l1v)*lTT(l1n)+np.dot(l1v+l2v, l2v)*lTT(l2n)\n",
    "\n",
    "def SftotTT(l):\n",
    "    return tTT(l)\n",
    "\n",
    "def Sg(lv, Lv):\n",
    "    l1v, l2v = lv, Lv-lv\n",
    "    l1n, l2n = np.linalg.norm(l1v), np.linalg.norm(l2v)\n",
    "    return SfTT(l1v, l2v, l1n, l2n)/(2*SftotTT(l1n)*SftotTT(l2n))\n",
    "\n",
    "S = []\n",
    "for L in Ls:\n",
    "    Lvec = np.array([L, 0])\n",
    "    def integrand(x):\n",
    "        l, theta = x\n",
    "        ldotL = L*l*np.cos(theta)\n",
    "        result = Sg(np.array([l*np.cos(theta), l*np.sin(theta)]), Lvec)*uTT(l)*ldotL*l\n",
    "        return result\n",
    "    result = integ(integrand, nitn = nitn, neval = neval)\n",
    "    S.append(result.mean)\n",
    "S = np.array(S)/(2*np.pi)**2\n"
   ]
  },
  {
   "cell_type": "code",
   "execution_count": 490,
   "metadata": {},
   "outputs": [],
   "source": [
    "AL = np.interp(Ls, cents, AL1D)"
   ]
  },
  {
   "cell_type": "code",
   "execution_count": 491,
   "metadata": {},
   "outputs": [],
   "source": [
    "ALnew = np.interp(Ls, cents, expr1D**-1)"
   ]
  },
  {
   "cell_type": "code",
   "execution_count": 494,
   "metadata": {},
   "outputs": [
    {
     "data": {
      "image/png": "[encoded data removed]",
      "text/plain": [
       "<Figure size 640x480 with 1 Axes>"
      ]
     },
     "metadata": {},
     "output_type": "display_data"
    }
   ],
   "source": [
    "ppinterp = np.interp(Ls, l, ddlensing)\n",
    "NC1term = -4*ALnew**2*S*np.sum([betas[n]*Rs[n] for n in names], axis = 0)\n",
    "plt.plot(Ls, NC1term/ppinterp)\n",
    "plt.xscale('log')"
   ]
  },
  {
   "cell_type": "code",
   "execution_count": 493,
   "metadata": {},
   "outputs": [],
   "source": [
    "def dot_(a, b):\n",
    "    return np.einsum('ab, ab -> b', a, b)\n",
    "\n",
    "def dot(a, b):\n",
    "    return a[0, :]*b[0, :]+a[1, :]*b[1, :]\n",
    "\n",
    "    \n",
    "def fTTbatch(l1v, l2v, l1n, l2n):\n",
    "    return dot(l1v+l2v, l1v)*lTT(l1n)+dot(l1v+l2v, l2v)*lTT(l2n)\n",
    "\n",
    "def ftotTTfTTbatch(l):\n",
    "    return tTT(l)\n",
    "\n",
    "def gfTTbatch(lv, Lv, l1n, l2n):\n",
    "    l1v, l2v = lv, Lv-lv\n",
    "    return fTTbatch(l1v, l2v, l1n, l2n)/(2*ftotTTfTTbatch(l1n)*ftotTTfTTbatch(l2n))"
   ]
  },
  {
   "cell_type": "code",
   "execution_count": null,
   "metadata": {},
   "outputs": [],
   "source": [
    "from scipy.interpolate import InterpolatedUnivariateSpline\n",
    "lmin=2\n",
    "\n",
    "cTTobs = InterpolatedUnivariateSpline(ls,CT[2:lmax+1,0]/ls/(ls+1)*2*np.pi + noise)\n",
    "cTTgrad_obs = InterpolatedUnivariateSpline(ls,clgrad[2:lmax+1,0]/ls/(ls+1)*2*np.pi + noise)\n",
    "\n",
    "def get_response(lmaxTT = 4000):\n",
    "    Nzero = np.zeros(Ls.shape)\n",
    "    resp = np.zeros(Ls.shape)\n",
    "    resp_grad = np.zeros(Ls.shape)\n",
    "    resp_gradgrad = np.zeros(Ls.shape)\n",
    "    resp_gradgradgrad = np.zeros(Ls.shape)    \n",
    "    dL = 5\n",
    "    for ix, L in enumerate(Ls):\n",
    "        Lsamp=  np.arange(lmin,lmaxTT+1, dL, dtype=np.float64)\n",
    "        resp_L = np.zeros(Lsamp.shape)\n",
    "        resp_grad_L = np.zeros(Lsamp.shape)\n",
    "        resp_gradgrad_L = np.zeros(Lsamp.shape)\n",
    "        resp_gradgradgrad_L = np.zeros(Lsamp.shape)        \n",
    "        for i, l in enumerate(Lsamp):\n",
    "            nphi= max(32,2*int(l)+1) \n",
    "            nphi=min(nphi,128) \n",
    "            dphi=(2*np.pi/nphi)\n",
    "            phi = np.linspace(0,2*np.pi, nphi, endpoint =False)\n",
    "            cos = np.cos(phi)\n",
    "            weight = dphi*l/(2*np.pi)**2 \n",
    "            l3 = np.sqrt(L**2+l**2 -2*L*l*cos)\n",
    "\n",
    "            response =((-L*l*cos + L**2)*cTT(l3) + (L*l*cos)*cTT(l))  \n",
    "            response_grad =((-L*l*cos + L**2)*cTTgrad(l3) + (L*l*cos)*cTTgrad(l))\n",
    "            \n",
    "            filter = 1/(cTTobs(l)*cTTobs(l3))\n",
    "            filter[l3<lmin]=0\n",
    "            filter[l3>lmaxTT]=0\n",
    "            \n",
    "            filter_grad = 1/(cTTgrad_obs(l)*cTTgrad_obs(l3))            \n",
    "            #filter_grad = 1/(cTTobs(l)*cTTobs(l3))\n",
    "            filter_grad[l3<lmin]=0\n",
    "            filter_grad[l<lmin]=0            \n",
    "            filter_grad[l3>lmaxTT]=0\n",
    "            \n",
    "            g = response*filter\n",
    "            g_grad = response*filter_grad             \n",
    "            g_gradgrad = response_grad*filter\n",
    "            \n",
    "            resp_L[i] = np.dot(g,response)*weight   \n",
    "            resp_grad_L[i] = np.dot(g,response_grad)*weight   \n",
    "            resp_gradgrad_L[i] = np.dot(g_grad,response_grad)*weight  \n",
    "            resp_gradgradgrad_L[i] = np.dot(g_gradgrad,response_grad)*weight            \n",
    "            \n",
    "        resp[ix] = np.sum(InterpolatedUnivariateSpline(Lsamp, resp_L,ext=1)(np.arange(Lsamp[0],Lsamp[-1])))\n",
    "        resp_grad[ix] = np.sum(InterpolatedUnivariateSpline(Lsamp, resp_grad_L,ext=1)(np.arange(Lsamp[0],Lsamp[-1])))\n",
    "        resp_gradgrad[ix] = np.sum(InterpolatedUnivariateSpline(Lsamp, resp_gradgrad_L,ext=1)(np.arange(Lsamp[0],Lsamp[-1])))\n",
    "        resp_gradgradgrad[ix] = np.sum(InterpolatedUnivariateSpline(Lsamp, resp_gradgradgrad_L,ext=1)(np.arange(Lsamp[0],Lsamp[-1])))        \n",
    "        \n",
    "    return resp, resp_grad, resp_gradgrad,resp_gradgradgrad\n",
    "lmaxTT=lmax\n",
    "print '%s lmaxTT = %d lmax =%d'%(experiment,lmaxTT,lmax),lmaxTT,lmax\n",
    "#resp, resp_grad = get_response(lmaxTT)\n",
    "resp, resp_grad, resp_gradgrad, resp_gradgradgrad = get_response(lmaxTT=4000)\n"
   ]
  },
  {
   "cell_type": "code",
   "execution_count": 426,
   "metadata": {},
   "outputs": [
    {
     "name": "stderr",
     "output_type": "stream",
     "text": [
      "/var/folders/5s/mpby42n15_ng7rv494cv19tw0000gn/T/ipykernel_55200/135368975.py:12: RuntimeWarning: invalid value encountered in arccos\n",
      "  return np.arccos(term)\n"
     ]
    }
   ],
   "source": [
    "integ = vegas.Integrator([[lmin, lmax], [lmin, lmax], [0, 2*np.pi], [0, 2*np.pi]])\n",
    "nitn, neval = 10, 1e2\n",
    "\n",
    "NA1 = []\n",
    "for L in Ls:\n",
    "\n",
    "    @vegas.batchintegrand\n",
    "    def integrand(x):\n",
    "        l, l1, theta, theta1 = x.T\n",
    "        lv, l1v = np.array([l*np.cos(theta), l*np.sin(theta)]), np.array([l1*np.cos(theta1), l1*np.sin(theta1)])\n",
    "        Lvec = np.c_[np.ones_like(l)*L, np.zeros_like(l)].T\n",
    "        l1ml = l1v-lv\n",
    "        l1mln = np.linalg.norm(l1ml, axis = 0)\n",
    "        l1mldotl = (l1ml[0, :]*lv[0, :]+l1ml[1, :]*lv[1, :])/(l1mln*l)\n",
    "        Lmlv = Lvec-lv\n",
    "        Lmln = np.linalg.norm(Lmlv, axis = 0)\n",
    "\n",
    "        Lmldotl1ml = (Lmlv[0, :]*l1ml[0, :]+Lmlv[1, :]*l1ml[1, :])/(Lmln*l1mln)\n",
    "        temp = uTT(l1mln)\n",
    "\n",
    "        l2n = np.linalg.norm(Lvec-l1v, axis = 0)\n",
    "        product = l1mldotl*Lmldotl1ml*temp*gfTTbatch(l1v, Lvec, l1, l2n)\n",
    "\n",
    "        Lml = np.linalg.norm(Lmlv)\n",
    "        angle12 = get_angle_12(l, -L, Lml)\n",
    "        angle13 = get_angle_12(l, Lml, -L)\n",
    "        angle23 = get_angle_12(-L, Lml, l)\n",
    "        angle12, angle13, angle23 = np.nan_to_num(angle12), np.nan_to_num(angle13), np.nan_to_num(angle23)\n",
    "        factortophi = -8/(l*L*Lml)**2\n",
    "        return factortophi*integrate_bispectrum_kkk(l, Lml, L, angle12, angle13, angle23, model = model)*product*l*l1\n",
    "    result = integ(integrand, nitn = nitn, neval = neval)\n",
    "    NA1 += [result.mean]\n",
    "NA1 = np.array(NA1)/(2*np.pi)**4"
   ]
  },
  {
   "cell_type": "code",
   "execution_count": 436,
   "metadata": {},
   "outputs": [
    {
     "name": "stderr",
     "output_type": "stream",
     "text": [
      "/var/folders/5s/mpby42n15_ng7rv494cv19tw0000gn/T/ipykernel_55200/135368975.py:12: RuntimeWarning: invalid value encountered in arccos\n",
      "  return np.arccos(term)\n"
     ]
    },
    {
     "ename": "KeyboardInterrupt",
     "evalue": "",
     "output_type": "error",
     "traceback": [
      "\u001b[0;31m---------------------------------------------------------------------------\u001b[0m",
      "\u001b[0;31mKeyboardInterrupt\u001b[0m                         Traceback (most recent call last)",
      "Cell \u001b[0;32mIn[436], line 31\u001b[0m\n\u001b[1;32m     29\u001b[0m         factortophi \u001b[39m=\u001b[39m \u001b[39m-\u001b[39m\u001b[39m8\u001b[39m\u001b[39m/\u001b[39m(l\u001b[39m*\u001b[39mL\u001b[39m*\u001b[39mLml)\u001b[39m*\u001b[39m\u001b[39m*\u001b[39m\u001b[39m2\u001b[39m\n\u001b[1;32m     30\u001b[0m         \u001b[39mreturn\u001b[39;00m factortophi\u001b[39m*\u001b[39mintegrate_bispectrum_kkk(l, Lml, L, angle12, angle13, angle23, model \u001b[39m=\u001b[39m model)\u001b[39m*\u001b[39mproduct\u001b[39m*\u001b[39ml\u001b[39m*\u001b[39ml1\n\u001b[0;32m---> 31\u001b[0m     result \u001b[39m=\u001b[39m integ(integrand, nitn \u001b[39m=\u001b[39;49m nitn, neval \u001b[39m=\u001b[39;49m neval)\n\u001b[1;32m     32\u001b[0m     NC1 \u001b[39m+\u001b[39m\u001b[39m=\u001b[39m [result\u001b[39m.\u001b[39mmean]\n\u001b[1;32m     33\u001b[0m NC1 \u001b[39m=\u001b[39m np\u001b[39m.\u001b[39marray(NC1)\u001b[39m/\u001b[39m(\u001b[39m2\u001b[39m\u001b[39m*\u001b[39mnp\u001b[39m.\u001b[39mpi)\u001b[39m*\u001b[39m\u001b[39m*\u001b[39m\u001b[39m4\u001b[39m\n",
      "File \u001b[0;32m_vegas.pyx:1850\u001b[0m, in \u001b[0;36mvegas._vegas.Integrator.__call__\u001b[0;34m()\u001b[0m\n",
      "File \u001b[0;32m_vegas.pyx:2814\u001b[0m, in \u001b[0;36mvegas._vegas._BatchIntegrand_from_Batch.__call__\u001b[0;34m()\u001b[0m\n",
      "Cell \u001b[0;32mIn[436], line 30\u001b[0m, in \u001b[0;36mintegrand\u001b[0;34m(x)\u001b[0m\n\u001b[1;32m     28\u001b[0m angle12, angle13, angle23 \u001b[39m=\u001b[39m np\u001b[39m.\u001b[39mpi\u001b[39m/\u001b[39m\u001b[39m3\u001b[39m, np\u001b[39m.\u001b[39mpi\u001b[39m/\u001b[39m\u001b[39m3\u001b[39m, np\u001b[39m.\u001b[39mpi\u001b[39m/\u001b[39m\u001b[39m3\u001b[39m\n\u001b[1;32m     29\u001b[0m factortophi \u001b[39m=\u001b[39m \u001b[39m-\u001b[39m\u001b[39m8\u001b[39m\u001b[39m/\u001b[39m(l\u001b[39m*\u001b[39mL\u001b[39m*\u001b[39mLml)\u001b[39m*\u001b[39m\u001b[39m*\u001b[39m\u001b[39m2\u001b[39m\n\u001b[0;32m---> 30\u001b[0m \u001b[39mreturn\u001b[39;00m factortophi\u001b[39m*\u001b[39mintegrate_bispectrum_kkk(l, Lml, L, angle12, angle13, angle23, model \u001b[39m=\u001b[39;49m model)\u001b[39m*\u001b[39mproduct\u001b[39m*\u001b[39ml\u001b[39m*\u001b[39ml1\n",
      "File \u001b[0;32m/opt/homebrew/Caskroom/miniforge/base/envs/cmbanalysis/lib/python3.10/site-packages/numpy/lib/function_base.py:2328\u001b[0m, in \u001b[0;36mvectorize.__call__\u001b[0;34m(self, *args, **kwargs)\u001b[0m\n\u001b[1;32m   2325\u001b[0m     vargs \u001b[39m=\u001b[39m [args[_i] \u001b[39mfor\u001b[39;00m _i \u001b[39min\u001b[39;00m inds]\n\u001b[1;32m   2326\u001b[0m     vargs\u001b[39m.\u001b[39mextend([kwargs[_n] \u001b[39mfor\u001b[39;00m _n \u001b[39min\u001b[39;00m names])\n\u001b[0;32m-> 2328\u001b[0m \u001b[39mreturn\u001b[39;00m \u001b[39mself\u001b[39;49m\u001b[39m.\u001b[39;49m_vectorize_call(func\u001b[39m=\u001b[39;49mfunc, args\u001b[39m=\u001b[39;49mvargs)\n",
      "File \u001b[0;32m/opt/homebrew/Caskroom/miniforge/base/envs/cmbanalysis/lib/python3.10/site-packages/numpy/lib/function_base.py:2411\u001b[0m, in \u001b[0;36mvectorize._vectorize_call\u001b[0;34m(self, func, args)\u001b[0m\n\u001b[1;32m   2408\u001b[0m \u001b[39m# Convert args to object arrays first\u001b[39;00m\n\u001b[1;32m   2409\u001b[0m inputs \u001b[39m=\u001b[39m [asanyarray(a, dtype\u001b[39m=\u001b[39m\u001b[39mobject\u001b[39m) \u001b[39mfor\u001b[39;00m a \u001b[39min\u001b[39;00m args]\n\u001b[0;32m-> 2411\u001b[0m outputs \u001b[39m=\u001b[39m ufunc(\u001b[39m*\u001b[39;49minputs)\n\u001b[1;32m   2413\u001b[0m \u001b[39mif\u001b[39;00m ufunc\u001b[39m.\u001b[39mnout \u001b[39m==\u001b[39m \u001b[39m1\u001b[39m:\n\u001b[1;32m   2414\u001b[0m     res \u001b[39m=\u001b[39m asanyarray(outputs, dtype\u001b[39m=\u001b[39motypes[\u001b[39m0\u001b[39m])\n",
      "File \u001b[0;32m/opt/homebrew/Caskroom/miniforge/base/envs/cmbanalysis/lib/python3.10/site-packages/numpy/lib/function_base.py:2323\u001b[0m, in \u001b[0;36mvectorize.__call__.<locals>.func\u001b[0;34m(*vargs)\u001b[0m\n\u001b[1;32m   2321\u001b[0m     the_args[_i] \u001b[39m=\u001b[39m vargs[_n]\n\u001b[1;32m   2322\u001b[0m kwargs\u001b[39m.\u001b[39mupdate(\u001b[39mzip\u001b[39m(names, vargs[\u001b[39mlen\u001b[39m(inds):]))\n\u001b[0;32m-> 2323\u001b[0m \u001b[39mreturn\u001b[39;00m \u001b[39mself\u001b[39;49m\u001b[39m.\u001b[39;49mpyfunc(\u001b[39m*\u001b[39;49mthe_args, \u001b[39m*\u001b[39;49m\u001b[39m*\u001b[39;49mkwargs)\n",
      "Cell \u001b[0;32mIn[21], line 4\u001b[0m, in \u001b[0;36mintegrate_bispectrum_kkk\u001b[0;34m(l1, l2, l3, angle12, angle13, angle23, model)\u001b[0m\n\u001b[1;32m      1\u001b[0m \u001b[39m@np\u001b[39m\u001b[39m.\u001b[39mvectorize\n\u001b[1;32m      2\u001b[0m \u001b[39mdef\u001b[39;00m \u001b[39mintegrate_bispectrum_kkk\u001b[39m(l1, l2, l3, angle12, angle13, angle23, model \u001b[39m=\u001b[39m \u001b[39m'\u001b[39m\u001b[39mTR\u001b[39m\u001b[39m'\u001b[39m):\n\u001b[1;32m      3\u001b[0m     bispectrum_at_ells_of_chi \u001b[39m=\u001b[39m \u001b[39mlambda\u001b[39;00m chi: chi\u001b[39m*\u001b[39m\u001b[39m*\u001b[39m(\u001b[39m-\u001b[39m\u001b[39m4\u001b[39m)\u001b[39m*\u001b[39mintegrated_bispectrum\u001b[39m.\u001b[39mWkk(chi)\u001b[39m*\u001b[39m\u001b[39m*\u001b[39m\u001b[39m3\u001b[39m\u001b[39m*\u001b[39mintegrated_bispectrum\u001b[39m.\u001b[39mbispectrum_matter(l1\u001b[39m/\u001b[39mchi, l2\u001b[39m/\u001b[39mchi, l3\u001b[39m/\u001b[39mchi, angle12, angle13, angle23, integrated_bispectrum\u001b[39m.\u001b[39mzofchi(chi), model \u001b[39m=\u001b[39m model)\n\u001b[0;32m----> 4\u001b[0m     \u001b[39mreturn\u001b[39;00m sinteg\u001b[39m.\u001b[39;49mquadrature(bispectrum_at_ells_of_chi, \u001b[39m0\u001b[39;49m, integrated_bispectrum\u001b[39m.\u001b[39;49mchistar)[\u001b[39m0\u001b[39m]\n",
      "File \u001b[0;32m/opt/homebrew/Caskroom/miniforge/base/envs/cmbanalysis/lib/python3.10/site-packages/scipy/integrate/_quadrature.py:270\u001b[0m, in \u001b[0;36mquadrature\u001b[0;34m(func, a, b, args, tol, rtol, maxiter, vec_func, miniter)\u001b[0m\n\u001b[1;32m    268\u001b[0m maxiter \u001b[39m=\u001b[39m \u001b[39mmax\u001b[39m(miniter\u001b[39m+\u001b[39m\u001b[39m1\u001b[39m, maxiter)\n\u001b[1;32m    269\u001b[0m \u001b[39mfor\u001b[39;00m n \u001b[39min\u001b[39;00m \u001b[39mrange\u001b[39m(miniter, maxiter\u001b[39m+\u001b[39m\u001b[39m1\u001b[39m):\n\u001b[0;32m--> 270\u001b[0m     newval \u001b[39m=\u001b[39m fixed_quad(vfunc, a, b, (), n)[\u001b[39m0\u001b[39m]\n\u001b[1;32m    271\u001b[0m     err \u001b[39m=\u001b[39m \u001b[39mabs\u001b[39m(newval\u001b[39m-\u001b[39mval)\n\u001b[1;32m    272\u001b[0m     val \u001b[39m=\u001b[39m newval\n",
      "File \u001b[0;32m/opt/homebrew/Caskroom/miniforge/base/envs/cmbanalysis/lib/python3.10/site-packages/scipy/integrate/_quadrature.py:151\u001b[0m, in \u001b[0;36mfixed_quad\u001b[0;34m(func, a, b, args, n)\u001b[0m\n\u001b[1;32m    148\u001b[0m     \u001b[39mraise\u001b[39;00m \u001b[39mValueError\u001b[39;00m(\u001b[39m\"\u001b[39m\u001b[39mGaussian quadrature is only available for \u001b[39m\u001b[39m\"\u001b[39m\n\u001b[1;32m    149\u001b[0m                      \u001b[39m\"\u001b[39m\u001b[39mfinite limits.\u001b[39m\u001b[39m\"\u001b[39m)\n\u001b[1;32m    150\u001b[0m y \u001b[39m=\u001b[39m (b\u001b[39m-\u001b[39ma)\u001b[39m*\u001b[39m(x\u001b[39m+\u001b[39m\u001b[39m1\u001b[39m)\u001b[39m/\u001b[39m\u001b[39m2.0\u001b[39m \u001b[39m+\u001b[39m a\n\u001b[0;32m--> 151\u001b[0m \u001b[39mreturn\u001b[39;00m (b\u001b[39m-\u001b[39ma)\u001b[39m/\u001b[39m\u001b[39m2.0\u001b[39m \u001b[39m*\u001b[39m np\u001b[39m.\u001b[39msum(w\u001b[39m*\u001b[39mfunc(y, \u001b[39m*\u001b[39;49margs), axis\u001b[39m=\u001b[39m\u001b[39m-\u001b[39m\u001b[39m1\u001b[39m), \u001b[39mNone\u001b[39;00m\n",
      "File \u001b[0;32m/opt/homebrew/Caskroom/miniforge/base/envs/cmbanalysis/lib/python3.10/site-packages/scipy/integrate/_quadrature.py:181\u001b[0m, in \u001b[0;36mvectorize1.<locals>.vfunc\u001b[0;34m(x)\u001b[0m\n\u001b[1;32m    180\u001b[0m \u001b[39mdef\u001b[39;00m \u001b[39mvfunc\u001b[39m(x):\n\u001b[0;32m--> 181\u001b[0m     \u001b[39mreturn\u001b[39;00m func(x, \u001b[39m*\u001b[39;49margs)\n",
      "Cell \u001b[0;32mIn[21], line 3\u001b[0m, in \u001b[0;36mintegrate_bispectrum_kkk.<locals>.<lambda>\u001b[0;34m(chi)\u001b[0m\n\u001b[1;32m      1\u001b[0m \u001b[39m@np\u001b[39m\u001b[39m.\u001b[39mvectorize\n\u001b[1;32m      2\u001b[0m \u001b[39mdef\u001b[39;00m \u001b[39mintegrate_bispectrum_kkk\u001b[39m(l1, l2, l3, angle12, angle13, angle23, model \u001b[39m=\u001b[39m \u001b[39m'\u001b[39m\u001b[39mTR\u001b[39m\u001b[39m'\u001b[39m):\n\u001b[0;32m----> 3\u001b[0m     bispectrum_at_ells_of_chi \u001b[39m=\u001b[39m \u001b[39mlambda\u001b[39;00m chi: chi\u001b[39m*\u001b[39m\u001b[39m*\u001b[39m(\u001b[39m-\u001b[39m\u001b[39m4\u001b[39m)\u001b[39m*\u001b[39mintegrated_bispectrum\u001b[39m.\u001b[39mWkk(chi)\u001b[39m*\u001b[39m\u001b[39m*\u001b[39m\u001b[39m3\u001b[39m\u001b[39m*\u001b[39mintegrated_bispectrum\u001b[39m.\u001b[39mbispectrum_matter(l1\u001b[39m/\u001b[39mchi, l2\u001b[39m/\u001b[39mchi, l3\u001b[39m/\u001b[39mchi, angle12, angle13, angle23, integrated_bispectrum\u001b[39m.\u001b[39;49mzofchi(chi), model \u001b[39m=\u001b[39m model)\n\u001b[1;32m      4\u001b[0m     \u001b[39mreturn\u001b[39;00m sinteg\u001b[39m.\u001b[39mquadrature(bispectrum_at_ells_of_chi, \u001b[39m0\u001b[39m, integrated_bispectrum\u001b[39m.\u001b[39mchistar)[\u001b[39m0\u001b[39m]\n",
      "File \u001b[0;32m/opt/homebrew/Caskroom/miniforge/base/envs/cmbanalysis/lib/python3.10/site-packages/scipy/interpolate/_polyint.py:56\u001b[0m, in \u001b[0;36m_Interpolator1D.__call__\u001b[0;34m(self, x)\u001b[0m\n\u001b[1;32m     53\u001b[0m     \u001b[39mif\u001b[39;00m yi \u001b[39mis\u001b[39;00m \u001b[39mnot\u001b[39;00m \u001b[39mNone\u001b[39;00m:\n\u001b[1;32m     54\u001b[0m         \u001b[39mself\u001b[39m\u001b[39m.\u001b[39m_set_yi(yi, xi\u001b[39m=\u001b[39mxi, axis\u001b[39m=\u001b[39maxis)\n\u001b[0;32m---> 56\u001b[0m \u001b[39mdef\u001b[39;00m \u001b[39m__call__\u001b[39m(\u001b[39mself\u001b[39m, x):\n\u001b[1;32m     57\u001b[0m \u001b[39m    \u001b[39m\u001b[39m\"\"\"\u001b[39;00m\n\u001b[1;32m     58\u001b[0m \u001b[39m    Evaluate the interpolant\u001b[39;00m\n\u001b[1;32m     59\u001b[0m \n\u001b[0;32m   (...)\u001b[0m\n\u001b[1;32m     75\u001b[0m \n\u001b[1;32m     76\u001b[0m \u001b[39m    \"\"\"\u001b[39;00m\n\u001b[1;32m     77\u001b[0m     x, x_shape \u001b[39m=\u001b[39m \u001b[39mself\u001b[39m\u001b[39m.\u001b[39m_prepare_x(x)\n",
      "\u001b[0;31mKeyboardInterrupt\u001b[0m: "
     ]
    }
   ],
   "source": [
    "integ = vegas.Integrator([[lmin, lmax], [0, 2*np.pi], [lmin, lmax], [0, 2*np.pi]])\n",
    "nitn, neval = 10, 1e2\n",
    " \n",
    "NC1 = []\n",
    "for L in Ls:\n",
    "\n",
    "    @vegas.batchintegrand\n",
    "    def integrand(x):\n",
    "        l1, theta1, l, theta = x.T\n",
    "        lv, l1v = np.array([l*np.cos(theta), l*np.sin(theta)]), np.array([l1*np.cos(theta1), l1*np.sin(theta1)])\n",
    "        Lvec = np.c_[np.ones_like(l)*L, np.zeros_like(l)].T\n",
    "\n",
    "        l1dotl = (l1v[0, :]*lv[0, :]+l1v[1, :]*lv[1, :])/(l1*l)\n",
    "\n",
    "        Lmlv = Lvec-lv\n",
    "        Lmln = np.linalg.norm(Lmlv, axis = 0)\n",
    "\n",
    "        l1dotLml = (Lmlv[0, :]*l1v[0, :]+Lmlv[1, :]*l1v[1, :])/(Lmln*l1)\n",
    "\n",
    "        l2n = np.linalg.norm(Lvec-l1v, axis = 0)\n",
    "        product = l1dotl*l1dotLml*uTT(l1)*gfTTbatch(l1v, Lvec, l1, l2n)\n",
    "\n",
    "        Lml = Lmln\n",
    "        angle12 = get_angle_12(l, Lml, -L)\n",
    "        angle13 = get_angle_12(l, -L, Lml)\n",
    "        angle23 = get_angle_12(-L, Lml, l)\n",
    "        angle12, angle13, angle23 = np.nan_to_num(angle12), np.nan_to_num(angle13), np.nan_to_num(angle23)\n",
    "        angle12, angle13, angle23 = np.pi/3, np.pi/3, np.pi/3\n",
    "        factortophi = -8/(l*L*Lml)**2\n",
    "        return factortophi*integrate_bispectrum_kkk(l, Lml, L, angle12, angle13, angle23, model = model)*product*l*l1\n",
    "    result = integ(integrand, nitn = nitn, neval = neval)\n",
    "    NC1 += [result.mean]\n",
    "NC1 = np.array(NC1)/(2*np.pi)**4"
   ]
  },
  {
   "cell_type": "code",
   "execution_count": null,
   "metadata": {},
   "outputs": [
    {
     "data": {
      "image/png": "[encoded data removed]",
      "text/plain": [
       "<Figure size 640x480 with 1 Axes>"
      ]
     },
     "metadata": {},
     "output_type": "display_data"
    }
   ],
   "source": [
    "NC1term_alt = 4*ALnew**2*S*NC1\n",
    "plt.plot(Ls, NC1term_alt/ppinterp)\n",
    "plt.plot(Ls, NC1term/ppinterp)\n",
    "plt.ylim(-1e-8, 1e-9)\n",
    "plt.xscale('log')"
   ]
  },
  {
   "cell_type": "code",
   "execution_count": 358,
   "metadata": {},
   "outputs": [],
   "source": [
    "NA1term = -4*ALnew**2*S*NA1"
   ]
  },
  {
   "cell_type": "code",
   "execution_count": 359,
   "metadata": {},
   "outputs": [
    {
     "data": {
      "text/plain": [
       "[<matplotlib.lines.Line2D at 0x2a7b5cc10>]"
      ]
     },
     "execution_count": 359,
     "metadata": {},
     "output_type": "execute_result"
    },
    {
     "data": {
      "image/png": "[encoded data removed]",
      "text/plain": [
       "<Figure size 640x480 with 1 Axes>"
      ]
     },
     "metadata": {},
     "output_type": "display_data"
    }
   ],
   "source": [
    "plt.plot(Ls, NA1term*Ls**4/(2*np.pi))"
   ]
  },
  {
   "cell_type": "code",
   "execution_count": null,
   "metadata": {},
   "outputs": [],
   "source": []
  }
 ],
 "metadata": {
  "kernelspec": {
   "display_name": "cmbanalysis",
   "language": "python",
   "name": "python3"
  },
  "language_info": {
   "codemirror_mode": {
    "name": "ipython",
    "version": 3
   },
   "file_extension": ".py",
   "mimetype": "text/x-python",
   "name": "python",
   "nbconvert_exporter": "python",
   "pygments_lexer": "ipython3",
   "version": "3.10.8"
  },
  "orig_nbformat": 4,
  "vscode": {
   "interpreter": {
    "hash": "a97e346d83063552f6247100e010157514edc1d1f87080a4424b3fd402ef6968"
   }
  }
 },
 "nbformat": 4,
 "nbformat_minor": 2
}
