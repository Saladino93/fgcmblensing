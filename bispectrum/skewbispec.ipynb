{
 "cells": [
  {
   "cell_type": "code",
<<<<<<< HEAD
<<<<<<< HEAD
   "execution_count": 2,
=======
   "execution_count": 495,
>>>>>>> 5f7dd750d59c2245b60099b4c03998f1497f8bda
=======
   "execution_count": 1049,
>>>>>>> 4857a4acfafead272386dec65c9f6415f438ef18
   "metadata": {},
   "outputs": [
    {
     "name": "stdout",
     "output_type": "stream",
     "text": [
      "The autoreload extension is already loaded. To reload it, use:\n",
<<<<<<< HEAD
      "  %reload_ext autoreload\n",
      "Note: redshifts have been re-sorted (earliest first)\n"
     ]
    },
    {
     "name": "stderr",
     "output_type": "stream",
     "text": [
      "/global/u2/o/omard/fgcmblensing/bispectrum/integrated_bispectrum.py:218: RuntimeWarning: divide by zero encountered in divide\n",
      "  Wphiphiv = np.nan_to_num(-2*(chistar-chis)/(chistar*chis))\n"
=======
      "  %reload_ext autoreload\n"
>>>>>>> 5f7dd750d59c2245b60099b4c03998f1497f8bda
     ]
    }
   ],
   "source": [
    "%load_ext autoreload\n",
    "%autoreload 2\n",
    "\n",
    "\n",
    "import matplotlib.pyplot as plt\n",
    "import numpy as np\n",
    "import scipy\n",
    "from scipy import integrate as sinteg\n",
    "\n",
<<<<<<< HEAD
    "import integrated_bispectrum"
=======
    "import integrated_bispectrum\n",
    "\n",
    "import integrated_bispectrum_vec_general\n",
    "\n",
    "from NumbaQuadpack import quadpack_sig, dqags\n",
    "import numba as nb"
>>>>>>> 4857a4acfafead272386dec65c9f6415f438ef18
   ]
  },
  {
   "cell_type": "code",
<<<<<<< HEAD
<<<<<<< HEAD
   "execution_count": 3,
=======
   "execution_count": 496,
>>>>>>> 5f7dd750d59c2245b60099b4c03998f1497f8bda
=======
   "execution_count": 1573,
   "metadata": {},
   "outputs": [],
   "source": [
    "import bispectrum_3D_numba as b3n\n",
    "import interpolated_quantities_numba as iqn"
   ]
  },
  {
   "cell_type": "code",
   "execution_count": null,
   "metadata": {},
   "outputs": [],
   "source": []
  },
  {
   "cell_type": "code",
   "execution_count": null,
   "metadata": {},
   "outputs": [],
   "source": []
  },
  {
   "cell_type": "code",
   "execution_count": 1550,
   "metadata": {},
   "outputs": [
    {
     "name": "stdout",
     "output_type": "stream",
     "text": [
      "61.1 µs ± 5.4 µs per loop (mean ± std. dev. of 7 runs, 10,000 loops each)\n"
     ]
    }
   ],
   "source": [
    "%timeit integrated_bispectrum.bispectrum_matter(1, 1, 1, np.pi/3, np.pi/3, np.pi/3, 1, model = 'TR')"
   ]
  },
  {
   "cell_type": "code",
   "execution_count": 1570,
   "metadata": {},
   "outputs": [
    {
     "data": {
      "text/plain": [
       "248790.50270500773"
      ]
     },
     "execution_count": 1570,
     "metadata": {},
     "output_type": "execute_result"
    }
   ],
   "source": [
    "b3n.bispectrum_matter_TR(1, 1, 1, np.pi/3, np.pi/3, np.pi/3, 1, model = 'TR')"
   ]
  },
  {
   "cell_type": "code",
   "execution_count": 1592,
   "metadata": {},
   "outputs": [
    {
     "name": "stdout",
     "output_type": "stream",
     "text": [
      "1.3 µs ± 6.88 ns per loop (mean ± std. dev. of 7 runs, 1,000,000 loops each)\n"
     ]
    }
   ],
   "source": [
    "%timeit b3n.bispectrum_matter_TR(1, 1, 1, np.pi/3, np.pi/3, np.pi/3, 1)"
   ]
  },
  {
   "cell_type": "code",
   "execution_count": null,
   "metadata": {},
   "outputs": [],
   "source": [
    "def bispectrum_at_ells_of_chi(chi, data): \n",
    "        return chi**(-4)*iqn.Wkk(chi)**3*b3n.bispectrum_matter(l/chi, l/chi, l/chi, angle, angle, angle, iqn.zofchi(chi))"
   ]
  },
  {
   "cell_type": "code",
   "execution_count": 1651,
   "metadata": {},
   "outputs": [],
   "source": [
    "@np.vectorize\n",
    "def integrate_bispectrum_kkk(l1, l2, l3, angle12, angle13, angle23, model = 'TR'):\n",
    "    bispectrum_at_ells_of_chi = lambda chi: chi**(-4)*integrated_bispectrum.Wkk(chi)**3*integrated_bispectrum.bispectrum_matter(l1/chi, l2/chi, l3/chi, angle12, angle13, angle23, integrated_bispectrum.zofchi(chi), model = model)\n",
    "    #return sinteg.quadrature(bispectrum_at_ells_of_chi, 0, integrated_bispectrum.chistar, maxiter = 50, rtol = 1e-8)[0]\n",
    "    return sinteg.quadrature(bispectrum_at_ells_of_chi, 0, integrated_bispectrum.chistar, maxiter = 2, miniter = 1, rtol = 1e-12)[0]"
   ]
  },
  {
   "cell_type": "code",
   "execution_count": 1652,
   "metadata": {},
   "outputs": [
    {
     "name": "stdout",
     "output_type": "stream",
     "text": [
      "433 µs ± 11.8 µs per loop (mean ± std. dev. of 7 runs, 1,000 loops each)\n"
     ]
    }
   ],
   "source": [
    "%timeit integrate_bispectrum_kkk(1, 1, 1, np.pi/3, np.pi/3, np.pi/3, model = 'TR')"
   ]
  },
  {
   "cell_type": "code",
   "execution_count": 1646,
   "metadata": {},
   "outputs": [],
   "source": [
    "#@np.vectorize\n",
    "#@jit\n",
    "def integrate_bispectrum_kkk_prova(l_, angle_):\n",
    "    @nb.cfunc(quadpack_sig)\n",
    "    def bispectrum_at_ells_of_chi(chi, data_): \n",
    "        data = nb.carray(data_, (2,))\n",
    "        l, angle = data[0], data[1]\n",
    "        return chi**(-4)*iqn.Wkk(chi)**3*b3n.bispectrum_matter_TR(l/chi, l/chi, l/chi, angle, angle, angle, iqn.zofchi(chi))\n",
    "    funcptr = bispectrum_at_ells_of_chi.address\n",
    "    data = np.array([l_, angle_], dtype = np.float64)\n",
    "    sol, abserr, success = dqags(funcptr, 0, integrated_bispectrum.chistar, data = data, epsabs = 1e-1, epsrel = 1e-1)\n",
    "    return sol #sinteg.quadrature(bispectrum_at_ells_of_chi, 0, integrated_bispectrum.chistar, maxiter = 50, rtol = 1e-8)[0]"
   ]
  },
  {
   "cell_type": "code",
   "execution_count": 1686,
   "metadata": {},
   "outputs": [
    {
     "data": {
      "text/plain": [
       "13858.934986501856"
      ]
     },
     "execution_count": 1686,
     "metadata": {},
     "output_type": "execute_result"
    }
   ],
   "source": [
    "integrated_bispectrum.chistar"
   ]
  },
  {
   "cell_type": "code",
   "execution_count": 1740,
   "metadata": {},
   "outputs": [],
   "source": [
    "@np.vectorize\n",
    "def integrate_bispectrum_kkk_prova_2(l, angle):\n",
    "    @np.vectorize\n",
    "    def bispectrum_at_ells_of_chi(chi): \n",
    "        return chi**(-4)*iqn.Wkk(chi)**3*b3n.bispectrum_matter_TR(l/chi, l/chi, l/chi, angle, angle, angle, iqn.zofchi(chi))\n",
    "    return sinteg.quadrature(bispectrum_at_ells_of_chi, 0, integrated_bispectrum.chistar, miniter = 10, maxiter = 50, rtol = 1e-8)[0]"
   ]
  },
  {
   "cell_type": "code",
   "execution_count": 1745,
   "metadata": {},
   "outputs": [],
   "source": [
    "#get points and weights for Gaussian quadrature using numpy legendre module\n",
    "def gaussxw(a, b, N):\n",
    "    x, w = np.polynomial.legendre.leggauss(N)\n",
    "    return 0.5*(b-a)*x + 0.5*(b+a), 0.5*(b-a)*w\n",
    "\n"
   ]
  },
  {
   "cell_type": "code",
   "execution_count": 1768,
   "metadata": {},
   "outputs": [],
   "source": [
    "xs, ws = gaussxw(0, integrated_bispectrum.chistar, 10)"
   ]
  },
  {
   "cell_type": "code",
   "execution_count": 1779,
   "metadata": {},
   "outputs": [],
   "source": [
    "xs, ws = gaussxw(0, b3n.chistar, 10)\n",
    "\n",
    "@np.vectorize\n",
    "def integrate_bispectrum_kkk_TR_gauss(l1, l2, l3, angle12, angle13, angle23):\n",
    "    @np.vectorize\n",
    "    def bispectrum_at_ells_of_chi(chi): \n",
    "        return chi**(-4)*iqn.Wkk(chi)**3*b3n.bispectrum_matter_TR(l1/chi, l2/chi, l3/chi, angle12, angle13, angle23, iqn.zofchi(chi))\n",
    "    return np.dot(bispectrum_at_ells_of_chi(xs), ws)\n",
    "\n",
    "def get_angle_12(L1, L2, L3):\n",
    "    term = (L1**2+L2**2-L3**2)/(2*L1*L2)\n",
    "    return np.arccos(term)\n",
    "\n",
    "@jit\n",
    "def integrate_bispectrum_kkk_TR_gauss_from_triangle(l1, l2, l3):\n",
    "    def bispectrum_at_ells_of_chi(chi): \n",
    "        angle12, angle13, angle23 = get_angle_12(l1, l2, l3), get_angle_12(l1, l3, l2), get_angle_12(l2, l3, l1)\n",
    "        return chi**(-4)*iqn.Wkk(chi)**3*b3n.bispectrum_matter_TR(l1/chi, l2/chi, l3/chi, angle12, angle13, angle23, iqn.zofchi(chi))\n",
    "    return np.dot(bispectrum_at_ells_of_chi(xs, l1, l2, l3), ws)"
   ]
  },
  {
   "cell_type": "code",
   "execution_count": 1781,
   "metadata": {},
   "outputs": [
    {
     "name": "stdout",
     "output_type": "stream",
     "text": [
      "640 ns ± 11 ns per loop (mean ± std. dev. of 7 runs, 1,000,000 loops each)\n"
     ]
    }
   ],
   "source": [
    "def get_angle_cos12(L1, L2, L3):\n",
    "    return (L1**2+L2**2-L3**2)/(2*L1*L2)\n",
    "%timeit get_angle_cos12(3, 4, 5)"
   ]
  },
  {
   "cell_type": "code",
   "execution_count": null,
   "metadata": {},
   "outputs": [],
   "source": []
  },
  {
   "cell_type": "code",
   "execution_count": 1780,
   "metadata": {},
   "outputs": [
    {
     "ename": "TypingError",
     "evalue": "Failed in object mode pipeline (step: convert make_function into JIT functions)\n\u001b[1mCannot capture the non-constant value associated with variable 'l1' in a function that will escape.\n\u001b[1m\nFile \"../../../../../../var/folders/5s/mpby42n15_ng7rv494cv19tw0000gn/T/ipykernel_68835/1941456660.py\", line 17:\u001b[0m\n\u001b[1m<source missing, REPL/exec in use?>\u001b[0m\n\u001b[0m",
     "output_type": "error",
     "traceback": [
      "\u001b[0;31m---------------------------------------------------------------------------\u001b[0m",
      "\u001b[0;31mTypingError\u001b[0m                               Traceback (most recent call last)",
      "Cell \u001b[0;32mIn[1780], line 1\u001b[0m\n\u001b[0;32m----> 1\u001b[0m integrate_bispectrum_kkk_TR_gauss_from_triangle(\u001b[39m3\u001b[39;49m, \u001b[39m4\u001b[39;49m, \u001b[39m5\u001b[39;49m)\n",
      "File \u001b[0;32m/opt/homebrew/Caskroom/miniforge/base/envs/cmbanalysis/lib/python3.10/site-packages/numba/core/dispatcher.py:468\u001b[0m, in \u001b[0;36m_DispatcherBase._compile_for_args\u001b[0;34m(self, *args, **kws)\u001b[0m\n\u001b[1;32m    464\u001b[0m         msg \u001b[39m=\u001b[39m (\u001b[39mf\u001b[39m\u001b[39m\"\u001b[39m\u001b[39m{\u001b[39;00m\u001b[39mstr\u001b[39m(e)\u001b[39m.\u001b[39mrstrip()\u001b[39m}\u001b[39;00m\u001b[39m \u001b[39m\u001b[39m\\n\u001b[39;00m\u001b[39m\\n\u001b[39;00m\u001b[39mThis error may have been caused \u001b[39m\u001b[39m\"\u001b[39m\n\u001b[1;32m    465\u001b[0m                \u001b[39mf\u001b[39m\u001b[39m\"\u001b[39m\u001b[39mby the following argument(s):\u001b[39m\u001b[39m\\n\u001b[39;00m\u001b[39m{\u001b[39;00margs_str\u001b[39m}\u001b[39;00m\u001b[39m\\n\u001b[39;00m\u001b[39m\"\u001b[39m)\n\u001b[1;32m    466\u001b[0m         e\u001b[39m.\u001b[39mpatch_message(msg)\n\u001b[0;32m--> 468\u001b[0m     error_rewrite(e, \u001b[39m'\u001b[39;49m\u001b[39mtyping\u001b[39;49m\u001b[39m'\u001b[39;49m)\n\u001b[1;32m    469\u001b[0m \u001b[39mexcept\u001b[39;00m errors\u001b[39m.\u001b[39mUnsupportedError \u001b[39mas\u001b[39;00m e:\n\u001b[1;32m    470\u001b[0m     \u001b[39m# Something unsupported is present in the user code, add help info\u001b[39;00m\n\u001b[1;32m    471\u001b[0m     error_rewrite(e, \u001b[39m'\u001b[39m\u001b[39munsupported_error\u001b[39m\u001b[39m'\u001b[39m)\n",
      "File \u001b[0;32m/opt/homebrew/Caskroom/miniforge/base/envs/cmbanalysis/lib/python3.10/site-packages/numba/core/dispatcher.py:409\u001b[0m, in \u001b[0;36m_DispatcherBase._compile_for_args.<locals>.error_rewrite\u001b[0;34m(e, issue_type)\u001b[0m\n\u001b[1;32m    407\u001b[0m     \u001b[39mraise\u001b[39;00m e\n\u001b[1;32m    408\u001b[0m \u001b[39melse\u001b[39;00m:\n\u001b[0;32m--> 409\u001b[0m     \u001b[39mraise\u001b[39;00m e\u001b[39m.\u001b[39mwith_traceback(\u001b[39mNone\u001b[39;00m)\n",
      "\u001b[0;31mTypingError\u001b[0m: Failed in object mode pipeline (step: convert make_function into JIT functions)\n\u001b[1mCannot capture the non-constant value associated with variable 'l1' in a function that will escape.\n\u001b[1m\nFile \"../../../../../../var/folders/5s/mpby42n15_ng7rv494cv19tw0000gn/T/ipykernel_68835/1941456660.py\", line 17:\u001b[0m\n\u001b[1m<source missing, REPL/exec in use?>\u001b[0m\n\u001b[0m"
     ]
    }
   ],
   "source": [
    "integrate_bispectrum_kkk_TR_gauss_from_triangle(3, 4, 5)"
   ]
  },
  {
   "cell_type": "code",
   "execution_count": null,
   "metadata": {},
   "outputs": [],
   "source": []
  },
  {
   "cell_type": "code",
   "execution_count": 1771,
   "metadata": {},
   "outputs": [],
   "source": [
    "@np.vectorize\n",
    "def integrate_bispectrum_kkk_prova_gauss(l, angle):\n",
    "    @np.vectorize\n",
    "    def bispectrum_at_ells_of_chi(chi): \n",
    "        return chi**(-4)*iqn.Wkk(chi)**3*b3n.bispectrum_matter_TR(l/chi, l/chi, l/chi, angle, angle, angle, iqn.zofchi(chi))\n",
    "    return np.dot(bispectrum_at_ells_of_chi(xs), ws)"
   ]
  },
  {
   "cell_type": "code",
   "execution_count": 1772,
   "metadata": {},
   "outputs": [
    {
     "name": "stdout",
     "output_type": "stream",
     "text": [
      "92.9 µs ± 2.24 µs per loop (mean ± std. dev. of 7 runs, 10,000 loops each)\n"
     ]
    }
   ],
   "source": [
    "%timeit integrate_bispectrum_kkk_prova_gauss(100, np.pi/3)"
   ]
  },
  {
   "cell_type": "code",
   "execution_count": 1743,
   "metadata": {},
   "outputs": [],
   "source": [
    "@np.vectorize\n",
    "def integrate_bispectrum_kkk_prova_3(l, angle):\n",
    "    @np.vectorize\n",
    "    def bispectrum_at_ells_of_chi(chi): \n",
    "        return chi**(-4)*iqn.Wkk(chi)**3*b3n.bispectrum_matter_TR(l/chi, l/chi, l/chi, angle, angle, angle, iqn.zofchi(chi))\n",
    "    return sinteg.fixed_quad(bispectrum_at_ells_of_chi, 0, integrated_bispectrum.chistar, n = 10)[0]\n",
    "    #return sinteg.quadrature(bispectrum_at_ells_of_chi, 0, integrated_bispectrum.chistar, miniter = 10, maxiter = 50, rtol = 1e-8)[0]"
   ]
  },
  {
   "cell_type": "code",
   "execution_count": 1744,
   "metadata": {},
   "outputs": [
    {
     "data": {
      "text/plain": [
       "0.9900840114937858"
      ]
     },
     "execution_count": 1744,
     "metadata": {},
     "output_type": "execute_result"
    }
   ],
   "source": [
    "integrate_bispectrum_kkk_prova_2(100, np.pi/3)/integrate_bispectrum_kkk_prova_3(100, np.pi/3)"
   ]
  },
  {
   "cell_type": "code",
   "execution_count": 1767,
   "metadata": {},
   "outputs": [
    {
     "data": {
      "text/plain": [
       "0.9270836018936137"
      ]
     },
     "execution_count": 1767,
     "metadata": {},
     "output_type": "execute_result"
    }
   ],
   "source": [
    "integrate_bispectrum_kkk_prova_gauss(100, np.pi/3)/integrate_bispectrum_kkk_prova_2(100, np.pi/3)"
   ]
  },
  {
   "cell_type": "code",
   "execution_count": 1774,
   "metadata": {},
   "outputs": [
    {
     "name": "stdout",
     "output_type": "stream",
     "text": [
      "216 µs ± 1.12 µs per loop (mean ± std. dev. of 7 runs, 1,000 loops each)\n"
     ]
    }
   ],
   "source": [
    "%timeit integrate_bispectrum_kkk_prova_2(100, np.pi/3)"
   ]
  },
  {
   "cell_type": "code",
   "execution_count": 1753,
   "metadata": {},
   "outputs": [
    {
     "name": "stdout",
     "output_type": "stream",
     "text": [
      "104 µs ± 117 ns per loop (mean ± std. dev. of 7 runs, 10,000 loops each)\n"
     ]
    }
   ],
   "source": [
    "%timeit integrate_bispectrum_kkk_prova_3(100, np.pi/3)"
   ]
  },
  {
   "cell_type": "code",
   "execution_count": null,
   "metadata": {},
   "outputs": [],
   "source": [
    "#@np.vectorize\n",
    "#@jit\n",
    "def integrate_bispectrum_kkk_prova(l_, angle_):\n",
    "    @nb.cfunc(quadpack_sig)\n",
    "    def bispectrum_at_ells_of_chi(chi, data_): \n",
    "        data = nb.carray(data_, (2,))\n",
    "        l, angle = data[0], data[1]\n",
    "        return chi**(-4)*iqn.Wkk(chi)**3*b3n.bispectrum_matter_TR(l/chi, l/chi, l/chi, angle, angle, angle, iqn.zofchi(chi))\n",
    "    funcptr = bispectrum_at_ells_of_chi.address\n",
    "    data = np.array([l_, angle_], dtype = np.float64)\n",
    "    sol, abserr, success = dqags(funcptr, 0, integrated_bispectrum.chistar, data = data, epsabs = 1e-1, epsrel = 1e-1)\n",
    "    return sol #sinteg.quadrature(bispectrum_at_ells_of_chi, 0, integrated_bispectrum.chistar, maxiter = 50, rtol = 1e-8)[0]"
   ]
  },
  {
   "cell_type": "code",
   "execution_count": 1735,
   "metadata": {},
   "outputs": [
    {
     "name": "stdout",
     "output_type": "stream",
     "text": [
      "4.88 µs ± 70.3 ns per loop (mean ± std. dev. of 7 runs, 100,000 loops each)\n"
     ]
    }
   ],
   "source": [
    "%timeit iqn.zofchi(precomputed_chis)"
   ]
  },
  {
   "cell_type": "code",
   "execution_count": 1669,
   "metadata": {},
   "outputs": [],
   "source": [
    "@nb.njit\n",
    "def integrate_bispectrum_kkk_alt_(l_, angle_):\n",
    "    @np.vectorize(excluded=['l', 'angle'])\n",
    "    def bispectrum_at_ells_of_chi(chi, l, angle): \n",
    "        return chi**(-4)*iqn.Wkk(chi)**3*b3n.bispectrum_matter_TR(l/chi, l/chi, l/chi, angle, angle, angle, iqn.zofchi(chi))\n",
    "    return integrate_numba(bispectrum_at_ells_of_chi(precomputed_chis, l, angle), precomputed_chis)"
   ]
  },
  {
   "cell_type": "code",
   "execution_count": 1715,
   "metadata": {},
   "outputs": [],
   "source": [
    "def integrate_bispectrum_kkk_prova(l_, angle_):\n",
    "    @nb.cfunc(quadpack_sig)\n",
    "    def bispectrum_at_ells_of_chi(chi, data_): \n",
    "        data = nb.carray(data_, (2,))\n",
    "        l, angle = data[0], data[1]\n",
    "        return chi**(-4)#*iqn.Wkk(chi)**3*b3n.bispectrum_matter_TR(l/chi, l/chi, l/chi, angle, angle, angle, iqn.zofchi(chi))\n",
    "    funcptr = bispectrum_at_ells_of_chi.address\n",
    "    data = np.array([l_, angle_], dtype = np.float64)\n",
    "    sol, abserr, success = dqags(funcptr, 0, integrated_bispectrum.chistar, data = data, epsabs = 1, epsrel = 1)\n",
    "    return sol #sinteg.quadrature(bispectrum_at_ells_of_chi, 0, integrated_bispectrum.chistar, maxiter = 50, rtol = 1e-8)[0]"
   ]
  },
  {
   "cell_type": "code",
   "execution_count": 1727,
   "metadata": {},
   "outputs": [],
   "source": [
    "@nb.cfunc(quadpack_sig)\n",
    "def f(chi, data):\n",
    "    return chi**-4*iqn.Wkk(chi)**3\n",
    "funcptr = f.address\n",
    "\n",
    "a = 0\n",
    "b = integrated_bispectrum.chistar"
   ]
  },
  {
   "cell_type": "code",
   "execution_count": 1728,
   "metadata": {},
   "outputs": [
    {
     "name": "stdout",
     "output_type": "stream",
     "text": [
      "18.1 µs ± 119 ns per loop (mean ± std. dev. of 7 runs, 100,000 loops each)\n"
     ]
    }
   ],
   "source": [
    "%timeit sol, abserr, success = dqags(funcptr, a, b)"
   ]
  },
  {
   "cell_type": "code",
   "execution_count": 1726,
   "metadata": {},
   "outputs": [
    {
     "name": "stdout",
     "output_type": "stream",
     "text": [
      "20.8 µs ± 437 ns per loop (mean ± std. dev. of 7 runs, 10,000 loops each)\n"
     ]
    }
   ],
   "source": [
    "def ff(chi):\n",
    "    return chi**-4*iqn.Wkk(chi)**3\n",
    "%timeit sinteg.quadrature(ff, a, b)"
   ]
  },
  {
   "cell_type": "code",
   "execution_count": null,
   "metadata": {},
   "outputs": [],
   "source": []
  },
  {
   "cell_type": "code",
   "execution_count": 1713,
   "metadata": {},
   "outputs": [
    {
     "data": {
      "text/plain": [
       "1.5655939787716132e-13"
      ]
     },
     "execution_count": 1713,
     "metadata": {},
     "output_type": "execute_result"
    }
   ],
   "source": [
    "integrate_bispectrum_kkk_prova(100., np.pi/3)"
   ]
  },
  {
   "cell_type": "code",
   "execution_count": 1678,
   "metadata": {},
   "outputs": [
    {
     "data": {
      "text/plain": [
       "array(1.58120502e-13)"
      ]
     },
     "execution_count": 1678,
     "metadata": {},
     "output_type": "execute_result"
    }
   ],
   "source": [
    "integrate_bispectrum_kkk_prova_2(100., np.pi/3)"
   ]
  },
  {
   "cell_type": "code",
   "execution_count": 1716,
   "metadata": {},
   "outputs": [
    {
     "name": "stdout",
     "output_type": "stream",
     "text": [
      "20.2 ms ± 779 µs per loop (mean ± std. dev. of 7 runs, 10 loops each)\n"
     ]
    }
   ],
   "source": [
    "%timeit integrate_bispectrum_kkk_prova(100, np.pi/3)"
   ]
  },
  {
   "cell_type": "code",
   "execution_count": 1690,
   "metadata": {},
   "outputs": [
    {
     "name": "stdout",
     "output_type": "stream",
     "text": [
      "219 µs ± 5.63 µs per loop (mean ± std. dev. of 7 runs, 1,000 loops each)\n"
     ]
    }
   ],
   "source": [
    "%timeit integrate_bispectrum_kkk_prova_2(100, np.pi/3)"
   ]
  },
  {
   "cell_type": "code",
   "execution_count": 1701,
   "metadata": {},
   "outputs": [],
   "source": [
    "@nb.cfunc(quadpack_sig)\n",
    "def f(x, data_):\n",
    "    data = nb.carray(data_, (2,))\n",
    "    return np.sum(data)*x**2\n",
    "funcptr = f.address\n",
    "a = 0\n",
    "b = 1000\n",
    "data = np.array([1.0,2.0],np.float64)"
   ]
  },
  {
   "cell_type": "code",
   "execution_count": 1702,
   "metadata": {},
   "outputs": [],
   "source": [
    "def ff(x):\n",
    "    return x**2"
   ]
  },
  {
   "cell_type": "code",
   "execution_count": 1703,
   "metadata": {},
   "outputs": [
    {
     "name": "stdout",
     "output_type": "stream",
     "text": [
      "898 ns ± 8.2 ns per loop (mean ± std. dev. of 7 runs, 1,000,000 loops each)\n"
     ]
    }
   ],
   "source": [
    "%timeit sol, abserr, success = dqags(funcptr, a, b, data = data)"
   ]
  },
  {
   "cell_type": "code",
   "execution_count": 1704,
   "metadata": {},
   "outputs": [
    {
     "name": "stdout",
     "output_type": "stream",
     "text": [
      "20.6 µs ± 153 ns per loop (mean ± std. dev. of 7 runs, 10,000 loops each)\n"
     ]
    }
   ],
   "source": [
    "%timeit sinteg.quadrature(ff, a, b)"
   ]
  },
  {
   "cell_type": "code",
   "execution_count": null,
   "metadata": {},
   "outputs": [],
   "source": []
  },
  {
   "cell_type": "code",
   "execution_count": 2,
>>>>>>> 4857a4acfafead272386dec65c9f6415f438ef18
   "metadata": {},
   "outputs": [],
   "source": [
    "#https://github.com/toshiyan/cmblensplus/blob/dcd212906da8039f63839d69e8bb45ebccd55d09/F90/src_utils/bstool.f90#L988\n",
    "def W3j_approx(l1,l2,l3):\n",
    "  #ind = np.where((l1+l2+l3)%2 != 0)\n",
    "  if (l1+l2+l3)%2 != 0:\n",
    "    result = 0\n",
    "  else:\n",
    "    Lh = (l1+l2+l3)*0.5\n",
    "    a1 = ((Lh-l1+0.5)/(Lh-l1+1))**(Lh-l1+0.25)\n",
    "    a2 = ((Lh-l2+0.5)/(Lh-l2+1))**(Lh-l2+0.25)\n",
    "    a3 = ((Lh-l3+0.5)/(Lh-l3+1))**(Lh-l3+0.25)\n",
    "    b = 1/((Lh-l1+1)*(Lh-l2+1)*(Lh-l3+1))**(0.25)\n",
    "    result = (-1)**Lh/np.sqrt(2*np.pi) * np.exp(1.5)* (Lh+1)**(-0.25) * a1*a2*a3*b\n",
    "  #result[ind] = 0\n",
    "  return result"
   ]
  },
  {
   "cell_type": "code",
<<<<<<< HEAD
<<<<<<< HEAD
   "execution_count": 4,
=======
   "execution_count": 497,
>>>>>>> 5f7dd750d59c2245b60099b4c03998f1497f8bda
=======
   "execution_count": 3,
>>>>>>> 4857a4acfafead272386dec65c9f6415f438ef18
   "metadata": {},
   "outputs": [],
   "source": [
    "@np.vectorize\n",
    "def geom_factor(l1, l2, l3):\n",
    "    result = np.sqrt((2*l1+1)*(2*l2+1)*(2*l3+1)/(4*np.pi))\n",
    "    result *= W3j_approx(l1, l2, l3)\n",
    "    return result\n"
   ]
  },
  {
   "cell_type": "code",
<<<<<<< HEAD
<<<<<<< HEAD
   "execution_count": 5,
=======
   "execution_count": 498,
>>>>>>> 5f7dd750d59c2245b60099b4c03998f1497f8bda
   "metadata": {},
   "outputs": [],
   "source": [
    "@np.vectorize\n",
    "def integrate_bispectrum_kkk(l1, l2, l3, angle12, angle13, angle23, model = 'TR'):\n",
    "    bispectrum_at_ells_of_chi = lambda chi: chi**(-4)*integrated_bispectrum.Wkk(chi)**3*integrated_bispectrum.bispectrum_matter(l1/chi, l2/chi, l3/chi, angle12, angle13, angle23, integrated_bispectrum.zofchi(chi), model = model)\n",
    "    return sinteg.quadrature(bispectrum_at_ells_of_chi, 0, integrated_bispectrum.chistar)[0]"
   ]
  },
  {
   "cell_type": "code",
<<<<<<< HEAD
   "execution_count": 6,
=======
   "execution_count": 499,
>>>>>>> 5f7dd750d59c2245b60099b4c03998f1497f8bda
   "metadata": {},
   "outputs": [],
   "source": [
    "integrate_bispectrum_kkk_single = lambda l: integrate_bispectrum_kkk(l, l, l)"
   ]
  },
  {
   "cell_type": "code",
<<<<<<< HEAD
   "execution_count": 7,
=======
   "execution_count": 500,
>>>>>>> 5f7dd750d59c2245b60099b4c03998f1497f8bda
=======
   "execution_count": 27,
>>>>>>> 4857a4acfafead272386dec65c9f6415f438ef18
   "metadata": {},
   "outputs": [
    {
     "name": "stdout",
     "output_type": "stream",
     "text": [
      "7.33 µs ± 63.9 ns per loop (mean ± std. dev. of 7 runs, 100,000 loops each)\n"
     ]
    }
   ],
   "source": [
    "%timeit integrated_bispectrum.zofchi(precomputed_chis)"
   ]
  },
  {
   "cell_type": "code",
   "execution_count": 60,
   "metadata": {},
   "outputs": [],
   "source": [
    "chi_precalculated, z_precalculated = np.loadtxt(\"products/zs.txt\", unpack = True)"
   ]
  },
  {
   "cell_type": "code",
   "execution_count": 72,
   "metadata": {},
   "outputs": [],
   "source": [
    "chi_kk, Wkk = np.loadtxt(\"products/Wkk.txt\", unpack = True)"
   ]
  },
  {
   "cell_type": "code",
   "execution_count": 130,
   "metadata": {},
   "outputs": [],
   "source": [
    "from numba import jit\n",
    "\n",
    "@jit\n",
    "def zofchi_numba(newchis):\n",
    "    return np.interp(newchis, chi_precalculated, z_precalculated)\n",
    "\n",
    "@jit\n",
    "def Wkk_numba(newchis):\n",
    "    return np.interp(newchis, chi_kk, Wkk)\n",
    "\n",
    "@jit\n",
    "def integrate_numba(y, x):\n",
    "    return np.trapz(y, x)\n",
    "\n"
   ]
  },
  {
   "cell_type": "code",
   "execution_count": 131,
   "metadata": {},
   "outputs": [
    {
     "data": {
      "text/plain": [
       "40.5"
      ]
     },
     "execution_count": 131,
     "metadata": {},
     "output_type": "execute_result"
    }
   ],
   "source": [
    "integrate_numba(np.arange(0., 10., 1), np.arange(0., 10., 1))"
   ]
  },
  {
   "cell_type": "code",
   "execution_count": 68,
   "metadata": {},
   "outputs": [
    {
     "name": "stdout",
     "output_type": "stream",
     "text": [
      "7.6 µs ± 26 ns per loop (mean ± std. dev. of 7 runs, 100,000 loops each)\n"
     ]
    }
   ],
   "source": [
    "%timeit zofchi_numba(np.arange(0., 1000., 1))"
   ]
  },
  {
   "cell_type": "code",
   "execution_count": 69,
   "metadata": {},
   "outputs": [
    {
     "name": "stdout",
     "output_type": "stream",
     "text": [
      "17.3 µs ± 156 ns per loop (mean ± std. dev. of 7 runs, 100,000 loops each)\n"
     ]
    }
   ],
   "source": [
    "%timeit zofchi_numba(np.linspace(0, 400, 1000))"
   ]
  },
  {
   "cell_type": "code",
   "execution_count": 70,
   "metadata": {},
   "outputs": [
    {
     "name": "stdout",
     "output_type": "stream",
     "text": [
      "22.6 µs ± 847 ns per loop (mean ± std. dev. of 7 runs, 10,000 loops each)\n"
     ]
    }
   ],
   "source": [
    "%timeit np.interp(np.linspace(0, 400, 1000), chi, z)"
   ]
  },
  {
   "cell_type": "code",
   "execution_count": 1052,
   "metadata": {},
   "outputs": [],
   "source": [
    "@np.vectorize\n",
    "def integrate_bispectrum_kkk_prova(l, angle, model = 'TR'):\n",
    "    @nb.cfunc(quadpack_sig)\n",
    "    def bispectrum_at_ells_of_chi(chi, data): \n",
    "        return chi**(-4)*integrated_bispectrum.Wkk(chi)**3*integrated_bispectrum.bispectrum_matter(l/chi, l/chi, l/chi, angle, angle, angle, integrated_bispectrum.zofchi(chi), model = model)\n",
    "    funcptr = bispectrum_at_ells_of_chi.address\n",
    "    sol, abserr, success = dqags(funcptr, 0, integrated_bispectrum.chistar)\n",
    "    return sol #sinteg.quadrature(bispectrum_at_ells_of_chi, 0, integrated_bispectrum.chistar, maxiter = 50, rtol = 1e-8)[0]"
   ]
  },
  {
   "cell_type": "code",
   "execution_count": null,
   "metadata": {},
   "outputs": [],
   "source": []
  },
  {
   "cell_type": "code",
   "execution_count": 1119,
   "metadata": {},
   "outputs": [],
   "source": [
    "P2D = np.loadtxt(\"products/matterpower_P.txt\", unpack = True)\n",
    "k = np.loadtxt(\"products/matterpower_k.txt\", unpack = True)\n",
    "z = np.loadtxt(\"products/matterpower_z.txt\", unpack = True)"
   ]
  },
  {
   "cell_type": "code",
   "execution_count": 1120,
   "metadata": {},
   "outputs": [
    {
     "name": "stderr",
     "output_type": "stream",
     "text": [
      "/var/folders/5s/mpby42n15_ng7rv494cv19tw0000gn/T/ipykernel_68835/181510802.py:1: RuntimeWarning: divide by zero encountered in log10\n",
      "  logz = np.log10(z)\n"
     ]
    }
   ],
   "source": [
    "logz = np.log10(z)\n",
    "logk = np.log10(k)"
   ]
  },
  {
   "cell_type": "code",
   "execution_count": 1133,
   "metadata": {},
   "outputs": [
    {
     "data": {
      "text/plain": [
       "(1000, 1001)"
      ]
     },
     "execution_count": 1133,
     "metadata": {},
     "output_type": "execute_result"
    }
   ],
   "source": [
    "np.log10(P2D).shape"
   ]
  },
  {
   "cell_type": "code",
   "execution_count": 1134,
   "metadata": {},
   "outputs": [
    {
     "data": {
      "text/plain": [
       "(1001,)"
      ]
     },
     "execution_count": 1134,
     "metadata": {},
     "output_type": "execute_result"
    }
   ],
   "source": [
    "logz.shape"
   ]
  },
  {
   "cell_type": "code",
   "execution_count": 1171,
   "metadata": {},
   "outputs": [
    {
     "name": "stdout",
     "output_type": "stream",
     "text": [
      "Error is: 4.53e-06\n"
     ]
    },
    {
     "data": {
      "image/png": "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",
      "text/plain": [
       "<Figure size 640x480 with 1 Axes>"
      ]
     },
     "metadata": {},
     "output_type": "display_data"
    }
   ],
   "source": [
    "nx = 50\n",
    "ny = 37\n",
    "xv, xh = np.linspace(0, 1,       nx, endpoint=True,  retstep=True)\n",
    "yv, yh = np.linspace(0, 2*np.pi, ny, endpoint=False, retstep=True)\n",
    "x, y = np.meshgrid(xv, yv, indexing='ij')\n",
    "\n",
    "test_function = lambda x, y: np.exp(x)*np.exp(np.sin(y))\n",
    "f = test_function(x, y)\n",
    "\n",
    "test_x = -xh/2.0\n",
    "test_y = 271.43\n",
    "fa = test_function(test_x, test_y)\n",
    "\n",
    "interpolater = fast_interp.interp2d([0,0], [1,2*np.pi], [xh,yh], f, k=5, p=[False,True], e=[1,0])\n",
    "fe = interpolater(test_x, test_y)\n",
    "\n",
    "plt.plot(interpolater(xv, xv))\n",
    "plt.plot(test_function(xv, xv))\n",
    "\n",
    "\n",
    "print('Error is: {:0.2e}'.format(np.abs(fe-fa)))"
   ]
  },
  {
   "cell_type": "code",
   "execution_count": 1152,
   "metadata": {},
   "outputs": [
    {
     "data": {
      "text/plain": [
       "(50,)"
      ]
     },
     "execution_count": 1152,
     "metadata": {},
     "output_type": "execute_result"
    }
   ],
   "source": [
    "xv.shape"
   ]
  },
  {
   "cell_type": "code",
   "execution_count": 1279,
   "metadata": {},
   "outputs": [],
   "source": [
    "import fast_interp\n",
    "\n",
    "interpolated = fast_interp.interp2d([logz[1:].min(), logk.min()], [logz[1:].max(), logk.max()], [round(logz[3]-logz[2], 4), round(logk[3]-logk[2], 4)], (P2D)[1:, :].T, k = 5, p = [False, False], c = [False, False], e = [True, True])\n"
   ]
  },
  {
   "cell_type": "code",
   "execution_count": 1526,
   "metadata": {},
   "outputs": [],
   "source": [
    "zgrid = np.loadtxt('products/neff_z.txt')\n",
    "ksneff = np.loadtxt('products/neff_k.txt')\n",
    "neff2D = np.loadtxt('products/neff.txt')"
   ]
  },
  {
   "cell_type": "code",
   "execution_count": 1530,
   "metadata": {},
   "outputs": [],
   "source": [
    "neff2Dinterp = scipy.interpolate.RectBivariateSpline(zgrid, ksneff, neff2D)\n",
    "neff2Dinterpf = lambda z, k: neff2Dinterp(z, k, grid = False)"
   ]
  },
  {
   "cell_type": "code",
   "execution_count": 1539,
   "metadata": {},
   "outputs": [],
   "source": [
    "from interpolation.splines import UCGrid, nodes\n",
    "from interpolation.splines import eval_linear\n",
    "from interpolation.splines import extrap_options as xto\n",
    "\n",
    "functions = [lambda z, k: integrated_bispectrum.PK.P(z, k, grid = False), lambda z, k: integrated_bispectrum.PKlin.P(z, k, grid = False), lambda z, k: neff2Dinterp(z, k, grid = False)]\n",
    "name = [\"non_lin\", \"lin\", \"neff\"]\n",
    "for name, function in zip(name, functions):\n",
    "    grid = UCGrid((-12., logz.max(), 1000), (logk.min(), logk.max(), 1000))\n",
    "    gp = nodes(grid)\n",
    "    N = int(np.sqrt(gp.shape[0]))\n",
    "    values = function(10**gp[:,0], 10**gp[:,1]).reshape((N, N))\n",
    "    np.savetxt(f\"numbaproducts/{name}_matter_power.txt\", values)\n",
    "\n",
    "np.savetxt(\"numbaproducts/z_k_matter_powers.txt\", gp)"
   ]
  },
  {
   "cell_type": "code",
   "execution_count": 1547,
   "metadata": {},
   "outputs": [
    {
     "data": {
      "text/plain": [
       "((-12.0, 3.0, 1000), (-5.0, 2.0, 1000))"
      ]
     },
     "execution_count": 1547,
     "metadata": {},
     "output_type": "execute_result"
    }
   ],
   "source": [
    "grid"
   ]
  },
  {
   "cell_type": "code",
   "execution_count": 1519,
   "metadata": {},
   "outputs": [],
   "source": [
    "zfake, kfake = np.log10(np.logspace(-3, 3, 1000)), np.log10(np.logspace(-3, 2, 1000))\n",
    "points = np.array([zfake, kfake]).T"
   ]
  },
  {
   "cell_type": "code",
   "execution_count": 1520,
   "metadata": {},
   "outputs": [],
   "source": [
    "val = eval_linear(grid, values, points, xto.NEAREST)"
   ]
  },
  {
   "cell_type": "code",
   "execution_count": 1513,
   "metadata": {},
   "outputs": [
    {
     "name": "stdout",
     "output_type": "stream",
     "text": [
      "3.42 µs ± 6.09 ns per loop (mean ± std. dev. of 7 runs, 100,000 loops each)\n"
     ]
    }
   ],
   "source": [
    "%timeit val = eval_linear(grid, values, points)"
   ]
  },
  {
   "cell_type": "code",
   "execution_count": 1514,
   "metadata": {},
   "outputs": [
    {
     "name": "stdout",
     "output_type": "stream",
     "text": [
      "175 µs ± 1.24 µs per loop (mean ± std. dev. of 7 runs, 10,000 loops each)\n"
     ]
    }
   ],
   "source": [
    "%timeit integrated_bispectrum.P(10**zfake, 10**kfake, grid = False)"
   ]
  },
  {
   "cell_type": "code",
   "execution_count": 1515,
   "metadata": {},
   "outputs": [
    {
     "name": "stdout",
     "output_type": "stream",
     "text": [
      "3.34 µs ± 15.6 ns per loop (mean ± std. dev. of 7 runs, 100,000 loops each)\n"
     ]
    }
   ],
   "source": [
    "%timeit eval_linear_numba(grid, values, points)"
   ]
  },
  {
   "cell_type": "code",
   "execution_count": 1507,
   "metadata": {},
   "outputs": [],
   "source": [
    "@jit(nopython=True)\n",
    "def eval_linear_numba(grid, values, points):\n",
    "    return eval_linear(grid, values, points)"
   ]
  },
  {
   "cell_type": "code",
   "execution_count": 1521,
   "metadata": {},
   "outputs": [
    {
     "data": {
      "text/plain": [
       "[<matplotlib.lines.Line2D at 0x2ef666200>]"
      ]
     },
     "execution_count": 1521,
     "metadata": {},
     "output_type": "execute_result"
    },
    {
     "data": {
      "image/png": "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",
      "text/plain": [
       "<Figure size 640x480 with 1 Axes>"
      ]
     },
     "metadata": {},
     "output_type": "display_data"
    }
   ],
   "source": [
    "plt.loglog(10**kfake, val)\n",
    "plt.semilogy(10**kfake, integrated_bispectrum.P(10**zfake, 10**kfake, grid = False))"
   ]
  },
  {
   "cell_type": "code",
   "execution_count": 1299,
   "metadata": {},
   "outputs": [
    {
     "name": "stdout",
     "output_type": "stream",
     "text": [
      "9.61 µs ± 41.9 ns per loop (mean ± std. dev. of 7 runs, 100,000 loops each)\n"
     ]
    }
   ],
   "source": [
    "%timeit integrated_bispectrum.P(z[10:100], k[10:100], grid = False)"
   ]
  },
  {
   "cell_type": "code",
   "execution_count": 1301,
   "metadata": {},
   "outputs": [
    {
     "name": "stdout",
     "output_type": "stream",
     "text": [
      "236 µs ± 1.52 µs per loop (mean ± std. dev. of 7 runs, 1,000 loops each)\n"
     ]
    }
   ],
   "source": [
    "%timeit interp2d(z[10:100], k[10:100], z, k, P2D.T)"
   ]
  },
  {
   "cell_type": "code",
   "execution_count": 1313,
   "metadata": {},
   "outputs": [],
   "source": [
    "@jit(nopython=True)\n",
    "def function(zz, kk):\n",
    "    return interp2d(zz, kk, z, k, P2D.T)"
   ]
  },
  {
   "cell_type": "code",
   "execution_count": 1314,
   "metadata": {},
   "outputs": [],
   "source": [
    "zz, kk = z[10:100], k[10:100]"
   ]
  },
  {
   "cell_type": "code",
   "execution_count": 1317,
   "metadata": {},
   "outputs": [
    {
     "name": "stdout",
     "output_type": "stream",
     "text": [
      "243 µs ± 2.2 µs per loop (mean ± std. dev. of 7 runs, 1,000 loops each)\n"
     ]
    }
   ],
   "source": [
    "%timeit function(zz, kk)"
   ]
  },
  {
   "cell_type": "code",
   "execution_count": 1302,
   "metadata": {},
   "outputs": [
    {
     "data": {
      "text/plain": [
       "(90,)"
      ]
     },
     "execution_count": 1302,
     "metadata": {},
     "output_type": "execute_result"
    }
   ],
   "source": [
    "interp2d(z[10:100], k[10:100], z, k, P2D.T).shape"
   ]
  },
  {
   "cell_type": "code",
   "execution_count": 1294,
   "metadata": {},
   "outputs": [
    {
     "data": {
      "text/plain": [
       "array([  5.30380963, 179.59485392])"
      ]
     },
     "execution_count": 1294,
     "metadata": {},
     "output_type": "execute_result"
    }
   ],
   "source": [
    "interp2d(np.array([2, 1]), np.array([5, 1]), z, k, P2D.T)"
   ]
  },
  {
   "cell_type": "code",
   "execution_count": 1280,
   "metadata": {},
   "outputs": [],
   "source": [
    "interpolate2d_Rect_Scipy = scipy.interpolate.RectBivariateSpline(logk, logz[1:], P2D[:, 1:].T)"
   ]
  },
  {
   "cell_type": "code",
   "execution_count": 1282,
   "metadata": {},
   "outputs": [
    {
     "data": {
      "text/plain": [
       "[<matplotlib.lines.Line2D at 0x2bd75acb0>]"
      ]
     },
     "execution_count": 1282,
     "metadata": {},
     "output_type": "execute_result"
    },
    {
     "data": {
      "image/png": "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",
      "text/plain": [
       "<Figure size 640x480 with 1 Axes>"
      ]
     },
     "metadata": {},
     "output_type": "display_data"
    }
   ],
   "source": [
    "ksin = np.log10(k[1:700])\n",
    "zsin = np.log10(200)*np.ones_like(ksin)\n",
    "plt.semilogy((interpolated(zsin, ksin)))\n",
    "plt.plot(interpolate2d_Rect_Scipy(zsin, ksin, grid = False))"
   ]
  },
  {
   "cell_type": "code",
   "execution_count": 4,
   "metadata": {},
   "outputs": [],
   "source": [
    "@np.vectorize\n",
    "def integrate_bispectrum_kkk(l1, l2, l3, angle12, angle13, angle23, model = 'TR'):\n",
    "    bispectrum_at_ells_of_chi = lambda chi: chi**(-4)*integrated_bispectrum.Wkk(chi)**3*integrated_bispectrum.bispectrum_matter(l1/chi, l2/chi, l3/chi, angle12, angle13, angle23, integrated_bispectrum.zofchi(chi), model = model)\n",
    "    return sinteg.quadrature(bispectrum_at_ells_of_chi, 0, integrated_bispectrum.chistar, maxiter = 50, rtol = 1e-8)[0]"
   ]
  },
  {
   "cell_type": "code",
   "execution_count": 102,
   "metadata": {},
   "outputs": [
    {
     "data": {
      "text/plain": [
       "0.00022351546572828087"
      ]
     },
     "execution_count": 102,
     "metadata": {},
     "output_type": "execute_result"
    }
   ],
   "source": [
    "zofchi_numba(1)"
   ]
  },
  {
   "cell_type": "code",
   "execution_count": 157,
   "metadata": {},
   "outputs": [
    {
     "name": "stdout",
     "output_type": "stream",
     "text": [
      "Note: redshifts have been re-sorted (earliest first)\n"
     ]
    },
    {
     "name": "stderr",
     "output_type": "stream",
     "text": [
      "/Users/omard/Documents/projects/fgcmblensing/bispectrum/integrated_bispectrum.py:244: RuntimeWarning: divide by zero encountered in divide\n",
      "  \n"
     ]
    }
   ],
   "source": [
    "from scipy.integrate import simpson\n",
    "import itertools"
   ]
  },
  {
   "cell_type": "code",
   "execution_count": 183,
   "metadata": {},
   "outputs": [
    {
     "name": "stdout",
     "output_type": "stream",
     "text": [
      "59.9 µs ± 376 ns per loop (mean ± std. dev. of 7 runs, 10,000 loops each)\n"
     ]
    }
   ],
   "source": [
    "%timeit integrated_bispectrum.bispectrum_matter(k1, k2, k3, theta12, theta13, theta23, z)"
   ]
  },
  {
   "cell_type": "code",
   "execution_count": 179,
   "metadata": {},
   "outputs": [
    {
     "name": "stdout",
     "output_type": "stream",
     "text": [
      "13.8 µs ± 56.8 ns per loop (mean ± std. dev. of 7 runs, 100,000 loops each)\n"
     ]
    }
   ],
   "source": [
    "%timeit integrated_bispectrum.F2ptker_vector(k1, k2, theta12, z)"
   ]
  },
  {
   "cell_type": "code",
   "execution_count": 236,
   "metadata": {},
   "outputs": [],
   "source": [
    "rng = np.random.default_rng()"
   ]
  },
  {
   "cell_type": "code",
   "execution_count": 241,
   "metadata": {},
   "outputs": [
    {
     "data": {
      "text/plain": [
       "1.0000000000000002"
      ]
     },
     "execution_count": 241,
     "metadata": {},
     "output_type": "execute_result"
    }
   ],
   "source": [
    "np.trapz(pdf, precomputed_chis)"
   ]
  },
  {
   "cell_type": "code",
   "execution_count": 1058,
   "metadata": {},
   "outputs": [
    {
     "data": {
      "text/plain": [
       "[<matplotlib.lines.Line2D at 0x297c97370>]"
      ]
     },
     "execution_count": 1058,
     "metadata": {},
     "output_type": "execute_result"
    },
    {
     "data": {
      "image/png": "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",
      "text/plain": [
       "<Figure size 640x480 with 1 Axes>"
      ]
     },
     "metadata": {},
     "output_type": "display_data"
    }
   ],
   "source": [
    "precomputed_chis = np.linspace(1e-10, integrated_bispectrum.chistar/1e3, 10000)\n",
    "precomputed_chis = np.append(precomputed_chis, np.linspace(integrated_bispectrum.chistar/1e3, integrated_bispectrum.chistar/2, 100))\n",
    "precomputed_chis = np.append(precomputed_chis, np.linspace(integrated_bispectrum.chistar/2, integrated_bispectrum.chistar*3/4, 100))\n",
    "precomputed_chis = np.append(precomputed_chis, np.linspace(integrated_bispectrum.chistar*3/4, integrated_bispectrum.chistar, 120))\n",
    "norm = np.trapz(Wkk_numba(precomputed_chis), precomputed_chis)\n",
    "\n",
    "plt.plot(precomputed_chis, Wkk_numba(precomputed_chis))\n",
    "\n",
    "pdf = Wkk_numba(precomputed_chis)/norm\n",
    "pdf /= pdf.sum()\n",
    "#choose random chis\n",
    "chis = rng.choice(precomputed_chis, size = 50, p = pdf, replace = False)\n",
    "chis = np.sort(chis)\n",
    "chis = np.append(np.logspace(1e-10, np.log10(chis.min()), 10), chis)\n",
    "plt.plot(chis, Wkk_numba(chis), 'o')\n",
    "#plt.plot(precomputed_chis, integrated_bispectrum.Wkk(precomputed_chis))"
   ]
  },
  {
   "cell_type": "code",
   "execution_count": 1684,
   "metadata": {},
   "outputs": [],
   "source": [
    "@np.vectorize\n",
    "def integrate_bispectrum_kkk(l1, l2, l3, angle12, angle13, angle23, model = 'TR'):\n",
    "    bispectrum_at_ells_of_chi = lambda chi: chi**(-4)*integrated_bispectrum.Wkk(chi)**3*integrated_bispectrum.bispectrum_matter(l1/chi, l2/chi, l3/chi, angle12, angle13, angle23, integrated_bispectrum.zofchi(chi), model = model)\n",
    "    #return sinteg.quadrature(bispectrum_at_ells_of_chi, 0, integrated_bispectrum.chistar, maxiter = 50, rtol = 1e-8)[0]\n",
    "    return sinteg.quadrature(bispectrum_at_ells_of_chi, 0, integrated_bispectrum.chistar, maxiter = 100, miniter = 50, rtol = 1e-12)[0]"
   ]
  },
  {
   "cell_type": "code",
   "execution_count": 1542,
   "metadata": {},
   "outputs": [],
   "source": [
    "np.savetxt(\"numbaproducts/precomputed_dchis.txt\", np.c_[precomputed_chis, dchis])"
   ]
  },
  {
   "cell_type": "code",
   "execution_count": 1059,
   "metadata": {},
   "outputs": [
    {
     "name": "stdout",
     "output_type": "stream",
     "text": [
      "277 µs ± 4.92 µs per loop (mean ± std. dev. of 7 runs, 1,000 loops each)\n"
     ]
    }
   ],
   "source": [
    "dchis = (chis[2:]-chis[:-2])/2\n",
    "precomputed_chis = chis[1:-1]\n",
    "\n",
    "def integrate_bispectrum_kkk_alt_(l1, l2, l3, angle12, angle13, angle23, model = 'TR'):\n",
    "    bispectrum_at_ells_of_chi = lambda chi: chi**(-4)*Wkk_numba(chi)**3*integrated_bispectrum.bispectrum_matter(l1/chi, l2/chi, l3/chi, angle12, angle13, angle23, zofchi_numba(chi), model = model)\n",
    "    #value = bispectrum_at_ells_of_chi(precomputed_chis)\n",
    "    return integrate_numba(bispectrum_at_ells_of_chi(precomputed_chis), precomputed_chis)\n",
    "    #return simpson(value, precomputed_chis)\n",
    "    #return sinteg.quadrature(bispectrum_at_ells_of_chi, 0, integrated_bispectrum.chistar, maxiter = 50, rtol = 1e-8)[0]\n",
    "    #return sinteg.quadrature(bispectrum_at_ells_of_chi, 0, integrated_bispectrum.chistar, maxiter = 50, rtol = 1e-8)[0]\n",
    "    #return np.dot(dchis, bispectrum_at_ells_of_chi(precomputed_chis))\n",
    "integrate_bispectrum_kkk_alt = np.vectorize(integrate_bispectrum_kkk_alt_, excluded = ['model'])\n",
    "\n",
    "%timeit integrate_bispectrum_kkk_alt(1, 1, 1, np.pi/3, np.pi/3, np.pi/3, model = 'TR')\n"
   ]
  },
  {
   "cell_type": "code",
   "execution_count": 512,
   "metadata": {},
   "outputs": [
    {
     "data": {
      "text/plain": [
       "1.1802988410151742"
      ]
     },
     "execution_count": 512,
     "metadata": {},
     "output_type": "execute_result"
    }
   ],
   "source": [
    "integrate_bispectrum_kkk_alt(1, 1, 1, np.pi/3, np.pi/3, np.pi/3, model = 'TR')/integrate_bispectrum_kkk(1, 1, 1, np.pi/3, np.pi/3, np.pi/3, model = 'TR')"
   ]
  },
  {
   "cell_type": "code",
   "execution_count": 391,
   "metadata": {},
   "outputs": [
    {
     "data": {
      "text/plain": [
       "array(6.39148569e-15)"
      ]
     },
     "execution_count": 391,
     "metadata": {},
     "output_type": "execute_result"
    }
   ],
   "source": [
    "integrate_bispectrum_kkk(1, 1, 1, np.pi/3, np.pi/3, np.pi/3, model = 'TR')"
   ]
  },
  {
   "cell_type": "code",
   "execution_count": 392,
   "metadata": {},
   "outputs": [
    {
     "data": {
      "text/plain": [
       "0.9999951952987476"
      ]
     },
     "execution_count": 392,
     "metadata": {},
     "output_type": "execute_result"
    }
   ],
   "source": [
    "integrate_bispectrum_kkk_alt(1, 1, 1, np.pi/3, np.pi/3, np.pi/3, model = 'TR')/integrate_bispectrum_kkk(1, 1, 1, np.pi/3, np.pi/3, np.pi/3, model = 'TR')"
   ]
  },
  {
   "cell_type": "code",
   "execution_count": null,
   "metadata": {},
   "outputs": [],
   "source": []
  },
  {
   "cell_type": "code",
   "execution_count": 490,
   "metadata": {},
   "outputs": [
    {
     "name": "stdout",
     "output_type": "stream",
     "text": [
      "352 µs ± 6.46 µs per loop (mean ± std. dev. of 7 runs, 1,000 loops each)\n"
     ]
    }
   ],
   "source": [
    "%timeit integrate_bispectrum_kkk_alt(1, 1, 1, np.pi/3, np.pi/3, np.pi/3, model = 'TR')"
   ]
  },
  {
   "cell_type": "code",
   "execution_count": 491,
   "metadata": {},
   "outputs": [
    {
     "name": "stdout",
     "output_type": "stream",
     "text": [
      "591 µs ± 12.9 µs per loop (mean ± std. dev. of 7 runs, 1,000 loops each)\n"
     ]
    }
   ],
   "source": [
    "%timeit integrate_bispectrum_kkk(1, 1, 1, np.pi/3, np.pi/3, np.pi/3, model = 'TR')"
   ]
  },
  {
   "cell_type": "code",
   "execution_count": 88,
   "metadata": {},
   "outputs": [],
   "source": [
    "bispectrum_at_ells_of_chi = lambda l1, l2, l3, angle12, angle13, angle23, chi, model: chi**(-4)*integrated_bispectrum.Wkk(chi)**3*integrated_bispectrum.bispectrum_matter(l1/chi, l2/chi, l3/chi, angle12, angle13, angle23, integrated_bispectrum.zofchi(chi), model = model)"
   ]
  },
  {
   "cell_type": "code",
   "execution_count": 1773,
   "metadata": {},
   "outputs": [
    {
     "name": "stderr",
     "output_type": "stream",
     "text": [
      "/var/folders/5s/mpby42n15_ng7rv494cv19tw0000gn/T/ipykernel_68835/2716358792.py:5: RuntimeWarning: divide by zero encountered in divide\n",
      "  calculated = 8/(ls**3)**2*integrate_bispectrum_kkk(ls, ls, ls, angle12, angle13, angle23, model = model)#list(map(integrate_bispectrum_kkk_single, ls))\n",
      "/var/folders/5s/mpby42n15_ng7rv494cv19tw0000gn/T/ipykernel_68835/2716358792.py:6: RuntimeWarning: divide by zero encountered in divide\n",
      "  calculated_alt = 8/(ls**3)**2*integrate_bispectrum_kkk_prova_gauss(ls, np.pi/3)#integrate_bispectrum_kkk_alt(ls, ls, ls, angle12, angle13, angle23, model = model)\n",
      "/var/folders/5s/mpby42n15_ng7rv494cv19tw0000gn/T/ipykernel_68835/2716358792.py:7: RuntimeWarning: invalid value encountered in multiply\n",
      "  p = plt.plot(ls, calculated*ls**6, label = model)\n",
      "/var/folders/5s/mpby42n15_ng7rv494cv19tw0000gn/T/ipykernel_68835/2716358792.py:8: RuntimeWarning: invalid value encountered in multiply\n",
      "  plt.plot(ls, calculated_alt*ls**6, label = model + ' alt', color = p[0].get_color(), linestyle = '--')\n"
     ]
    },
    {
     "data": {
      "text/plain": [
<<<<<<< HEAD
       "<matplotlib.legend.Legend at 0x14856c304730>"
      ]
     },
     "execution_count": 7,
=======
       "Text(0.5, 0, '$L$')"
      ]
     },
<<<<<<< HEAD
     "execution_count": 501,
>>>>>>> 5f7dd750d59c2245b60099b4c03998f1497f8bda
=======
     "execution_count": 1773,
>>>>>>> 4857a4acfafead272386dec65c9f6415f438ef18
     "metadata": {},
     "output_type": "execute_result"
    },
    {
     "data": {
<<<<<<< HEAD
<<<<<<< HEAD
      "image/png": "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\n",
=======
      "image/png": "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",
>>>>>>> 5f7dd750d59c2245b60099b4c03998f1497f8bda
=======
      "image/png": "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",
      "text/plain": [
       "<Figure size 640x480 with 1 Axes>"
      ]
     },
     "metadata": {},
     "output_type": "display_data"
    }
   ],
   "source": [
    "ls = np.arange(1, 4000)\n",
    "models = ['TR']\n",
    "for model in models:\n",
    "    angle12, angle13, angle23 = np.pi/3, np.pi/3, np.pi/3\n",
    "    calculated = 8/(ls**3)**2*integrate_bispectrum_kkk(ls, ls, ls, angle12, angle13, angle23, model = model)#list(map(integrate_bispectrum_kkk_single, ls))\n",
    "    calculated_alt = 8/(ls**3)**2*integrate_bispectrum_kkk_prova_gauss(ls, np.pi/3)#integrate_bispectrum_kkk_alt(ls, ls, ls, angle12, angle13, angle23, model = model)\n",
    "    p = plt.plot(ls, calculated*ls**6, label = model)\n",
    "    plt.plot(ls, calculated_alt*ls**6, label = model + ' alt', color = p[0].get_color(), linestyle = '--')\n",
    "#plt.xscale('log')\n",
    "plt.yscale('log')\n",
    "plt.xlim(100, 4000)\n",
    "plt.legend()\n",
    "plt.ylabel('$L^6B$')\n",
    "plt.xlabel('$L$')"
   ]
  },
  {
   "cell_type": "code",
   "execution_count": 1048,
   "metadata": {},
   "outputs": [
    {
     "name": "stderr",
     "output_type": "stream",
     "text": [
      "/var/folders/5s/mpby42n15_ng7rv494cv19tw0000gn/T/ipykernel_68835/4239412873.py:5: RuntimeWarning: divide by zero encountered in divide\n",
      "  calculated = 8/(ls**3)**2*integrate_bispectrum_kkk(ls, ls, ls, angle12, angle13, angle23, model = model)#list(map(integrate_bispectrum_kkk_single, ls))\n",
      "/var/folders/5s/mpby42n15_ng7rv494cv19tw0000gn/T/ipykernel_68835/4239412873.py:6: RuntimeWarning: divide by zero encountered in divide\n",
      "  calculated_alt = 8/(ls**3)**2*integrate_bispectrum_kkk_alt(ls, ls, ls, angle12, angle13, angle23, model = model)\n",
      "/var/folders/5s/mpby42n15_ng7rv494cv19tw0000gn/T/ipykernel_68835/4239412873.py:7: RuntimeWarning: invalid value encountered in divide\n",
      "  p = plt.plot(ls, calculated/calculated_alt, label = model)\n"
     ]
    },
    {
     "data": {
      "image/png": "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",
>>>>>>> 4857a4acfafead272386dec65c9f6415f438ef18
      "text/plain": [
       "<Figure size 640x480 with 1 Axes>"
      ]
     },
     "metadata": {},
     "output_type": "display_data"
    }
   ],
   "source": [
    "ls = np.arange(1, 4000)\n",
    "models = ['TR', 'GM', 'SC']\n",
    "for model in models:\n",
    "    angle12, angle13, angle23 = np.pi/3, np.pi/3, np.pi/3\n",
    "    calculated = 8/(ls**3)**2*integrate_bispectrum_kkk(ls, ls, ls, angle12, angle13, angle23, model = model)#list(map(integrate_bispectrum_kkk_single, ls))\n",
    "    calculated_alt = 8/(ls**3)**2*integrate_bispectrum_kkk_alt(ls, ls, ls, angle12, angle13, angle23, model = model)\n",
    "    p = plt.plot(ls, calculated/calculated_alt, label = model)\n",
    "    #plt.plot(ls, calculated_alt*ls**6, label = model + ' alt', color = p[0].get_color(), linestyle = '--')\n",
    "#plt.xscale('log')\n",
    "plt.yscale('log')"
   ]
  },
  {
   "cell_type": "code",
<<<<<<< HEAD
<<<<<<< HEAD
   "execution_count": null,
=======
   "execution_count": 502,
>>>>>>> 5f7dd750d59c2245b60099b4c03998f1497f8bda
=======
   "execution_count": 516,
>>>>>>> 4857a4acfafead272386dec65c9f6415f438ef18
   "metadata": {},
   "outputs": [],
   "source": [
    "import vegas\n",
    "\n",
    "lmin, lmax = 1, 4000\n",
    "\n",
    "integ = vegas.Integrator([[lmin, lmax], [0, 2*np.pi], [lmin, lmax], [0, 2*np.pi]])\n",
    "nitn, neval = 10, 1e2\n",
    "\n",
    "values = []\n",
    "\n",
    "def get_angle_12(L1, L2, L3):\n",
    "    term = (L1**2+L2**2-L3**2)/(2*L1*L2)\n",
    "    return np.arccos(term)\n",
    "\n",
    "Rs = np.linspace(0.1, 6, 10)\n",
    "\n",
    "Rdeg = R/60\n",
    "Rradians = np.deg2rad(Rdeg)\n",
    "sigma = Rradians / (2.0 * np.sqrt(2.0 * np.log(2.0)))\n",
    "WR = lambda l: np.exp(-(l*(l+1))/2*sigma**2)\n",
    "\n",
    "models = ['TR', 'GM', 'SC']\n",
    "results = {}\n",
    "for model in models:\n",
    "    values = []\n",
    "    for R in Rs:\n",
    "\n",
    "        Rdeg = R/60\n",
    "        Rradians = np.deg2rad(Rdeg)\n",
    "        sigma = Rradians / (2.0 * np.sqrt(2.0 * np.log(2.0)))\n",
<<<<<<< HEAD
    "        WR = lambda l: np.exp(-(l*(l+1))/2/sigma**2)\n",
=======
    "        WR = lambda l: np.exp(-(l*(l+1))/2*sigma**2)\n",
    "        #WR = lambda l: np.exp(-l**2*Rradians**2/2)\n",
>>>>>>> 5f7dd750d59c2245b60099b4c03998f1497f8bda
    "\n",
    "        @vegas.batchintegrand\n",
    "        def integrand(x):\n",
    "            l, thetal = x[:, 0], x[:, 1]\n",
    "            L, thetaL = x[:, 2], x[:, 3]\n",
    "\n",
    "            lx, ly = np.cos(thetal)*l, np.sin(thetal)*l\n",
    "            Lplx = L*np.cos(thetaL)+lx\n",
    "            Lply = L*np.sin(thetaL)+ly\n",
    "            Lplv = np.array([Lplx, Lply])\n",
    "            Lpl = np.linalg.norm(Lplv, axis = 0)\n",
    "            angle12 = get_angle_12(l, L, Lpl)\n",
    "            angle13 = get_angle_12(l, Lpl, L)\n",
    "            angle23 = get_angle_12(L, Lpl, l)\n",
    "            value = L*l*WR(L)*WR(l)*WR(Lpl)*integrate_bispectrum_kkk_alt(l, L, Lpl, angle12, angle13, angle23, model = model)\n",
    "            return value/(2*np.pi)**2/(2*np.pi)**2\n",
    "\n",
    "        result = integ(integrand, nitn = nitn, neval = neval)\n",
    "        values += [result.mean]\n",
    "        \n",
    "    Rs, values = np.array(Rs), np.array(values)\n",
    "    results[model] = values"
   ]
  },
  {
   "cell_type": "code",
<<<<<<< HEAD
<<<<<<< HEAD
   "execution_count": 27,
   "metadata": {},
   "outputs": [],
   "source": [
    "lmin, lmax = 100, 3000\n",
    "Ls = np.arange(lmin, lmax)\n",
    "#L1M, L2M, L3M = np.meshgrid(Ls, Ls, Ls)"
=======
   "execution_count": 503,
=======
   "execution_count": 517,
>>>>>>> 4857a4acfafead272386dec65c9f6415f438ef18
   "metadata": {},
   "outputs": [],
   "source": [
    "results_sims = np.load('results.npy', allow_pickle = True).take(0)\n",
    "results_G_Born = np.load('resultsG.npy', allow_pickle = True).take(0)"
>>>>>>> 5f7dd750d59c2245b60099b4c03998f1497f8bda
   ]
  },
  {
   "cell_type": "code",
<<<<<<< HEAD
<<<<<<< HEAD
   "execution_count": null,
=======
   "execution_count": 519,
=======
   "execution_count": 518,
>>>>>>> 4857a4acfafead272386dec65c9f6415f438ef18
   "metadata": {},
   "outputs": [
    {
     "data": {
      "image/png": "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",
      "text/plain": [
       "<Figure size 640x480 with 1 Axes>"
      ]
     },
     "metadata": {},
     "output_type": "display_data"
    }
   ],
   "source": [
    "for k, values in results.items():\n",
    "    plt.plot(Rs, abs(values), label = k, ls = '--')\n",
    "\n",
    "fwhms = np.arange(0.5, 6, 1.)\n",
    "plt.title('Skewness in function of smoothing scale')\n",
    "for k in results_sims.keys():\n",
    "    skews = np.array(results_sims[k])\n",
    "    plt.plot(fwhms, abs(skews), label = k)\n",
    "\n",
    "N = 2\n",
    "meanskew = 0\n",
    "for i in range(N):\n",
    "    meanskew += np.array(results_G_Born[i])\n",
    "meanskew /= N\n",
    "plt.plot(fwhms, abs(meanskew), label = 'Mean skew from Gaussian realizations for NL Born', ls = ':')\n",
    "\n",
    "plt.ylabel(r'$\\rm{abs}(\\hat{\\gamma})(\\kappa_{\\rm{sim}})$')\n",
    "plt.xlabel(r'$\\rm{fwhm} (armin)$')\n",
    "\n",
    "#plt.hlines(-1e-6, 0.5, 6, color = 'k', ls = '--', label = '-1e-6 line', alpha = 0.4)\n",
    "plt.yscale('log')\n",
    "plt.legend(fontsize = 5)\n",
    "plt.savefig('empirical_skew_demuni.png', dpi = 300)"
   ]
  },
  {
   "cell_type": "code",
   "execution_count": null,
   "metadata": {},
   "outputs": [],
   "source": []
  },
  {
   "attachments": {},
   "cell_type": "markdown",
   "metadata": {},
   "source": [
    "## Calculating $N^{3/2,\\mathrm{cross}}$"
   ]
  },
  {
   "cell_type": "code",
<<<<<<< HEAD
   "execution_count": 474,
>>>>>>> 5f7dd750d59c2245b60099b4c03998f1497f8bda
=======
   "execution_count": 953,
>>>>>>> 4857a4acfafead272386dec65c9f6415f438ef18
   "metadata": {},
   "outputs": [
    {
     "name": "stdout",
     "output_type": "stream",
     "text": [
<<<<<<< HEAD
<<<<<<< HEAD
      "0.1 100\n",
      "0.1 101\n",
      "0.1 102\n",
      "0.1 103\n",
      "0.1 104\n",
      "0.1 105\n",
      "0.1 106\n",
      "0.1 107\n",
      "0.1 108\n",
      "0.1 109\n",
      "0.1 110\n",
      "0.1 111\n",
      "0.1 112\n",
      "0.1 113\n",
      "0.1 114\n",
      "0.1 115\n",
      "0.1 116\n",
      "0.1 117\n",
      "0.1 118\n",
      "0.1 119\n",
      "0.1 120\n",
      "0.1 121\n",
      "0.1 122\n",
      "0.1 123\n",
      "0.1 124\n",
      "0.1 125\n",
      "0.1 126\n",
      "0.1 127\n",
      "0.1 128\n",
      "0.1 129\n",
      "0.1 130\n",
      "0.1 131\n",
      "0.1 132\n",
      "0.1 133\n",
      "0.1 134\n",
      "0.1 135\n",
      "0.1 136\n",
      "0.1 137\n",
      "0.1 138\n",
      "0.1 139\n",
      "0.1 140\n",
      "0.1 141\n",
      "0.1 142\n",
      "0.1 143\n",
      "0.1 144\n",
      "0.1 145\n",
      "0.1 146\n",
      "0.1 147\n",
      "0.1 148\n",
      "0.1 149\n",
      "0.1 150\n",
      "0.1 151\n",
      "0.1 152\n",
      "0.1 153\n",
      "0.1 154\n",
      "0.1 155\n",
      "0.1 156\n",
      "0.1 157\n",
      "0.1 158\n",
      "0.1 159\n",
      "0.1 160\n",
      "0.1 161\n",
      "0.1 162\n",
      "0.1 163\n",
      "0.1 164\n",
      "0.1 165\n",
      "0.1 166\n",
      "0.1 167\n",
      "0.1 168\n",
      "0.1 169\n",
      "0.1 170\n",
      "0.1 171\n",
      "0.1 172\n",
      "0.1 173\n",
      "0.1 174\n",
      "0.1 175\n",
      "0.1 176\n",
      "0.1 177\n",
      "0.1 178\n",
      "0.1 179\n",
      "0.1 180\n",
      "0.1 181\n",
      "0.1 182\n",
      "0.1 183\n",
      "0.1 184\n",
      "0.1 185\n",
      "0.1 186\n",
      "0.1 187\n",
      "0.1 188\n",
      "0.1 189\n",
      "0.1 190\n",
      "0.1 191\n",
      "0.1 192\n",
      "0.1 193\n",
      "0.1 194\n",
      "0.1 195\n",
      "0.1 196\n",
      "0.1 197\n",
      "0.1 198\n",
      "0.1 199\n",
      "0.1 200\n",
      "0.1 201\n",
      "0.1 202\n",
      "0.1 203\n",
      "0.1 204\n",
      "0.1 205\n",
      "0.1 206\n",
      "0.1 207\n",
      "0.1 208\n",
      "0.1 209\n",
      "0.1 210\n",
      "0.1 211\n",
      "0.1 212\n",
      "0.1 213\n",
      "0.1 214\n",
      "0.1 215\n",
      "0.1 216\n",
      "0.1 217\n",
      "0.1 218\n",
      "0.1 219\n",
      "0.1 220\n",
      "0.1 221\n",
      "0.1 222\n",
      "0.1 223\n",
      "0.1 224\n",
      "0.1 225\n",
      "0.1 226\n",
      "0.1 227\n",
      "0.1 228\n",
      "0.1 229\n",
      "0.1 230\n",
      "0.1 231\n",
      "0.1 232\n",
      "0.1 233\n",
      "0.1 234\n",
      "0.1 235\n",
      "0.1 236\n",
      "0.1 237\n",
      "0.1 238\n",
      "0.1 239\n",
      "0.1 240\n",
      "0.1 241\n",
      "0.1 242\n",
      "0.1 243\n",
      "0.1 244\n",
      "0.1 245\n",
      "0.1 246\n",
      "0.1 247\n",
      "0.1 248\n",
      "0.1 249\n",
      "0.1 250\n",
      "0.1 251\n",
      "0.1 252\n",
      "0.1 253\n",
      "0.1 254\n",
      "0.1 255\n",
      "0.1 256\n",
      "0.1 257\n",
      "0.1 258\n",
      "0.1 259\n",
      "0.1 260\n",
      "0.1 261\n",
      "0.1 262\n",
      "0.1 263\n",
      "0.1 264\n",
      "0.1 265\n",
      "0.1 266\n",
      "0.1 267\n",
      "0.1 268\n",
      "0.1 269\n",
      "0.1 270\n",
      "0.1 271\n",
      "0.1 272\n",
      "0.1 273\n",
      "0.1 274\n",
      "0.1 275\n",
      "0.1 276\n",
      "0.1 277\n",
      "0.1 278\n",
      "0.1 279\n",
      "0.1 280\n",
      "0.1 281\n",
      "0.1 282\n",
      "0.1 283\n",
      "0.1 284\n",
      "0.1 285\n",
      "0.1 286\n",
      "0.1 287\n",
      "0.1 288\n",
      "0.1 289\n",
      "0.1 290\n",
      "0.1 291\n",
      "0.1 292\n",
      "0.1 293\n",
      "0.1 294\n",
      "0.1 295\n",
      "0.1 296\n",
      "0.1 297\n",
      "0.1 298\n",
      "0.1 299\n",
      "0.1 300\n",
      "0.1 301\n",
      "0.1 302\n",
      "0.1 303\n",
      "0.1 304\n",
      "0.1 305\n",
      "0.1 306\n",
      "0.1 307\n",
      "0.1 308\n",
      "0.1 309\n",
      "0.1 310\n",
      "0.1 311\n",
      "0.1 312\n",
      "0.1 313\n",
      "0.1 314\n",
      "0.1 315\n",
      "0.1 316\n",
      "0.1 317\n",
      "0.1 318\n",
      "0.1 319\n",
      "0.1 320\n",
      "0.1 321\n",
      "0.1 322\n",
      "0.1 323\n",
      "0.1 324\n",
      "0.1 325\n",
      "0.1 326\n",
      "0.1 327\n",
      "0.1 328\n",
      "0.1 329\n",
      "0.1 330\n",
      "0.1 331\n",
      "0.1 332\n",
      "0.1 333\n",
      "0.1 334\n",
      "0.1 335\n",
      "0.1 336\n",
      "0.1 337\n",
      "0.1 338\n",
      "0.1 339\n",
      "0.1 340\n",
      "0.1 341\n",
      "0.1 342\n",
      "0.1 343\n",
      "0.1 344\n",
      "0.1 345\n",
      "0.1 346\n",
      "0.1 347\n",
      "0.1 348\n",
      "0.1 349\n",
      "0.1 350\n",
      "0.1 351\n",
      "0.1 352\n",
      "0.1 353\n",
      "0.1 354\n",
      "0.1 355\n",
      "0.1 356\n",
      "0.1 357\n",
      "0.1 358\n",
      "0.1 359\n",
      "0.1 360\n",
      "0.1 361\n",
      "0.1 362\n",
      "0.1 363\n",
      "0.1 364\n",
      "0.1 365\n",
      "0.1 366\n",
      "0.1 367\n",
      "0.1 368\n",
      "0.1 369\n",
      "0.1 370\n",
      "0.1 371\n",
      "0.1 372\n",
      "0.1 373\n",
      "0.1 374\n",
      "0.1 375\n",
      "0.1 376\n",
      "0.1 377\n",
      "0.1 378\n",
      "0.1 379\n",
      "0.1 380\n",
      "0.1 381\n",
      "0.1 382\n",
      "0.1 383\n",
      "0.1 384\n",
      "0.1 385\n",
      "0.1 386\n",
      "0.1 387\n",
      "0.1 388\n",
      "0.1 389\n",
      "0.1 390\n",
      "0.1 391\n",
      "0.1 392\n",
      "0.1 393\n",
      "0.1 394\n",
      "0.1 395\n",
      "0.1 396\n",
      "0.1 397\n",
      "0.1 398\n",
      "0.1 399\n",
      "0.1 400\n",
      "0.1 401\n",
      "0.1 402\n",
      "0.1 403\n",
      "0.1 404\n",
      "0.1 405\n",
      "0.1 406\n",
      "0.1 407\n",
      "0.1 408\n",
      "0.1 409\n",
      "0.1 410\n",
      "0.1 411\n",
      "0.1 412\n",
      "0.1 413\n",
      "0.1 414\n",
      "0.1 415\n",
      "0.1 416\n",
      "0.1 417\n",
      "0.1 418\n",
      "0.1 419\n",
      "0.1 420\n",
      "0.1 421\n",
      "0.1 422\n",
      "0.1 423\n",
      "0.1 424\n",
      "0.1 425\n",
      "0.1 426\n",
      "0.1 427\n",
      "0.1 428\n",
      "0.1 429\n",
      "0.1 430\n",
      "0.1 431\n",
      "0.1 432\n",
      "0.1 433\n",
      "0.1 434\n",
      "0.1 435\n",
      "0.1 436\n",
      "0.1 437\n",
      "0.1 438\n",
      "0.1 439\n",
      "0.1 440\n",
      "0.1 441\n",
      "0.1 442\n",
      "0.1 443\n",
      "0.1 444\n",
      "0.1 445\n",
      "0.1 446\n",
      "0.1 447\n",
      "0.1 448\n",
      "0.1 449\n",
      "0.1 450\n",
      "0.1 451\n",
      "0.1 452\n",
      "0.1 453\n",
      "0.1 454\n",
      "0.1 455\n",
      "0.1 456\n",
      "0.1 457\n",
      "0.1 458\n",
      "0.1 459\n",
      "0.1 460\n",
      "0.1 461\n",
      "0.1 462\n",
      "0.1 463\n",
      "0.1 464\n",
      "0.1 465\n",
      "0.1 466\n",
      "0.1 467\n",
      "0.1 468\n",
      "0.1 469\n",
      "0.1 470\n",
      "0.1 471\n",
      "0.1 472\n",
      "0.1 473\n",
      "0.1 474\n",
      "0.1 475\n",
      "0.1 476\n",
      "0.1 477\n",
      "0.1 478\n",
      "0.1 479\n",
      "0.1 480\n",
      "0.1 481\n",
      "0.1 482\n",
      "0.1 483\n",
      "0.1 484\n",
      "0.1 485\n",
      "0.1 486\n",
      "0.1 487\n",
      "0.1 488\n",
      "0.1 489\n",
      "0.1 490\n",
      "0.1 491\n",
      "0.1 492\n",
      "0.1 493\n",
      "0.1 494\n",
      "0.1 495\n",
      "0.1 496\n",
      "0.1 497\n",
      "0.1 498\n",
      "0.1 499\n",
      "0.1 500\n",
      "0.1 501\n",
      "0.1 502\n",
      "0.1 503\n",
      "0.1 504\n",
      "0.1 505\n",
      "0.1 506\n",
      "0.1 507\n",
      "0.1 508\n",
      "0.1 509\n",
      "0.1 510\n",
      "0.1 511\n",
      "0.1 512\n",
      "0.1 513\n",
      "0.1 514\n",
      "0.1 515\n",
      "0.1 516\n",
      "0.1 517\n",
      "0.1 518\n",
      "0.1 519\n",
      "0.1 520\n",
      "0.1 521\n",
      "0.1 522\n",
      "0.1 523\n",
      "0.1 524\n",
      "0.1 525\n",
      "0.1 526\n",
      "0.1 527\n",
      "0.1 528\n",
      "0.1 529\n",
      "0.1 530\n",
      "0.1 531\n",
      "0.1 532\n",
      "0.1 533\n",
      "0.1 534\n",
      "0.1 535\n",
      "0.1 536\n",
      "0.1 537\n",
      "0.1 538\n",
      "0.1 539\n",
      "0.1 540\n",
      "0.1 541\n",
      "0.1 542\n",
      "0.1 543\n",
      "0.1 544\n",
      "0.1 545\n",
      "0.1 546\n",
      "0.1 547\n",
      "0.1 548\n",
      "0.1 549\n",
      "0.1 550\n",
      "0.1 551\n",
      "0.1 552\n",
      "0.1 553\n",
      "0.1 554\n",
      "0.1 555\n",
      "0.1 556\n",
      "0.1 557\n",
      "0.1 558\n",
      "0.1 559\n",
      "0.1 560\n",
      "0.1 561\n",
      "0.1 562\n",
      "0.1 563\n",
      "0.1 564\n",
      "0.1 565\n",
      "0.1 566\n",
      "0.1 567\n",
      "0.1 568\n",
      "0.1 569\n",
      "0.1 570\n",
      "0.1 571\n",
      "0.1 572\n",
      "0.1 573\n",
      "0.1 574\n",
      "0.1 575\n",
      "0.1 576\n",
      "0.1 577\n",
      "0.1 578\n",
      "0.1 579\n",
      "0.1 580\n",
      "0.1 581\n",
      "0.1 582\n",
      "0.1 583\n",
      "0.1 584\n",
      "0.1 585\n",
      "0.1 586\n",
      "0.1 587\n",
      "0.1 588\n",
      "0.1 589\n",
      "0.1 590\n",
      "0.1 591\n",
      "0.1 592\n",
      "0.1 593\n",
      "0.1 594\n",
      "0.1 595\n",
      "0.1 596\n",
      "0.1 597\n",
      "0.1 598\n",
      "0.1 599\n",
      "0.1 600\n",
      "0.1 601\n",
      "0.1 602\n",
      "0.1 603\n",
      "0.1 604\n",
      "0.1 605\n",
      "0.1 606\n",
      "0.1 607\n",
      "0.1 608\n",
      "0.1 609\n",
      "0.1 610\n",
      "0.1 611\n",
      "0.1 612\n",
      "0.1 613\n",
      "0.1 614\n",
      "0.1 615\n",
      "0.1 616\n",
      "0.1 617\n",
      "0.1 618\n",
      "0.1 619\n",
      "0.1 620\n",
      "0.1 621\n",
      "0.1 622\n",
      "0.1 623\n",
      "0.1 624\n",
      "0.1 625\n",
      "0.1 626\n",
      "0.1 627\n",
      "0.1 628\n",
      "0.1 629\n",
      "0.1 630\n",
      "0.1 631\n",
      "0.1 632\n",
      "0.1 633\n",
      "0.1 634\n",
      "0.1 635\n",
      "0.1 636\n",
      "0.1 637\n",
      "0.1 638\n",
      "0.1 639\n",
      "0.1 640\n",
      "0.1 641\n",
      "0.1 642\n",
      "0.1 643\n",
      "0.1 644\n",
      "0.1 645\n",
      "0.1 646\n",
      "0.1 647\n",
      "0.1 648\n",
      "0.1 649\n",
      "0.1 650\n",
      "0.1 651\n",
      "0.1 652\n",
      "0.1 653\n",
      "0.1 654\n",
      "0.1 655\n",
      "0.1 656\n",
      "0.1 657\n",
      "0.1 658\n",
      "0.1 659\n",
      "0.1 660\n",
      "0.1 661\n",
      "0.1 662\n",
      "0.1 663\n",
      "0.1 664\n",
      "0.1 665\n",
      "0.1 666\n",
      "0.1 667\n",
      "0.1 668\n",
      "0.1 669\n",
      "0.1 670\n",
      "0.1 671\n",
      "0.1 672\n",
      "0.1 673\n",
      "0.1 674\n",
      "0.1 675\n",
      "0.1 676\n",
      "0.1 677\n",
      "0.1 678\n",
      "0.1 679\n",
      "0.1 680\n",
      "0.1 681\n",
      "0.1 682\n",
      "0.1 683\n",
      "0.1 684\n",
      "0.1 685\n",
      "0.1 686\n",
      "0.1 687\n",
      "0.1 688\n",
      "0.1 689\n",
      "0.1 690\n",
      "0.1 691\n",
      "0.1 692\n",
      "0.1 693\n",
      "0.1 694\n",
      "0.1 695\n",
      "0.1 696\n",
      "0.1 697\n",
      "0.1 698\n",
      "0.1 699\n",
      "0.1 700\n",
      "0.1 701\n",
      "0.1 702\n",
      "0.1 703\n",
      "0.1 704\n",
      "0.1 705\n",
      "0.1 706\n",
      "0.1 707\n",
      "0.1 708\n",
      "0.1 709\n",
      "0.1 710\n",
      "0.1 711\n",
      "0.1 712\n",
      "0.1 713\n",
      "0.1 714\n",
      "0.1 715\n",
      "0.1 716\n",
      "0.1 717\n",
      "0.1 718\n",
      "0.1 719\n",
      "0.1 720\n",
      "0.1 721\n",
      "0.1 722\n",
      "0.1 723\n",
      "0.1 724\n",
      "0.1 725\n",
      "0.1 726\n",
      "0.1 727\n",
      "0.1 728\n",
      "0.1 729\n",
      "0.1 730\n",
      "0.1 731\n",
      "0.1 732\n",
      "0.1 733\n",
      "0.1 734\n",
      "0.1 735\n",
      "0.1 736\n",
      "0.1 737\n",
      "0.1 738\n",
      "0.1 739\n",
      "0.1 740\n",
      "0.1 741\n",
      "0.1 742\n",
      "0.1 743\n",
      "0.1 744\n",
      "0.1 745\n",
      "0.1 746\n",
      "0.1 747\n",
      "0.1 748\n",
      "0.1 749\n",
      "0.1 750\n",
      "0.1 751\n",
      "0.1 752\n",
      "0.1 753\n",
      "0.1 754\n",
      "0.1 755\n",
      "0.1 756\n",
      "0.1 757\n",
      "0.1 758\n",
      "0.1 759\n",
      "0.1 760\n",
      "0.1 761\n",
      "0.1 762\n",
      "0.1 763\n",
      "0.1 764\n",
      "0.1 765\n",
      "0.1 766\n",
      "0.1 767\n",
      "0.1 768\n",
      "0.1 769\n",
      "0.1 770\n",
      "0.1 771\n",
      "0.1 772\n",
      "0.1 773\n",
      "0.1 774\n",
      "0.1 775\n",
      "0.1 776\n",
      "0.1 777\n",
      "0.1 778\n",
      "0.1 779\n",
      "0.1 780\n",
      "0.1 781\n",
      "0.1 782\n",
      "0.1 783\n",
      "0.1 784\n",
      "0.1 785\n",
      "0.1 786\n",
      "0.1 787\n",
      "0.1 788\n",
      "0.1 789\n",
      "0.1 790\n",
      "0.1 791\n",
      "0.1 792\n",
      "0.1 793\n",
      "0.1 794\n",
      "0.1 795\n",
      "0.1 796\n",
      "0.1 797\n",
      "0.1 798\n",
      "0.1 799\n",
      "0.1 800\n",
      "0.1 801\n",
      "0.1 802\n",
      "0.1 803\n",
      "0.1 804\n",
      "0.1 805\n",
      "0.1 806\n",
      "0.1 807\n",
      "0.1 808\n",
      "0.1 809\n",
      "0.1 810\n",
      "0.1 811\n",
      "0.1 812\n",
      "0.1 813\n",
      "0.1 814\n",
      "0.1 815\n",
      "0.1 816\n",
      "0.1 817\n",
      "0.1 818\n",
      "0.1 819\n",
      "0.1 820\n",
      "0.1 821\n",
      "0.1 822\n",
      "0.1 823\n",
      "0.1 824\n",
      "0.1 825\n",
      "0.1 826\n",
      "0.1 827\n",
      "0.1 828\n",
      "0.1 829\n",
      "0.1 830\n",
      "0.1 831\n",
      "0.1 832\n",
      "0.1 833\n",
      "0.1 834\n",
      "0.1 835\n",
      "0.1 836\n",
      "0.1 837\n",
      "0.1 838\n",
      "0.1 839\n",
      "0.1 840\n",
      "0.1 841\n",
      "0.1 842\n",
      "0.1 843\n",
      "0.1 844\n",
      "0.1 845\n",
      "0.1 846\n",
      "0.1 847\n",
      "0.1 848\n",
      "0.1 849\n",
      "0.1 850\n",
      "0.1 851\n",
      "0.1 852\n",
      "0.1 853\n",
      "0.1 854\n",
      "0.1 855\n",
      "0.1 856\n",
      "0.1 857\n",
      "0.1 858\n",
      "0.1 859\n",
      "0.1 860\n",
      "0.1 861\n",
      "0.1 862\n",
      "0.1 863\n",
      "0.1 864\n",
      "0.1 865\n",
      "0.1 866\n",
      "0.1 867\n",
      "0.1 868\n",
      "0.1 869\n",
      "0.1 870\n",
      "0.1 871\n",
      "0.1 872\n",
      "0.1 873\n",
      "0.1 874\n",
      "0.1 875\n",
      "0.1 876\n",
      "0.1 877\n",
      "0.1 878\n",
      "0.1 879\n",
      "0.1 880\n",
      "0.1 881\n",
      "0.1 882\n",
      "0.1 883\n",
      "0.1 884\n",
      "0.1 885\n",
      "0.1 886\n",
      "0.1 887\n",
      "0.1 888\n",
      "0.1 889\n",
      "0.1 890\n",
      "0.1 891\n",
      "0.1 892\n",
      "0.1 893\n",
      "0.1 894\n",
      "0.1 895\n",
      "0.1 896\n",
      "0.1 897\n",
      "0.1 898\n",
      "0.1 899\n",
      "0.1 900\n",
      "0.1 901\n",
      "0.1 902\n",
      "0.1 903\n",
      "0.1 904\n",
      "0.1 905\n",
      "0.1 906\n",
      "0.1 907\n",
      "0.1 908\n",
      "0.1 909\n",
      "0.1 910\n",
      "0.1 911\n",
      "0.1 912\n",
      "0.1 913\n",
      "0.1 914\n",
      "0.1 915\n",
      "0.1 916\n",
      "0.1 917\n",
      "0.1 918\n",
      "0.1 919\n",
      "0.1 920\n",
      "0.1 921\n",
      "0.1 922\n",
      "0.1 923\n",
      "0.1 924\n",
      "0.1 925\n",
      "0.1 926\n",
      "0.1 927\n",
      "0.1 928\n",
      "0.1 929\n",
      "0.1 930\n",
      "0.1 931\n",
      "0.1 932\n",
      "0.1 933\n",
      "0.1 934\n",
      "0.1 935\n",
      "0.1 936\n",
      "0.1 937\n",
      "0.1 938\n",
      "0.1 939\n",
      "0.1 940\n",
      "0.1 941\n",
      "0.1 942\n",
      "0.1 943\n",
      "0.1 944\n",
      "0.1 945\n",
      "0.1 946\n",
      "0.1 947\n",
      "0.1 948\n",
      "0.1 949\n",
      "0.1 950\n",
      "0.1 951\n",
      "0.1 952\n",
      "0.1 953\n",
      "0.1 954\n",
      "0.1 955\n",
      "0.1 956\n",
      "0.1 957\n",
      "0.1 958\n",
      "0.1 959\n",
      "0.1 960\n",
      "0.1 961\n",
      "0.1 962\n",
      "0.1 963\n",
      "0.1 964\n",
      "0.1 965\n",
      "0.1 966\n",
      "0.1 967\n",
      "0.1 968\n",
      "0.1 969\n",
      "0.1 970\n",
      "0.1 971\n",
      "0.1 972\n",
      "0.1 973\n",
      "0.1 974\n",
      "0.1 975\n",
      "0.1 976\n",
      "0.1 977\n",
      "0.1 978\n",
      "0.1 979\n",
      "0.1 980\n",
      "0.1 981\n",
      "0.1 982\n",
      "0.1 983\n",
      "0.1 984\n",
      "0.1 985\n",
      "0.1 986\n",
      "0.1 987\n",
      "0.1 988\n",
      "0.1 989\n",
      "0.1 990\n",
      "0.1 991\n",
      "0.1 992\n",
      "0.1 993\n",
      "0.1 994\n",
      "0.1 995\n",
      "0.1 996\n",
      "0.1 997\n",
      "0.1 998\n",
      "0.1 999\n",
      "0.7555555555555555 100\n",
      "0.7555555555555555 101\n",
      "0.7555555555555555 102\n",
      "0.7555555555555555 103\n",
      "0.7555555555555555 104\n",
      "0.7555555555555555 105\n",
      "0.7555555555555555 106\n",
      "0.7555555555555555 107\n",
      "0.7555555555555555 108\n",
      "0.7555555555555555 109\n",
      "0.7555555555555555 110\n",
      "0.7555555555555555 111\n",
      "0.7555555555555555 112\n",
      "0.7555555555555555 113\n",
      "0.7555555555555555 114\n",
      "0.7555555555555555 115\n",
      "0.7555555555555555 116\n",
      "0.7555555555555555 117\n",
      "0.7555555555555555 118\n",
      "0.7555555555555555 119\n",
      "0.7555555555555555 120\n",
      "0.7555555555555555 121\n",
      "0.7555555555555555 122\n",
      "0.7555555555555555 123\n",
      "0.7555555555555555 124\n",
      "0.7555555555555555 125\n",
      "0.7555555555555555 126\n",
      "0.7555555555555555 127\n",
      "0.7555555555555555 128\n",
      "0.7555555555555555 129\n",
      "0.7555555555555555 130\n",
      "0.7555555555555555 131\n",
      "0.7555555555555555 132\n",
      "0.7555555555555555 133\n",
      "0.7555555555555555 134\n",
      "0.7555555555555555 135\n",
      "0.7555555555555555 136\n",
      "0.7555555555555555 137\n",
      "0.7555555555555555 138\n",
      "0.7555555555555555 139\n",
      "0.7555555555555555 140\n",
      "0.7555555555555555 141\n",
      "0.7555555555555555 142\n",
      "0.7555555555555555 143\n",
      "0.7555555555555555 144\n",
      "0.7555555555555555 145\n",
      "0.7555555555555555 146\n",
      "0.7555555555555555 147\n",
      "0.7555555555555555 148\n",
      "0.7555555555555555 149\n",
      "0.7555555555555555 150\n",
      "0.7555555555555555 151\n",
      "0.7555555555555555 152\n",
      "0.7555555555555555 153\n",
      "0.7555555555555555 154\n",
      "0.7555555555555555 155\n",
      "0.7555555555555555 156\n",
      "0.7555555555555555 157\n",
      "0.7555555555555555 158\n",
      "0.7555555555555555 159\n",
      "0.7555555555555555 160\n",
      "0.7555555555555555 161\n",
      "0.7555555555555555 162\n",
      "0.7555555555555555 163\n",
      "0.7555555555555555 164\n",
      "0.7555555555555555 165\n",
      "0.7555555555555555 166\n",
      "0.7555555555555555 167\n",
      "0.7555555555555555 168\n",
      "0.7555555555555555 169\n",
      "0.7555555555555555 170\n",
      "0.7555555555555555 171\n",
      "0.7555555555555555 172\n",
      "0.7555555555555555 173\n",
      "0.7555555555555555 174\n",
      "0.7555555555555555 175\n",
      "0.7555555555555555 176\n",
      "0.7555555555555555 177\n",
      "0.7555555555555555 178\n",
      "0.7555555555555555 179\n",
      "0.7555555555555555 180\n",
      "0.7555555555555555 181\n",
      "0.7555555555555555 182\n",
      "0.7555555555555555 183\n",
      "0.7555555555555555 184\n",
      "0.7555555555555555 185\n",
      "0.7555555555555555 186\n",
      "0.7555555555555555 187\n",
      "0.7555555555555555 188\n",
      "0.7555555555555555 189\n",
      "0.7555555555555555 190\n",
      "0.7555555555555555 191\n",
      "0.7555555555555555 192\n",
      "0.7555555555555555 193\n",
      "0.7555555555555555 194\n",
      "0.7555555555555555 195\n",
      "0.7555555555555555 196\n",
      "0.7555555555555555 197\n",
      "0.7555555555555555 198\n",
      "0.7555555555555555 199\n",
      "0.7555555555555555 200\n",
      "0.7555555555555555 201\n",
      "0.7555555555555555 202\n",
      "0.7555555555555555 203\n",
      "0.7555555555555555 204\n",
      "0.7555555555555555 205\n",
      "0.7555555555555555 206\n",
      "0.7555555555555555 207\n",
      "0.7555555555555555 208\n",
      "0.7555555555555555 209\n",
      "0.7555555555555555 210\n",
      "0.7555555555555555 211\n",
      "0.7555555555555555 212\n",
      "0.7555555555555555 213\n",
      "0.7555555555555555 214\n",
      "0.7555555555555555 215\n",
      "0.7555555555555555 216\n",
      "0.7555555555555555 217\n",
      "0.7555555555555555 218\n",
      "0.7555555555555555 219\n",
      "0.7555555555555555 220\n",
      "0.7555555555555555 221\n",
      "0.7555555555555555 222\n",
      "0.7555555555555555 223\n",
      "0.7555555555555555 224\n",
      "0.7555555555555555 225\n",
      "0.7555555555555555 226\n",
      "0.7555555555555555 227\n",
      "0.7555555555555555 228\n",
      "0.7555555555555555 229\n",
      "0.7555555555555555 230\n",
      "0.7555555555555555 231\n",
      "0.7555555555555555 232\n",
      "0.7555555555555555 233\n",
      "0.7555555555555555 234\n",
      "0.7555555555555555 235\n",
      "0.7555555555555555 236\n",
      "0.7555555555555555 237\n",
      "0.7555555555555555 238\n",
      "0.7555555555555555 239\n",
      "0.7555555555555555 240\n",
      "0.7555555555555555 241\n",
      "0.7555555555555555 242\n",
      "0.7555555555555555 243\n",
      "0.7555555555555555 244\n",
      "0.7555555555555555 245\n",
      "0.7555555555555555 246\n",
      "0.7555555555555555 247\n",
      "0.7555555555555555 248\n",
      "0.7555555555555555 249\n",
      "0.7555555555555555 250\n",
      "0.7555555555555555 251\n",
      "0.7555555555555555 252\n",
      "0.7555555555555555 253\n",
      "0.7555555555555555 254\n",
      "0.7555555555555555 255\n",
      "0.7555555555555555 256\n",
      "0.7555555555555555 257\n",
      "0.7555555555555555 258\n",
      "0.7555555555555555 259\n",
      "0.7555555555555555 260\n",
      "0.7555555555555555 261\n",
      "0.7555555555555555 262\n",
      "0.7555555555555555 263\n",
      "0.7555555555555555 264\n",
      "0.7555555555555555 265\n",
      "0.7555555555555555 266\n",
      "0.7555555555555555 267\n",
      "0.7555555555555555 268\n",
      "0.7555555555555555 269\n",
      "0.7555555555555555 270\n",
      "0.7555555555555555 271\n",
      "0.7555555555555555 272\n",
      "0.7555555555555555 273\n",
      "0.7555555555555555 274\n",
      "0.7555555555555555 275\n",
      "0.7555555555555555 276\n",
      "0.7555555555555555 277\n",
      "0.7555555555555555 278\n",
      "0.7555555555555555 279\n",
      "0.7555555555555555 280\n",
      "0.7555555555555555 281\n",
      "0.7555555555555555 282\n",
      "0.7555555555555555 283\n",
      "0.7555555555555555 284\n",
      "0.7555555555555555 285\n",
      "0.7555555555555555 286\n",
      "0.7555555555555555 287\n",
      "0.7555555555555555 288\n",
      "0.7555555555555555 289\n",
      "0.7555555555555555 290\n",
      "0.7555555555555555 291\n",
      "0.7555555555555555 292\n",
      "0.7555555555555555 293\n",
      "0.7555555555555555 294\n",
      "0.7555555555555555 295\n",
      "0.7555555555555555 296\n",
      "0.7555555555555555 297\n",
      "0.7555555555555555 298\n",
      "0.7555555555555555 299\n",
      "0.7555555555555555 300\n",
      "0.7555555555555555 301\n",
      "0.7555555555555555 302\n",
      "0.7555555555555555 303\n",
      "0.7555555555555555 304\n",
      "0.7555555555555555 305\n",
      "0.7555555555555555 306\n",
      "0.7555555555555555 307\n",
      "0.7555555555555555 308\n",
      "0.7555555555555555 309\n",
      "0.7555555555555555 310\n",
      "0.7555555555555555 311\n",
      "0.7555555555555555 312\n",
      "0.7555555555555555 313\n",
      "0.7555555555555555 314\n",
      "0.7555555555555555 315\n",
      "0.7555555555555555 316\n",
      "0.7555555555555555 317\n",
      "0.7555555555555555 318\n",
      "0.7555555555555555 319\n",
      "0.7555555555555555 320\n",
      "0.7555555555555555 321\n",
      "0.7555555555555555 322\n",
      "0.7555555555555555 323\n",
      "0.7555555555555555 324\n",
      "0.7555555555555555 325\n",
      "0.7555555555555555 326\n",
      "0.7555555555555555 327\n",
      "0.7555555555555555 328\n",
      "0.7555555555555555 329\n",
      "0.7555555555555555 330\n",
      "0.7555555555555555 331\n",
      "0.7555555555555555 332\n",
      "0.7555555555555555 333\n",
      "0.7555555555555555 334\n",
      "0.7555555555555555 335\n",
      "0.7555555555555555 336\n",
      "0.7555555555555555 337\n",
      "0.7555555555555555 338\n",
      "0.7555555555555555 339\n",
      "0.7555555555555555 340\n",
      "0.7555555555555555 341\n",
      "0.7555555555555555 342\n",
      "0.7555555555555555 343\n",
      "0.7555555555555555 344\n",
      "0.7555555555555555 345\n",
      "0.7555555555555555 346\n",
      "0.7555555555555555 347\n",
      "0.7555555555555555 348\n",
      "0.7555555555555555 349\n",
      "0.7555555555555555 350\n",
      "0.7555555555555555 351\n",
      "0.7555555555555555 352\n",
      "0.7555555555555555 353\n",
      "0.7555555555555555 354\n",
      "0.7555555555555555 355\n",
      "0.7555555555555555 356\n",
      "0.7555555555555555 357\n",
      "0.7555555555555555 358\n",
      "0.7555555555555555 359\n",
      "0.7555555555555555 360\n",
      "0.7555555555555555 361\n",
      "0.7555555555555555 362\n",
      "0.7555555555555555 363\n",
      "0.7555555555555555 364\n",
      "0.7555555555555555 365\n",
      "0.7555555555555555 366\n",
      "0.7555555555555555 367\n",
      "0.7555555555555555 368\n",
      "0.7555555555555555 369\n",
      "0.7555555555555555 370\n",
      "0.7555555555555555 371\n",
      "0.7555555555555555 372\n",
      "0.7555555555555555 373\n",
      "0.7555555555555555 374\n",
      "0.7555555555555555 375\n",
      "0.7555555555555555 376\n",
      "0.7555555555555555 377\n",
      "0.7555555555555555 378\n",
      "0.7555555555555555 379\n",
      "0.7555555555555555 380\n",
      "0.7555555555555555 381\n",
      "0.7555555555555555 382\n",
      "0.7555555555555555 383\n",
      "0.7555555555555555 384\n",
      "0.7555555555555555 385\n",
      "0.7555555555555555 386\n",
      "0.7555555555555555 387\n",
      "0.7555555555555555 388\n",
      "0.7555555555555555 389\n",
      "0.7555555555555555 390\n",
      "0.7555555555555555 391\n",
      "0.7555555555555555 392\n",
      "0.7555555555555555 393\n",
      "0.7555555555555555 394\n",
      "0.7555555555555555 395\n",
      "0.7555555555555555 396\n",
      "0.7555555555555555 397\n",
      "0.7555555555555555 398\n",
      "0.7555555555555555 399\n",
      "0.7555555555555555 400\n",
      "0.7555555555555555 401\n",
      "0.7555555555555555 402\n",
      "0.7555555555555555 403\n",
      "0.7555555555555555 404\n",
      "0.7555555555555555 405\n",
      "0.7555555555555555 406\n",
      "0.7555555555555555 407\n",
      "0.7555555555555555 408\n",
      "0.7555555555555555 409\n",
      "0.7555555555555555 410\n",
      "0.7555555555555555 411\n",
      "0.7555555555555555 412\n",
      "0.7555555555555555 413\n",
      "0.7555555555555555 414\n",
      "0.7555555555555555 415\n",
      "0.7555555555555555 416\n",
      "0.7555555555555555 417\n",
      "0.7555555555555555 418\n",
      "0.7555555555555555 419\n",
      "0.7555555555555555 420\n",
      "0.7555555555555555 421\n",
      "0.7555555555555555 422\n",
      "0.7555555555555555 423\n",
      "0.7555555555555555 424\n",
      "0.7555555555555555 425\n",
      "0.7555555555555555 426\n",
      "0.7555555555555555 427\n",
      "0.7555555555555555 428\n",
      "0.7555555555555555 429\n",
      "0.7555555555555555 430\n",
      "0.7555555555555555 431\n",
      "0.7555555555555555 432\n",
      "0.7555555555555555 433\n",
      "0.7555555555555555 434\n",
      "0.7555555555555555 435\n",
      "0.7555555555555555 436\n",
      "0.7555555555555555 437\n",
      "0.7555555555555555 438\n",
      "0.7555555555555555 439\n",
      "0.7555555555555555 440\n",
      "0.7555555555555555 441\n",
      "0.7555555555555555 442\n",
      "0.7555555555555555 443\n",
      "0.7555555555555555 444\n",
      "0.7555555555555555 445\n",
      "0.7555555555555555 446\n",
      "0.7555555555555555 447\n",
      "0.7555555555555555 448\n",
      "0.7555555555555555 449\n",
      "0.7555555555555555 450\n",
      "0.7555555555555555 451\n",
      "0.7555555555555555 452\n",
      "0.7555555555555555 453\n",
      "0.7555555555555555 454\n",
      "0.7555555555555555 455\n",
      "0.7555555555555555 456\n",
      "0.7555555555555555 457\n",
      "0.7555555555555555 458\n",
      "0.7555555555555555 459\n",
      "0.7555555555555555 460\n",
      "0.7555555555555555 461\n",
      "0.7555555555555555 462\n",
      "0.7555555555555555 463\n",
      "0.7555555555555555 464\n",
      "0.7555555555555555 465\n",
      "0.7555555555555555 466\n",
      "0.7555555555555555 467\n",
      "0.7555555555555555 468\n",
      "0.7555555555555555 469\n",
      "0.7555555555555555 470\n",
      "0.7555555555555555 471\n",
      "0.7555555555555555 472\n",
      "0.7555555555555555 473\n",
      "0.7555555555555555 474\n",
      "0.7555555555555555 475\n",
      "0.7555555555555555 476\n",
      "0.7555555555555555 477\n",
      "0.7555555555555555 478\n",
      "0.7555555555555555 479\n",
      "0.7555555555555555 480\n",
      "0.7555555555555555 481\n",
      "0.7555555555555555 482\n",
      "0.7555555555555555 483\n",
      "0.7555555555555555 484\n",
      "0.7555555555555555 485\n",
      "0.7555555555555555 486\n",
      "0.7555555555555555 487\n",
      "0.7555555555555555 488\n",
      "0.7555555555555555 489\n",
      "0.7555555555555555 490\n",
      "0.7555555555555555 491\n",
      "0.7555555555555555 492\n",
      "0.7555555555555555 493\n",
      "0.7555555555555555 494\n",
      "0.7555555555555555 495\n",
      "0.7555555555555555 496\n",
      "0.7555555555555555 497\n",
      "0.7555555555555555 498\n",
      "0.7555555555555555 499\n",
      "0.7555555555555555 500\n",
      "0.7555555555555555 501\n",
      "0.7555555555555555 502\n",
      "0.7555555555555555 503\n",
      "0.7555555555555555 504\n",
      "0.7555555555555555 505\n",
      "0.7555555555555555 506\n",
      "0.7555555555555555 507\n",
      "0.7555555555555555 508\n",
      "0.7555555555555555 509\n",
      "0.7555555555555555 510\n",
      "0.7555555555555555 511\n",
      "0.7555555555555555 512\n",
      "0.7555555555555555 513\n",
      "0.7555555555555555 514\n",
      "0.7555555555555555 515\n",
      "0.7555555555555555 516\n",
      "0.7555555555555555 517\n",
      "0.7555555555555555 518\n",
      "0.7555555555555555 519\n",
      "0.7555555555555555 520\n",
      "0.7555555555555555 521\n",
      "0.7555555555555555 522\n",
      "0.7555555555555555 523\n",
      "0.7555555555555555 524\n",
      "0.7555555555555555 525\n",
      "0.7555555555555555 526\n",
      "0.7555555555555555 527\n",
      "0.7555555555555555 528\n",
      "0.7555555555555555 529\n",
      "0.7555555555555555 530\n",
      "0.7555555555555555 531\n",
      "0.7555555555555555 532\n",
      "0.7555555555555555 533\n",
      "0.7555555555555555 534\n",
      "0.7555555555555555 535\n",
      "0.7555555555555555 536\n",
      "0.7555555555555555 537\n",
      "0.7555555555555555 538\n",
      "0.7555555555555555 539\n",
      "0.7555555555555555 540\n",
      "0.7555555555555555 541\n",
      "0.7555555555555555 542\n",
      "0.7555555555555555 543\n",
      "0.7555555555555555 544\n",
      "0.7555555555555555 545\n",
      "0.7555555555555555 546\n",
      "0.7555555555555555 547\n",
      "0.7555555555555555 548\n",
      "0.7555555555555555 549\n",
      "0.7555555555555555 550\n",
      "0.7555555555555555 551\n",
      "0.7555555555555555 552\n",
      "0.7555555555555555 553\n",
      "0.7555555555555555 554\n",
      "0.7555555555555555 555\n",
      "0.7555555555555555 556\n",
      "0.7555555555555555 557\n",
      "0.7555555555555555 558\n",
      "0.7555555555555555 559\n",
      "0.7555555555555555 560\n",
      "0.7555555555555555 561\n",
      "0.7555555555555555 562\n",
      "0.7555555555555555 563\n",
      "0.7555555555555555 564\n",
      "0.7555555555555555 565\n",
      "0.7555555555555555 566\n",
      "0.7555555555555555 567\n",
      "0.7555555555555555 568\n",
      "0.7555555555555555 569\n",
      "0.7555555555555555 570\n",
      "0.7555555555555555 571\n",
      "0.7555555555555555 572\n",
      "0.7555555555555555 573\n",
      "0.7555555555555555 574\n",
      "0.7555555555555555 575\n",
      "0.7555555555555555 576\n",
      "0.7555555555555555 577\n",
      "0.7555555555555555 578\n",
      "0.7555555555555555 579\n",
      "0.7555555555555555 580\n",
      "0.7555555555555555 581\n",
      "0.7555555555555555 582\n",
      "0.7555555555555555 583\n",
      "0.7555555555555555 584\n",
      "0.7555555555555555 585\n",
      "0.7555555555555555 586\n",
      "0.7555555555555555 587\n",
      "0.7555555555555555 588\n",
      "0.7555555555555555 589\n",
      "0.7555555555555555 590\n",
      "0.7555555555555555 591\n",
      "0.7555555555555555 592\n",
      "0.7555555555555555 593\n",
      "0.7555555555555555 594\n",
      "0.7555555555555555 595\n",
      "0.7555555555555555 596\n",
      "0.7555555555555555 597\n",
      "0.7555555555555555 598\n",
      "0.7555555555555555 599\n",
      "0.7555555555555555 600\n",
      "0.7555555555555555 601\n",
      "0.7555555555555555 602\n",
      "0.7555555555555555 603\n",
      "0.7555555555555555 604\n",
      "0.7555555555555555 605\n",
      "0.7555555555555555 606\n",
      "0.7555555555555555 607\n",
      "0.7555555555555555 608\n",
      "0.7555555555555555 609\n",
      "0.7555555555555555 610\n",
      "0.7555555555555555 611\n",
      "0.7555555555555555 612\n",
      "0.7555555555555555 613\n",
      "0.7555555555555555 614\n",
      "0.7555555555555555 615\n",
      "0.7555555555555555 616\n",
      "0.7555555555555555 617\n",
      "0.7555555555555555 618\n",
      "0.7555555555555555 619\n",
      "0.7555555555555555 620\n",
      "0.7555555555555555 621\n",
      "0.7555555555555555 622\n",
      "0.7555555555555555 623\n",
      "0.7555555555555555 624\n",
      "0.7555555555555555 625\n",
      "0.7555555555555555 626\n",
      "0.7555555555555555 627\n",
      "0.7555555555555555 628\n",
      "0.7555555555555555 629\n",
      "0.7555555555555555 630\n",
      "0.7555555555555555 631\n",
      "0.7555555555555555 632\n",
      "0.7555555555555555 633\n",
      "0.7555555555555555 634\n",
      "0.7555555555555555 635\n",
      "0.7555555555555555 636\n",
      "0.7555555555555555 637\n",
      "0.7555555555555555 638\n",
      "0.7555555555555555 639\n",
      "0.7555555555555555 640\n",
      "0.7555555555555555 641\n",
      "0.7555555555555555 642\n",
      "0.7555555555555555 643\n",
      "0.7555555555555555 644\n",
      "0.7555555555555555 645\n",
      "0.7555555555555555 646\n",
      "0.7555555555555555 647\n",
      "0.7555555555555555 648\n",
      "0.7555555555555555 649\n",
      "0.7555555555555555 650\n",
      "0.7555555555555555 651\n",
      "0.7555555555555555 652\n",
      "0.7555555555555555 653\n",
      "0.7555555555555555 654\n",
      "0.7555555555555555 655\n",
      "0.7555555555555555 656\n",
      "0.7555555555555555 657\n",
      "0.7555555555555555 658\n",
      "0.7555555555555555 659\n",
      "0.7555555555555555 660\n",
      "0.7555555555555555 661\n",
      "0.7555555555555555 662\n",
      "0.7555555555555555 663\n",
      "0.7555555555555555 664\n",
      "0.7555555555555555 665\n",
      "0.7555555555555555 666\n",
      "0.7555555555555555 667\n",
      "0.7555555555555555 668\n",
      "0.7555555555555555 669\n",
      "0.7555555555555555 670\n",
      "0.7555555555555555 671\n",
      "0.7555555555555555 672\n",
      "0.7555555555555555 673\n",
      "0.7555555555555555 674\n",
      "0.7555555555555555 675\n",
      "0.7555555555555555 676\n",
      "0.7555555555555555 677\n",
      "0.7555555555555555 678\n",
      "0.7555555555555555 679\n",
      "0.7555555555555555 680\n",
      "0.7555555555555555 681\n",
      "0.7555555555555555 682\n",
      "0.7555555555555555 683\n",
      "0.7555555555555555 684\n",
      "0.7555555555555555 685\n",
      "0.7555555555555555 686\n",
      "0.7555555555555555 687\n",
      "0.7555555555555555 688\n",
      "0.7555555555555555 689\n",
      "0.7555555555555555 690\n",
      "0.7555555555555555 691\n",
      "0.7555555555555555 692\n",
      "0.7555555555555555 693\n",
      "0.7555555555555555 694\n",
      "0.7555555555555555 695\n",
      "0.7555555555555555 696\n",
      "0.7555555555555555 697\n",
      "0.7555555555555555 698\n",
      "0.7555555555555555 699\n",
      "0.7555555555555555 700\n",
      "0.7555555555555555 701\n",
      "0.7555555555555555 702\n",
      "0.7555555555555555 703\n",
      "0.7555555555555555 704\n",
      "0.7555555555555555 705\n",
      "0.7555555555555555 706\n",
      "0.7555555555555555 707\n",
      "0.7555555555555555 708\n",
      "0.7555555555555555 709\n",
      "0.7555555555555555 710\n",
      "0.7555555555555555 711\n",
      "0.7555555555555555 712\n",
      "0.7555555555555555 713\n",
      "0.7555555555555555 714\n",
      "0.7555555555555555 715\n",
      "0.7555555555555555 716\n",
      "0.7555555555555555 717\n",
      "0.7555555555555555 718\n",
      "0.7555555555555555 719\n",
      "0.7555555555555555 720\n",
      "0.7555555555555555 721\n",
      "0.7555555555555555 722\n",
      "0.7555555555555555 723\n",
      "0.7555555555555555 724\n",
      "0.7555555555555555 725\n",
      "0.7555555555555555 726\n",
      "0.7555555555555555 727\n",
      "0.7555555555555555 728\n",
      "0.7555555555555555 729\n",
      "0.7555555555555555 730\n",
      "0.7555555555555555 731\n",
      "0.7555555555555555 732\n",
      "0.7555555555555555 733\n",
      "0.7555555555555555 734\n",
      "0.7555555555555555 735\n",
      "0.7555555555555555 736\n",
      "0.7555555555555555 737\n",
      "0.7555555555555555 738\n",
      "0.7555555555555555 739\n",
      "0.7555555555555555 740\n",
      "0.7555555555555555 741\n",
      "0.7555555555555555 742\n",
      "0.7555555555555555 743\n",
      "0.7555555555555555 744\n",
      "0.7555555555555555 745\n",
      "0.7555555555555555 746\n",
      "0.7555555555555555 747\n",
      "0.7555555555555555 748\n",
      "0.7555555555555555 749\n",
      "0.7555555555555555 750\n",
      "0.7555555555555555 751\n",
      "0.7555555555555555 752\n",
      "0.7555555555555555 753\n",
      "0.7555555555555555 754\n",
      "0.7555555555555555 755\n",
      "0.7555555555555555 756\n",
      "0.7555555555555555 757\n",
      "0.7555555555555555 758\n",
      "0.7555555555555555 759\n",
      "0.7555555555555555 760\n",
      "0.7555555555555555 761\n",
      "0.7555555555555555 762\n",
      "0.7555555555555555 763\n",
      "0.7555555555555555 764\n",
      "0.7555555555555555 765\n",
      "0.7555555555555555 766\n",
      "0.7555555555555555 767\n",
      "0.7555555555555555 768\n",
      "0.7555555555555555 769\n",
      "0.7555555555555555 770\n",
      "0.7555555555555555 771\n",
      "0.7555555555555555 772\n",
      "0.7555555555555555 773\n",
      "0.7555555555555555 774\n",
      "0.7555555555555555 775\n",
      "0.7555555555555555 776\n",
      "0.7555555555555555 777\n",
      "0.7555555555555555 778\n",
      "0.7555555555555555 779\n",
      "0.7555555555555555 780\n",
      "0.7555555555555555 781\n",
      "0.7555555555555555 782\n",
      "0.7555555555555555 783\n",
      "0.7555555555555555 784\n",
      "0.7555555555555555 785\n",
      "0.7555555555555555 786\n",
      "0.7555555555555555 787\n",
      "0.7555555555555555 788\n",
      "0.7555555555555555 789\n",
      "0.7555555555555555 790\n",
      "0.7555555555555555 791\n",
      "0.7555555555555555 792\n",
      "0.7555555555555555 793\n",
      "0.7555555555555555 794\n",
      "0.7555555555555555 795\n",
      "0.7555555555555555 796\n",
      "0.7555555555555555 797\n",
      "0.7555555555555555 798\n",
      "0.7555555555555555 799\n",
      "0.7555555555555555 800\n",
      "0.7555555555555555 801\n",
      "0.7555555555555555 802\n",
      "0.7555555555555555 803\n",
      "0.7555555555555555 804\n",
      "0.7555555555555555 805\n",
      "0.7555555555555555 806\n",
      "0.7555555555555555 807\n",
      "0.7555555555555555 808\n",
      "0.7555555555555555 809\n",
      "0.7555555555555555 810\n",
      "0.7555555555555555 811\n",
      "0.7555555555555555 812\n",
      "0.7555555555555555 813\n",
      "0.7555555555555555 814\n",
      "0.7555555555555555 815\n",
      "0.7555555555555555 816\n",
      "0.7555555555555555 817\n",
      "0.7555555555555555 818\n",
      "0.7555555555555555 819\n",
      "0.7555555555555555 820\n",
      "0.7555555555555555 821\n",
      "0.7555555555555555 822\n",
      "0.7555555555555555 823\n",
      "0.7555555555555555 824\n",
      "0.7555555555555555 825\n",
      "0.7555555555555555 826\n",
      "0.7555555555555555 827\n",
      "0.7555555555555555 828\n",
      "0.7555555555555555 829\n",
      "0.7555555555555555 830\n",
      "0.7555555555555555 831\n",
      "0.7555555555555555 832\n",
      "0.7555555555555555 833\n",
      "0.7555555555555555 834\n",
      "0.7555555555555555 835\n",
      "0.7555555555555555 836\n",
      "0.7555555555555555 837\n",
      "0.7555555555555555 838\n",
      "0.7555555555555555 839\n",
      "0.7555555555555555 840\n",
      "0.7555555555555555 841\n",
      "0.7555555555555555 842\n",
      "0.7555555555555555 843\n",
      "0.7555555555555555 844\n",
      "0.7555555555555555 845\n",
      "0.7555555555555555 846\n",
      "0.7555555555555555 847\n",
      "0.7555555555555555 848\n",
      "0.7555555555555555 849\n",
      "0.7555555555555555 850\n",
      "0.7555555555555555 851\n",
      "0.7555555555555555 852\n",
      "0.7555555555555555 853\n",
      "0.7555555555555555 854\n",
      "0.7555555555555555 855\n",
      "0.7555555555555555 856\n",
      "0.7555555555555555 857\n",
      "0.7555555555555555 858\n",
      "0.7555555555555555 859\n",
      "0.7555555555555555 860\n",
      "0.7555555555555555 861\n",
      "0.7555555555555555 862\n",
      "0.7555555555555555 863\n",
      "0.7555555555555555 864\n",
      "0.7555555555555555 865\n",
      "0.7555555555555555 866\n",
      "0.7555555555555555 867\n",
      "0.7555555555555555 868\n",
      "0.7555555555555555 869\n",
      "0.7555555555555555 870\n",
      "0.7555555555555555 871\n",
      "0.7555555555555555 872\n",
      "0.7555555555555555 873\n",
      "0.7555555555555555 874\n",
      "0.7555555555555555 875\n",
      "0.7555555555555555 876\n",
      "0.7555555555555555 877\n",
      "0.7555555555555555 878\n",
      "0.7555555555555555 879\n",
      "0.7555555555555555 880\n",
      "0.7555555555555555 881\n",
      "0.7555555555555555 882\n",
      "0.7555555555555555 883\n",
      "0.7555555555555555 884\n",
      "0.7555555555555555 885\n",
      "0.7555555555555555 886\n",
      "0.7555555555555555 887\n",
      "0.7555555555555555 888\n",
      "0.7555555555555555 889\n",
      "0.7555555555555555 890\n",
      "0.7555555555555555 891\n",
      "0.7555555555555555 892\n",
      "0.7555555555555555 893\n",
      "0.7555555555555555 894\n",
      "0.7555555555555555 895\n",
      "0.7555555555555555 896\n",
      "0.7555555555555555 897\n",
      "0.7555555555555555 898\n",
      "0.7555555555555555 899\n",
      "0.7555555555555555 900\n",
      "0.7555555555555555 901\n",
      "0.7555555555555555 902\n",
      "0.7555555555555555 903\n",
      "0.7555555555555555 904\n",
      "0.7555555555555555 905\n",
      "0.7555555555555555 906\n",
      "0.7555555555555555 907\n",
      "0.7555555555555555 908\n",
      "0.7555555555555555 909\n",
      "0.7555555555555555 910\n",
      "0.7555555555555555 911\n",
      "0.7555555555555555 912\n",
      "0.7555555555555555 913\n",
      "0.7555555555555555 914\n",
      "0.7555555555555555 915\n",
      "0.7555555555555555 916\n",
      "0.7555555555555555 917\n",
      "0.7555555555555555 918\n",
      "0.7555555555555555 919\n",
      "0.7555555555555555 920\n",
      "0.7555555555555555 921\n",
      "0.7555555555555555 922\n",
      "0.7555555555555555 923\n",
      "0.7555555555555555 924\n",
      "0.7555555555555555 925\n",
      "0.7555555555555555 926\n",
      "0.7555555555555555 927\n",
      "0.7555555555555555 928\n",
      "0.7555555555555555 929\n",
      "0.7555555555555555 930\n",
      "0.7555555555555555 931\n",
      "0.7555555555555555 932\n",
      "0.7555555555555555 933\n",
      "0.7555555555555555 934\n",
      "0.7555555555555555 935\n",
      "0.7555555555555555 936\n",
      "0.7555555555555555 937\n",
      "0.7555555555555555 938\n",
      "0.7555555555555555 939\n",
      "0.7555555555555555 940\n",
      "0.7555555555555555 941\n",
      "0.7555555555555555 942\n",
      "0.7555555555555555 943\n",
      "0.7555555555555555 944\n",
      "0.7555555555555555 945\n",
      "0.7555555555555555 946\n",
      "0.7555555555555555 947\n",
      "0.7555555555555555 948\n",
      "0.7555555555555555 949\n",
      "0.7555555555555555 950\n",
      "0.7555555555555555 951\n",
      "0.7555555555555555 952\n",
      "0.7555555555555555 953\n",
      "0.7555555555555555 954\n",
      "0.7555555555555555 955\n",
      "0.7555555555555555 956\n",
      "0.7555555555555555 957\n",
      "0.7555555555555555 958\n",
      "0.7555555555555555 959\n",
      "0.7555555555555555 960\n",
      "0.7555555555555555 961\n",
      "0.7555555555555555 962\n",
      "0.7555555555555555 963\n",
      "0.7555555555555555 964\n",
      "0.7555555555555555 965\n",
      "0.7555555555555555 966\n",
      "0.7555555555555555 967\n",
      "0.7555555555555555 968\n",
      "0.7555555555555555 969\n",
      "0.7555555555555555 970\n",
      "0.7555555555555555 971\n",
      "0.7555555555555555 972\n",
      "0.7555555555555555 973\n",
      "0.7555555555555555 974\n",
      "0.7555555555555555 975\n",
      "0.7555555555555555 976\n",
      "0.7555555555555555 977\n",
      "0.7555555555555555 978\n",
      "0.7555555555555555 979\n",
      "0.7555555555555555 980\n",
      "0.7555555555555555 981\n",
      "0.7555555555555555 982\n",
      "0.7555555555555555 983\n",
      "0.7555555555555555 984\n",
      "0.7555555555555555 985\n",
      "0.7555555555555555 986\n",
      "0.7555555555555555 987\n",
      "0.7555555555555555 988\n",
      "0.7555555555555555 989\n",
      "0.7555555555555555 990\n",
      "0.7555555555555555 991\n",
      "0.7555555555555555 992\n",
      "0.7555555555555555 993\n",
      "0.7555555555555555 994\n",
      "0.7555555555555555 995\n",
      "0.7555555555555555 996\n",
      "0.7555555555555555 997\n",
      "0.7555555555555555 998\n",
      "0.7555555555555555 999\n",
      "1.4111111111111112 100\n",
      "1.4111111111111112 101\n",
      "1.4111111111111112 102\n",
      "1.4111111111111112 103\n"
=======
      "/var/folders/5s/mpby42n15_ng7rv494cv19tw0000gn/T/ipykernel_55200/2565879204.py:56: RuntimeWarning: invalid value encountered in divide\n",
=======
      "/var/folders/5s/mpby42n15_ng7rv494cv19tw0000gn/T/ipykernel_68835/2565879204.py:56: RuntimeWarning: invalid value encountered in divide\n",
>>>>>>> 4857a4acfafead272386dec65c9f6415f438ef18
      "  Alkappa = modlmap**4*1/integral/4\n",
      "/Users/omard/Documents/projects/symlens/symlens/utils.py:170: RuntimeWarning: invalid value encountered in divide\n",
      "  res = np.bincount(self.digitized,(data2d).reshape(-1))[1:-1]/np.bincount(self.digitized)[1:-1]\n",
      "/Users/omard/Documents/projects/symlens/symlens/qe.py:748: RuntimeWarning: overflow encountered in multiply\n",
      "  return Al * modlmap*(modlmap+1.)/4.\n",
      "/Users/omard/Documents/projects/symlens/symlens/utils.py:170: RuntimeWarning: invalid value encountered in divide\n",
      "  res = np.bincount(self.digitized,(data2d).reshape(-1))[1:-1]/np.bincount(self.digitized)[1:-1]\n"
     ]
    }
   ],
   "source": [
    "import camb\n",
    "import symlens as s\n",
    "from pixell import enmap, utils as putils\n",
    "import numpy as np\n",
    "\n",
    "TCMB = 2.73e6\n",
    "\n",
    "potential_file = \"lensedCMB_dmn1_lenspotentialCls.dat\"\n",
    "d = np.loadtxt(f'/Users/omard/Documents/projects/fgcmblensing/input/giulio/{potential_file}')\n",
    "l = d[:, 0]\n",
    "lfact = 2*np.pi/l/(l+1)\n",
    "unlensed = d[:, 1]\n",
    "unlensed *= lfact**2#/TCMB**2.\n",
    "ddlensing = d[:, 5]\n",
    "kk = 2*np.pi*ddlensing/4\n",
    "pp = 4/l**2/(l+1)**2*kk\n",
    "\n",
    "TCMB = 2.73e6\n",
    "\n",
    "dd = np.loadtxt('/Users/omard/Documents/projects/fgcmblensing/input/giulio/lensedCMB_dmn1_lensedgradCls.dat')\n",
    "\n",
    "d = np.loadtxt('/Users/omard/Documents/projects/fgcmblensing/input/giulio/lensedCMB_dmn1_lensedCls.dat')\n",
    "L, TT = d[:, 0], d[:, 1]\n",
    "lensed = d[:, 1]\n",
    "lfact = 2*np.pi/L/(L+1)\n",
    "TT *= lfact#/TCMB**2.\n",
    "lensed *= lfact\n",
    "\n",
    "unlensed = np.interp(L, l, unlensed)\n",
    "\n",
    "\n",
    "\n",
    "get_noise = lambda x, level, theta: (level*np.pi/180/60)**2*np.exp(x*(x+1)*np.deg2rad(theta / 60)**2/8/np.log(2))\n",
    "\n",
    "shape,wcs = enmap.geometry(shape=(512,512),res=2.0*putils.arcmin,pos=(0,0))\n",
    "\n",
    "modlmap = enmap.modlmap(shape,wcs)\n",
    "\n",
    "f = s.Ldl1 * s.e('uC_T_T_l1') + s.Ldl2 * s.e('uC_T_T_l2')\n",
    "\n",
    "F = f / 2 / s.e('tC_T_T_l1') / s.e('tC_T_T_l2')\n",
    "\n",
    "expr1 = f * F\n",
    "\n",
    "fsky = 0.4\n",
    "noise, beam = 1., 1.\n",
    "\n",
    "feed_dict = {}\n",
    "feed_dict['uC_T_T'] = s.interp(L,TT)(modlmap)\n",
    "feed_dict['tC_T_T'] = s.interp(L,TT)(modlmap)+s.interp(L,get_noise(L, noise, beam))(modlmap)\n",
    "\n",
    "tellmin = 10\n",
    "tellmax = 3000\n",
    "xmask = s.mask_kspace(shape,wcs,lmin=tellmin,lmax=tellmax)\n",
    "integral = s.integrate(shape,wcs,feed_dict,expr1,xmask=xmask,ymask=xmask).real\n",
    "Alkappa = modlmap**4*1/integral/4\n",
    "\n",
    "AlkappaR = s.A_l(shape,wcs,feed_dict,\"hu_ok\",\"TT\",xmask=xmask,ymask=xmask)\n",
    "\n",
    "bin_edges = np.arange(1,4000,20)\n",
    "binner = s.bin2D(modlmap,bin_edges)\n",
    "A_l = Alkappa\n",
    "\n",
    "cents, ALR1D = binner.bin(AlkappaR)\n",
    "\n",
    "cents, AL1D = binner.bin(A_l)\n",
    "\n",
    "Nl = s.N_l_from_A_l_optimal(shape,wcs,AlkappaR)\n",
    "cents, Nl1D = binner.bin(Nl)\n",
    "\n",
    "expr = integral\n",
    "cents, expr1D = binner.bin(expr)"
   ]
  },
  {
   "cell_type": "code",
   "execution_count": 954,
   "metadata": {},
   "outputs": [],
   "source": [
    "Alphi = expr1D**-1"
   ]
  },
  {
   "cell_type": "code",
   "execution_count": 955,
   "metadata": {},
   "outputs": [],
   "source": [
    "lmin, lmax = tellmin, tellmax\n",
    "selection = (L >= lmin) & (L <= lmax)"
   ]
  },
  {
   "cell_type": "code",
   "execution_count": 956,
   "metadata": {},
   "outputs": [],
   "source": [
    "unlensed_for_interp = unlensed.copy()\n",
    "unlensed_for_interp[~selection] = 0"
   ]
  },
  {
   "cell_type": "code",
   "execution_count": 957,
   "metadata": {},
   "outputs": [],
   "source": [
    "#from scipy.interpolate import InterpolatedUnivariateSpline"
   ]
  },
  {
   "cell_type": "code",
   "execution_count": 958,
   "metadata": {},
   "outputs": [],
   "source": [
    "import scipy as sp\n",
    "\n",
    "uTT = sp.interpolate.InterpolatedUnivariateSpline(L, unlensed_for_interp)#, fill_value = 0., bounds_error = False)\n",
    "lTT = sp.interpolate.InterpolatedUnivariateSpline(L[selection], lensed[selection])#, fill_value = 0., bounds_error = False)\n",
    "tTT = sp.interpolate.InterpolatedUnivariateSpline(L[selection], lensed[selection]+get_noise(L, noise, beam)[selection])#, fill_value = 1e20, bounds_error = False)"
   ]
  },
  {
   "cell_type": "code",
   "execution_count": 959,
   "metadata": {},
   "outputs": [],
   "source": [
    "import scipy as sp\n",
    "\n",
    "uTT = sp.interpolate.interp1d(L[selection], unlensed[selection], fill_value = 0., bounds_error = False)\n",
    "lTT = sp.interpolate.interp1d(L[selection], lensed[selection], fill_value = 0., bounds_error = False)\n",
    "tTT = sp.interpolate.interp1d(L[selection], lensed[selection]+get_noise(L, noise, beam)[selection], fill_value = 1e20, bounds_error = False)"
   ]
  },
  {
   "cell_type": "code",
   "execution_count": 994,
   "metadata": {},
   "outputs": [],
   "source": [
    "def dot(a, b):\n",
    "    return np.einsum('abc, abc -> bc', a, b)\n",
    "\n",
    "def fTT(l1v, l2v, l1n, l2n):\n",
    "    return dot(l1v+l2v, l1v)*lTT(l1n)+dot(l1v+l2v, l2v)*lTT(l2n)\n",
    "\n",
    "def ftotTT(l):\n",
    "    return tTT(l)\n",
    "\n",
    "def filters(ells):\n",
    "    return (ells>=lmin) & (ells<=lmax)\n",
    "\n",
    "def gTT(lv, Lv, lvnorm):\n",
    "    l1v, l2v = lv, Lv-lv\n",
    "    l1n, l2n = lvnorm, np.linalg.norm(l2v, axis = 0)\n",
    "    return fTT(l1v, l2v, l1n, l2n)/(2*ftotTT(l1n)*ftotTT(l2n))#*filters(l1n)*filters(l2n)"
   ]
  },
  {
   "cell_type": "code",
   "execution_count": 1040,
   "metadata": {},
   "outputs": [],
   "source": [
    "LLs = np.arange(1, 4000, 5)\n",
    "lls = np.arange(1, 4000, 5)\n",
    "thetals = np.linspace(1e-4, 2*np.pi-1e-4, 200)\n",
    "\n",
    "ls, thetas = np.meshgrid(lls, thetals, indexing = 'ij')\n",
    "lx = ls*np.cos(thetas)\n",
    "costhetas = np.cos(thetas)\n",
    "\n",
    "for L_ in LLs:\n",
    "    \n",
    "    Lv = np.ones_like(ls)*L_\n",
    "    \n",
    "    Ldotl = Lv*lx\n",
    "    \n",
    "    L_l = Lv**2+ls**2-2*Ldotl\n",
    "    L_l = np.sqrt(L_l)\n",
    "\n",
    "    L_dot_L_l = -Lv**2.+Ldotl\n",
    "    l_dot_L_l = -ls**2.+Ldotl\n",
    "\n",
    "    integrate_bispectrum_kkk_alt(L1mod, L2mod, L3mod, thet12, thet23, thet13, model = \"TR\")\n"
   ]
  },
  {
   "cell_type": "code",
   "execution_count": 1037,
   "metadata": {},
   "outputs": [
    {
     "data": {
      "text/plain": [
       "(800, 200)"
      ]
     },
     "execution_count": 1037,
     "metadata": {},
     "output_type": "execute_result"
    }
   ],
   "source": [
    "thetas.shape"
   ]
  },
  {
   "cell_type": "code",
   "execution_count": 1033,
   "metadata": {},
   "outputs": [
    {
     "data": {
      "text/plain": [
       "(1,)"
      ]
     },
     "execution_count": 1033,
     "metadata": {},
     "output_type": "execute_result"
    }
   ],
   "source": [
    "thetals.shape"
   ]
  },
  {
   "cell_type": "code",
   "execution_count": 1032,
   "metadata": {},
   "outputs": [
    {
     "data": {
      "text/plain": [
       "(1, 800)"
      ]
     },
     "execution_count": 1032,
     "metadata": {},
     "output_type": "execute_result"
    }
   ],
   "source": [
    "thetas.shape"
   ]
  },
  {
   "cell_type": "code",
   "execution_count": 1031,
   "metadata": {},
   "outputs": [
    {
     "data": {
      "text/plain": [
       "(1, 800)"
      ]
     },
     "execution_count": 1031,
     "metadata": {},
     "output_type": "execute_result"
    }
   ],
   "source": [
    "ls.shape"
   ]
  },
  {
   "cell_type": "code",
   "execution_count": 1028,
   "metadata": {},
   "outputs": [
    {
     "data": {
      "text/plain": [
       "array([1.])"
      ]
     },
     "execution_count": 1028,
     "metadata": {},
     "output_type": "execute_result"
    }
   ],
   "source": [
    "costhetas[0]"
   ]
  },
  {
   "cell_type": "code",
   "execution_count": 1025,
   "metadata": {},
   "outputs": [
    {
     "data": {
      "text/plain": [
       "0.999999995"
      ]
     },
     "execution_count": 1025,
     "metadata": {},
     "output_type": "execute_result"
    }
   ],
   "source": [
    "Ldotl[0]"
   ]
  },
  {
   "cell_type": "code",
   "execution_count": null,
   "metadata": {},
   "outputs": [],
   "source": []
  },
  {
   "cell_type": "code",
   "execution_count": 1010,
   "metadata": {},
   "outputs": [],
   "source": [
    "def prodfTot(l1n, l2n):\n",
    "    return ftotTT(l1n)*ftotTT(l2n)\n",
    "vprod = prodfTot(l1smesh, l2smesh)\n",
    "interprodfTot = sp.interpolate.RectBivariateSpline(l1s, l2s, vprod)"
   ]
  },
  {
   "cell_type": "code",
   "execution_count": 1001,
   "metadata": {},
   "outputs": [
    {
     "data": {
      "text/plain": [
       "(3199, 3199)"
      ]
     },
     "execution_count": 1001,
     "metadata": {},
     "output_type": "execute_result"
    }
   ],
   "source": []
  },
  {
   "cell_type": "code",
   "execution_count": 1041,
   "metadata": {},
   "outputs": [],
   "source": [
    "nthetas = 100\n",
    "nrs = 1000\n",
    "theta = np.linspace(0, 2*np.pi, nthetas)\n",
    "r = np.linspace(lmin, lmax, nrs)\n",
    "R, T = np.meshgrid(r, theta, indexing = 'ij')"
   ]
  },
  {
   "cell_type": "code",
   "execution_count": 1042,
   "metadata": {},
   "outputs": [],
   "source": [
    "lv = np.array([R * np.cos(T), R * np.sin(T)])"
   ]
  },
  {
   "cell_type": "code",
   "execution_count": 1043,
   "metadata": {},
   "outputs": [],
   "source": [
    "def integrand(R, T, Lv, g):\n",
    "    lv = np.array([R * np.cos(T), R * np.sin(T)])\n",
    "    return g(lv, Lv[:, None, None], R)\n",
    "\n",
    "def get_polar_integral(g):\n",
    "    def polar_integral(Lv, lmin, lmax, nthetas = 100, nrs = 1000, epstheta = 1e-4):\n",
    "        theta = np.linspace(0+epstheta, 2*np.pi-epstheta, nthetas)\n",
    "        r = np.linspace(lmin, lmax, nrs)\n",
    "        R, T = np.meshgrid(r, theta, indexing = 'ij')\n",
    "        integrand_values = integrand(R, T, Lv, g) * R\n",
    "        result = np.einsum('ij->', integrand_values) * ((lmax-lmin) / nrs) * ((2*np.pi-2*epstheta) / nthetas)\n",
    "        return result\n",
    "    return polar_integral"
   ]
  },
  {
   "cell_type": "code",
   "execution_count": 1044,
   "metadata": {},
   "outputs": [],
   "source": [
    "\n",
    "def get_function(lext):\n",
    "    def function(lv, Lv, lvnorm):\n",
    "        resultA = gTT(lv, Lv, lvnorm)\n",
    "        diff = lext-lv\n",
    "        diffnorm = np.linalg.norm(diff, axis = 0)\n",
    "        resultB = uTT(diffnorm)#*filters(diffnorm)\n",
    "        diff_dot_lext = dot(diff, lext)\n",
    "        diff_L = Lv-lext\n",
    "        diff_dot_diff_L = dot(diff, diff_L)\n",
    "        return resultA * resultB * diff_dot_lext * diff_dot_diff_L\n",
    "    return function"
   ]
  },
  {
   "cell_type": "code",
   "execution_count": 1045,
   "metadata": {},
   "outputs": [],
   "source": [
    "def get_angle_12(L1, L2, L3):\n",
    "    term = (L1**2+L2**2-L3**2)/(2*L1*L2)\n",
    "    return np.nan_to_num(np.arccos(term))"
   ]
  },
  {
   "cell_type": "code",
   "execution_count": 1046,
   "metadata": {},
   "outputs": [],
   "source": [
    "def integrand_ext(lext, R, Lv, lmin, lmax, nthetas, nrs):\n",
    "    result = np.zeros_like(R)\n",
    "    for i in range(nrs):\n",
    "        for j in range(nthetas):\n",
    "            l_ = lext[:, i, j]\n",
    "            f = get_function(l_[:, None, None])\n",
    "            polar_integrals = get_polar_integral(f)\n",
    "            result[i, j] = polar_integrals(Lv, lmin, lmax, nthetas, nrs)\n",
    "    return result"
   ]
  },
  {
   "cell_type": "code",
   "execution_count": 992,
   "metadata": {},
   "outputs": [],
   "source": [
    "def polar_integral_ext(integrand_ext, Lv, lmin, lmax, nthetas = 100, nrs = 100, epstheta = 1e-3):\n",
    "    theta = np.linspace(0+epstheta, 2*np.pi-epstheta, nthetas)\n",
    "    r = np.linspace(lmin, lmax, nrs)\n",
    "    Rext, Text = np.meshgrid(r, theta, indexing = 'ij')\n",
    "    lext = np.array([Rext * np.cos(Text), Rext * np.sin(Text)])\n",
    "    integrand_values = integrand_ext(lext, Rext, Lv, lmin, lmax, nthetas, nrs) * Rext\n",
    "    L1 = Lv[:, None, None]\n",
    "    L2 = lext\n",
    "    L3 = L1-lext\n",
    "    L1mod = Lv[0]\n",
    "    L2mod = Rext\n",
    "    L3mod = np.linalg.norm(L3, axis = 0)\n",
    "    thet12, thet23, thet13 = get_angle_12(L1mod, L2mod, L3mod), get_angle_12(L2mod, L3mod, L1mod), get_angle_12(L3mod, L1mod, L2mod)\n",
    "    #print('Shape', integrate_bispectrum_kkk_alt(L1mod, L2mod, L3mod, thet12, thet23, thet13, model = \"TR\").shape)\n",
    "    bispectrum_term = 8/(L1mod*(L1mod+1)*L2mod*(L2mod+1)*L3mod*(L3mod+1))*integrate_bispectrum_kkk_alt(L1mod, L2mod, L3mod, thet12, thet23, thet13, model = \"TR\")\n",
    "    integrand_values *= bispectrum_term\n",
    "    result = np.einsum('ij->', integrand_values) * ((lmax-lmin) / nrs) * ((2*np.pi-2*epstheta) / nthetas)\n",
    "    return result/(2.*np.pi)**2/(2.*np.pi)**2"
   ]
  },
  {
   "cell_type": "code",
   "execution_count": null,
   "metadata": {},
   "outputs": [],
   "source": [
    "integrate_bispectrum_kkk_alt(L1mod, L2mod, L3mod, thet12, thet23, thet13, model = \"TR\")"
   ]
  },
  {
   "cell_type": "code",
   "execution_count": 995,
   "metadata": {},
   "outputs": [
    {
     "name": "stdout",
     "output_type": "stream",
     "text": [
      "65.3 ms ± 727 µs per loop (mean ± std. dev. of 7 runs, 10 loops each)\n"
     ]
    }
   ],
   "source": [
    "%timeit polar_integral_ext(integrand_ext, np.array([200, 0]), lmin, lmax, nthetas = 20, nrs = 20)\n"
   ]
  },
  {
   "cell_type": "code",
   "execution_count": 988,
   "metadata": {},
   "outputs": [
    {
     "data": {
      "text/plain": [
       "0.00020246481436939586"
      ]
     },
     "execution_count": 988,
     "metadata": {},
     "output_type": "execute_result"
    }
   ],
   "source": [
    "-polar_integral_ext(integrand_ext, np.array([200, 0]), lmin, lmax, nthetas = 200, nrs = 200)\n"
   ]
  },
  {
   "cell_type": "code",
   "execution_count": 989,
   "metadata": {},
   "outputs": [
    {
     "name": "stderr",
     "output_type": "stream",
     "text": [
      "Process SpawnPoolWorker-23:\n",
      "Process SpawnPoolWorker-22:\n",
      "Process SpawnPoolWorker-21:\n",
      "Traceback (most recent call last):\n",
      "  File \"/opt/homebrew/Caskroom/miniforge/base/envs/cmbanalysis/lib/python3.10/multiprocessing/process.py\", line 314, in _bootstrap\n",
      "    self.run()\n",
      "  File \"/opt/homebrew/Caskroom/miniforge/base/envs/cmbanalysis/lib/python3.10/multiprocessing/process.py\", line 108, in run\n",
      "    self._target(*self._args, **self._kwargs)\n",
      "  File \"/opt/homebrew/Caskroom/miniforge/base/envs/cmbanalysis/lib/python3.10/multiprocessing/pool.py\", line 114, in worker\n",
      "    task = get()\n",
      "  File \"/opt/homebrew/Caskroom/miniforge/base/envs/cmbanalysis/lib/python3.10/multiprocessing/queues.py\", line 364, in get\n",
      "    with self._rlock:\n",
      "  File \"/opt/homebrew/Caskroom/miniforge/base/envs/cmbanalysis/lib/python3.10/multiprocessing/synchronize.py\", line 95, in __enter__\n",
      "    return self._semlock.__enter__()\n",
      "KeyboardInterrupt\n",
      "Traceback (most recent call last):\n",
      "  File \"/opt/homebrew/Caskroom/miniforge/base/envs/cmbanalysis/lib/python3.10/multiprocessing/process.py\", line 314, in _bootstrap\n",
      "    self.run()\n",
      "  File \"/opt/homebrew/Caskroom/miniforge/base/envs/cmbanalysis/lib/python3.10/multiprocessing/process.py\", line 108, in run\n",
      "    self._target(*self._args, **self._kwargs)\n",
      "  File \"/opt/homebrew/Caskroom/miniforge/base/envs/cmbanalysis/lib/python3.10/multiprocessing/pool.py\", line 114, in worker\n",
      "    task = get()\n",
      "  File \"/opt/homebrew/Caskroom/miniforge/base/envs/cmbanalysis/lib/python3.10/multiprocessing/queues.py\", line 364, in get\n",
      "    with self._rlock:\n",
      "  File \"/opt/homebrew/Caskroom/miniforge/base/envs/cmbanalysis/lib/python3.10/multiprocessing/synchronize.py\", line 95, in __enter__\n",
      "    return self._semlock.__enter__()\n",
      "KeyboardInterrupt\n",
      "Traceback (most recent call last):\n",
      "  File \"/opt/homebrew/Caskroom/miniforge/base/envs/cmbanalysis/lib/python3.10/multiprocessing/process.py\", line 314, in _bootstrap\n",
      "    self.run()\n",
      "  File \"/opt/homebrew/Caskroom/miniforge/base/envs/cmbanalysis/lib/python3.10/multiprocessing/process.py\", line 108, in run\n",
      "    self._target(*self._args, **self._kwargs)\n",
      "  File \"/opt/homebrew/Caskroom/miniforge/base/envs/cmbanalysis/lib/python3.10/multiprocessing/pool.py\", line 114, in worker\n",
      "    task = get()\n",
      "  File \"/opt/homebrew/Caskroom/miniforge/base/envs/cmbanalysis/lib/python3.10/multiprocessing/queues.py\", line 364, in get\n",
      "    with self._rlock:\n",
      "  File \"/opt/homebrew/Caskroom/miniforge/base/envs/cmbanalysis/lib/python3.10/multiprocessing/synchronize.py\", line 95, in __enter__\n",
      "    return self._semlock.__enter__()\n",
      "KeyboardInterrupt\n"
     ]
    },
    {
     "ename": "KeyboardInterrupt",
     "evalue": "",
     "output_type": "error",
     "traceback": [
      "\u001b[0;31m---------------------------------------------------------------------------\u001b[0m",
      "\u001b[0;31mKeyboardInterrupt\u001b[0m                         Traceback (most recent call last)",
      "Cell \u001b[0;32mIn[989], line 1\u001b[0m\n\u001b[0;32m----> 1\u001b[0m \u001b[39m-\u001b[39mpolar_integral_ext(integrand_ext, np\u001b[39m.\u001b[39;49marray([\u001b[39m200\u001b[39;49m, \u001b[39m0\u001b[39;49m]), lmin, lmax, nthetas \u001b[39m=\u001b[39;49m \u001b[39m400\u001b[39;49m, nrs \u001b[39m=\u001b[39;49m \u001b[39m400\u001b[39;49m)\n",
      "Cell \u001b[0;32mIn[985], line 6\u001b[0m, in \u001b[0;36mpolar_integral_ext\u001b[0;34m(integrand_ext, Lv, lmin, lmax, nthetas, nrs, epstheta)\u001b[0m\n\u001b[1;32m      4\u001b[0m Rext, Text \u001b[39m=\u001b[39m np\u001b[39m.\u001b[39mmeshgrid(r, theta, indexing \u001b[39m=\u001b[39m \u001b[39m'\u001b[39m\u001b[39mij\u001b[39m\u001b[39m'\u001b[39m)\n\u001b[1;32m      5\u001b[0m lext \u001b[39m=\u001b[39m np\u001b[39m.\u001b[39marray([Rext \u001b[39m*\u001b[39m np\u001b[39m.\u001b[39mcos(Text), Rext \u001b[39m*\u001b[39m np\u001b[39m.\u001b[39msin(Text)])\n\u001b[0;32m----> 6\u001b[0m integrand_values \u001b[39m=\u001b[39m integrand_ext(lext, Rext, Lv, lmin, lmax, nthetas, nrs) \u001b[39m*\u001b[39m Rext\n\u001b[1;32m      7\u001b[0m L1 \u001b[39m=\u001b[39m Lv[:, \u001b[39mNone\u001b[39;00m, \u001b[39mNone\u001b[39;00m]\n\u001b[1;32m      8\u001b[0m L2 \u001b[39m=\u001b[39m lext\n",
      "Cell \u001b[0;32mIn[984], line 8\u001b[0m, in \u001b[0;36mintegrand_ext\u001b[0;34m(lext, R, Lv, lmin, lmax, nthetas, nrs)\u001b[0m\n\u001b[1;32m      6\u001b[0m         f \u001b[39m=\u001b[39m get_function(l_[:, \u001b[39mNone\u001b[39;00m, \u001b[39mNone\u001b[39;00m])\n\u001b[1;32m      7\u001b[0m         polar_integrals \u001b[39m=\u001b[39m get_polar_integral(f)\n\u001b[0;32m----> 8\u001b[0m         result[i, j] \u001b[39m=\u001b[39m polar_integrals(Lv, lmin, lmax, nthetas, nrs)\n\u001b[1;32m      9\u001b[0m \u001b[39mreturn\u001b[39;00m result\n",
      "Cell \u001b[0;32mIn[963], line 10\u001b[0m, in \u001b[0;36mget_polar_integral.<locals>.polar_integral\u001b[0;34m(Lv, lmin, lmax, nthetas, nrs, epstheta)\u001b[0m\n\u001b[1;32m      8\u001b[0m r \u001b[39m=\u001b[39m np\u001b[39m.\u001b[39mlinspace(lmin, lmax, nrs)\n\u001b[1;32m      9\u001b[0m R, T \u001b[39m=\u001b[39m np\u001b[39m.\u001b[39mmeshgrid(r, theta, indexing \u001b[39m=\u001b[39m \u001b[39m'\u001b[39m\u001b[39mij\u001b[39m\u001b[39m'\u001b[39m)\n\u001b[0;32m---> 10\u001b[0m integrand_values \u001b[39m=\u001b[39m integrand(R, T, Lv, g) \u001b[39m*\u001b[39m R\n\u001b[1;32m     11\u001b[0m result \u001b[39m=\u001b[39m np\u001b[39m.\u001b[39meinsum(\u001b[39m'\u001b[39m\u001b[39mij->\u001b[39m\u001b[39m'\u001b[39m, integrand_values) \u001b[39m*\u001b[39m ((lmax\u001b[39m-\u001b[39mlmin) \u001b[39m/\u001b[39m nrs) \u001b[39m*\u001b[39m ((\u001b[39m2\u001b[39m\u001b[39m*\u001b[39mnp\u001b[39m.\u001b[39mpi\u001b[39m-\u001b[39m\u001b[39m2\u001b[39m\u001b[39m*\u001b[39mepstheta) \u001b[39m/\u001b[39m nthetas)\n\u001b[1;32m     12\u001b[0m \u001b[39mreturn\u001b[39;00m result\n",
      "Cell \u001b[0;32mIn[963], line 3\u001b[0m, in \u001b[0;36mintegrand\u001b[0;34m(R, T, Lv, g)\u001b[0m\n\u001b[1;32m      1\u001b[0m \u001b[39mdef\u001b[39;00m \u001b[39mintegrand\u001b[39m(R, T, Lv, g):\n\u001b[1;32m      2\u001b[0m     lv \u001b[39m=\u001b[39m np\u001b[39m.\u001b[39marray([R \u001b[39m*\u001b[39m np\u001b[39m.\u001b[39mcos(T), R \u001b[39m*\u001b[39m np\u001b[39m.\u001b[39msin(T)])\n\u001b[0;32m----> 3\u001b[0m     \u001b[39mreturn\u001b[39;00m g(lv, Lv[:, \u001b[39mNone\u001b[39;49;00m, \u001b[39mNone\u001b[39;49;00m], R)\n",
      "Cell \u001b[0;32mIn[982], line 3\u001b[0m, in \u001b[0;36mget_function.<locals>.function\u001b[0;34m(lv, Lv, lvnorm)\u001b[0m\n\u001b[1;32m      2\u001b[0m \u001b[39mdef\u001b[39;00m \u001b[39mfunction\u001b[39m(lv, Lv, lvnorm):\n\u001b[0;32m----> 3\u001b[0m     resultA \u001b[39m=\u001b[39m gTT(lv, Lv, lvnorm)\n\u001b[1;32m      4\u001b[0m     diff \u001b[39m=\u001b[39m lext\u001b[39m-\u001b[39mlv\n\u001b[1;32m      5\u001b[0m     diffnorm \u001b[39m=\u001b[39m np\u001b[39m.\u001b[39mlinalg\u001b[39m.\u001b[39mnorm(diff, axis \u001b[39m=\u001b[39m \u001b[39m0\u001b[39m)\n",
      "Cell \u001b[0;32mIn[960], line 16\u001b[0m, in \u001b[0;36mgTT\u001b[0;34m(lv, Lv, lvnorm)\u001b[0m\n\u001b[1;32m     14\u001b[0m l1v, l2v \u001b[39m=\u001b[39m lv, Lv\u001b[39m-\u001b[39mlv\n\u001b[1;32m     15\u001b[0m l1n, l2n \u001b[39m=\u001b[39m lvnorm, np\u001b[39m.\u001b[39mlinalg\u001b[39m.\u001b[39mnorm(l2v, axis \u001b[39m=\u001b[39m \u001b[39m0\u001b[39m)\n\u001b[0;32m---> 16\u001b[0m \u001b[39mreturn\u001b[39;00m fTT(l1v, l2v, l1n, l2n)\u001b[39m/\u001b[39m(\u001b[39m2\u001b[39m\u001b[39m*\u001b[39mftotTT(l1n)\u001b[39m*\u001b[39mftotTT(l2n))\u001b[39m*\u001b[39mfilters(l1n)\u001b[39m*\u001b[39mfilters(l2n)\n",
      "Cell \u001b[0;32mIn[960], line 8\u001b[0m, in \u001b[0;36mftotTT\u001b[0;34m(l)\u001b[0m\n\u001b[1;32m      7\u001b[0m \u001b[39mdef\u001b[39;00m \u001b[39mftotTT\u001b[39m(l):\n\u001b[0;32m----> 8\u001b[0m     \u001b[39mreturn\u001b[39;00m tTT(l)\n",
      "File \u001b[0;32m/opt/homebrew/Caskroom/miniforge/base/envs/cmbanalysis/lib/python3.10/site-packages/scipy/interpolate/_polyint.py:78\u001b[0m, in \u001b[0;36m_Interpolator1D.__call__\u001b[0;34m(self, x)\u001b[0m\n\u001b[1;32m     57\u001b[0m \u001b[39m\u001b[39m\u001b[39m\"\"\"\u001b[39;00m\n\u001b[1;32m     58\u001b[0m \u001b[39mEvaluate the interpolant\u001b[39;00m\n\u001b[1;32m     59\u001b[0m \n\u001b[0;32m   (...)\u001b[0m\n\u001b[1;32m     75\u001b[0m \n\u001b[1;32m     76\u001b[0m \u001b[39m\"\"\"\u001b[39;00m\n\u001b[1;32m     77\u001b[0m x, x_shape \u001b[39m=\u001b[39m \u001b[39mself\u001b[39m\u001b[39m.\u001b[39m_prepare_x(x)\n\u001b[0;32m---> 78\u001b[0m y \u001b[39m=\u001b[39m \u001b[39mself\u001b[39;49m\u001b[39m.\u001b[39;49m_evaluate(x)\n\u001b[1;32m     79\u001b[0m \u001b[39mreturn\u001b[39;00m \u001b[39mself\u001b[39m\u001b[39m.\u001b[39m_finish_y(y, x_shape)\n",
      "File \u001b[0;32m/opt/homebrew/Caskroom/miniforge/base/envs/cmbanalysis/lib/python3.10/site-packages/scipy/interpolate/_interpolate.py:693\u001b[0m, in \u001b[0;36minterp1d._evaluate\u001b[0;34m(self, x_new)\u001b[0m\n\u001b[1;32m    688\u001b[0m \u001b[39mdef\u001b[39;00m \u001b[39m_evaluate\u001b[39m(\u001b[39mself\u001b[39m, x_new):\n\u001b[1;32m    689\u001b[0m     \u001b[39m# 1. Handle values in x_new that are outside of x. Throw error,\u001b[39;00m\n\u001b[1;32m    690\u001b[0m     \u001b[39m#    or return a list of mask array indicating the outofbounds values.\u001b[39;00m\n\u001b[1;32m    691\u001b[0m     \u001b[39m#    The behavior is set by the bounds_error variable.\u001b[39;00m\n\u001b[1;32m    692\u001b[0m     x_new \u001b[39m=\u001b[39m asarray(x_new)\n\u001b[0;32m--> 693\u001b[0m     y_new \u001b[39m=\u001b[39m \u001b[39mself\u001b[39;49m\u001b[39m.\u001b[39;49m_call(\u001b[39mself\u001b[39;49m, x_new)\n\u001b[1;32m    694\u001b[0m     \u001b[39mif\u001b[39;00m \u001b[39mnot\u001b[39;00m \u001b[39mself\u001b[39m\u001b[39m.\u001b[39m_extrapolate:\n\u001b[1;32m    695\u001b[0m         below_bounds, above_bounds \u001b[39m=\u001b[39m \u001b[39mself\u001b[39m\u001b[39m.\u001b[39m_check_bounds(x_new)\n",
      "File \u001b[0;32m/opt/homebrew/Caskroom/miniforge/base/envs/cmbanalysis/lib/python3.10/site-packages/scipy/interpolate/_interpolate.py:617\u001b[0m, in \u001b[0;36minterp1d._call_linear_np\u001b[0;34m(self, x_new)\u001b[0m\n\u001b[1;32m    615\u001b[0m \u001b[39mdef\u001b[39;00m \u001b[39m_call_linear_np\u001b[39m(\u001b[39mself\u001b[39m, x_new):\n\u001b[1;32m    616\u001b[0m     \u001b[39m# Note that out-of-bounds values are taken care of in self._evaluate\u001b[39;00m\n\u001b[0;32m--> 617\u001b[0m     \u001b[39mreturn\u001b[39;00m np\u001b[39m.\u001b[39;49minterp(x_new, \u001b[39mself\u001b[39;49m\u001b[39m.\u001b[39;49mx, \u001b[39mself\u001b[39;49m\u001b[39m.\u001b[39;49my)\n",
      "File \u001b[0;32m<__array_function__ internals>:180\u001b[0m, in \u001b[0;36minterp\u001b[0;34m(*args, **kwargs)\u001b[0m\n",
      "File \u001b[0;32m/opt/homebrew/Caskroom/miniforge/base/envs/cmbanalysis/lib/python3.10/site-packages/numpy/lib/function_base.py:1594\u001b[0m, in \u001b[0;36minterp\u001b[0;34m(x, xp, fp, left, right, period)\u001b[0m\n\u001b[1;32m   1591\u001b[0m     xp \u001b[39m=\u001b[39m np\u001b[39m.\u001b[39mconcatenate((xp[\u001b[39m-\u001b[39m\u001b[39m1\u001b[39m:]\u001b[39m-\u001b[39mperiod, xp, xp[\u001b[39m0\u001b[39m:\u001b[39m1\u001b[39m]\u001b[39m+\u001b[39mperiod))\n\u001b[1;32m   1592\u001b[0m     fp \u001b[39m=\u001b[39m np\u001b[39m.\u001b[39mconcatenate((fp[\u001b[39m-\u001b[39m\u001b[39m1\u001b[39m:], fp, fp[\u001b[39m0\u001b[39m:\u001b[39m1\u001b[39m]))\n\u001b[0;32m-> 1594\u001b[0m \u001b[39mreturn\u001b[39;00m interp_func(x, xp, fp, left, right)\n",
      "\u001b[0;31mKeyboardInterrupt\u001b[0m: "
     ]
    }
   ],
   "source": [
    "-polar_integral_ext(integrand_ext, np.array([200, 0]), lmin, lmax, nthetas = 400, nrs = 400)\n"
   ]
  },
  {
   "cell_type": "code",
   "execution_count": 987,
   "metadata": {},
   "outputs": [
    {
     "data": {
      "text/plain": [
       "0.0008083460881641134"
      ]
     },
     "execution_count": 987,
     "metadata": {},
     "output_type": "execute_result"
    }
   ],
   "source": [
    "-polar_integral_ext(integrand_ext, np.array([200, 0]), lmin, lmax, nthetas = 80, nrs = 80)\n"
   ]
  },
  {
   "cell_type": "code",
   "execution_count": 969,
   "metadata": {},
   "outputs": [],
   "source": [
    "from joblib import Parallel, delayed"
   ]
  },
  {
   "cell_type": "code",
   "execution_count": 970,
   "metadata": {},
   "outputs": [],
   "source": [
    "batch_size = 5\n",
    "n_jobs = 4\n",
    "backend = \"threading\""
   ]
  },
  {
   "cell_type": "code",
   "execution_count": 971,
   "metadata": {},
   "outputs": [],
   "source": [
    "def do(LL):\n",
    "    Lv = np.array([LL, 0])\n",
    "    return -polar_integral_ext(integrand_ext, Lv, lmin, lmax, nthetas = 80, nrs = 100)*np.interp(LL, cents, Alphi)\n"
   ]
  },
  {
   "cell_type": "code",
   "execution_count": 972,
   "metadata": {},
   "outputs": [],
   "source": [
    "Llist = np.linspace(50, 2000, 20)"
   ]
  },
  {
   "cell_type": "code",
   "execution_count": 973,
   "metadata": {},
   "outputs": [],
   "source": [
    "results = Parallel(n_jobs = n_jobs, batch_size = batch_size, backend=backend, verbose=0)(delayed(do)(LL) for LL in Llist)"
   ]
  },
  {
   "cell_type": "code",
   "execution_count": null,
   "metadata": {},
   "outputs": [],
   "source": []
  },
  {
   "cell_type": "code",
   "execution_count": 974,
   "metadata": {},
   "outputs": [],
   "source": [
    "results = np.array(results)"
   ]
  },
  {
   "cell_type": "code",
   "execution_count": 975,
   "metadata": {},
   "outputs": [],
   "source": [
    "selection = results<0"
   ]
  },
  {
   "cell_type": "code",
   "execution_count": 976,
   "metadata": {},
   "outputs": [],
   "source": [
    "negativeresults = results.copy()\n",
    "negativeresults[~selection] = np.nan\n",
    "\n",
    "positiveresults = results.copy()\n",
    "positiveresults[selection] = np.nan"
   ]
  },
  {
   "cell_type": "code",
   "execution_count": 977,
   "metadata": {},
   "outputs": [
    {
     "data": {
      "text/plain": [
       "(50, 4000)"
      ]
     },
     "execution_count": 977,
     "metadata": {},
     "output_type": "execute_result"
    },
    {
     "data": {
      "image/png": "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",
      "text/plain": [
       "<Figure size 640x480 with 1 Axes>"
      ]
     },
     "metadata": {},
     "output_type": "display_data"
    }
   ],
   "source": [
    "plt.loglog(Llist, (positiveresults)*Llist**4/2/np.pi, color = 'b')\n",
    "plt.loglog(Llist, (-negativeresults)*Llist**4/2/np.pi, ls = '--', color = 'b')\n",
    "\n",
    "#plt.loglog(Llist, abs(results)*Llist**4/2/np.pi, color = 'b')\n",
    "\n",
    "\n",
    "plt.plot(l, pp*l**4/2/np.pi)\n",
    "plt.xlim(50, 4000)"
   ]
  },
  {
   "cell_type": "code",
   "execution_count": 980,
   "metadata": {},
   "outputs": [
    {
     "data": {
      "text/plain": [
       "(100.0, 4000.0)"
      ]
     },
     "execution_count": 980,
     "metadata": {},
     "output_type": "execute_result"
    },
    {
     "data": {
      "image/png": "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",
      "text/plain": [
       "<Figure size 640x480 with 1 Axes>"
      ]
     },
     "metadata": {},
     "output_type": "display_data"
    }
   ],
   "source": [
    "plt.plot(Llist, (results)/np.interp(Llist, l, pp), 'o')\n",
    "plt.xlim(100, 4000)"
   ]
  },
  {
   "cell_type": "code",
   "execution_count": 481,
   "metadata": {},
   "outputs": [],
   "source": [
    "Ls = np.arange(5, 1000, 10)"
   ]
  },
  {
   "cell_type": "code",
   "execution_count": 482,
   "metadata": {},
   "outputs": [],
   "source": [
    "import vegas\n",
    "\n",
    "lmin, lmax = 1, 4000\n",
    "\n",
    "integ = vegas.Integrator([[lmin, lmax], [0, 2*np.pi]])\n",
    "nitn, neval = 10, 1e2\n",
    "    "
   ]
  },
  {
   "cell_type": "code",
   "execution_count": 483,
   "metadata": {},
   "outputs": [],
   "source": [
    "Rs = {}\n",
    "names = ['par', 'perp']\n",
    "result_temps = {n: [] for n in names}\n",
    "for L in Ls:\n",
    "    Lvec = np.array([L, 0])\n",
    "    def integrand(x):\n",
    "            l, theta = x \n",
    "            common = g(np.array([l*np.cos(theta), l*np.sin(theta)]), Lvec)*uTT(l)*l**2*l\n",
    "            return [common*f(theta)**2 for f in [np.cos, np.sin]]\n",
    "    result = integ(integrand, nitn = nitn, neval = neval)\n",
    "    [result_temps[n].append(result[i].mean) for i, n in enumerate(names)]\n",
    "Rs = {n: np.array(result_temps[n])/(2*np.pi)**2 for n in names}"
   ]
  },
  {
   "cell_type": "code",
   "execution_count": 484,
   "metadata": {},
   "outputs": [
    {
     "data": {
      "text/plain": [
       "<matplotlib.legend.Legend at 0x2ab6b1d80>"
      ]
     },
     "execution_count": 484,
     "metadata": {},
     "output_type": "execute_result"
    },
    {
     "data": {
      "image/png": "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",
      "text/plain": [
       "<Figure size 640x480 with 1 Axes>"
      ]
     },
     "metadata": {},
     "output_type": "display_data"
    }
   ],
   "source": [
    "for n in names:\n",
    "    plt.plot(Ls, Rs[n]*1/Ls**2*1e-11, label = n)\n",
    "plt.legend()"
   ]
  },
  {
   "cell_type": "code",
   "execution_count": 485,
   "metadata": {},
   "outputs": [],
   "source": [
    "model = 'TR'"
   ]
  },
  {
   "cell_type": "code",
   "execution_count": 486,
   "metadata": {},
   "outputs": [],
   "source": [
    "lmin, lmax = 1, 4000\n",
    "integ = vegas.Integrator([[lmin, lmax], [0, 2*np.pi]])\n",
    "nitn, neval = 10, 1e2"
   ]
  },
  {
   "cell_type": "code",
   "execution_count": 487,
   "metadata": {},
   "outputs": [
    {
     "name": "stderr",
     "output_type": "stream",
     "text": [
      "/var/folders/5s/mpby42n15_ng7rv494cv19tw0000gn/T/ipykernel_55200/135368975.py:12: RuntimeWarning: invalid value encountered in arccos\n",
      "  return np.arccos(term)\n"
     ]
    }
   ],
   "source": [
    "betas = {}\n",
    "bparf = lambda l, theta, L: np.cos(theta)*(l*np.cos(theta)-L)*l\n",
    "bperpf = lambda l, theta, L: np.sin(theta)**2*l**2\n",
    "\n",
    "\n",
    "result_temps = {n: [] for n in names}\n",
    "for L in Ls:\n",
    "    Lvec = np.array([L, 0])\n",
    "\n",
    "    def integrand(x):\n",
    "        l, theta = x\n",
    "        Lmlv = np.array([L-l*np.cos(theta), -l*np.sin(theta)])\n",
    "        Lml = np.linalg.norm(Lmlv)\n",
    "        angle12 = get_angle_12(l, -L, Lml)\n",
    "        angle13 = get_angle_12(l, Lml, -L)\n",
    "        angle23 = get_angle_12(-L, Lml, l)\n",
    "        angle12, angle13, angle23 = np.nan_to_num(angle12), np.nan_to_num(angle13), np.nan_to_num(angle23)\n",
    "        factortophi = -8/(l*L*Lml)**2\n",
    "        common = factortophi*integrate_bispectrum_kkk(l, Lml, L, angle12, angle13, angle23, model = model)*l\n",
    "        return [f(l, theta, L)*common for f in [bparf, bperpf]]\n",
    "\n",
    "    result = integ(integrand, nitn = nitn, neval = neval)\n",
    "    [result_temps[n].append(result[i].mean) for i, n in enumerate(names)]\n",
    "betas = {n: np.array(result_temps[n])/(2*np.pi)**2 for n in names}"
   ]
  },
  {
   "cell_type": "code",
   "execution_count": 488,
   "metadata": {},
   "outputs": [
    {
     "data": {
      "text/plain": [
       "<matplotlib.legend.Legend at 0x2ab99d7e0>"
      ]
     },
     "execution_count": 488,
     "metadata": {},
     "output_type": "execute_result"
    },
    {
     "data": {
      "image/png": "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",
      "text/plain": [
       "<Figure size 640x480 with 1 Axes>"
      ]
     },
     "metadata": {},
     "output_type": "display_data"
    }
   ],
   "source": [
    "for n in names:\n",
    "    plt.plot(Ls, betas[n]*Ls**4*1e10, label = n)\n",
    "plt.legend()"
   ]
  },
  {
   "cell_type": "code",
   "execution_count": 489,
   "metadata": {},
   "outputs": [],
   "source": [
    "integ = vegas.Integrator([[lmin, lmax], [0, 2*np.pi]])\n",
    "nitn, neval = 10, 1e3\n",
    "\n",
    "def SfTT(l1v, l2v, l1n, l2n):\n",
    "    return np.dot(l1v+l2v, l1v)*lTT(l1n)+np.dot(l1v+l2v, l2v)*lTT(l2n)\n",
    "\n",
    "def SftotTT(l):\n",
    "    return tTT(l)\n",
    "\n",
    "def Sg(lv, Lv):\n",
    "    l1v, l2v = lv, Lv-lv\n",
    "    l1n, l2n = np.linalg.norm(l1v), np.linalg.norm(l2v)\n",
    "    return SfTT(l1v, l2v, l1n, l2n)/(2*SftotTT(l1n)*SftotTT(l2n))\n",
    "\n",
    "S = []\n",
    "for L in Ls:\n",
    "    Lvec = np.array([L, 0])\n",
    "    def integrand(x):\n",
    "        l, theta = x\n",
    "        ldotL = L*l*np.cos(theta)\n",
    "        result = Sg(np.array([l*np.cos(theta), l*np.sin(theta)]), Lvec)*uTT(l)*ldotL*l\n",
    "        return result\n",
    "    result = integ(integrand, nitn = nitn, neval = neval)\n",
    "    S.append(result.mean)\n",
    "S = np.array(S)/(2*np.pi)**2\n"
   ]
  },
  {
   "cell_type": "code",
   "execution_count": 490,
   "metadata": {},
   "outputs": [],
   "source": [
    "AL = np.interp(Ls, cents, AL1D)"
   ]
  },
  {
   "cell_type": "code",
   "execution_count": 491,
   "metadata": {},
   "outputs": [],
   "source": [
    "ALnew = np.interp(Ls, cents, expr1D**-1)"
   ]
  },
  {
   "cell_type": "code",
   "execution_count": 494,
   "metadata": {},
   "outputs": [
    {
     "data": {
      "image/png": "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",
      "text/plain": [
       "<Figure size 640x480 with 1 Axes>"
      ]
     },
     "metadata": {},
     "output_type": "display_data"
    }
   ],
   "source": [
    "ppinterp = np.interp(Ls, l, ddlensing)\n",
    "NC1term = -4*ALnew**2*S*np.sum([betas[n]*Rs[n] for n in names], axis = 0)\n",
    "plt.plot(Ls, NC1term/ppinterp)\n",
    "plt.xscale('log')"
   ]
  },
  {
   "cell_type": "code",
   "execution_count": 493,
   "metadata": {},
   "outputs": [],
   "source": [
    "def dot_(a, b):\n",
    "    return np.einsum('ab, ab -> b', a, b)\n",
    "\n",
    "def dot(a, b):\n",
    "    return a[0, :]*b[0, :]+a[1, :]*b[1, :]\n",
    "\n",
    "    \n",
    "def fTTbatch(l1v, l2v, l1n, l2n):\n",
    "    return dot(l1v+l2v, l1v)*lTT(l1n)+dot(l1v+l2v, l2v)*lTT(l2n)\n",
    "\n",
    "def ftotTTfTTbatch(l):\n",
    "    return tTT(l)\n",
    "\n",
    "def gfTTbatch(lv, Lv, l1n, l2n):\n",
    "    l1v, l2v = lv, Lv-lv\n",
    "    return fTTbatch(l1v, l2v, l1n, l2n)/(2*ftotTTfTTbatch(l1n)*ftotTTfTTbatch(l2n))"
   ]
  },
  {
   "cell_type": "code",
   "execution_count": null,
   "metadata": {},
   "outputs": [],
   "source": [
    "from scipy.interpolate import InterpolatedUnivariateSpline\n",
    "lmin=2\n",
    "\n",
    "cTTobs = InterpolatedUnivariateSpline(ls,CT[2:lmax+1,0]/ls/(ls+1)*2*np.pi + noise)\n",
    "cTTgrad_obs = InterpolatedUnivariateSpline(ls,clgrad[2:lmax+1,0]/ls/(ls+1)*2*np.pi + noise)\n",
    "\n",
    "def get_response(lmaxTT = 4000):\n",
    "    Nzero = np.zeros(Ls.shape)\n",
    "    resp = np.zeros(Ls.shape)\n",
    "    resp_grad = np.zeros(Ls.shape)\n",
    "    resp_gradgrad = np.zeros(Ls.shape)\n",
    "    resp_gradgradgrad = np.zeros(Ls.shape)    \n",
    "    dL = 5\n",
    "    for ix, L in enumerate(Ls):\n",
    "        Lsamp=  np.arange(lmin,lmaxTT+1, dL, dtype=np.float64)\n",
    "        resp_L = np.zeros(Lsamp.shape)\n",
    "        resp_grad_L = np.zeros(Lsamp.shape)\n",
    "        resp_gradgrad_L = np.zeros(Lsamp.shape)\n",
    "        resp_gradgradgrad_L = np.zeros(Lsamp.shape)        \n",
    "        for i, l in enumerate(Lsamp):\n",
    "            nphi= max(32,2*int(l)+1) \n",
    "            nphi=min(nphi,128) \n",
    "            dphi=(2*np.pi/nphi)\n",
    "            phi = np.linspace(0,2*np.pi, nphi, endpoint =False)\n",
    "            cos = np.cos(phi)\n",
    "            weight = dphi*l/(2*np.pi)**2 \n",
    "            l3 = np.sqrt(L**2+l**2 -2*L*l*cos)\n",
    "\n",
    "            response =((-L*l*cos + L**2)*cTT(l3) + (L*l*cos)*cTT(l))  \n",
    "            response_grad =((-L*l*cos + L**2)*cTTgrad(l3) + (L*l*cos)*cTTgrad(l))\n",
    "            \n",
    "            filter = 1/(cTTobs(l)*cTTobs(l3))\n",
    "            filter[l3<lmin]=0\n",
    "            filter[l3>lmaxTT]=0\n",
    "            \n",
    "            filter_grad = 1/(cTTgrad_obs(l)*cTTgrad_obs(l3))            \n",
    "            #filter_grad = 1/(cTTobs(l)*cTTobs(l3))\n",
    "            filter_grad[l3<lmin]=0\n",
    "            filter_grad[l<lmin]=0            \n",
    "            filter_grad[l3>lmaxTT]=0\n",
    "            \n",
    "            g = response*filter\n",
    "            g_grad = response*filter_grad             \n",
    "            g_gradgrad = response_grad*filter\n",
    "            \n",
    "            resp_L[i] = np.dot(g,response)*weight   \n",
    "            resp_grad_L[i] = np.dot(g,response_grad)*weight   \n",
    "            resp_gradgrad_L[i] = np.dot(g_grad,response_grad)*weight  \n",
    "            resp_gradgradgrad_L[i] = np.dot(g_gradgrad,response_grad)*weight            \n",
    "            \n",
    "        resp[ix] = np.sum(InterpolatedUnivariateSpline(Lsamp, resp_L,ext=1)(np.arange(Lsamp[0],Lsamp[-1])))\n",
    "        resp_grad[ix] = np.sum(InterpolatedUnivariateSpline(Lsamp, resp_grad_L,ext=1)(np.arange(Lsamp[0],Lsamp[-1])))\n",
    "        resp_gradgrad[ix] = np.sum(InterpolatedUnivariateSpline(Lsamp, resp_gradgrad_L,ext=1)(np.arange(Lsamp[0],Lsamp[-1])))\n",
    "        resp_gradgradgrad[ix] = np.sum(InterpolatedUnivariateSpline(Lsamp, resp_gradgradgrad_L,ext=1)(np.arange(Lsamp[0],Lsamp[-1])))        \n",
    "        \n",
    "    return resp, resp_grad, resp_gradgrad,resp_gradgradgrad\n",
    "lmaxTT=lmax\n",
    "print '%s lmaxTT = %d lmax =%d'%(experiment,lmaxTT,lmax),lmaxTT,lmax\n",
    "#resp, resp_grad = get_response(lmaxTT)\n",
    "resp, resp_grad, resp_gradgrad, resp_gradgradgrad = get_response(lmaxTT=4000)\n"
   ]
  },
  {
   "cell_type": "code",
   "execution_count": 426,
   "metadata": {},
   "outputs": [
    {
     "name": "stderr",
     "output_type": "stream",
     "text": [
      "/var/folders/5s/mpby42n15_ng7rv494cv19tw0000gn/T/ipykernel_55200/135368975.py:12: RuntimeWarning: invalid value encountered in arccos\n",
      "  return np.arccos(term)\n"
     ]
    }
   ],
   "source": [
    "integ = vegas.Integrator([[lmin, lmax], [lmin, lmax], [0, 2*np.pi], [0, 2*np.pi]])\n",
    "nitn, neval = 10, 1e2\n",
    "\n",
    "NA1 = []\n",
    "for L in Ls:\n",
    "\n",
    "    @vegas.batchintegrand\n",
    "    def integrand(x):\n",
    "        l, l1, theta, theta1 = x.T\n",
    "        lv, l1v = np.array([l*np.cos(theta), l*np.sin(theta)]), np.array([l1*np.cos(theta1), l1*np.sin(theta1)])\n",
    "        Lvec = np.c_[np.ones_like(l)*L, np.zeros_like(l)].T\n",
    "        l1ml = l1v-lv\n",
    "        l1mln = np.linalg.norm(l1ml, axis = 0)\n",
    "        l1mldotl = (l1ml[0, :]*lv[0, :]+l1ml[1, :]*lv[1, :])/(l1mln*l)\n",
    "        Lmlv = Lvec-lv\n",
    "        Lmln = np.linalg.norm(Lmlv, axis = 0)\n",
    "\n",
    "        Lmldotl1ml = (Lmlv[0, :]*l1ml[0, :]+Lmlv[1, :]*l1ml[1, :])/(Lmln*l1mln)\n",
    "        temp = uTT(l1mln)\n",
    "\n",
    "        l2n = np.linalg.norm(Lvec-l1v, axis = 0)\n",
    "        product = l1mldotl*Lmldotl1ml*temp*gfTTbatch(l1v, Lvec, l1, l2n)\n",
    "\n",
    "        Lml = np.linalg.norm(Lmlv)\n",
    "        angle12 = get_angle_12(l, -L, Lml)\n",
    "        angle13 = get_angle_12(l, Lml, -L)\n",
    "        angle23 = get_angle_12(-L, Lml, l)\n",
    "        angle12, angle13, angle23 = np.nan_to_num(angle12), np.nan_to_num(angle13), np.nan_to_num(angle23)\n",
    "        factortophi = -8/(l*L*Lml)**2\n",
    "        return factortophi*integrate_bispectrum_kkk(l, Lml, L, angle12, angle13, angle23, model = model)*product*l*l1\n",
    "    result = integ(integrand, nitn = nitn, neval = neval)\n",
    "    NA1 += [result.mean]\n",
    "NA1 = np.array(NA1)/(2*np.pi)**4"
   ]
  },
  {
   "cell_type": "code",
   "execution_count": 436,
   "metadata": {},
   "outputs": [
    {
     "name": "stderr",
     "output_type": "stream",
     "text": [
      "/var/folders/5s/mpby42n15_ng7rv494cv19tw0000gn/T/ipykernel_55200/135368975.py:12: RuntimeWarning: invalid value encountered in arccos\n",
      "  return np.arccos(term)\n"
     ]
    },
    {
     "ename": "KeyboardInterrupt",
     "evalue": "",
     "output_type": "error",
     "traceback": [
      "\u001b[0;31m---------------------------------------------------------------------------\u001b[0m",
      "\u001b[0;31mKeyboardInterrupt\u001b[0m                         Traceback (most recent call last)",
      "Cell \u001b[0;32mIn[436], line 31\u001b[0m\n\u001b[1;32m     29\u001b[0m         factortophi \u001b[39m=\u001b[39m \u001b[39m-\u001b[39m\u001b[39m8\u001b[39m\u001b[39m/\u001b[39m(l\u001b[39m*\u001b[39mL\u001b[39m*\u001b[39mLml)\u001b[39m*\u001b[39m\u001b[39m*\u001b[39m\u001b[39m2\u001b[39m\n\u001b[1;32m     30\u001b[0m         \u001b[39mreturn\u001b[39;00m factortophi\u001b[39m*\u001b[39mintegrate_bispectrum_kkk(l, Lml, L, angle12, angle13, angle23, model \u001b[39m=\u001b[39m model)\u001b[39m*\u001b[39mproduct\u001b[39m*\u001b[39ml\u001b[39m*\u001b[39ml1\n\u001b[0;32m---> 31\u001b[0m     result \u001b[39m=\u001b[39m integ(integrand, nitn \u001b[39m=\u001b[39;49m nitn, neval \u001b[39m=\u001b[39;49m neval)\n\u001b[1;32m     32\u001b[0m     NC1 \u001b[39m+\u001b[39m\u001b[39m=\u001b[39m [result\u001b[39m.\u001b[39mmean]\n\u001b[1;32m     33\u001b[0m NC1 \u001b[39m=\u001b[39m np\u001b[39m.\u001b[39marray(NC1)\u001b[39m/\u001b[39m(\u001b[39m2\u001b[39m\u001b[39m*\u001b[39mnp\u001b[39m.\u001b[39mpi)\u001b[39m*\u001b[39m\u001b[39m*\u001b[39m\u001b[39m4\u001b[39m\n",
      "File \u001b[0;32m_vegas.pyx:1850\u001b[0m, in \u001b[0;36mvegas._vegas.Integrator.__call__\u001b[0;34m()\u001b[0m\n",
      "File \u001b[0;32m_vegas.pyx:2814\u001b[0m, in \u001b[0;36mvegas._vegas._BatchIntegrand_from_Batch.__call__\u001b[0;34m()\u001b[0m\n",
      "Cell \u001b[0;32mIn[436], line 30\u001b[0m, in \u001b[0;36mintegrand\u001b[0;34m(x)\u001b[0m\n\u001b[1;32m     28\u001b[0m angle12, angle13, angle23 \u001b[39m=\u001b[39m np\u001b[39m.\u001b[39mpi\u001b[39m/\u001b[39m\u001b[39m3\u001b[39m, np\u001b[39m.\u001b[39mpi\u001b[39m/\u001b[39m\u001b[39m3\u001b[39m, np\u001b[39m.\u001b[39mpi\u001b[39m/\u001b[39m\u001b[39m3\u001b[39m\n\u001b[1;32m     29\u001b[0m factortophi \u001b[39m=\u001b[39m \u001b[39m-\u001b[39m\u001b[39m8\u001b[39m\u001b[39m/\u001b[39m(l\u001b[39m*\u001b[39mL\u001b[39m*\u001b[39mLml)\u001b[39m*\u001b[39m\u001b[39m*\u001b[39m\u001b[39m2\u001b[39m\n\u001b[0;32m---> 30\u001b[0m \u001b[39mreturn\u001b[39;00m factortophi\u001b[39m*\u001b[39mintegrate_bispectrum_kkk(l, Lml, L, angle12, angle13, angle23, model \u001b[39m=\u001b[39;49m model)\u001b[39m*\u001b[39mproduct\u001b[39m*\u001b[39ml\u001b[39m*\u001b[39ml1\n",
      "File \u001b[0;32m/opt/homebrew/Caskroom/miniforge/base/envs/cmbanalysis/lib/python3.10/site-packages/numpy/lib/function_base.py:2328\u001b[0m, in \u001b[0;36mvectorize.__call__\u001b[0;34m(self, *args, **kwargs)\u001b[0m\n\u001b[1;32m   2325\u001b[0m     vargs \u001b[39m=\u001b[39m [args[_i] \u001b[39mfor\u001b[39;00m _i \u001b[39min\u001b[39;00m inds]\n\u001b[1;32m   2326\u001b[0m     vargs\u001b[39m.\u001b[39mextend([kwargs[_n] \u001b[39mfor\u001b[39;00m _n \u001b[39min\u001b[39;00m names])\n\u001b[0;32m-> 2328\u001b[0m \u001b[39mreturn\u001b[39;00m \u001b[39mself\u001b[39;49m\u001b[39m.\u001b[39;49m_vectorize_call(func\u001b[39m=\u001b[39;49mfunc, args\u001b[39m=\u001b[39;49mvargs)\n",
      "File \u001b[0;32m/opt/homebrew/Caskroom/miniforge/base/envs/cmbanalysis/lib/python3.10/site-packages/numpy/lib/function_base.py:2411\u001b[0m, in \u001b[0;36mvectorize._vectorize_call\u001b[0;34m(self, func, args)\u001b[0m\n\u001b[1;32m   2408\u001b[0m \u001b[39m# Convert args to object arrays first\u001b[39;00m\n\u001b[1;32m   2409\u001b[0m inputs \u001b[39m=\u001b[39m [asanyarray(a, dtype\u001b[39m=\u001b[39m\u001b[39mobject\u001b[39m) \u001b[39mfor\u001b[39;00m a \u001b[39min\u001b[39;00m args]\n\u001b[0;32m-> 2411\u001b[0m outputs \u001b[39m=\u001b[39m ufunc(\u001b[39m*\u001b[39;49minputs)\n\u001b[1;32m   2413\u001b[0m \u001b[39mif\u001b[39;00m ufunc\u001b[39m.\u001b[39mnout \u001b[39m==\u001b[39m \u001b[39m1\u001b[39m:\n\u001b[1;32m   2414\u001b[0m     res \u001b[39m=\u001b[39m asanyarray(outputs, dtype\u001b[39m=\u001b[39motypes[\u001b[39m0\u001b[39m])\n",
      "File \u001b[0;32m/opt/homebrew/Caskroom/miniforge/base/envs/cmbanalysis/lib/python3.10/site-packages/numpy/lib/function_base.py:2323\u001b[0m, in \u001b[0;36mvectorize.__call__.<locals>.func\u001b[0;34m(*vargs)\u001b[0m\n\u001b[1;32m   2321\u001b[0m     the_args[_i] \u001b[39m=\u001b[39m vargs[_n]\n\u001b[1;32m   2322\u001b[0m kwargs\u001b[39m.\u001b[39mupdate(\u001b[39mzip\u001b[39m(names, vargs[\u001b[39mlen\u001b[39m(inds):]))\n\u001b[0;32m-> 2323\u001b[0m \u001b[39mreturn\u001b[39;00m \u001b[39mself\u001b[39;49m\u001b[39m.\u001b[39;49mpyfunc(\u001b[39m*\u001b[39;49mthe_args, \u001b[39m*\u001b[39;49m\u001b[39m*\u001b[39;49mkwargs)\n",
      "Cell \u001b[0;32mIn[21], line 4\u001b[0m, in \u001b[0;36mintegrate_bispectrum_kkk\u001b[0;34m(l1, l2, l3, angle12, angle13, angle23, model)\u001b[0m\n\u001b[1;32m      1\u001b[0m \u001b[39m@np\u001b[39m\u001b[39m.\u001b[39mvectorize\n\u001b[1;32m      2\u001b[0m \u001b[39mdef\u001b[39;00m \u001b[39mintegrate_bispectrum_kkk\u001b[39m(l1, l2, l3, angle12, angle13, angle23, model \u001b[39m=\u001b[39m \u001b[39m'\u001b[39m\u001b[39mTR\u001b[39m\u001b[39m'\u001b[39m):\n\u001b[1;32m      3\u001b[0m     bispectrum_at_ells_of_chi \u001b[39m=\u001b[39m \u001b[39mlambda\u001b[39;00m chi: chi\u001b[39m*\u001b[39m\u001b[39m*\u001b[39m(\u001b[39m-\u001b[39m\u001b[39m4\u001b[39m)\u001b[39m*\u001b[39mintegrated_bispectrum\u001b[39m.\u001b[39mWkk(chi)\u001b[39m*\u001b[39m\u001b[39m*\u001b[39m\u001b[39m3\u001b[39m\u001b[39m*\u001b[39mintegrated_bispectrum\u001b[39m.\u001b[39mbispectrum_matter(l1\u001b[39m/\u001b[39mchi, l2\u001b[39m/\u001b[39mchi, l3\u001b[39m/\u001b[39mchi, angle12, angle13, angle23, integrated_bispectrum\u001b[39m.\u001b[39mzofchi(chi), model \u001b[39m=\u001b[39m model)\n\u001b[0;32m----> 4\u001b[0m     \u001b[39mreturn\u001b[39;00m sinteg\u001b[39m.\u001b[39;49mquadrature(bispectrum_at_ells_of_chi, \u001b[39m0\u001b[39;49m, integrated_bispectrum\u001b[39m.\u001b[39;49mchistar)[\u001b[39m0\u001b[39m]\n",
      "File \u001b[0;32m/opt/homebrew/Caskroom/miniforge/base/envs/cmbanalysis/lib/python3.10/site-packages/scipy/integrate/_quadrature.py:270\u001b[0m, in \u001b[0;36mquadrature\u001b[0;34m(func, a, b, args, tol, rtol, maxiter, vec_func, miniter)\u001b[0m\n\u001b[1;32m    268\u001b[0m maxiter \u001b[39m=\u001b[39m \u001b[39mmax\u001b[39m(miniter\u001b[39m+\u001b[39m\u001b[39m1\u001b[39m, maxiter)\n\u001b[1;32m    269\u001b[0m \u001b[39mfor\u001b[39;00m n \u001b[39min\u001b[39;00m \u001b[39mrange\u001b[39m(miniter, maxiter\u001b[39m+\u001b[39m\u001b[39m1\u001b[39m):\n\u001b[0;32m--> 270\u001b[0m     newval \u001b[39m=\u001b[39m fixed_quad(vfunc, a, b, (), n)[\u001b[39m0\u001b[39m]\n\u001b[1;32m    271\u001b[0m     err \u001b[39m=\u001b[39m \u001b[39mabs\u001b[39m(newval\u001b[39m-\u001b[39mval)\n\u001b[1;32m    272\u001b[0m     val \u001b[39m=\u001b[39m newval\n",
      "File \u001b[0;32m/opt/homebrew/Caskroom/miniforge/base/envs/cmbanalysis/lib/python3.10/site-packages/scipy/integrate/_quadrature.py:151\u001b[0m, in \u001b[0;36mfixed_quad\u001b[0;34m(func, a, b, args, n)\u001b[0m\n\u001b[1;32m    148\u001b[0m     \u001b[39mraise\u001b[39;00m \u001b[39mValueError\u001b[39;00m(\u001b[39m\"\u001b[39m\u001b[39mGaussian quadrature is only available for \u001b[39m\u001b[39m\"\u001b[39m\n\u001b[1;32m    149\u001b[0m                      \u001b[39m\"\u001b[39m\u001b[39mfinite limits.\u001b[39m\u001b[39m\"\u001b[39m)\n\u001b[1;32m    150\u001b[0m y \u001b[39m=\u001b[39m (b\u001b[39m-\u001b[39ma)\u001b[39m*\u001b[39m(x\u001b[39m+\u001b[39m\u001b[39m1\u001b[39m)\u001b[39m/\u001b[39m\u001b[39m2.0\u001b[39m \u001b[39m+\u001b[39m a\n\u001b[0;32m--> 151\u001b[0m \u001b[39mreturn\u001b[39;00m (b\u001b[39m-\u001b[39ma)\u001b[39m/\u001b[39m\u001b[39m2.0\u001b[39m \u001b[39m*\u001b[39m np\u001b[39m.\u001b[39msum(w\u001b[39m*\u001b[39mfunc(y, \u001b[39m*\u001b[39;49margs), axis\u001b[39m=\u001b[39m\u001b[39m-\u001b[39m\u001b[39m1\u001b[39m), \u001b[39mNone\u001b[39;00m\n",
      "File \u001b[0;32m/opt/homebrew/Caskroom/miniforge/base/envs/cmbanalysis/lib/python3.10/site-packages/scipy/integrate/_quadrature.py:181\u001b[0m, in \u001b[0;36mvectorize1.<locals>.vfunc\u001b[0;34m(x)\u001b[0m\n\u001b[1;32m    180\u001b[0m \u001b[39mdef\u001b[39;00m \u001b[39mvfunc\u001b[39m(x):\n\u001b[0;32m--> 181\u001b[0m     \u001b[39mreturn\u001b[39;00m func(x, \u001b[39m*\u001b[39;49margs)\n",
      "Cell \u001b[0;32mIn[21], line 3\u001b[0m, in \u001b[0;36mintegrate_bispectrum_kkk.<locals>.<lambda>\u001b[0;34m(chi)\u001b[0m\n\u001b[1;32m      1\u001b[0m \u001b[39m@np\u001b[39m\u001b[39m.\u001b[39mvectorize\n\u001b[1;32m      2\u001b[0m \u001b[39mdef\u001b[39;00m \u001b[39mintegrate_bispectrum_kkk\u001b[39m(l1, l2, l3, angle12, angle13, angle23, model \u001b[39m=\u001b[39m \u001b[39m'\u001b[39m\u001b[39mTR\u001b[39m\u001b[39m'\u001b[39m):\n\u001b[0;32m----> 3\u001b[0m     bispectrum_at_ells_of_chi \u001b[39m=\u001b[39m \u001b[39mlambda\u001b[39;00m chi: chi\u001b[39m*\u001b[39m\u001b[39m*\u001b[39m(\u001b[39m-\u001b[39m\u001b[39m4\u001b[39m)\u001b[39m*\u001b[39mintegrated_bispectrum\u001b[39m.\u001b[39mWkk(chi)\u001b[39m*\u001b[39m\u001b[39m*\u001b[39m\u001b[39m3\u001b[39m\u001b[39m*\u001b[39mintegrated_bispectrum\u001b[39m.\u001b[39mbispectrum_matter(l1\u001b[39m/\u001b[39mchi, l2\u001b[39m/\u001b[39mchi, l3\u001b[39m/\u001b[39mchi, angle12, angle13, angle23, integrated_bispectrum\u001b[39m.\u001b[39;49mzofchi(chi), model \u001b[39m=\u001b[39m model)\n\u001b[1;32m      4\u001b[0m     \u001b[39mreturn\u001b[39;00m sinteg\u001b[39m.\u001b[39mquadrature(bispectrum_at_ells_of_chi, \u001b[39m0\u001b[39m, integrated_bispectrum\u001b[39m.\u001b[39mchistar)[\u001b[39m0\u001b[39m]\n",
      "File \u001b[0;32m/opt/homebrew/Caskroom/miniforge/base/envs/cmbanalysis/lib/python3.10/site-packages/scipy/interpolate/_polyint.py:56\u001b[0m, in \u001b[0;36m_Interpolator1D.__call__\u001b[0;34m(self, x)\u001b[0m\n\u001b[1;32m     53\u001b[0m     \u001b[39mif\u001b[39;00m yi \u001b[39mis\u001b[39;00m \u001b[39mnot\u001b[39;00m \u001b[39mNone\u001b[39;00m:\n\u001b[1;32m     54\u001b[0m         \u001b[39mself\u001b[39m\u001b[39m.\u001b[39m_set_yi(yi, xi\u001b[39m=\u001b[39mxi, axis\u001b[39m=\u001b[39maxis)\n\u001b[0;32m---> 56\u001b[0m \u001b[39mdef\u001b[39;00m \u001b[39m__call__\u001b[39m(\u001b[39mself\u001b[39m, x):\n\u001b[1;32m     57\u001b[0m \u001b[39m    \u001b[39m\u001b[39m\"\"\"\u001b[39;00m\n\u001b[1;32m     58\u001b[0m \u001b[39m    Evaluate the interpolant\u001b[39;00m\n\u001b[1;32m     59\u001b[0m \n\u001b[0;32m   (...)\u001b[0m\n\u001b[1;32m     75\u001b[0m \n\u001b[1;32m     76\u001b[0m \u001b[39m    \"\"\"\u001b[39;00m\n\u001b[1;32m     77\u001b[0m     x, x_shape \u001b[39m=\u001b[39m \u001b[39mself\u001b[39m\u001b[39m.\u001b[39m_prepare_x(x)\n",
      "\u001b[0;31mKeyboardInterrupt\u001b[0m: "
>>>>>>> 5f7dd750d59c2245b60099b4c03998f1497f8bda
     ]
    }
   ],
   "source": [
    "integ = vegas.Integrator([[lmin, lmax], [0, 2*np.pi], [lmin, lmax], [0, 2*np.pi]])\n",
    "nitn, neval = 10, 1e2\n",
    " \n",
    "NC1 = []\n",
    "for L in Ls:\n",
    "\n",
    "    @vegas.batchintegrand\n",
    "    def integrand(x):\n",
    "        l1, theta1, l, theta = x.T\n",
    "        lv, l1v = np.array([l*np.cos(theta), l*np.sin(theta)]), np.array([l1*np.cos(theta1), l1*np.sin(theta1)])\n",
    "        Lvec = np.c_[np.ones_like(l)*L, np.zeros_like(l)].T\n",
    "\n",
<<<<<<< HEAD
    "models = ['TR', 'GM']\n",
    "results = {}\n",
    "\n",
    "def get_angle_12(L1, L2, L3):\n",
    "    term = (L1**2+L2**2-L3**2)/(2*L1*L2)\n",
    "    return np.arccos(term)\n",
    "\n",
    "for model in models:\n",
    "    values = []\n",
    "    for R in Rs:\n",
    "\n",
    "        Rdeg = R/60\n",
    "        Rradians = np.deg2rad(Rdeg)\n",
    "        sigma = Rradians / (2.0 * np.sqrt(2.0 * np.log(2.0)))\n",
    "        WR = lambda l: np.exp(-(l*(l+1))/2*sigma**2)\n",
    "\n",
    "        @np.vectorize\n",
    "        def integrand(L1, L2, L3):\n",
    "            angle12 = get_angle_12(L1, L2, L3)\n",
    "            angle13 = get_angle_12(L1, L3, L2)\n",
    "            angle23 = get_angle_12(L2, L3, L1)\n",
    "            value = WR(L1)*WR(L2)*WR(L3)*integrate_bispectrum_kkk(L1, L2, L3, angle12, angle13, angle23, model = model)*geom_factor(L1, L2, L3)**2\n",
    "            return value\n",
=======
    "        l1dotl = (l1v[0, :]*lv[0, :]+l1v[1, :]*lv[1, :])/(l1*l)\n",
    "\n",
    "        Lmlv = Lvec-lv\n",
    "        Lmln = np.linalg.norm(Lmlv, axis = 0)\n",
    "\n",
    "        l1dotLml = (Lmlv[0, :]*l1v[0, :]+Lmlv[1, :]*l1v[1, :])/(Lmln*l1)\n",
>>>>>>> 5f7dd750d59c2245b60099b4c03998f1497f8bda
    "\n",
    "        l2n = np.linalg.norm(Lvec-l1v, axis = 0)\n",
    "        product = l1dotl*l1dotLml*uTT(l1)*gfTTbatch(l1v, Lvec, l1, l2n)\n",
    "\n",
<<<<<<< HEAD
    "        \n",
    "        somma = 0\n",
    "        '''\n",
    "        for L1 in Ls:\n",
    "            print('Do', L1)\n",
    "            for L2 in range(L1, Ls.max()):\n",
    "                for L3 in range(L2, Ls.max()):\n",
    "                    if (L3>L1+L2) or (L3<abs(L1-L2)):\n",
    "                        continue\n",
    "                    if (L1>L2+L3)or (L1<abs(L2-L3)):\n",
    "                        continue\n",
    "                    if (L2>L3+L1) or (L2<abs(L3-L1)):\n",
    "                        continue\n",
    "                    if ((L1+L3+L3)%2==1):\n",
    "                        continue\n",
    "                    somma += integrand(L1, L2, L3)\n",
    "        '''\n",
    "        \n",
    "        somma = 0\n",
    "        for L1 in Ls:\n",
    "            print(R, L1)\n",
    "            L2 = np.arange(L1-2, Ls.max())\n",
    "            L3 = L2\n",
    "            \n",
    "            vect_ = np.vectorize(lambda LL: integrand(L1, LL, LL))\n",
    "            somma += np.sum(vect_(L2))\n",
    "            \n",
    "            #sel = np.where((L3>L1+L2))\n",
    "            '''\n",
    "            if (L1>L2+L3)or (L1<abs(L2-L3)):\n",
    "                continue\n",
    "            if (L2>L3+L1) or (L2<abs(L3-L1)):\n",
    "                continue\n",
    "            if ((L1+L3+L3)%2==1):\n",
    "                continue\n",
    "            '''\n",
    "            \n",
    "        result = 6*somma\n",
    "        values += [result]\n",
    "        \n",
    "    Rs, values = np.array(Rs), np.array(values)\n",
    "    results[model] = values"
   ]
  },
  {
   "cell_type": "code",
   "execution_count": null,
   "metadata": {},
   "outputs": [],
   "source": [
    "somma"
   ]
  },
  {
   "cell_type": "code",
   "execution_count": 29,
   "metadata": {},
   "outputs": [],
   "source": [
    "results_sims = np.load('../iterativeforegroundsfullsky/itfgs/notebooks/results.npy', allow_pickle = True).take(0)\n",
    "results_G = np.load('../iterativeforegroundsfullsky/itfgs/notebooks/resultsG.npy', allow_pickle = True).take(0)"
   ]
  },
  {
   "cell_type": "code",
   "execution_count": 19,
   "metadata": {},
   "outputs": [
    {
     "data": {
      "image/png": "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\n",
      "text/plain": [
       "<Figure size 640x480 with 1 Axes>"
      ]
     },
     "metadata": {},
     "output_type": "display_data"
    }
   ],
   "source": [
    "for k, values in results.items():\n",
    "    plt.plot(Rs, values, label = k)"
=======
    "        Lml = Lmln\n",
    "        angle12 = get_angle_12(l, Lml, -L)\n",
    "        angle13 = get_angle_12(l, -L, Lml)\n",
    "        angle23 = get_angle_12(-L, Lml, l)\n",
    "        angle12, angle13, angle23 = np.nan_to_num(angle12), np.nan_to_num(angle13), np.nan_to_num(angle23)\n",
    "        angle12, angle13, angle23 = np.pi/3, np.pi/3, np.pi/3\n",
    "        factortophi = -8/(l*L*Lml)**2\n",
    "        return factortophi*integrate_bispectrum_kkk(l, Lml, L, angle12, angle13, angle23, model = model)*product*l*l1\n",
    "    result = integ(integrand, nitn = nitn, neval = neval)\n",
    "    NC1 += [result.mean]\n",
    "NC1 = np.array(NC1)/(2*np.pi)**4"
>>>>>>> 5f7dd750d59c2245b60099b4c03998f1497f8bda
   ]
  },
  {
   "cell_type": "code",
   "execution_count": null,
   "metadata": {},
<<<<<<< HEAD
   "outputs": [],
   "source": []
  },
  {
   "cell_type": "code",
   "execution_count": 30,
   "metadata": {},
   "outputs": [
    {
     "data": {
      "text/plain": [
       "<matplotlib.legend.Legend at 0x14855ec22490>"
      ]
     },
     "execution_count": 30,
     "metadata": {},
     "output_type": "execute_result"
    },
    {
     "data": {
      "image/png": "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\n",
=======
   "outputs": [
    {
     "data": {
      "image/png": "iVBORw0KGgoAAAANSUhEUgAAAi8AAAGxCAYAAACqUFbqAAAAOXRFWHRTb2Z0d2FyZQBNYXRwbG90bGliIHZlcnNpb24zLjUuMiwgaHR0cHM6Ly9tYXRwbG90bGliLm9yZy8qNh9FAAAACXBIWXMAAA9hAAAPYQGoP6dpAAAu8klEQVR4nO3de3wU9b3/8ffmtiFAFpOYQCQYrHIPV7mEwpF6NKCigtYW8UTFHqxa2gO0Vqm1BzzVqKd6rMUrtl4AlfZnobS1qVQRUQjKJVAVg1A0gIRw3QQCue38/hh2Q0gI2biT2dl9PR+Pfczs7MzuZx/i8uZ7G5dhGIYAAAAcIsbuAgAAAIJBeAEAAI5CeAEAAI5CeAEAAI5CeAEAAI5CeAEAAI5CeAEAAI5CeAEAAI5CeAEAAI5CeAEAAI4S0eHlvffe09VXX63MzEy5XC4tW7bM0s+rq6vTz3/+c/Xs2VMdOnTQBRdcoAceeEA+n8/SzwUAIJrE2V2AlY4dO6ZBgwZp2rRpuv766y3/vEceeUTPPvusXn75ZfXv31/r16/XtGnT5PF49F//9V+Wfz4AANEgosPLFVdcoSuuuOKMr9fU1OjnP/+5Fi9erCNHjmjAgAF65JFHNG7cuDZ93tq1a3XttdfqqquukiRlZ2frtdde0/r169v0fgAAoKmI7jY6m2nTpumDDz7Q66+/ri1btuiGG27QhAkT9Pnnn7fp/caMGaO3335b27ZtkyRt3rxZ77//vq688spQlg0AQFSL6JaXluzYsUOvvfaadu/erczMTEnST37yExUWFurFF1/UQw89FPR73nPPPfJ6verTp49iY2NVX1+vBx98UDfeeGOoywcAIGpFbXjZuHGjDMNQr169Gh2vrq5WamqqJOmLL75Qz549W3yfH/zgB5o/f74kacmSJVq0aJFeffVV9e/fX8XFxZo5c6YyMzN1yy23WPNFAACIMlEbXnw+n2JjY7VhwwbFxsY2eq1Tp06SpPPOO09bt25t8X3OOeecwP7dd9+te++9V1OmTJEk5eTk6Msvv1RBQQHhBQCAEIna8DJkyBDV19ervLxcY8eObfac+Ph49enTp9XvWVVVpZiYxsOIYmNjmSoNAEAIRXR4OXr0qLZv3x54vnPnThUXFyslJUW9evXSTTfdpJtvvlmPPfaYhgwZogMHDuidd95RTk5OmwbZXn311XrwwQfVo0cP9e/fX5s2bdLjjz+u2267LZRfCwCAqOYyDMOwuwirvPvuu/rWt77V5Pgtt9yil156SbW1tfrlL3+pV155RXv27FFqaqpyc3M1b9485eTkBP15lZWVuv/++7V06VKVl5crMzNTN954o37xi18oISEhFF8JAICoF9HhBQAARJ6oXucFAAA4D+EFAAA4SsQN2PX5fPrqq6/UuXNnuVwuu8sBAACtYBiGKisrlZmZ2WTm7ukiLrx89dVXysrKsrsMAADQBrt27VL37t1bPCfiwkvnzp0lmV8+OTnZ5moAAEBrVFRUKCsrK/D3eEsiLrz4u4qSk5MJLwAAOExrhnwwYBcAADgK4QUAADgK4QUAADgK4QUAADgK4QUAADgK4QUAADgK4QUAADgK4QUAADgK4QUAADgK4QUAADgK4QUAADgK4QUAADgK4QUAADgK4QUAADgK4QUAADgK4QUAADgK4QUAADgK4QUAADgK4QUAADgK4QUAADgK4QUAADgK4QUAADgK4QUAADgK4QUAADgK4QUAADgK4QUAADhKu4SXp59+Wj179lRiYqKGDRum1atXt3j+qlWrNGzYMCUmJuqCCy7Qs88+2x5lAgAAB7A8vCxZskQzZ87Ufffdp02bNmns2LG64oorVFpa2uz5O3fu1JVXXqmxY8dq06ZN+tnPfqYf/ehHeuONN6wuFQAAOIDLMAzDyg8YOXKkhg4dqmeeeSZwrG/fvpo0aZIKCgqanH/PPfdo+fLl2rp1a+DYHXfcoc2bN2vt2rVn/byKigp5PB55vV4lJyeH5ksAAABLBfP3d5yVhdTU1GjDhg269957Gx3Py8vTmjVrmr1m7dq1ysvLa3Rs/Pjx+u1vf6va2lrFx8dbVm9L6n2Glm3aY8tnN8flsrsCAEC0inG5NGnIebZ9vqXh5cCBA6qvr1dGRkaj4xkZGSorK2v2mrKysmbPr6ur04EDB9StW7dGr1VXV6u6ujrwvKKiIkTVN1bvM/TjP2y25L0BALBajHzK0GEdUUcdV6IkKVHV6qKjSnTV6JDRWSfklufk82RVKdlVJUMuddRxneM6qk46riq5dTymoyYN+m8pxp55P5aGFz/Xac0EhmE0OXa285s7LkkFBQWaN29eCKpsmcsl/Vuvcy3/HAAAmpPkq9Q5dQfljU1RVUxHxRp1Sqvfpy71h1Ttciu1vlzfqC7R0ZjOqorppAtqPlOS75gk6dy6MnWt2y23Yf5j/7irg2JkyG2caFMtdYqVXHND9dWCZml4SUtLU2xsbJNWlvLy8iatK35du3Zt9vy4uDilpqY2OX/OnDmaPXt24HlFRYWysrJCUH1j8bExeuW2ESF/XwBAFDMM6dh+KSnNbMU4fkSqOijFxEq710vb/i5V7JEq90qH/vX1P88VKxn16mAcbzgWEyfFJUo1R0+eEyPFdZDcnaTELuaxhI5SUork7izVHlecYdg6fsHS8JKQkKBhw4ZpxYoVmjx5cuD4ihUrdO211zZ7TW5urv785z83OvbWW2/p4osvbna8i9vtltvtDm3hAACEgmFIVYek44fM7b5/SuWfmcFAkj5ZKh3+QopPkjqcYwaVliR6pBPehufxHaXkTKmu2nwta4RUXWF+1nlDzdd89ZKnu5R6kZTS03z9+GEzpHQ4R3Inm0Gk9rj5Pu5k27qDWsvybqPZs2crPz9fF198sXJzc/X888+rtLRUd9xxhySz5WTPnj165ZVXJJkzi+bPn6/Zs2dr+vTpWrt2rX7729/qtddes7pUAADarva45N1jhpHdH0q71kllH0tVB1pxbZX5kKSEzpKvVvJkSX0nSl1zzJaZjAFSx1Sp9oR5bkxsQ/AIRodzzMfp4juYDwewPLx897vf1cGDB/XAAw9o7969GjBggN58802df/75kqS9e/c2WvOlZ8+eevPNNzVr1iw99dRTyszM1JNPPqnrr7/e6lIBAGhZfZ1UXyMlJDUcO+GV3vmltP53kq+umYtcUmKy5PZI5/aSMvpLdTVmC0jPS6TeV0hH95mtJef2aj5YnCo+0XxEMcvXeWlvrPMCALBE5T5p0XXSvk+k1AultIskwyd9VSwdPTlWM76j2UWTOVjqMUrqNlg6t0/jsINmhc06LwAAhLWaKmnjK1L2N83umVPt3yat/pUZVLLHSstnSAe3m68d/Nx8+KVcIF31uHTBOBbiageEFwBAdPLVS298Typ505xdc8OLZheOJBW/Kv31xw3jUPw8WdJ3XjEH4B7+UoqNNwfKXjQ+6rty2hPhBQAQfQxD+ttPzeAiSXXHpddvknJukPYWS/s/M4+f/01zEOuOldI550s3/0nq0sO2smEivAAAoofPJ335gdlV9M/fS3JJ178gbX9b2vyqtOV187yYOOmSe6Wxs81ZPdWVUmyCFMfSHOGA8AIAiGz//H9mWKksMxd7qz7lNjLjH5Ryvi0NuF7K6GdOc84eK/X8N3NRNj9353YvG2dGeAEAOF/VIXOK8amDZU9USG/+RNqypPG5iR6p37XSoBul80ebx1wuafQP269efC2EFwCAc9XVSIX3mGus9LpCuu55c02V3evNwbiHvzCXxB8zy2xN6ZRuzgyi+8fRCC8AAGc6ul/6fb5UutZ8vu1v0guXSf2ukd7/P3PBOE8Pc0xLj5H21oqQCu+bFwAAcLr6OmnjQum5sWZwcSdLEx6WOmdKB0qk9/7XDC79J0t3rCa4RCBaXgAAzrHtLenvP2tYIC71QmnKa+ay+v0nS3+YJpX9U5rwkDQknwXjIhThBQDgDEXPSIVzJBlShxRp7I+l4d9ruJlg567StDfNVpfYeFtLhbUILwCA8ObzSf/4hbTmN+bzYdOkyx8wB+aezuUiuEQBwgsAIHzVHJOW3SV9usx8/u//bc4cojsoqhFeAADh6cgu6fWpUtkWc8Xba5+SBk2xuyqEAcILACC8GIb0+VvSn2ZIx8qlpFTpu4saFpRD1CO8AADCR/lW6e/3STveNp9nDJBufI2bIaIRwgsAIDx8/Efpjf+UjHopJl4a+X1p3BzJ3cnuyhBmCC8AAPtV7JX+MtMMLr0mSOMfklK/YXdVCFOEFwCAvQzDDC4nvFLmEOm7i6VY/nrCmXF7AACAvbb8XtpWKMUmSNc+TXDBWRFeAAD2qSyT/vZTc/+Se6SMfvbWA0cgvAAA7LPqUenEEanbYOmbM20uBk5BeAEA2KPqkLT5NXM/73/oLkKrEV4AAPbY+LJUWyVl5EjZY+2uBg5CeAEAtA+fr2G/vlZa97y5P+pO7lWEoBBeAADWMgzpzbulh3uYgcUwpE//JFV+JXU8V8r5tt0VwmHoYAQAWOv9/5M+PNnK8re7pbLN0r5PzefD/1OKc9tXGxyJlhcAgHU+XS69Pc/c7zNRcsVImxZJX20013W5+Hv21gdHIrwAAKyxZ6P0x9vN/RG3S1MWSzf9QUr0mMdyviN1Ote++uBYdBsBAELP55Pe+J5Ud1y68DJpfIF5/MLLpNtXSSVvSkPy7a0RjkV4AQCE3herpUP/ktwe6du/a7yGS0pPKfcH9tUGx6PbCAAQepsWmduc6xu6iYAQIbwAAELrhFfautzcH/wf9taCiER4AQCE1sd/lOpOSOf2lc4banc1iECEFwBAaPm7jIbcxMq5sAThBQAQOuWfSXvWS65YaeB37a4GEYrwAgBoO8OQjh2Q6uvM58UnW116TZA6pdtXFyIaU6UBAG23dr701s+lmDjpnJ5SZZl5fMhN9taFiEZ4AQC0TWWZtPLk4nO+Oung5+Z+pwzpojz76kLEI7wAANrmnV9Ktcek7sPNhegO7pAO75SyRkqx8XZXhwhGeAEABK/s44ZZRXkPSl16mA99y9ayEB0YsAsACI5hmONcZEj9Jkk9RtpdEaIM4QUAEJzt/5D+tVKKTZAum2t3NYhChBcAQOsZhrTiF+b+yO+bN1kE2hnhBQDQege2SeWfSnGJ0tif2F0NohThBQDQejvfM7dZI6QOXWwtBdGL8AIAaD1/eOn5b/bWgahGeAEAtI7PJ33xvrmfTXiBfQgvAIDWKf9EOn5Iiu8onTfU7moQxVikDgAg1VRJh/4lJXSU3MmSu5MU5258zs7V5vb8XFbQha0ILwAA6Xd5Utk/Gx8bcL257L8f410QJug2AoBoV3WoIbjEJzUc//gN6V/vmvv1ddKXH5j72WPbtTzgdIQXAIh2B07eDTr5POm+vdIvDknDp5vH3n7AXJiubLNUXSG5PVK3QfbVCojwAgA4UGJu03qZ25hY6ZKfmq0wezZIn/21YbxL9jfN1wEbEV4AINrtPxlezu3dcKxTujTqTnP/nf9p6D5ivAvCAOEFAKLdgW3m1t/y4jf6R1JiF2n/Z+aNGCXGuyAsWBpeDh8+rPz8fHk8Hnk8HuXn5+vIkSNnPL+2tlb33HOPcnJy1LFjR2VmZurmm2/WV199ZWWZABDdmmt5kczl/8fMPOV5ipTer72qAs7I0vAydepUFRcXq7CwUIWFhSouLlZ+fv4Zz6+qqtLGjRt1//33a+PGjfrjH/+obdu26ZprrrGyTACIXrXHpSOl5v7pLS+SNOL7Uqeu5n7PsVIMDfawn2XrvGzdulWFhYUqKirSyJEjJUkLFixQbm6uSkpK1Lt37ybXeDwerVixotGx3/zmNxoxYoRKS0vVo0cPq8oFgOh0cLskw+we6nhu09cTkqQrH5Xe/Kk0bFp7Vwc0y7LwsnbtWnk8nkBwkaRRo0bJ4/FozZo1zYaX5ni9XrlcLnXp0sWiSgEgip3aZeRyNX9Ov2vNBxAmLAsvZWVlSk9Pb3I8PT1dZWVlrXqPEydO6N5779XUqVOVnJzc7DnV1dWqrq4OPK+oqGhbwQAQjc40WBcIY0F3Xs6dO1cul6vFx/r16yVJrmZSvGEYzR4/XW1traZMmSKfz6enn376jOcVFBQEBgR7PB5lZWUF+5UAIHqdabAuEMaCbnmZMWOGpkyZ0uI52dnZ2rJli/bt29fktf379ysjI6PF62tra/Wd73xHO3fu1DvvvHPGVhdJmjNnjmbPnh14XlFRQYABgNbyr66bRniBcwQdXtLS0pSWlnbW83Jzc+X1evXhhx9qxIgRkqR169bJ6/Vq9OjRZ7zOH1w+//xzrVy5UqmpqS1+jtvtltvtbvEcAEAzfPUnB+xKSrvI3lqAIFg2561v376aMGGCpk+frqKiIhUVFWn69OmaOHFio8G6ffr00dKlSyVJdXV1+va3v63169dr8eLFqq+vV1lZmcrKylRTU2NVqQAQnQ5/IdVXS3GJUhdmc8I5LJ2wv3jxYuXk5CgvL095eXkaOHCgFi5c2OickpISeb1eSdLu3bu1fPly7d69W4MHD1a3bt0CjzVr1lhZKgBEH/9g3dSLuF8RHMWy2UaSlJKSokWLFrV4jmEYgf3s7OxGzwEAFgoM1mWmEZyFpRIBIFoxWBcORXgBgGh14GTLC4N14TCEFwCIRoYh7T855oU1XuAwhBcAiEZH90nVXskVI6VeaHc1QFAILwAQjfyDdc/JluJYKwvOQngBgGgUuKcRXUZwHsILAESjQHhhsC6ch/ACANGmfKv0+VvmPoN14UCWLlIHAAgjddXS6sek1Y9LvlopsYt04WV2VwUEjfACANGgfKv0+1sa1nbpfaV01WNS56721gW0AeEFAKLBm3ebwaXjudKV/yv1myS5XHZXBbQJ4QUAIp1hSF8Vm/v/8Uep20BbywG+LgbsAkCkO1Iq1VRKsQlSel+7qwG+NsILAES6fZ+Y27TeUmy8vbUAIUB4AYBI5w8vGf3trQMIEcILAES6csILIgvhBQAiXaDlpZ+9dQAhQngBgEhWe1w6uN3czxhgby1AiBBeACCS7S+RDJ+UlCp1yrC7GiAkCC8AEMn8XUbp/ViUDhGD8AIAkSww3oUuI0QOwgsARLJyBusi8hBeACCSscYLIhDhBQAi1dFy6dh+SS7pXG4LgMhBeAGASOVvdUm5QEpIsrcWIIQILwAQqegyQoQivABApGKmESIU4QUAIhUzjRChCC8AEInq66Tyz8x9uo0QYQgvABCJDu2Q6qul+I5Sl2y7qwFCivACAJEocFuAvlIMP/WILPyJBoBIxEwjRDDCCwBEIsILIhjhBQAijc8n7dlg7jNNGhGI8AIAkWZvsXSsXEroJHUfbnc1QMgRXgAg0ny+wtxeME6KS7C1FMAKhBcAiDSf/93c9hpvbx2ARQgvABBJju6X9mw09y+83N5aAIsQXgAgkmz/hyRD6jpQSu5mdzWAJQgvABBJ6DJCFCC8AECkqK+Ttr9j7l+UZ28tgIUILwAQKXatk6q9UocU6bxhdlcDWIbwAgCRwt9ldOFlUkysvbUAFiK8AECk8K/vwngXRDjCCwBEgiO7pPJPJVeM9I1L7a4GsBThBQAigb/LqPsIKSnF3loAixFeACASBLqMmGWEyEd4AQCnq6uR/rXK3GeKNKIA4QUAnK78U6nuuJTYRcoYYHc1gOUILwDgdHs3m9vMwZLLZWspQHsgvACA0/nDS7dB9tYBtBPCCwA43d5ic0t4QZQgvACAk9XXSmUfm/vdBttaCtBeCC8A4GQHtkn11VJCZ+mcnnZXA7QLwgsAONmp411i+ElHdOBPOgA42VfF5pbxLogihBcAcDJmGiEKWRpeDh8+rPz8fHk8Hnk8HuXn5+vIkSOtvv773/++XC6XnnjiCctqBADH8tVLZf809wkviCKWhpepU6equLhYhYWFKiwsVHFxsfLz81t17bJly7Ru3TplZmZaWSIAONfBHVLtMSk+SUq7yO5qgHYTZ9Ubb926VYWFhSoqKtLIkSMlSQsWLFBubq5KSkrUu3fvM167Z88ezZgxQ3//+9911VVXWVUiADibf32XrjlSTKytpQDtybKWl7Vr18rj8QSCiySNGjVKHo9Ha9asOeN1Pp9P+fn5uvvuu9W/f/+zfk51dbUqKioaPQAgKjDeBVHKsvBSVlam9PT0JsfT09NVVlZ2xuseeeQRxcXF6Uc/+lGrPqegoCAwpsbj8SgrK6vNNQOAoxBeEKWCDi9z586Vy+Vq8bF+/XpJkquZG4QZhtHscUnasGGDfv3rX+ull1464zmnmzNnjrxeb+Cxa9euYL8SADiPz0d4QdQKeszLjBkzNGXKlBbPyc7O1pYtW7Rv374mr+3fv18ZGRnNXrd69WqVl5erR48egWP19fX68Y9/rCeeeEJffPFFk2vcbrfcbndwXwIAnO7wTqm6Qop1S+f2sbsaoF0FHV7S0tKUlpZ21vNyc3Pl9Xr14YcfasSIEZKkdevWyev1avTo0c1ek5+fr8suu6zRsfHjxys/P1/Tpk0LtlQAiFz+VpeM/lJsvL21AO3MstlGffv21YQJEzR9+nQ999xzkqTbb79dEydObDTTqE+fPiooKNDkyZOVmpqq1NTURu8THx+vrl27tjg7CQCiDl1GiGKWrvOyePFi5eTkKC8vT3l5eRo4cKAWLlzY6JySkhJ5vV4rywCAyEN4QRSzrOVFklJSUrRo0aIWzzEMo8XXmxvnAgBRzTAIL4hq3NsIAJzGu0s6fkiKiZPS+9ldDdDuCC8A4DT+Vpf0vlJ8or21ADYgvACA0xw5uZ5V6oX21gHYhPACAE5z/JC5TUpt+TwgQhFeAMBpqk6Glw4p9tYB2ITwAgBOU3XQ3NLygihFeAEApwl0G9HyguhEeAEAp6k6bG7pNkKUIrwAgNPQ8oIoR3gBAKcJjHkhvCA6EV4AwElqqqS6E+Y+3UaIUoQXAHASf5dRTJzk7mxvLYBNCC8A4CSnTpN2ueytBbAJ4QUAnIQF6gDCCwA4CjONAMILADhKFeEFILwAgJPQbQQQXgDAUeg2AggvAOAotLwAhBcAcJRAywt3lEb0IrwAgJNwawCA8AIAjkK3EUB4AQBHOX7Y3NJthChGeAEAp6irkaorzH26jRDFCC8A4BT+Vhe5pESPraUAdiK8AIBT+GcadegixcTaWgpgJ8ILADhFFdOkAYnwAgDO4Z8mzUwjRDnCCwA4BbcGACQRXgDAOeg2AiQRXgDAOQLdRufYWwdgM8ILADhFYIE6uo0Q3QgvAOAU3BoAkER4AQDn4I7SgCTCCwA4B3eUBiQRXgDAOeg2AiQRXgDAGXw+6cQRc59uI0Q5wgsAOMGJI5LhM/eZKo0oR3gBACfwdxkldJbiEuytBbAZ4QUAnCAw04hWF4DwAgBOwK0BgADCCwA4AXeUBgIILwDgBNxRGgggvACAE9BtBAQQXgDACY6zQB3gR3gBACfg1gBAAOEFAMJJfa1Uuk7y1Tc+XnXY3LJAHUB4AYCwsuEl6Xd50qpHGx/njtJAAOEFAMLJgc/NbfGrkmE0HK9ithHgR3gBgHBSc8zcekulrzaa+4bBOi/AKQgvABBOao427H+ytOGYr9bcp+UFILwAQFjxt7xI0id/OtnqcrLLKC5Rik+ypy4gjMTZXQAA4BSnhpdA15HLfN4hRXK5bCkLCCe0vABAOKmpNLdJaeb2k2XcGgA4DeEFAMKJv+Vl4HfN7afLmGkEnIbwAgDhxB9e+k8yx7ccKZW2v20eY6YRIMni8HL48GHl5+fL4/HI4/EoPz9fR44cOet1W7du1TXXXCOPx6POnTtr1KhRKi0ttbJUAAgP/vDSMU3qNd7c9886ouUFkGRxeJk6daqKi4tVWFiowsJCFRcXKz8/v8VrduzYoTFjxqhPnz569913tXnzZt1///1KTEy0slQAsJ/P1xBeEjpJ/SaZ+/XV5paWF0CShbONtm7dqsLCQhUVFWnkyJGSpAULFig3N1clJSXq3bt3s9fdd999uvLKK/Xoow1LY19wwQVWlQkA4aPuuKSTq+omdJQuyjO7jmqrzGPcGgCQZGHLy9q1a+XxeALBRZJGjRolj8ejNWvWNHuNz+fTX//6V/Xq1Uvjx49Xenq6Ro4cqWXLlp3xc6qrq1VRUdHoAQCOFJgm7ZLiOkgJSQ1dRxLdRsBJloWXsrIypaenNzmenp6usrKyZq8pLy/X0aNH9fDDD2vChAl66623NHnyZF133XVatWpVs9cUFBQExtR4PB5lZWWF9HsAQLupPjlNOqGjFHPy59nfdSTRbQScFHR4mTt3rlwuV4uP9evXS5JczSymZBhGs8cls+VFkq699lrNmjVLgwcP1r333quJEyfq2WefbfaaOXPmyOv1Bh67du0K9isBQHg4dbyLn7/rSJI6Nf0HIRCNgh7zMmPGDE2ZMqXFc7Kzs7Vlyxbt27evyWv79+9XRkZGs9elpaUpLi5O/fr1a3S8b9++ev/995u9xu12y+12t7J6AAhjgfDSseFYQpI0+Tmp/FOp2yB76gLCTNDhJS0tTWlpaWc9Lzc3V16vVx9++KFGjBghSVq3bp28Xq9Gjx7d7DUJCQkaPny4SkpKGh3ftm2bzj///GBLBQBnaS68SFK/a8wHAEkWjnnp27evJkyYoOnTp6uoqEhFRUWaPn26Jk6c2GimUZ8+fbR06dLA87vvvltLlizRggULtH37ds2fP19//vOfddddd1lVKgCEB/8dpU/tNgLQhKXrvCxevFg5OTnKy8tTXl6eBg4cqIULFzY6p6SkRF6vN/B88uTJevbZZ/Xoo48qJydHL7zwgt544w2NGTPGylIBwH5nankB0Iild5VOSUnRokWLWjzHMIwmx2677TbddtttVpUFAOGJ8AK0Cvc2AoBw4b+jNN1GQIsILwAQLvwtL27CC9ASwgsAhAu6jYBWIbwAQLgIzDYivAAtIbwAQLhoboVdAE0QXgAgXNBtBLQK4QUAwkU13UZAaxBeACBcsMIu0CqEFwAIF4x5AVqF8AIA4YIxL0CrEF4AIFwQXoBWIbwAQDgwDMa8AK1EeAGAcFB7XNLJG9XS8gK0iPACAOHA3+oiSfFJ9tUBOADhBQDCgT+8xHeUYvhpBlrC/yEAEA64ozTQaoQXAAgHzDQCWo3wAgDhgDtKA61GeAGAcMDqukCrEV4AIBzQbQS0GuEFAMIBd5QGWo3wAgDhgNV1gVYjvABAOGDMC9BqhBcACAeMeQFajfACAOGAqdJAqxFeACAc0G0EtBrhBQDCAd1GQKsRXgAgHNBtBLQa4QUAwgFTpYFWI7wAQDjgrtJAqxFeACAcMOYFaDXCCwCEA2YbAa1GeAEAuxkGA3aBIBBeAMBudSckw2fuE16AsyK8AIDd/HeUlqT4JPvqAByC8AIAdvN3GcUnSTGx9tYCOADhBQDsxmBdICiEFwCwG9OkgaAQXgDAbqyuCwSF8AIAdqPlBQgK4QUA7EZ4AYJCeAEAu7FAHRAUwgsA2I0xL0BQCC8AYDfuKA0EhfACAHZjzAsQFMILANiNMS9AUAgvAGA3VtgFgkJ4AQC70W0EBIXwAgB2q6bbCAgG4QUA7MZUaSAohBcAsBvdRkBQCC8AYDcG7AJBIbwAgN0IL0BQCC8AYCfDYJ0XIEiEFwCwU90Jyag39wkvQKsQXgDATv4uI4nwArSSpeHl8OHDys/Pl8fjkcfjUX5+vo4cOdLiNUePHtWMGTPUvXt3dejQQX379tUzzzxjZZkAYB9/l1FcBykm1t5aAIewNLxMnTpVxcXFKiwsVGFhoYqLi5Wfn9/iNbNmzVJhYaEWLVqkrVu3atasWfrhD3+oP/3pT1aWCgD2YJo0EDTLwsvWrVtVWFioF154Qbm5ucrNzdWCBQv0l7/8RSUlJWe8bu3atbrllls0btw4ZWdn6/bbb9egQYO0fv16q0oFAPv4w4ubmUZAa1kWXtauXSuPx6ORI0cGjo0aNUoej0dr1qw543VjxozR8uXLtWfPHhmGoZUrV2rbtm0aP358s+dXV1eroqKi0QMAHIPVdYGgWRZeysrKlJ6e3uR4enq6ysrKznjdk08+qX79+ql79+5KSEjQhAkT9PTTT2vMmDHNnl9QUBAYU+PxeJSVlRWy7wAAlqPbCAha0OFl7ty5crlcLT78XTwul6vJ9YZhNHvc78knn1RRUZGWL1+uDRs26LHHHtNdd92lf/zjH82eP2fOHHm93sBj165dwX4lALAPN2UEghYX7AUzZszQlClTWjwnOztbW7Zs0b59+5q8tn//fmVkZDR73fHjx/Wzn/1MS5cu1VVXXSVJGjhwoIqLi/WrX/1Kl112WZNr3G633G53sF8DAMIDC9QBQQs6vKSlpSktLe2s5+Xm5srr9erDDz/UiBEjJEnr1q2T1+vV6NGjm72mtrZWtbW1iolp3CAUGxsrn88XbKkAED4q9kovXSVdPE0a/cOG49waAAiaZWNe+vbtqwkTJmj69OkqKipSUVGRpk+frokTJ6p3796B8/r06aOlS5dKkpKTk3XJJZfo7rvv1rvvvqudO3fqpZde0iuvvKLJkydbVSoAWG/HO9KhHdIHv5ZO/ccYY16AoFm6zsvixYuVk5OjvLw85eXlaeDAgVq4cGGjc0pKSuT1egPPX3/9dQ0fPlw33XST+vXrp4cfflgPPvig7rjjDitLBQBrHdvfsN33z4bjtLwAQQu62ygYKSkpWrRoUYvnGIbR6HnXrl314osvWlkWALQ/f3iRzFaYboPMfaZKA0Hj3kYA0B6OHWjY3/52wz7dRkDQCC8A0B5ObXkpLWoILcw2AoJGeAGA9nBqePHVSl+8b+7T8gIEjfACAO3B323UbbC53fGOuWXMCxA0wgsAWM0wGlpeBp1c5NM/7oWWFyBohBcAsNoJr9lVJEn9r5NcsdLBz6UjpdxVGmgDwgsAWM3fZZTQWeqcIXUfbj7f8Q7dRkAbEF4AwGr+LqOOJ2+t8o1Lze32t+k2AtqA8AIAVguEl3PN7YX/bm53rJR8deY+4QVoNcILAFjt9PCSOURK7CLVVDacE094AVqL8AIAVqs6aG47pprbmFjpgnENr8clSrGW3q0FiCiEFwCw2uktL1LDuBeJLiMgSIQXALDaWcMLM42AYBBeAMBq/qnSp4aXLllSWi9zn/ACBIXwAgBWO32qtJ+/9YVuIyAohBcAsFpz3UaSNOB6c5vRr33rARyO4e0AYKX6OqnqkLl/enjJGiHN/kzqlN7+dQEORngBACsdPyTJkOSSOqQ0fT25W3tXBDge3UYAYCV/l1FSCmu5ACFCeAEAK51pvAuANiO8AICVmpsmDeBrIbwAgJXONE0aQJsRXgDASnQbASFHeAEAKxFegJAjvACAlY757yhNtxEQKoQXALASLS9AyBFeAMBKhBcg5AgvAGAlpkoDIUd4AQCr1B6XairN/aRUe2sBIgjhBQCs4m91iYmXEj321gJEEMILAFjl1PEuLpe9tQARhPACAFYJjHdhmjQQSoQXALAKM40ASxBeAMAqhBfAEoQXALAKN2UELEF4AQCrsMYLYAnCCwBYhW4jwBKEFwCwCuEFsAThBQCsUsUdpQErEF4AwAqGQcsLYBHCCwBYobpCqq8x92l5AUKK8AIAVvDPNEroLMV3sLcWIMIQXgDACqzxAliG8AIAVmC8C2AZwgsAWIHwAliG8AIAVgisrptqbx1ABCK8AIAVaHkBLEN4AQArEF4AyxBeAMAK3JQRsAzhBQCswFRpwDKEFwCwAt1GgGUILwAQavV1UtUhc5/wAoQc4QUAQu34IUmGJJfUIcXuaoCIQ3gBgFDzD9ZNSpFi4+ytBYhAhBcACDXGuwCWIrwAQKgRXgBLWRpeHnzwQY0ePVpJSUnq0qVLq64xDENz585VZmamOnTooHHjxumTTz6xskwACK3AGi9MkwasYGl4qamp0Q033KA777yz1dc8+uijevzxxzV//nx99NFH6tq1qy6//HJVVlZaWCkAhFCVf8wL4QWwgqXhZd68eZo1a5ZycnJadb5hGHriiSd033336brrrtOAAQP08ssvq6qqSq+++qqVpQJA6JzwmtsOXWwtA4hUYTXmZefOnSorK1NeXl7gmNvt1iWXXKI1a9bYWBkABMEfXtzJ9tYBRKiwmsNXVlYmScrIyGh0PCMjQ19++WWz11RXV6u6ujrw3Os1fzQqKiosqhIAzuLQQanakOriJX6LgFbx/71tGMZZzw06vMydO1fz5s1r8ZyPPvpIF198cbBvHeByuRo9NwyjyTG/goKCZuvJyspq8+cDQEg8fJeku+yuAnCUyspKeTyeFs8JOrzMmDFDU6ZMafGc7OzsYN9WktS1a1dJZgtMt27dAsfLy8ubtMb4zZkzR7Nnzw489/l8OnTokFJTUzVixAh99NFHbarFasOHD7eltvb43FB/Rqje7+u+T1uur6ioUFZWlnbt2qXkZLoQ2pNd/49ZLZy/F79r9rzn13mftl5rxW+bYRiqrKxUZmbmWc8NOrykpaUpLc2aEfQ9e/ZU165dtWLFCg0ZMkSSOWNp1apVeuSRR5q9xu12y+12Nzrmn5YdGxsbtn9h2FVbe3xuqD8jVO/3dd/n61yfnJwctn8WI1U4////dYTz9+J3zZ73/Drv83VrCPVv29laXPwsHbBbWlqq4uJilZaWqr6+XsXFxSouLtbRo0cD5/Tp00dLly6VZHYXzZw5Uw899JCWLl2qjz/+WLfeequSkpI0derUoD//Bz/4Qci+S6jZVVt7fG6oPyNU7/d13yec/zyhqUj97xXO34vfNXve8+u8Tzj/eWqJy2jNyJg2uvXWW/Xyyy83Ob5y5UqNGzfOLMDl0osvvqhbb71VktlsNG/ePD333HM6fPiwRo4cqaeeekoDBgywqkzAMhUVFfJ4PPJ6vWH7r2UACJbdv22Whhcg2lVXV6ugoEBz5sxp0r0JAE5l928b4QUAADhKWC1SBwAAcDaEFwAA4CiEFwAA4CiEFwAA4CiEF8Amu3bt0rhx49SvXz8NHDhQf/jDH+wuCQC+lsrKSg0fPlyDBw9WTk6OFixYYMnnMNsIsMnevXu1b98+DR48WOXl5Ro6dKhKSkrUsWNHu0sDgDapr69XdXW1kpKSVFVVpQEDBuijjz5SampqSD8nrO4qDUSTbt26Be7hlZ6erpSUFB06dIjwAsCxYmNjlZSUJEk6ceKE6uvrW3WX6GDRbQS00Xvvvaerr75amZmZcrlcWrZsWZNznn76afXs2VOJiYkaNmyYVq9e3ex7rV+/Xj6fj7uhA7BVKH7Xjhw5okGDBql79+766U9/asn9EAkvQBsdO3ZMgwYN0vz585t9fcmSJZo5c6buu+8+bdq0SWPHjtUVV1yh0tLSRucdPHhQN998s55//vn2KBsAzigUv2tdunTR5s2btXPnTr366qvat29fyOtkzAsQAi6XS0uXLtWkSZMCx0aOHKmhQ4fqmWeeCRzr27evJk2apIKCAknmEtuXX365pk+frvz8/PYuGwDOqK2/a6e68847demll+qGG24IaW20vAAWqKmp0YYNG5SXl9foeF5entasWSPJvAnprbfeqksvvZTgAiDsteZ3bd++faqoqJBk3rzxvffeU+/evUNeCwN2AQscOHBA9fX1ysjIaHQ8IyNDZWVlkqQPPvhAS5Ys0cCBAwP9ygsXLlROTk57lwsAZ9Wa37Xdu3fre9/7ngzDkGEYmjFjhgYOHBjyWggvgIVcLlej54ZhBI6NGTNGPp/PjrIAoM1a+l0bNmyYiouLLa+BbiPAAmlpaYqNjQ38a8SvvLy8yb9aAMAJwul3jfACWCAhIUHDhg3TihUrGh1fsWKFRo8ebVNVANB24fS7RrcR0EZHjx7V9u3bA8937typ4uJipaSkqEePHpo9e7by8/N18cUXKzc3V88//7xKS0t1xx132Fg1AJyZY37XDABtsnLlSkNSk8ctt9wSOOepp54yzj//fCMhIcEYOnSosWrVKvsKBoCzcMrvGuu8AAAAR2HMCwAAcBTCCwAAcBTCCwAAcBTCCwAAcBTCCwAAcBTCCwAAcBTCCwAAcBTCCwAAcBTCCwAAcBTCCwAAcBTCCwAAcBTCCwAAcBTCCwAAcJT/D/Cwmv6nfQ0WAAAAAElFTkSuQmCC",
>>>>>>> 5f7dd750d59c2245b60099b4c03998f1497f8bda
      "text/plain": [
       "<Figure size 640x480 with 1 Axes>"
      ]
     },
     "metadata": {},
     "output_type": "display_data"
    }
   ],
   "source": [
<<<<<<< HEAD
    "for k, values in results.items():\n",
    "    plt.plot(Rs, values*1e4, label = k)\n",
    "\n",
    "fwhms = np.arange(0.5, 6, 1.)\n",
    "for k, skews in results_sims.items():\n",
    "    plt.plot(fwhms, np.array(skews), label = k)\n",
    "plt.hlines(0, fwhms.min(), fwhms.max(), ls = '--', color = 'k', alpha = 0.4)\n",
    "plt.legend()"
=======
    "NC1term_alt = 4*ALnew**2*S*NC1\n",
    "plt.plot(Ls, NC1term_alt/ppinterp)\n",
    "plt.plot(Ls, NC1term/ppinterp)\n",
    "plt.ylim(-1e-8, 1e-9)\n",
    "plt.xscale('log')"
   ]
  },
  {
   "cell_type": "code",
   "execution_count": 358,
   "metadata": {},
   "outputs": [],
   "source": [
    "NA1term = -4*ALnew**2*S*NA1"
   ]
  },
  {
   "cell_type": "code",
   "execution_count": 359,
   "metadata": {},
   "outputs": [
    {
     "data": {
      "text/plain": [
       "[<matplotlib.lines.Line2D at 0x2a7b5cc10>]"
      ]
     },
     "execution_count": 359,
     "metadata": {},
     "output_type": "execute_result"
    },
    {
     "data": {
      "image/png": "iVBORw0KGgoAAAANSUhEUgAAAhYAAAGsCAYAAACB/u5dAAAAOXRFWHRTb2Z0d2FyZQBNYXRwbG90bGliIHZlcnNpb24zLjUuMiwgaHR0cHM6Ly9tYXRwbG90bGliLm9yZy8qNh9FAAAACXBIWXMAAA9hAAAPYQGoP6dpAABPZElEQVR4nO3deVxU9f4/8NcszLANg4BsgohbqKAi7ltqZq5lpbfFzOp2y9LS622zui23m9hdut6+lZW/rt6y1Gu5tWi5L7mjKIooKAoqyM6wyAAz5/fHzBwYNh2cRc68no8Hj2LmMHM4IPOa9+f9+XxkgiAIICIiIrIDuatPgIiIiKSDwYKIiIjshsGCiIiI7IbBgoiIiOyGwYKIiIjshsGCiIiI7IbBgoiIiOyGwYKIiIjshsGCiIiI7IbBgoiIiOzGZcFiz549mDJlCsLDwyGTybBhwwaHPl9iYiIGDBgAjUaD4OBgTJ06FWfPnrU6RhAEvPPOOwgPD4eXlxdGjRqF06dPO/S8iIiIpMRlwaKiogJ9+vTBxx9/7JTn2717N+bMmYODBw9i69atqK2txbhx41BRUSEe87e//Q0ffvghPv74Yxw5cgShoaG4++67UVZW5pRzJCIiautkt8MmZDKZDOvXr8fUqVPF26qrq/Hmm2/im2++QUlJCWJjY/HBBx9g1KhRdnnO/Px8BAcHY/fu3Rg5ciQEQUB4eDjmz5+PV199FQCg1+sREhKCDz74AM8++6xdnpeIiEjKbtseiyeffBK//fYbVq9ejZMnT2L69OkYP3480tPT7fL4paWlAICAgAAAQGZmJnJzczFu3DjxGLVajTvvvBP79++3y3MSERFJ3W0ZLM6fP49Vq1Zh7dq1GDFiBLp06YKXXnoJw4cPx/Lly2/58QVBwIIFCzB8+HDExsYCAHJzcwEAISEhVseGhISI9xEREVHLlK4+gaYcO3YMgiCge/fuVrfr9XoEBgYCAC5evIjo6OgWH2fOnDlN9nDMnTsXJ0+exL59+xrdJ5PJrD4XBKHRbURERNS02zJYGI1GKBQKJCUlQaFQWN3n6+sLAOjQoQPOnDnT4uO0a9eu0W0vvPACNm3ahD179iAiIkK8PTQ0FICpchEWFibenpeX16iKQURERE27LYNFfHw8DAYD8vLyMGLEiCaP8fDwQExMzE0/piAIeOGFF7B+/Xrs2rWrUbUjOjoaoaGh2Lp1K+Lj4wGYGkh3796NDz74oPXfDBERkRtxWbAoLy9HRkaG+HlmZiaSk5MREBCA7t27Y8aMGXj88cfxz3/+E/Hx8SgoKMCOHTsQFxeHiRMn2vx8c+bMwbfffouNGzdCo9GIfRNarRZeXl6QyWSYP38+Fi1ahG7duqFbt25YtGgRvL298eijj9rt+yYiIpIyl0033bVrF0aPHt3o9lmzZmHFihWoqanBX//6V3z11Ve4cuUKAgMDMWTIELz77ruIi4uz+fma65NYvnw5nnjiCQCmqsa7776Lzz//HMXFxRg0aBA++eQTscGTiIiIWnZbrGNBRERE0nBbTjclIiKitonBgoiIiOzG6c2bRqMRV69ehUaj4foQREREbYQgCCgrK0N4eDjk8ubrEk4PFlevXkVkZKSzn5aIiIjsIDs722odqIacHiw0Gg0A04n5+fk5++mJiIioFXQ6HSIjI8XX8eY4PVhYhj/8/PwYLIiIiNqYG7UxsHmTiIiI7IbBgoiIiOyGwYKIiIjshsGCiIiI7IbBgoiIiOyGwYKIiIjshsGCiIiI7IbBgoiIiOyGwYKIiIjshsGCiIiI7IbBgoiIiOyGwYKIiIjsxumbkDnKh7+eRcn1Gswd3RXBfp6uPh0iIiK3JJmKxaoj2fjqwCUUlFe7+lSIiIjcls3B4sqVK3jssccQGBgIb29v9O3bF0lJSY44N5uolaZvRV9rcPGZEBERuS+bhkKKi4sxbNgwjB49Gps3b0ZwcDDOnz8Pf39/B53ezfP0UAAAqmqMLj4TIiIi92VTsPjggw8QGRmJ5cuXi7d16tTJ3ufUKqxYEBERuZ5NQyGbNm1C//79MX36dAQHByM+Ph7Lli1r8Wv0ej10Op3VhyPUBQtWLIiIiFzFpmBx4cIFLF26FN26dcMvv/yC2bNn48UXX8RXX33V7NckJiZCq9WKH5GRkbd80k2pGwphxYKIiMhVbAoWRqMR/fr1w6JFixAfH49nn30Wf/jDH7B06dJmv2bhwoUoLS0VP7Kzs2/5pJvCigUREZHr2RQswsLC0LNnT6vbevTogaysrGa/Rq1Ww8/Pz+rDESwVCz0rFkRERC5jU7AYNmwYzp49a3XbuXPnEBUVZdeTag1WLIiIiFzPpmDxxz/+EQcPHsSiRYuQkZGBb7/9Fl988QXmzJnjqPO7aWqluWLBYEFEROQyNgWLAQMGYP369Vi1ahViY2Px3nvvYcmSJZgxY4ajzu+meXqYvhU2bxIREbmOzXuFTJ48GZMnT3bEudwStQcrFkRERK4mmb1CxB4LViyIiIhcRjLBgkt6ExERuZ5kggWX9CYiInI96QQLViyIiIhcTjrBghULIiIil5NgsGDFgoiIyFUkEyy4CRkREZHrSSZYsGJBRETkehIKFlwgi4iIyNUkEyy4pDcREZHrSSZYsGJBRETkepIJFqxYEBERuZ5kggU3ISMiInI96QQL86yQ6lojBEFw8dkQERG5J8kEC8s6FgCrFkRERK4imWBhqVgAgJ77hRAREbmEZIKFh0IOhVwGgPuFEBERuYpkggVQV7XgDqdERESuIclgwYoFERGRa0gqWNRtRMaKBRERkStIKliwYkFERORaEgsWXCSLiIjIlSQVLLisNxERkWtJKliwYkFERORa0goWHuyxICIiciVpBQslZ4UQERG5krSChaViwR4LIiIil5BUsPC0VCzYY0FEROQSkgoWdRULBgsiIiJXkFaw4AJZRERELiWpYMElvYmIiFxLUsGCFQsiIiLXklSwYMWCiIjItSQVLFixICIici2JBQsu6U1ERORKkgoW3ISMiIjItSQVLFixICIici2JBQtLjwWDBRERkStIKlhYZoVwrxAiIiLXkFSwqNs2nRULIiIiV5BUsBA3IWPFgoiIyCUkFSxYsSAiInItm4LFO++8A5lMZvURGhrqqHOzmdi8yYoFERGRSyht/YJevXph27Zt4ucKhcKuJ3QrxCW9WbEgIiJyCZuDhVKpvK2qFPVZKhYGo4BagxFKhaRGeoiIiG57Nr/ypqenIzw8HNHR0Xj44Ydx4cKFFo/X6/XQ6XRWH45iWSALYJ8FERGRK9gULAYNGoSvvvoKv/zyC5YtW4bc3FwMHToUhYWFzX5NYmIitFqt+BEZGXnLJ90cS8UC4MwQIiIiV5AJgiC09osrKirQpUsXvPLKK1iwYEGTx+j1euj1evFznU6HyMhIlJaWws/Pr7VP3azub2xGtcGI/a+NQbi/l90fn4iIyB3pdDpotdobvn7b3GNRn4+PD+Li4pCent7sMWq1Gmq1+laexiZqDzmqDUZWLIiIiFzglrob9Xo9zpw5g7CwMHudzy3jRmRERESuY1OweOmll7B7925kZmbi0KFDmDZtGnQ6HWbNmuWo87MZNyIjIiJyHZuGQi5fvoxHHnkEBQUFaN++PQYPHoyDBw8iKirKUednM0/z6pscCiEiInI+m4LF6tWrHXUedsOhECIiIteR3ApSlooFl/UmIiJyPskFC0vFgst6ExEROZ/0ggUrFkRERC4juWDhyYoFERGRy0guWLBiQURE5DrSCxZcx4KIiMhlJBcsPD3M001ZsSAiInI6yQULViyIiIhcR3LBQqxYMFgQERE5neSChaViwSW9iYiInE+CwYIVCyIiIleRXLDgJmRERESuI7lgwYoFERGR60gvWFgWyKplxYKIiMjZpBcsLEt617BiQURE5GzSCxasWBAREbmM5IKFJysWRERELiO5YMGKBRERketIL1hYlvRmxYKIiMjpJBcsLEt6cx0LIiIi55NcsOAmZERERK4jwWBRt0CWIAguPhsiIiL3IrlgYVnSG2DVgoiIyNkkFywsFQuAwYKIiMjZJBcsPBQyyGWm/9ezgZOIiMipJBcsZDIZNyIjIiJyEckFC4CLZBEREbmKJIMFl/UmIiJyDUkGC1YsiIiIXEOSwcJSseCy3kRERM4lyWBhqVhUsWJBRETkVNIMFtyIjIiIyCUkGSzEjchYsSAiInIqSQYLViyIiIhcQ6LBggtkERERuYI0g4WleZNLehMRETmVNIMFKxZEREQuIclg4ckFsoiIiFxCksFCzSW9iYiIXEKiwYIVCyIiIleQZLAQ17FgxYKIiMipJBks6ioWDBZERETOdEvBIjExETKZDPPnz7fT6diHuLspp5sSERE5VauDxZEjR/DFF1+gd+/e9jwfu7DsblrFigUREZFTtSpYlJeXY8aMGVi2bBnatWtn73O6ZaxYEBERuUargsWcOXMwadIkjB079obH6vV66HQ6qw9H8+QCWURERC6htPULVq9ejWPHjuHIkSM3dXxiYiLeffddm0/sVnBJbyIiItewqWKRnZ2NefPmYeXKlfD09Lypr1m4cCFKS0vFj+zs7FadqC0sC2RVs2JBRETkVDZVLJKSkpCXl4eEhATxNoPBgD179uDjjz+GXq+HQqGw+hq1Wg21Wm2fs71JnqxYEBERuYRNweKuu+5CSkqK1W1PPvkkYmJi8OqrrzYKFa7CTciIiIhcw6ZgodFoEBsba3Wbj48PAgMDG93uSlwgi4iIyDUkufJm3ZLeHAohIiJyJptnhTS0a9cuO5yGfVkqFrVGAbUGI5QKSeYnIiKi244kX3EtFQuAwyFERETOJMlgoVLWfVsMFkRERM4jyWChkMvgoZABAPS17LMgIiJyFkkGC6DeRmQ1rFgQERE5i2SDhbgRGSsWRERETiPdYGFZJIsVCyIiIqeRbrDgst5EREROJ91gwWW9iYiInE6ywYIbkRERETmfZIMF9wshIiJyPgkHCw6FEBEROZtkgwWHQoiIiJxPssGCFQsiIiLnk2yw8OQCWURERE4n2WCh5pLeRERETifhYMGKBRERkbNJNlh4enBJbyIiImeTbLBgxYKIiMj5pBssLM2brFgQERE5jWSDhWUopIoVCyIiIqeRbLAQh0JYsSAiInIayQYLsXmTC2QRERE5jWSDhaViwSW9iYiInEfCwYIVCyIiImeTbrDgJmREREROJ91goeSsECIiImeTcLAwfWvVHAohIiJyGskGi7rdTRksiIiInEWywUKlMA2FsGJBRETkPJINFmpWLIiIiJxOssFCpTB9awajgFoDwwUREZEzSDZYWCoWAFDNYEFEROQUkg0WlooFwP1CiIiInEWywUKpkEMhlwFgxYKIiMhZJBssAO5wSkRE5GxuESyqDVx9k4iIyBkkHSxU4g6nrFgQERE5g6SDBXc4JSIici5JBwsV9wshIiJyKkkHC7F5kzucEhEROYWbBAtWLIiIiJxB0sGCQyFERETOZVOwWLp0KXr37g0/Pz/4+flhyJAh2Lx5s6PO7ZaxeZOIiMi5bAoWERERWLx4MY4ePYqjR49izJgxuO+++3D69GlHnd8tYcWCiIjIuZS2HDxlyhSrz99//30sXboUBw8eRK9evex6YvbA5k0iIiLnsilY1GcwGLB27VpUVFRgyJAhzR6n1+uh1+vFz3U6XWuf0mYcCiEiInIum5s3U1JS4OvrC7VajdmzZ2P9+vXo2bNns8cnJiZCq9WKH5GRkbd0wrbgUAgREZFz2Rws7rjjDiQnJ+PgwYN47rnnMGvWLKSmpjZ7/MKFC1FaWip+ZGdn39IJ24JDIURERM5l81CISqVC165dAQD9+/fHkSNH8O9//xuff/55k8er1Wqo1epbO8tWUnuwYkFERORMt7yOhSAIVj0UtxO1ggtkEREROZNNFYvXX38dEyZMQGRkJMrKyrB69Wrs2rULW7ZscdT53RK1h7l5k7ubEhEROYVNweLatWuYOXMmcnJyoNVq0bt3b2zZsgV33323o87vlqjMFYtqA4MFERGRM9gULL788ktHnYdDWHos2LxJRETkHJLeK0TN6aZEREROJelgoeLupkRERE4l6WAhrrzJ5k0iIiKnkHSwsDRv6tm8SURE5BSSDhZi82YNmzeJiIicQdrBwjwUwuZNIiIi55B0sGDzJhERkXNJOlioGSyIiIicStLBom7bdPZYEBEROYOkgwUrFkRERM4l8WBhXsei1ghBEFx8NkRERNIn6WBhGQoBgBoDgwUREZGjSTpYqOsFC25ERkRE5HhuEyy4lgUREZHjSTpYyGSyumW9GSyIiIgcTtLBAuDMECIiImeSfLCoW8uCwYKIiMjRJB8s6ioWbN4kIiJyNOkHC4+6tSyIiIjIsSQfLCzNmxwKISIicjzJBwu1B4dCiIiInEXywYIVCyIiIueRfLCoq1gwWBARETma9IOFZSOyGgYLIiIiR5N8sBBX3jQwWBARETma5IOFOBRSw+ZNIiIiR5N8sBCbN1mxICIicjjJB4u6igWDBRERkaNJP1goufImERGRs0g+WHATMiIiIueRfLDgJmRERETO4wbBgkMhREREziL5YMGhECIiIueRfLDgUAgREZHzSD5YsGJBRETkPJIPFnUVCwYLIiIiR3ODYMHmTSIiImdxg2DBoRAiIiJncZtgweZNIiIix5N8sGDzJhERkfNIPliwx4KIiMh5bAoWiYmJGDBgADQaDYKDgzF16lScPXvWUedmF+LupgwWREREDmdTsNi9ezfmzJmDgwcPYuvWraitrcW4ceNQUVHhqPO7ZSoFh0KIiIicRWnLwVu2bLH6fPny5QgODkZSUhJGjhxp1xOzl7qKBZs3iYiIHM2mYNFQaWkpACAgIKDZY/R6PfR6vfi5Tqe7lae0maViUWMQYDQKkMtlTn1+IiIid9Lq5k1BELBgwQIMHz4csbGxzR6XmJgIrVYrfkRGRrb2KVtF7aEQ/7/awOEQIiIiR2p1sJg7dy5OnjyJVatWtXjcwoULUVpaKn5kZ2e39ilbxbKOBQDoaxgsiIiIHKlVQyEvvPACNm3ahD179iAiIqLFY9VqNdRqdatOzh6UchlkMkAQAL3BAMDDZedCREQkdTZVLARBwNy5c7Fu3Trs2LED0dHRjjovu5HJZHWrb7JiQURE5FA2VSzmzJmDb7/9Fhs3boRGo0Fubi4AQKvVwsvLyyEnaA9qpQJVNUauZUFERORgNlUsli5ditLSUowaNQphYWHix5o1axx1fnbBZb2JiIicw6aKhSAIjjoPh+JGZERERM4h+b1CAFYsiIiInMUtggU3IiMiInIONwkW3IiMiIjIGdwiWHAohIiIyDncIliweZOIiMg53CpYsGJBRETkWG4SLNi8SURE5AxuEiw4FEJEROQMbhEs2LxJRETkHG4RLDjdlIiIyDncIlioGCyIiIicwi2ChaV5k0MhREREjuUmwYLNm0RERM7gFsGCQyFERETO4RbBgs2bREREzuEewcLDvEBWDYMFERGRI7lFsFApzOtYGBgsiIiIHMktgoXawzwUUsPmTSIiIkdyi2DBigUREZFzuEWwYI8FERGRc7hHsOA6FkRERE7hFsFC3ISMQyFEREQO5RbBQqxYcCiEiIjIodwrWHCBLCIiIodyk2DBTciIiIicwU2CBZs3iYiInMEtgoWledMoALVs4CQiInIYtwgWlqEQgH0WREREjuQWwcJSsQAYLIiIiBzJLYKFQi6DUi4DwAZOIiIiR3KLYAGwgZOIiMgZ3CZYiKtvsmJBRETkMG4TLCwNnOyxICIichz3CRYeHAohIiJyNLcJFioFl/UmIiJyNLcJFnUVCwYLIiIiR3GbYCFWLLjDKRERkcO4TbAQNyLjkt5EREQO4z7BwjIUUsPmTSIiIkdxm2BhGQphxYKIiMhx3CZYqD3M61iwx4KIiMhh3CZYcLopERGR49kcLPbs2YMpU6YgPDwcMpkMGzZscMBp2Z+lx4JLehMRETmOzcGioqICffr0wccff+yI83EYbkJGRETkeEpbv2DChAmYMGGCI87FobgJGRERkePZHCxspdfrodfrxc91Op2jn7JJ3ISMiIjI8RzevJmYmAitVit+REZGOvopm8ShECIiIsdzeLBYuHAhSktLxY/s7GxHP2WT1BwKISIicjiHD4Wo1Wqo1WpHP82Nz0PJ6aZERESO5j7rWLBiQURE5HA2VyzKy8uRkZEhfp6ZmYnk5GQEBASgY8eOdj05e2LzJhERkePZXLE4evQo4uPjER8fDwBYsGAB4uPj8dZbb9n95OypLTVvGo0Clmw7hz3n8l19KkRERDaxuWIxatQoCILgiHNxqLY0FHLkYhGWbEtH5yAf7HhplKtPh4iI6Ka5TY9FWxoKOZ9fAQDIKa1qkyGOiIjcl9sEC1UbmhVyqdAULK7XGFBRffsP3RAREVm4TbBoS+tYXDQHCwDIL9O3cCQREdHtxX2ChUfbad68VFgp/j+DBRERtSVuEyxUirYxFCIIAoMFERG1WW4TLNQebaN5M79Mj+s1hnqfV7nwbIiIiGzjNsHCUrGorjXe1jMtLtarVgBAfjkrFkRE1Ha4TbCw9FgAQLXh9q1a1G/cBDgUQkREbYv7BAtl3bd6Ow+HWKaaepmHbvIYLIiIqA1xm2BhGQoBbJ9yajQK2HIqF8UV1fY+rUYsQyH9ovwBsGJBRERti9sEC5lM1uQiWXllVTh6sajFr/3f0WzMXpmE935Kdeg5AkCWOVj0jwoAwGBBRERti9sECwBQW6ac1pt18cxXSZj22YEWw8XOs3kAgIPnCx16foIgiD0W/Tu1AwAUVlTDYLx9m02JiIjqc69gYW7gtDRvZhZUIDm7BACwNfVak19jMAo4eMEUOq6WViFP57jpn8WVNSirqgUAxHdsB5nM9PzFlY4fgiEiIrIH9woWlo3IakzBYvOpHPG+PekFTX7NmRwdSq/XiJ8fNwcRR7BUK8K0nvBVKxHgrQLA4RAiImo73CpYNOyx2HIqV7zvTI6uyRfwAw2GP5IdGCwsM0KiAr0BAO01agDSDBal12twIb/c1adBRER25lbBov5GZNlFlTh5uRRyGdAxwPRC/ltG46rF/vOm27oF+wIAkrNKHHZ+FwtMjZudAn0ASDtYPLn8MMZ+uBvZRZU3PpiIiNoMtwwW+loDfjltqlYMjA7AxLgwAMCe9Hyr42sMRhzONPVXzL6zCwDg5OWSW2qmrNDXYmdaHoxNPEZdxcIcLHzNwUJiq29WVtfieHYJjAJw8nKpq0+HiIjsyK2ChapexeLnFFN/xcS4MIzoFgQA2JdeYLXcd8qVUlRUG6D18sC9fcPho1KgotqAjLzWl/AXb07DkyuO4KsDFxvdZ1nDopPEh0LO5JTBcpkbrjRKRERtm1sFC0vz5qWiShzLKoFMBtzTKxQJUe3g6SFHXpke567VhQZLf8XgzgHwUMgRF6EFACRnF7fq+QVBwI4009TVH0/mNLo/yzws0FHiwSL1al2VIrOAwYKISErcKlhYKhYbk68CABI6tkOInyc8PRQYFB0IANhbbzjEEiyGdjFVNPpGmtaWaG0DZ1ZRJa6UXAcAJGUVo7DeEEfp9RoUmVf2jJJ4j8Xpqzrx/xksiIikxa2ChaXH4kyO6YVtgrm3AoA4HGKZdqqvNeCIedGsoV1MoaNvpD8A4HgrGzjrzzARBGC7uXoB1K24GeSrhq9aCUC6PRapOXXB4iKDBRGRpLhlsLAYHxsq/v+Ibu0BAIcuFKKqxoDkrBLoa40I8lWjq3lGSHxHfwDAuWtlqNDX2vz8+83BQuvlAcB6US5Lr4GlvwKQZsWixmBEWm6Z+HlhRTV0VTUtfAUREbUlbhUsVPWCRZ9If3Tw9xI/7x7ii2CNGvpaI5IuFYshYEiXQMhkMgBAiJ8nwrSeMAqmxk5bCIIgPua8u7oBMA27VJmXF284IwSoCxal12ugrzVACs7nl6O61ghftRJB5ooMqxZERNLhVsHC0rwJABPrVSsA0yZllqrFnvT8ev0VgVbHWYZDbO2zOJ9fjoJyPdRKOR4d1BEd/L1QVWPEPvPQS8MZIYCpsuGhMIWagnJpLOt9+oppGKRnmB86B5lCFPssiIikw62CRf2KxYTYsEb3W/ostqVew3HzzI8hnZsJFjb2WViqFaYZKArc3TMEQN1wiFixCKqrWMhksro+C4kMh1gaN3uG+6FTkClEMVgQEUmHWwULS49Fr3A/cUpnfcO6moLF+fwK1BgEhGs9xeW1LcQGThunnDasgIztYQoW29OuwWgUcMlcsYgKsH4+qfVZpOaYhpBMwcIUojgUQkQkHW4VLIZ2CYK3SoFnRnZu8v72GjV6hvmJnw/pEiT2V1jERWihkMtwTadHTun1m3peo1HAgQuWng1TeBnUOQAaTyUKyqux/3wh8szBoVO9HgvLOQHSCBaCICDVXLHoFV5vKKSQy3oTEUmFWwWL4d2CcPrde3Bf3w7NHmMZDgFMjZsNeauU6B6iAXDzwyFpuWUoqayBt0qB3uZFtjwUcoy6IxgA8P/2XQAA+Ht7QOvtYfW1lmCRV+a47doFQcD/jmZjY/IVhz0HAFwuvg5dVS08FDJ0C9awYkFEJEFuFSwANKpANGRp4ASaDhaA7Q2clo3MBkabVvC0sPRZ7DprWpQrqkG1AoBTeiw+230Br3x3EvNWJ+N4VutWFb0Zp80rbnYP0UCllCMqwPT9ll6vQXGFNJpTiVrrcnElPtx6DiWV/LdAbZvbBYsbGRgdgBHdgjAtIcJqOmp98WKfRYl4myAIOH21FOeb2Ar8oGUYpEEj6Kg72kMprws6nZro+2jv5wnAccHif0ez8cGWNPHz9386Y7Vfij2JjZvm4SYvlQJhWtP3d8HBVYtdZ/Pwh6+OikMxRPVdLq7EnG+P4eTlEpc8f63BiGe/TsJH29Ox/LeLLjkHInthsGhApZTj698Pwj+m92n2mL7mhbJSLpfiasl1fLb7PMb9aw8mfbQP45fsESsUgOkPxqELlhU8g6wex8/TA4PrhY0WKxatXH1zf0YBEt7biudWJjWafbEt9RoWrksBADw8IBKeHnIcvVSMLadyW/VcN1K/v8Ii2knDIf/aeg5bU69h2mf7sa3ewmREALBkWzp+OpmDP2845ZLn/+rAJTF4n7JxjRyi2w2DRSt0ae8LX7US12sMGLp4BxZvTkO6ecfTGoOAZ79KQlqu6Y/E6as6lOlr4eepRM96L6gWluEQoJmKRQvNm5/szMD0z/YjT9d0/0WNwYg3N55CYUU1Np/Kxd0f7sY7m06jqKIaRy4WYc63x2AwCpiWEIHEB+LwzAhTU+viLWmorjXaeFVuzPKHs1cHrXib2GfhwF1OSytrcNL8x7qy2oA/fH0U/2/vBYdVZqhtuV5twGbzbscnLpc6dDiwKbmlVfhw6znx8/pL3hO1RQwWraCQy9C/Uzvx8/5R7ZD4QByOvDEWAzsFoExfiyf+cwRXS66L61cM6hwIhbxxf8fYesGi4dRWAAiuFyzqvxDqaw34eEcGjlwsxlsbTzd5nqsPZ+FCfgUCfVQYdUd71BoFrNh/EXf+bSeeWnEE+loj7ooJxuIH4iCTyfDsnV0Q5KvGpcJKfH3wUusuTjMKy/XINQegHvVm3kQHOn6RrAMXCiAIQOcgHzw6qCMEAfjrT2fw+vpTqDHYP0BRy75Luoz1xy+7+jREv6bmoqK6bmXb/+6/6NTnf+/HVJTra8VKXk5pFXuOqE1jsGil9+6LxXtTY7HzpVH47rmheGRgR7TXqLHs8f7oFuyLXF0Vnlh+GNvOmMruDfsrLDr4e+Gh/pEY0KkdeoVrG91vWfZaX2tEWb39SY5dKsF183LgW07n4pfT1sMXuqoa/GtbOgBg/thuWPHkQHzz9CD0DPNDmb4WZVW16B/VDh8/2g9Kc0Opj1qJP43rDgD4aHs6Sivtt4eHpVrRKdBb3GQNqKtYODJY/JZhCncjugXh/amxeHNSD8hkwKrDWZj9dRIrFw0UV1Tjo+3pVrvv2ktGXhleWnsCf1xzAhea6EdyhXXHTLOh7ooxzdL6KSXHobOw6tt1Ng8/peRAIZfh79P6oKN5HZszrFpQG8Zg0UqRAd6YOThK7BGw0Hp7YMVTAxHip8a5a+VIumQqqw7t2nSwAIAPpvXG2tlD4emhaHSfl0oBjfmFuP5wiGV7d2+V6Wve2njKajOvz3adR1FFNTq398HDAzsCMC0A9uMLw7Hkob54ZmRnfDlrALxU1s/5u/6RuCNEg9LrNfi/Hek3fT1uRBwGaRCeos2rb14sqHDYC/xvGaael2FdTeuSPD2iM5bN7A8PhQzb0/KabLi1SM4uwVMrjtw2L4LO8P7PZ/Dh1nP493b7/fwt1ibVVSpWH8m2++M3JU9XJc5IanRfWZX4b+nPk3sivqM/agwCVh1y/LlV1RjEauOTQzuhZ7gfeoSZprJzOITaMgYLB+jg74UVTw4UA0GgjwrdgzWtfrym+iz2mV8s35zUE50CvXFNp8ffzLM7rpRcx5f7MgEACyf0sJriKpfLMDW+A16f2KPRmhmAaZjn9Uk9AAD/PXBR3M79Vln+UDbsM4kM8IZcBlRUGxyyPfyVkuu4UFABuQwYXG/68NieIWLIqb/bakPL9lzAjrQ8LNlm/xfZ21GFvhY/m/sNLMN49lJrMIrVAcA0JOLozfUEQcBjXx7C5P/bh93n8hvdvyn5KowC0K+jPzoF+eCJoZ0AAN8cuuSQPqP6PtmZgayiSoRpPTH/blOlsGeY6XfSlmAhCALO5OhgMLLyRrcHBgsH6RHmh89nJiDAR4WHB0ZC3kR/xc0KahAsiiqqxd1Vx/YIxqIH4gAAKw9m4ejFIvzzl7PQ1xoxKDoAY3sE2/x8d3Zvj5Hd26PGIOBf287d+AtuguUdY68GwUKtVKBDO9O03osF9l+B01Kt6B3hDz9P6yBleXeYltN8sLD8gf81NRfl9YaiXG1H2jWsP35Z3B3XXjafykWlud8gI6/crtOc96YXIL9MjwAfFUL9PFFUUY1fTjt2hs7Jy6U4d60cggC8uSEF16utr5cl6NzfLwKAaQ+h9ho18sr02HK6dbOjrumq8H3S5RaDSUZeGT7bfR4A8PaUnuLwoOV38kwLv5MNfbrrPCb8e69dK4xEt4LBwoGGdg1C0ptj8fI9Mbf0OA0rFr9lmJoRY0I1CPbzxNAuQfhdf9MfxhdXHce646Y/lm9M6nHDBcGa85K51+KnlJxb7rWo0NeKPRRN9ZFYljFvzZTT6loj5q0+jj9vONXkUIolWAzvGtTovphQU8hprmJRoa8VZ6tU1RgdNg3XFoIg4MNfz+KpFUfxxzUnMHTxDvzjl7O41szMIFt9l2Q9BHA4s8gujwsAa82PfV/fcDw0IBIAsOpQVqsfr8ZgxIbjV1rsz/nhxFXx/7OLrmPJ9rqgnJarQ2qODh4KGab0Nm1KqFLK8ah56LA1TZy1BiOeXH4Ef1p7Au//lNrkMQajgJe/O4kag4AxMcG4p1fdTsuWil5GXtlNVUzyy/T4ZGcGAGDNkWwYbahaCIKAE9kl2H++AEcvFuFEdglSr+rs9rtE7kt540PoVrT2hb2+hmtZWLZar7/8+OsTe2BHWh6ulpr+KNzXNxy9I/xb/ZxxHbSICdUgLbcMP5y8iscGR7X6sdJydRAEU0CyhKT6ooN8sDe9oFWLZH20PR0bk00vHvf0CsXwetdEEASxcXNYE8HijlCNeH5Nn3cZ6meVDcevYFpCRLPnUlZVg5zSKlwpuY6ckirk6qqgu16DsqpalFWZ/qv18sAHD/ZuchjqRmoMRrz2fQq+P2bqUwjyVaOgXI+Pd2bgs93nMal3GP44trvYEGur7KJKHLxQBJkMuKdnKLaczsXBC4WY1LvxTsC2Kq6oxrbUPADAtIQItPNW4f92pOPAhUJcyC9H5/a+VsfXGoxIzytHTKimyX9DpZU1eP7bJPyWUYgO/l7Y9fIoqyE/wLRHz48nTcM6Dw+IxOoj2fh/ezNxX58O6Bnuh/XmasWYmGD4e6vEr5sxqCM+2ZmBpEvFOHWlFLEdGofh5vz3wCWxyvXfA5dw5x3tMSYmxOqY/+zLxPGsEmjUSrx/f6zV99fB3wt+nkroqmqRnlfWZBCv7/92pIsVppzSKhy5WIRBzTSKN7TpxFXMW53c5H3fPj0IQ5v4N3M7q641orBCjzBt0wsb3g4qq2vxfdJl7EjLw3OjumJgdICrT8khWLFoA9o3mHJqaTYbXm/5cX9vFd6e0guA6V3XS+PuuKXnlMlk4oto/Ya71mhqYaz6Wlok63JxZbPvwo5nFePTXRni5x/vtC4Fn7tWjoJyPTw95OgX5d/o62PMwcK0h0njqozlBaJ7iOlF77fzBcgtbfxuLr9MjzH/2IW4d37FuH/twZPLj+D19Sn4aHs6Vuy/iO+PXcavqddw4EIhtpzOxaKfzzT5/bSkrKoGT604gu+PXYZCLsPiB+JwcOEYLJ3RDwM7BaDWKGBj8lU8suwgilqYqrj7XD5WHc5qsrpjCSzDuwZharxpP51Dmfbps9h04iqqDUb0DPNDr3Atwv29MNq8V07DJs7qWiOeWH4EE/69Fw8u3Y8TDZbOzyyowP2f/iaGxisl1xvNigKAIxeLkKurgsZTiXfv64UJsaEwGAUsXHcS1bVGbDDvjfNAP+uwGOzniYlxpjC1wly1qKoxICOvHLvO5uFqSdObD+aWVuHDX88CqJtS/fLak1YzTC7kl+Mf5mPenNyj0YugTCYTv/ZGwyEXCyrwrbniY/majfUqNDfy9QHTlPIwrSeig3zEUAMAn+25cNOPczsQBAHPrUzCsMU7sP3M7bcAXm5pFT7YkoYhiTvw542nsfNsPuavPo7K6ttneNWeWLFoA+oHiwsFFbhaWgWVUo6BnazT7uTeYag1GhGs8URkQOM1MWw1Nb4DFm9Ow4nsEqRfK0O3ENsbUKtqDFh50PTHr7kKSnOLZH2++zwSN6dheNcgfDYzwWqaalWNAX9aewJGARjZvT0OnC/AwQtFSLpUhIQo03WxNLgOjA6EWtl4xo2/twphWk/klFbhXG4Z+je4npZANLZHCLReHjhysRibTlzBMyO7WB33j1/OitUWrZcHwrSeCPf3QqjWE/5eHtB4ekDjqYS+1oj3fkzFmqPZeDAhosV3K1U1BhRWVKOgTI+Ccj3++es5pObo4K1S4JNH+2G0eWrkhLgwTIgLw6krpXhx1XFcKKjAvNXHseLJgY3WTfnx5FW8sOo4BAHQ1xjwxLBo8T6jURCDxbR652YJZ5Zpz61lGQaZ3r/uRfyRgR2xPS0P3yVdxp/GdYdaqYAgCHht3UnxZ3csqwT3ffIbpiVE4JV77sD5/ArMXpmE0us1CNd6YkB0ADYmX8Xy3y5icu9wq+f84aTpRXZ8r1ColQq8c28v7EsvwInLpmt1TaeHv7eHGHDqmzW0EzaduIqNyVewL71AXIMFANRKOT57LEH8GVj85cfTqKg2oF9Hf3z7h8GY+slvSMstw8trT2L5EwMgAHjlu5PQ1xoxolsQftc/sslr1TPcD4cyi0y/fwnNX9N//HoWtUYBo+9oj98P74zHvjyEn1Ny8M6UXlApW37PeD6/HEcvFUMhl2HjnGEINm8dkFVYiTv/sRN7zuXjfH45ujSoJN0Kg1HAxuQr6NzeV9xvyV42nbiK7WmmitifN5zC4M6B8FG7/uXNNPPnFNYdu4Ja8xukToHeuF5jwNXSKizddR5/auZNYFZhJVKulMIgCBAEAQajAEEAItp54Y5QjVWV7Xbj+itPN1Q/WOw1d7YP6NSu0VRRmUyG++ObL9XbKshXjdExwdiaeg3fHbuMhRN62PwY/9p6DmevlSHIV4VZQ5oeTrEsknWxsAJGowC5XIaMvDL881fTePi+jALMWHYQ/3liAALNL3D/+OUsLuRXoL1GjY8e7ovEn9Ow5mg2Ptl5Hv95wvSiWNdf0XxpOCZUg5zSKpxpIlhY1hLoEeaHiHbeOHKxGOuPX7UKFqeulOJ/5hfNtbOHYECnlkubGXllWHU4G6+vT8HPL45o9AKw62weXvs+xeqFzCLIV43lTwxAXETj8nhsBy0+fawfpn7yG/amF+DjHRmYN7abeP+B84VYsOaEOLSzaHMaBnUOFN/pHr5YhOyi69ColRjXMxReKoU4FHY4s0h8B98aZ3J0OHXF1MtQf2fhUXe0F4PdL6ev4d4+4ViyLR3rjl2BQi7DBw/2xv7zBVh37Aq+S7qMzSk50NcaUWsU0CfSH8seN73q/pySg6RLxTiRXYI+5hesGoMRP6eYqhhT+pgCR4ifJ14Zfwf+vPG02Jg5pXd4ky/C/Tr6o2+kP5KzS8SfhY9KAT8vD+SUVuGZr4/io4fjMcF8XXam5eHnlFwo5DK8f38cPD0U+OiReEwxz0b574GLMArA0UvF8FUrsfjB3s0Ok9ZVLJqfGXLycgl+PJkDmQx4ZXwMuodoxKGxfRn5jYZfGlp71BQiR3VvL4YKAOgY6I27YoKx7Uwevj5wCe/c26vFx7lZVTUG/HFNMjafyoVcBrx4Vze8MKZbk4sGNqSrqsE7m04jXOuFBXd3b9QIX1JZjfd+NPWzKOUyXC2twr+3p+P1ibb/vbIno1HAK9+dxCZzFWlQdAB+Pzwad/UIwdbUXMxeeQyf77mAaQkRjbZz2H++ALP+cxg1huZ7ZkL81OgeokG/ju3wzMjOt0WQsmjVUMinn36K6OhoeHp6IiEhAXv37rX3eVE99Xss9or9Fe1b+hK7sQyHrD92BbU2rlJ5OLMIX+w1lVQX3R8nhoKGItp5QSmXoarGiGtlVTAaBbz6fQqqDUbEd/RHO28PnLhciumfH8Dl4koculCIL38zTaf94ME4+HurMHtUF8hlwI60PJy+WooagxGHzJu/Ndyjpb4Y8x/xtAZ/xA1GQey96Bnuh0lxYVAp5DiToxNvFwQBf/khFYJg6mm5UagAgFfHxyDQR4WMvHIs22tdbt55Ng/PfJUkvpCpFHKEaT0R28EPk3uHYf3zQ5sMFeL3EuqH96eaZggt2X4Oe8whNC1Xh2e+PopqgxETYkMxJiYY1bVGvLjquDhL4jvzcNfkPmFiYB1krlpYrmNrWR77rpgQBPjUvctSKuTiu/ZVh7Lwv6PZ4toZ790Xi2kJEfjwd32x/vmh6Bvpj4pqA2qNAib1DsOaZwYjWOOJYI0nppgrFcvNvxOAaapsUUU1An1UGFpvmvGMQVHoZ97rBwDu71cXdOqTyWRY9nh/fPZYP2yYMwxJb47FqXfvwZ5XRmNy7zDUGATMXXUc649fxvVqA97aZNpj5KlhncRg0D1EgzfMU7cTN6fh77+YpoMvnBjT7AaHQN0mfak5uiaHrARBwOLNpse6P74DeoT5QSGXYbK5F8bSc9ScWoNRrE5Nb6JqMss85fa7pMt2mQlVWlmDx/9zWAwVRsG0N8vMLw/dcCGycn0tnvjPYaw7dgUf78zAez+lNromizenoaC8Gl2DffHpjH4AgC/3Zbp8kbF/bTuHTSeuQimXYfkTA7Dm2SEY1ysUCrnM1A/WNQjV5ipmfRl55Zj9dRJqDAK6BvtiSOdADO8ahBHdgjC8axAizLPorulMrwf/3p6OV74/eVst9GdzsFizZg3mz5+PN954A8ePH8eIESMwYcIEZGW1vrubWmZZ1ruwXC/ulFq/cdORRt8RjAAfFfLK6kLNzSjX1+JPa5MhCMD0hAiMq9f53pBSIReHbjLzK/D1wUtIulQMH5UCHz/aD2tnD0UHfy9cyK/AtKUH8Ke1pnfeD/WPFN+ZRQf5YJL5BWbprvM4kV2CimoD2nl7iH+om2LpszjbYGZIZkEFqmqM8PJQoFOgD7TeHhgdYwpz682zbn5OycXhi0Xw9JDj1fE3N/PH31uFP0/uCcDUeGrpK9l5Ng/PfpWEaoMR9/QKwYm3xuHsX8fjwMK78OMLI/Dxo/1uanjrwYQIPDIwEoIAzFt9HEmXivDEf46grKoWAzsF4F8P9cXfp/VGe40a6XnleP/nVKu1K+o3p1o2yDt4ofUzQywzNwDrYRCLhwZEQi4DDlwoxOvmDfGeH9UFjw7qKB4T37Ed1j03FJ882g9/m9Yb//dwvNVick+ah3R+PJkjzmiwzAaZGBcmriwLmNZxSXygN7xVCvSO0Io7FTelvUaN8bFh6Bvpj0BfNWQyGTwUcvz74XhMS4iAwShgwf9O4Inlh5FddN20HsXY7laPMXNwFO4yB7mqGiOGdgkUZ500p1uIL5RyGUqvm5qBG9qbXoD95wuhUsix4O6657uvr+n3f2vqtRbH7nefy0d+mR6BPiqMiWk8DDS8axA6t/dBud7UaNiUjLwy7Dqbh+1nrmHLqVz8dDIHW07lILuo0uoFLqf0OqZ/vh+HM4ugUSvxzdOD8eHv+sBbpcD+84WY+O+9YjN6Q5XVtXhqxREcyyqBjznsLv/tojgLBjC9ebH06CQ+EIdxvUIxMc7US/PG+hSbZsnY0/+OZuP/dpjOc9EDcY2GzWQyGd65tyeUchm2ncnDzrOmYZzCcj2eWnEEuqpa9Ovojx9fGI5VzwzGyqcH4evfD8LKpwdh36tjkPLOOKx7fijenmJ6jJ9O5mDVYecsOHczbA4WH374IX7/+9/j6aefRo8ePbBkyRJERkZi6dKljjg/AhDgo4LMnPQrqg0I9FGhR2jzL5b2pFLKMdVcvv7OhibO9386g+yi6+jg74W3pvS84fGWBs7fzheIC329OsH0zq5rsC++e26IuFT65WLT47452brU+fwo0xDFTyk54l4nQ7sGtbiGSP0pp/X/IFre7dwRqhHLtZZhpo3Hr6KyulZswpx9ZxeEt/AOtKH7+oZjeNcg6GuN+PPGU6ZQ8XVdqPj40X7Qenu0ekbR21N6oVe4H4ora/Dg0gPI1VWhW7Avlj3eH54eCgT6qvFP8+69Kw9m4dXvT6Ky2oDoIB/061i3B46lz+LstbIWG0JbsiMtD4UV1QjyVePO7o2rbPWbOGuNAu7tE95k47FcLsOk3mH4Xf/Ga8LERWgxoFM71BoFfH3gEqpqDPjllPUwSH13hGqw79UxWP3M4FZdY4Vchr892BszB0dBEIBD5im579zbq1E5WiaT4YNpvRGm9YSfpxIftDAEYqFWKtA12NTbYOnzsTAa66oVjw+JQkS7urDZN9IfHQO8UVltwLYzec0+/v+Oml6A7o/v0OQwkEwmw6whnQCYFslr+E74/+29gLEf7sETy4/g9/89itkrkzDn22OYvfIYRvxtJwYu2o5nvz6KT3Zm4IFP9+PctXIEa9T43+whGNIlEA/0i8CmucMRE6pBQXk1Zv7nEOZ8cwyHM4vE56qqMeDp/x4VA8mqZwbjbfPfkX/8ek5cwOz19aYw+sjASLFi+NbkXvBRKXAsqwRrjjr/xXZ/RoEYkueO7tpsL03XYA2eHNYJAPCXH1JRVlWDZ75OQlZRJSIDvMR/r03ReHqgX8d2eHJYNF4Zb/r38u4Pp5ud4eZsNgWL6upqJCUlYdy4cVa3jxs3Dvv372/ya/R6PXQ6ndUH2UapkCOwXgl5eLeWXyztzfIudmvqNZRU3vgFZufZPKw6bKpg/X16b2g8bzy10rKWxdJd51FRbUD/qHZ4bFBdT0aY1gtrZw/BwE4B8PJQNPm4PcL8MLZHMAShrhzc1PoV9XVu7wMPhQzl+lpcLq7r9m9qpdDRMe3h56lErq4Kz608hislpnepzzZo5rwRmUyGv06NhUopx970Avx+xRFU19aFiobTJm3l6aHA0hkJ0Jg7/EP9PPHfpwZaTXEd2b09nhlp2s3WMiVzWkKE1YteoK9anBFzuMHsEEEQsOK3TLz/Uyo+3ZWBVYezsOVUDvacy8eX+zIxf/VxjPnnLsxemQQAeKBfB6vKQX1PDTdVHAZ3DsDfp/du1e/2U+aqxbeHs/DL6VyU6WsRpvVE/6h2TR4f4KOCt6r1Y9JyuQx/ua8XnjVfw4lxoRjXs+m+hiBfNX7540jsfnn0TTdVN9dn8VNKDlJzdNColZgzuqvVfTKZDPeag9Sm5CtoSkG5HtvNoaOpYRCLBxMi4KtW4kJ+hdhICwDrjl3GX38yBeruIb7oE6FFv47+GBgdgLgOWijlMuSX6fHL6Wv4+y9nkVNahS7tfbDu+aFWmw92DfbFhjnD8MhA06aAP6Xk4HefH8DEj/ZhzZEsPPt1EvafL4SPSoEVTw1E7wh/PDksGi+MMX3Pb244hdkrk5CRV44gX5VVxTBU6yk2RJqGSWxf5O2X07n47/6LN1yArqBcj4sFFTibW4YT2SXYfuYanl2ZhFqjgCl9wq0qSk158a5uaK9RI7OgAuOX7EXSpWJoPJVYXq+f7EaeHt4Zo+5oD32tEXO+OXZbzDSx6V9WQUEBDAYDQkKs/wGFhIQgN7fpxYMSExPx7rvvtv4MCYBlzQLTi/qNXiztrWe4H3qG+SE1R4dNJ67icfO7maYczizCq9+dBGD6Y99Sf0N9lj1DjIKpt2Dxg41fYPy9VVjz7GBUVhuabVR6fnRXq3drN7pWHgo5ugZrzL0TZeIf/vqNmxZqpQKTeodj1eEscXno1ybENGqivRmdgnzwwuiu+OfWczAKsFuosOgY6I0vZw3AN4cuYe7ork1WVF4adwf2ny/AqSs6yGSmd7ANDe4ciHPXynHwQhHGx9Y1cK45ko13fmh6AaiGOgf5YGYL66AM6xqE314bgxCNutnwcSN39wxBB38vXCm5jrc3mfbfmNw7zKEBXCaTYeHEHpg5JArhWq8WKxENV329kZ5hflh//IrV0t4Go4Al5pVw/zCyM9r5NJ4VcF/fcHy8MwO7z+WjpLK60cyBDceviM2vlnVcmuKrVmJaQgRW7L+I/+6/iBHd2mNnWh5eNv/b/v3waPNmftbfc1WNASlXSpF0qRhJl4qhVsrx3n2xTZ6rp4cCiQ/EYebgKHx14CI2JF/BmRwdXv3e9G7fy0OB5U8OREK9cLjg7u4orKjGt4eysMMyC2Ryz0bf5+NDovD9scs4fVWHP/3vBJ4c1gn9otrd1M/hqwMXxT1cvtyXibcm97TahRoADl4oxJJt55odJuwf1Q5/n3bjkKzx9MBr42Pwp7UncKXkOpRyGT5/LAFdbdgCQi6X4Z/T+2DiR3txPr8Cb208jX+YK5Ku0qrI3vCXSRCEZv9RLVy4EAsWLBA/1+l0iIxsPilT09pr1OIKkc5q3KxvWkIE/vJjKr5LutxksEi/VoYPtqSJL+pdg33FEt3NqL+o07yx3cRScEMymazF7ud+HdthaJdA7D9fiMgAr5t6h9gj1BwscnS42/wHxFKCbtif8UC/DmI1pl9Hf/EdYms8e2cXZBVVws/LA69NiLFbqLAYGB3Q4pRWldLUL/D4l4cxoltQk+FjUHQgvjpwSeztAUwLaVkazsb3CoWvpxIlldUoqqhGWVUtogJ90DtCi7gILeI6aG9qqmpLzYw3Q6mQY9bQKCz6OQ0l5pVimxoGcYT6wxH20qNeA6fFDyeu4nx+BbReHmIJvaFuIRr0CPPDmRwdNp/KxSP1+jkEQcAacz/C75rod2no8SFRWLH/Iran5WHD8St4bd1JGIwC7o/vgDcmNr2qr6eHAgM6BdxUI7NFz3A/LH6wN16bEIM1R7Lx1YFL0F2vweczExr9/spkMrx3XyxKKqvxc0ouRnQLavLfoFIhx/v3x+H+T3/D7nP52H0uHzIZcEeIBglR7TAtIQLxHRtXs76uFyo0aiWyiirx9FdHMSYmGG9P6YmrJVVYsu2cOPwlkwE+KiXUSjnUSjk8PRToFuKLxAd6NzuM0dD98R3wv6PZOJRZhEX3x7VqYbJAXzX+/XA8Hl12EN8lXcawroF2nSFoK5uCRVBQEBQKRaPqRF5eXqMqhoVarYZafWtz4AkI1pimhHUP8UWo1vMGR9vf1PgOSNx8Bicvl2LhuhSEaz0R7KdGoI8aW1OvYW1SNoyCafz5oQGRWHB395v+hwWY1rgI8lWjc5CPWKJvrVfGx+DJ5YdbfJdcX90KnKbgVlCuR16ZHjJZXXOnRULHduge4ovMggq8PaXXLa2sqlLK8XcXv7Po0t4Xv702ptn7B3U2/WFPyy1DcUU1tF4eePm7E6ioNmBAp3b4ZEa/m5oy6AwP9e+If21Nx/UaA6ICvRFnw4qZtxvLniGXCitRrq+Fp1Iuzph5ZmTnFocX7+0TjjM5OmxKvmoVLE5cLkV6XjnUSvlNha7O7X0xsnt77DmXj/lrkgGYpgj/7SbeibeGv7cKz97ZBc+M7Ixqg7HJtWcA09+Yjx6Ox2ODitAvql2z/wb7Rvrj66cGYd3xy0i6VIxLhZVIyy1DWm4ZvjmUhal9w/HK+BgxUH998BL+bA4Vz97ZGS+O6YaPdqTjP/sysSMtD7vO5sHSC6pSyPG7ARF4blTXWw7FcrkMK54ciGu6qlavmguYqovz7uqOf207hzfWn0KfCP9GK9o6i03BQqVSISEhAVu3bsX9998v3r5161bcd999dj85qmN5Bz+2R8vz0x0lwEeFu3uG4OeUXPEde0Pje4Xi5fF3tGpRHa2XBw4uHAOZTHbLL1R9I/1x/K1xNz7QTJxyam58sgyDdAr0aVQdkctlWP3MEOiu19zSH4G2IshXja7BvsjIK8fhi0W4WnIdBy8UwctDgX9M73PbhAoA0Hp74JGBHfGf3zIxvUG/SFsT6KtGqJ8ncnVVSMvR4WJhJTILKhDgoxKngzZnSp8wfLAlDQczCzF/9XHzdux1S5hPjAu76aGZJ4ZGidOW4zv649MZ9huua45MJms2VFgoFfKbemc/vFuQuMx/XlkVjl0qxi+nr2FD8hVsSL6KLadz8czILmjn7YF3zUN7z4zsjNfGx5iGuib0wPSESLz7w2nsTS+ASiHHQwMi8dwo2xq2b8RLpbDL35O5Y7ri4IVCVNUabrhImiPZPBSyYMECzJw5E/3798eQIUPwxRdfICsrC7Nnz3bE+ZHZE0M7ISrQG3e1YrdSe3l/ahyGdAnCtdIq5JfpkV+uR15ZFYJ81XhhTFdxxcvWau34+q3qYa5KmKaYGpodBrEI8FFZrccgdYM7ByAjrxxrjmRj/3lTI9/rk3o0WtTndrBwYgzu6hEsTpVty3qEaZCrq8LJy6Xi0uLPjuxstQJtUyLaeWNEtyDsTS/AhuSr2NBgXYvpLex309Co7sEYfUd7VOgN+OLxhFtqeHW1YI0nxseGYXxsGJ4aFo33fkzF4YtF+Gh73VYAfxgRjYUTYqxCaddgX3z11EAcyypBRDsvhPg5v2J8sxRyGZY+1g8+aqXDA2BLbP4teeihh1BYWIi//OUvyMnJQWxsLH7++WdERbV+kyq6MS+V4pZWP7SHdj6qmx5eaEvaa9QI8FGhqKIa6dfKxYpFz2b2NnE3g6IDsfJgXbPciG5BeGxQy2sxuIqHQt7khnNtUc9wP+w8m49Pd2WgoLwaQb4qzGxm9dqGvpjZH/vPF+BMjg5ncsqQmqPDxcIKxHXQ2hS65HIZlj85sLXfwm0rLkKLNc8OxpZTuVi02TQ1/vfDo/F6M70jMpnMqon0dnY7LPXdqvj5/PPP4/nnn7f3uRC5hEwmQ0yoBvvPF+KMeSttoG6c291Z+iwAU0PbzazFQLfO0sBpmQ02+84uN10x8FIpcFePENxVb+i0qsYAlULu1KnqtzOZTIYJcWEY0yMYl4uv23VfFHfH3U2JUNfAeSK7BOfzTath9gxru81/9hSs8RSHhf48paddx5apefWH4tpr1HjsFquFnh4KhoomqJUKhgo7a7sDZkR2ZFnJdPOpXBiMAgJ8VAjx42wmi89nJiCrqFIywwxtQVSgD7xVClRWGzBnVBebZlkRuRKDBRGAGPOwh2Xp6h5hGpb764kM8L7pVSPJPhRyGd6c1BOpOaV45DbtaSFqCoMFEYBuwRpx50Wg+RkhRM70KAMFtUHssSBC43nkPRgsiIhahcGCyKz+KpucakpE1DoMFkRmli3UVQo5u8SJiFqJwYLIrE+kPwAgtoOfS1etIyJqy9i8SWQ2slsQljzUF3ERXL+CiKi1GCyIzGQyGabGd3D1aRARtWms9xIREZHdMFgQERGR3TBYEBERkd0wWBAREZHdMFgQERGR3TBYEBERkd0wWBAREZHdMFgQERGR3TBYEBERkd0wWBAREZHdMFgQERGR3TBYEBERkd0wWBAREZHdOH13U0EQAAA6nc7ZT01EREStZHndtryON8fpwaKsrAwAEBkZ6eynJiIioltUVlYGrVbb7P0y4UbRw86MRiOuXr0KjUYDmUwm3q7T6RAZGYns7Gz4+fk585TcGq+7a/C6uwavu/PxmruGI667IAgoKytDeHg45PLmOymcXrGQy+WIiIho9n4/Pz/+8rkAr7tr8Lq7Bq+78/Gau4a9r3tLlQoLNm8SERGR3TBYEBERkd3cNsFCrVbj7bffhlqtdvWpuBVed9fgdXcNXnfn4zV3DVded6c3bxIREZF03TYVCyIiImr7GCyIiIjIbhgsiIiIyG4YLIiIiMhubotg8emnnyI6Ohqenp5ISEjA3r17XX1KbVZiYiIGDBgAjUaD4OBgTJ06FWfPnrU6RhAEvPPOOwgPD4eXlxdGjRqF06dPWx2j1+vxwgsvICgoCD4+Prj33ntx+fJlZ34rbVpiYiJkMhnmz58v3sbr7hhXrlzBY489hsDAQHh7e6Nv375ISkoS7+d1t7/a2lq8+eabiI6OhpeXFzp37oy//OUvMBqN4jG87rduz549mDJlCsLDwyGTybBhwwar++11jYuLizFz5kxotVpotVrMnDkTJSUlrT9xwcVWr14teHh4CMuWLRNSU1OFefPmCT4+PsKlS5dcfWpt0j333CMsX75cOHXqlJCcnCxMmjRJ6Nixo1BeXi4es3jxYkGj0Qjff/+9kJKSIjz00ENCWFiYoNPpxGNmz54tdOjQQdi6datw7NgxYfTo0UKfPn2E2tpaV3xbbcrhw4eFTp06Cb179xbmzZsn3s7rbn9FRUVCVFSU8MQTTwiHDh0SMjMzhW3btgkZGRniMbzu9vfXv/5VCAwMFH788UchMzNTWLt2reDr6yssWbJEPIbX/db9/PPPwhtvvCF8//33AgBh/fr1Vvfb6xqPHz9eiI2NFfbv3y/s379fiI2NFSZPntzq83Z5sBg4cKAwe/Zsq9tiYmKE1157zUVnJC15eXkCAGH37t2CIAiC0WgUQkNDhcWLF4vHVFVVCVqtVvjss88EQRCEkpISwcPDQ1i9erV4zJUrVwS5XC5s2bLFud9AG1NWViZ069ZN2Lp1q3DnnXeKwYLX3TFeffVVYfjw4c3ez+vuGJMmTRKeeuopq9seeOAB4bHHHhMEgdfdERoGC3td49TUVAGAcPDgQfGYAwcOCACEtLS0Vp2rS4dCqqurkZSUhHHjxlndPm7cOOzfv99FZyUtpaWlAICAgAAAQGZmJnJzc62uuVqtxp133ile86SkJNTU1FgdEx4ejtjYWP5cbmDOnDmYNGkSxo4da3U7r7tjbNq0Cf3798f06dMRHByM+Ph4LFu2TLyf190xhg8fju3bt+PcuXMAgBMnTmDfvn2YOHEiAF53Z7DXNT5w4AC0Wi0GDRokHjN48GBotdpW/xycvglZfQUFBTAYDAgJCbG6PSQkBLm5uS46K+kQBAELFizA8OHDERsbCwDidW3qml+6dEk8RqVSoV27do2O4c+leatXr8axY8dw5MiRRvfxujvGhQsXsHTpUixYsACvv/46Dh8+jBdffBFqtRqPP/44r7uDvPrqqygtLUVMTAwUCgUMBgPef/99PPLIIwD4++4M9rrGubm5CA4ObvT4wcHBrf45uDRYWNTfPh0wvSA2vI1sN3fuXJw8eRL79u1rdF9rrjl/Ls3Lzs7GvHnz8Ouvv8LT07PZ43jd7ctoNKJ///5YtGgRACA+Ph6nT5/G0qVL8fjjj4vH8brb15o1a7By5Up8++236NWrF5KTkzF//nyEh4dj1qxZ4nG87o5nj2vc1PG38nNw6VBIUFAQFApFo1SUl5fXKIWRbV544QVs2rQJO3futNqmPjQ0FABavOahoaGorq5GcXFxs8eQtaSkJOTl5SEhIQFKpRJKpRK7d+/GRx99BKVSKV43Xnf7CgsLQ8+ePa1u69GjB7KysgDw991RXn75Zbz22mt4+OGHERcXh5kzZ+KPf/wjEhMTAfC6O4O9rnFoaCiuXbvW6PHz8/Nb/XNwabBQqVRISEjA1q1brW7funUrhg4d6qKzatsEQcDcuXOxbt067NixA9HR0Vb3R0dHIzQ01OqaV1dXY/fu3eI1T0hIgIeHh9UxOTk5OHXqFH8uzbjrrruQkpKC5ORk8aN///6YMWMGkpOT0blzZ153Bxg2bFij6dTnzp1DVFQUAP6+O0plZSXkcuuXD4VCIU435XV3PHtd4yFDhqC0tBSHDx8Wjzl06BBKS0tb/3NoVcunHVmmm3755ZdCamqqMH/+fMHHx0e4ePGiq0+tTXruuecErVYr7Nq1S8jJyRE/KisrxWMWL14saLVaYd26dUJKSorwyCOPNDlFKSIiQti2bZtw7NgxYcyYMZwGZqP6s0IEgdfdEQ4fPiwolUrh/fffF9LT04VvvvlG8Pb2FlauXCkew+tuf7NmzRI6dOggTjddt26dEBQUJLzyyiviMbzut66srEw4fvy4cPz4cQGA8OGHHwrHjx8Xl2Ow1zUeP3680Lt3b+HAgQPCgQMHhLi4uLY93VQQBOGTTz4RoqKiBJVKJfTr10+cGkm2A9Dkx/Lly8VjjEaj8PbbbwuhoaGCWq0WRo4cKaSkpFg9zvXr14W5c+cKAQEBgpeXlzB58mQhKyvLyd9N29YwWPC6O8YPP/wgxMbGCmq1WoiJiRG++OILq/t53e1Pp9MJ8+bNEzp27Ch4enoKnTt3Ft544w1Br9eLx/C637qdO3c2+fd81qxZgiDY7xoXFhYKM2bMEDQajaDRaIQZM2YIxcXFrT5vbptOREREdnNbLOlNRERE0sBgQURERHbDYEFERER2w2BBREREdsNgQURERHbDYEFERER2w2BBREREdsNgQURERHbDYEFERER2w2BBREREdsNgQURERHbDYEFERER28/8B2wMmf9JDd38AAAAASUVORK5CYII=",
      "text/plain": [
       "<Figure size 640x480 with 1 Axes>"
      ]
     },
     "metadata": {},
     "output_type": "display_data"
    }
   ],
   "source": [
    "plt.plot(Ls, NA1term*Ls**4/(2*np.pi))"
>>>>>>> 5f7dd750d59c2245b60099b4c03998f1497f8bda
   ]
  },
  {
   "cell_type": "code",
   "execution_count": null,
   "metadata": {},
   "outputs": [],
   "source": []
  }
 ],
 "metadata": {
  "kernelspec": {
   "display_name": "lenscarf",
   "language": "python",
   "name": "lenscarf"
  },
  "language_info": {
   "codemirror_mode": {
    "name": "ipython",
    "version": 3
   },
   "file_extension": ".py",
   "mimetype": "text/x-python",
   "name": "python",
   "nbconvert_exporter": "python",
   "pygments_lexer": "ipython3",
   "version": "3.8.13"
  },
  "vscode": {
   "interpreter": {
    "hash": "a97e346d83063552f6247100e010157514edc1d1f87080a4424b3fd402ef6968"
   }
  }
 },
 "nbformat": 4,
 "nbformat_minor": 4
}
