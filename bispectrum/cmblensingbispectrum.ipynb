{
 "cells": [
  {
   "cell_type": "code",
   "execution_count": 2,
   "metadata": {},
   "outputs": [],
   "source": [
    "#reload module\n",
    "%load_ext autoreload\n",
    "%autoreload 2\n",
    "\n",
    "import matplotlib.pyplot as plt\n",
    "#retina display\n",
    "%config InlineBackend.figure_format = 'retina'\n",
    "#matplotlib figures size\n",
    "plt.rcParams['figure.figsize'] = [5, 2]\n",
    "\n",
    "import numpy as np\n",
    "import camb\n",
    "from camb import model as cmodel\n",
    "import angularcls\n",
    "from angularcls import windows, cosmoconstants\n",
    "import itertools\n",
    "\n",
    "from scipy import interpolate as interp, integrate as sinteg\n"
   ]
  },
  {
   "cell_type": "code",
   "execution_count": 3,
   "metadata": {},
   "outputs": [],
   "source": [
    "nz = 6000 #number of steps to use for the radial/redshift integration\n",
    "kmax = 100  #kmax to use\n",
    "#First set up parameters as usual\n",
    "pars = camb.CAMBparams()\n",
    "\n",
    "H0 = 67.1\n",
    "Omegam = 0.315\n",
    "ommh2 = Omegam*H0**2/100**2\n",
    "Omegab = 0.049\n",
    "ombh2 = Omegab*H0**2/100**2\n",
    "omch2 = ommh2 - ombh2\n",
    "Omegam = ommh2/(H0/100)**2\n",
    "pars.set_cosmology(H0=H0, ombh2=ombh2, omch2=omch2)\n",
    "pars.InitPower.set_params(As = 2.215*1e-9, ns=0.968)\n",
    "\n",
    "#For Limber result, want integration over \\chi (comoving radial distance), from 0 to chi_*.\n",
    "#so get background results to find chistar, set up a range in chi, and calculate corresponding redshifts\n",
    "results= camb.get_background(pars)\n",
    "chistar = results.conformal_time(0)- results.tau_maxvis\n",
    "chis = np.linspace(0, chistar, nz)\n",
    "zs = results.redshift_at_comoving_radial_distance(chis)\n",
    "\n",
    "Hzs = results.hubble_parameter(zs)\n",
    "\n",
    "PK = camb.get_matter_power_interpolator(pars, nonlinear = True, \n",
    "    hubble_units = False, k_hunit = False, kmax = kmax, k_per_logint = None,\n",
    "    var1 = 'delta_nonu',var2 = 'delta_nonu', zmax = zs[-1])\n",
    "\n",
    "PKlin = camb.get_matter_power_interpolator(pars, nonlinear = False, \n",
    "    hubble_units = False, k_hunit = False, kmax = kmax, k_per_logint = None,\n",
    "    var1 = 'delta_nonu',var2 = 'delta_nonu', zmax = zs[-1])"
   ]
  },
  {
   "cell_type": "code",
   "execution_count": 4,
   "metadata": {},
   "outputs": [
    {
     "data": {
      "image/png": "[encoded data removed]",
      "text/plain": [
       "<Figure size 500x200 with 1 Axes>"
      ]
     },
     "metadata": {
      "image/png": {
       "height": 198,
       "width": 439
      }
     },
     "output_type": "display_data"
    }
   ],
   "source": [
    "zm, s8 = np.loadtxt('sigma8.txt', unpack = True)\n",
    "s8 = interp.interp1d(zm, s8, kind = 'cubic', fill_value = 'extrapolate')\n",
    "plt.plot(zs, s8(zs), label = 'camb')\n",
    "plt.xscale('log')"
   ]
  },
  {
   "cell_type": "code",
   "execution_count": 5,
   "metadata": {},
   "outputs": [],
   "source": [
    "Q = lambda x: (4-2**x)/(1+2**(x+1))\n",
    " \n",
    "nonlinearscale = lambda z, k: 4*np.pi*k**3*PKlin.P(z, k)-1\n",
    "\n",
    "#find root of nonlinearscale(k) = 0 with scipy\n",
    "from scipy import optimize\n",
    "kNLz = []\n",
    "for z in zs:\n",
    "    nonlinearscale_ = lambda k: nonlinearscale(z, k)\n",
    "    kstar = optimize.brentq(nonlinearscale_, 1e-5, 1e5)\n",
    "    kNLz.append(kstar)\n",
    "\n",
    "kNLzf = interp.interp1d(zs, kNLz, kind = 'cubic', fill_value = 'extrapolate')"
   ]
  },
  {
   "cell_type": "code",
   "execution_count": 6,
   "metadata": {},
   "outputs": [],
   "source": [
    "import findiff\n",
    "kgrid = np.log(np.arange(1e-5, 1e5, 1e-2))\n",
    "Pgrid = np.log(PKlin.P(0, np.exp(kgrid)))\n",
    "dkgrid = kgrid[1]-kgrid[0]\n",
    "d2_dx1 = findiff.FinDiff(0, dkgrid, 1)\n",
    "\n",
    "neff = d2_dx1(Pgrid)\n",
    "nefff = interp.interp1d(np.exp(kgrid), neff, kind = 'cubic', fill_value = 'extrapolate')"
   ]
  },
  {
   "cell_type": "code",
   "execution_count": 7,
   "metadata": {},
   "outputs": [],
   "source": [
    "a1, a2, a3, a4 = 0.484, 3.74, -0.849, 0.392\n",
    "a5, a6, a7, a8, a9 = 1.01, -0.575, 0.128, -0.722, -0.926"
   ]
  },
  {
   "cell_type": "code",
   "execution_count": 8,
   "metadata": {},
   "outputs": [],
   "source": [
    "afunc = lambda z, k: (1+s8(z)**a6*np.sqrt(0.7*Q(nefff(k)))*(k/kNLzf(z)*a1)**(nefff(k)+a2))/(1+(a1*k/kNLzf(z))**(nefff(k)+a2))\n",
    "bfunc = lambda z, k: (1+0.2*a3*(nefff(k)+3)*(k/kNLzf(z)*a7)**(nefff(k)+3+a8))/(1+(a7*k/kNLzf(z))**(nefff(k)+3.5+a8))\n",
    "cfunc = lambda z, k: (1+(4.5*a4/(1.5+(nefff(k)+3)**4)))*(k/kNLzf(z)*a5)**(nefff(k)+3+a9)/(1+(a5*k/kNLzf(z))**(nefff(k)+3.5+a9))\n",
    "\n",
    "afunc, bfunc, cfunc = lambda z, k: np.ones_like(k), lambda z, k: np.ones_like(k), lambda z, k: np.ones_like(k)\n",
    "\n",
    "def dot(a, b):\n",
    "    return np.einsum('ij, ij->j', a, b)\n",
    "\n",
    "def dot_alt(a, b):\n",
    "    return np.sum(a*b, axis = 0)\n",
    "    \n",
    "\n",
    "def F2ptker_vector(k1vec, k2vec, z):\n",
    "    \"\"\"\n",
    "    Calculates F2 kernel from PT.\n",
    "\n",
    "    Parameters\n",
    "    ----------\n",
    "    k1vec : array_like\n",
    "        3-vector of k1, shape, (3, n), where n is the number of points to be calculated at.\n",
    "    k2vec : array_like\n",
    "        3-vector of k2, shape, (3, n), where n is the number of points to be calculated at.\n",
    "    z : array_like\n",
    "        Redshifts, shape, (1, n).\n",
    "    \"\"\"\n",
    "    resultG = 5/7*afunc(np.linalg.norm(k1vec, axis = 0), z)*afunc(np.linalg.norm(k2vec, axis = 0), z)\n",
    "    k1vec_hat = k1vec/np.linalg.norm(k1vec, axis = 0)[None, :]\n",
    "    k2vec_hat = k2vec/np.linalg.norm(k2vec, axis = 0)[None, :]\n",
    "    resultS = bfunc(np.linalg.norm(k1vec, axis = 0), z)*bfunc(np.linalg.norm(k2vec, axis = 0), z)*1/2*(np.linalg.norm(k1vec, axis = 0)/np.linalg.norm(k2vec, axis = 0) + np.linalg.norm(k2vec, axis = 0)/np.linalg.norm(k1vec, axis = 0))*dot(k1vec_hat, k2vec_hat)\n",
    "    resultT = 2/7*(dot(k1vec_hat, k2vec_hat))**2*cfunc(np.linalg.norm(k1vec, axis = 0), z)*cfunc(np.linalg.norm(k2vec, axis = 0), z)\n",
    "    return resultG + resultS + resultT\n",
    "#F2ptker = np.vectorize(F2ptker)\n",
    "\n",
    "def F2ptker(k1, k2, z):\n",
    "    resultG = 5/7*afunc(k1, z)*afunc(k2, z)\n",
    "    k1vec_hat = 1\n",
    "    k2vec_hat = 1\n",
    "    resultS = bfunc(k1, z)*bfunc(k2, z)*1/2*(k1/k2 + k2/k1)*np.dot(k1vec_hat, k2vec_hat)\n",
    "    resultT = 2/7*(np.dot(k1vec_hat, k2vec_hat))**2*cfunc(k1, z)*cfunc(k2, z)\n",
    "    return (resultG + resultS + resultT)"
   ]
  },
  {
   "cell_type": "code",
   "execution_count": 9,
   "metadata": {},
   "outputs": [],
   "source": [
    "P = PK.P\n",
    "def bispectrum_matter_single(k1vec, k2vec, k3vec, z):\n",
    "    ksvec = [k1vec, k2vec, k3vec]\n",
    "    combinations = list(itertools.combinations([0,1,2], 2))\n",
    "    return sum([F2ptker_vector(ksvec[comb[0]], ksvec[comb[1]], z)*P(z, np.linalg.norm(ksvec[comb[0]], axis = 0), grid = False)*P(z, np.linalg.norm(ksvec[comb[1]], axis = 0), grid = False) for comb in combinations])\n",
    "#bispectrum_matter = np.vectorize(bispectrum_matter_single, signature='(n),(n),(n),(n)->(n)')\n",
    "bispectrum_matter = bispectrum_matter_single\n",
    "\n",
    "P = PK.P\n",
    "def bispectrum_matter_single_alt(k1vec, k2vec, k3vec, z):\n",
    "    ksvec = [k1vec, k2vec, k3vec]\n",
    "    combinations = list(itertools.combinations([0,1,2], 2))\n",
    "    return sum([F2ptker(ksvec[comb[0]], ksvec[comb[1]], z)*P(z, np.linalg.norm(ksvec[comb[0]]), grid = False)*P(z, np.linalg.norm(ksvec[comb[1]]), grid = False) for comb in combinations])"
   ]
  },
  {
   "cell_type": "code",
   "execution_count": 10,
   "metadata": {},
   "outputs": [],
   "source": [
    "aofchis = 1/(1+zs)"
   ]
  },
  {
   "cell_type": "code",
   "execution_count": 11,
   "metadata": {},
   "outputs": [],
   "source": [
    "zofchi = interp.interp1d(chis, zs, kind='cubic', fill_value='extrapolate', bounds_error=False)"
   ]
  },
  {
   "cell_type": "code",
   "execution_count": 12,
   "metadata": {},
   "outputs": [
    {
     "name": "stderr",
     "output_type": "stream",
     "text": [
      "/var/folders/5s/mpby42n15_ng7rv494cv19tw0000gn/T/ipykernel_35576/1679819341.py:3: RuntimeWarning: divide by zero encountered in divide\n",
      "  Wphiphiv = np.nan_to_num(-2*(chistar-chis)/(chistar*chis))\n"
     ]
    }
   ],
   "source": [
    "Wkk = windows.cmblensingwindow_ofchi(chis, aofchis, H0, Omegam, interp1d = True, chistar = chistar)\n",
    "\n",
    "Wphiphiv = np.nan_to_num(-2*(chistar-chis)/(chistar*chis))\n",
    "Wphiphiv[0] = 0\n",
    "Wphiphi = interp.interp1d(chis, Wphiphiv, bounds_error = True)#, fill_value = 'extrapolate')"
   ]
  },
  {
   "cell_type": "code",
   "execution_count": 13,
   "metadata": {},
   "outputs": [],
   "source": [
    "gammav = 3/2*H0**2*Omegam/(cosmoconstants.CSPEEDKMPERSEC**2)/aofchis\n",
    "gamma = interp.interp1d(chis, gammav, bounds_error = True)#, fill_value = 'extrapolate')"
   ]
  },
  {
   "cell_type": "code",
   "execution_count": 14,
   "metadata": {},
   "outputs": [],
   "source": [
    "def bispectrum_matter_2d(l1, l2, l3, theta1, theta2, theta3, z):\n",
    "    l1vec = np.array([l1*np.cos(theta1), l1*np.sin(theta1), np.zeros_like(l1)])\n",
    "    l2vec = np.array([l2*np.cos(theta2), l2*np.sin(theta2), np.zeros_like(l2)])\n",
    "    l3vec = np.array([l3*np.cos(theta3), l3*np.sin(theta3), np.zeros_like(l3)])\n",
    "    return bispectrum_matter(l1vec, l2vec, l3vec, z)"
   ]
  },
  {
   "cell_type": "code",
   "execution_count": 15,
   "metadata": {},
   "outputs": [],
   "source": [
    "def integrate_bispectrum(l1, l2, l3):\n",
    "    zeros = np.zeros_like(l1)\n",
    "    bispectrum_at_ells_of_chi = lambda chi: -chi**2*Wphiphi(chi)**3*gamma(chi)**3/(l1*l2*l3)**2*bispectrum_matter_2d(l1/chi, l2/chi, l3/chi, zeros, zeros, zeros, zofchi(chi))\n",
    "    return sinteg.quadrature(bispectrum_at_ells_of_chi, 0, chistar, miniter = 100)[0]"
   ]
  },
  {
   "cell_type": "code",
   "execution_count": 16,
   "metadata": {},
   "outputs": [],
   "source": [
    "def integrate_bispectrum_quad(l1, l2, l3): \n",
    "    bispectrum_at_ells_of_chi = lambda chi: -chi**2*Wphiphi(chi)**3*gamma(chi)**3/(l1*l2*l3)**2*bispectrum_matter_2d(l1/chi, l2/chi, l3/chi, 0/chi, 0/chi, 0/chi, zofchi(chi))\n",
    "    bispectrum_at_ells_of_chi_wrapped = lambda chi: bispectrum_at_ells_of_chi(np.array([[chi]]))\n",
    "    return sinteg.quad(bispectrum_at_ells_of_chi, 0, chistar, epsrel = 1e-4)[0]"
   ]
  },
  {
   "cell_type": "code",
   "execution_count": 17,
   "metadata": {},
   "outputs": [],
   "source": [
    "def integrate_bispectrum_quad_max_z(l, zmax):\n",
    "    check = lambda chi: zofchi(chi) < zmax\n",
    "    bispectrum_at_ells_of_chi = lambda chi: check(chi)*-chi**2*Wphiphi(chi)**3*gamma(chi)**3/(l**3)**2*bispectrum_matter_2d(l/chi, l/chi, l/chi, 0, 0, 0, zofchi(chi))\n",
    "    return sinteg.quadrature(bispectrum_at_ells_of_chi, 0, chistar, miniter = 100)[0]"
   ]
  },
  {
   "cell_type": "code",
   "execution_count": 18,
   "metadata": {},
   "outputs": [],
   "source": [
    "ls = np.arange(10, 4000, 10)"
   ]
  },
  {
   "cell_type": "code",
   "execution_count": 19,
   "metadata": {},
   "outputs": [
    {
     "data": {
      "text/plain": [
       "Text(0, 0.5, '$\\\\ell^{6} B_{\\\\phi \\\\phi \\\\phi}(\\\\ell)$')"
      ]
     },
     "execution_count": 19,
     "metadata": {},
     "output_type": "execute_result"
    },
    {
     "data": {
      "image/png": "[encoded data removed]",
      "text/plain": [
       "<Figure size 600x200 with 1 Axes>"
      ]
     },
     "metadata": {
      "image/png": {
       "height": 217,
       "width": 558
      }
     },
     "output_type": "display_data"
    }
   ],
   "source": [
    "plt.figure(figsize = (6, 2))\n",
    "for zmax_ in [0.1, 0.2, 1., 1089]:\n",
    "    temp = lambda l: integrate_bispectrum_quad_max_z(l, zmax_)\n",
    "    result = list(map(temp, ls))\n",
    "    plt.plot(ls, result*ls**6, label = fr'$z_{{\\rm{{max}}}}$={zmax_}')\n",
    "plt.legend(fontsize = 5)\n",
    "plt.xlim(80)\n",
    "plt.ylim(1e-19, 1e-12)\n",
    "plt.yscale('log')\n",
    "plt.xlabel(r'$\\ell$')\n",
    "plt.ylabel(r'$\\ell^{6} B_{\\phi \\phi \\phi}(\\ell)$')"
   ]
  },
  {
   "cell_type": "code",
   "execution_count": 20,
   "metadata": {},
   "outputs": [],
   "source": [
    "#bispectrum_kappa_single_ell = lambda l: integrate_bispectrum_quad(l, l, l)\n",
    "#%timeit bls_single_ell_quad = list(map(bispectrum_kappa_single_ell, ls))\n",
    "#bls_single_ell_quad = list(map(bispectrum_kappa_single_ell, ls))"
   ]
  },
  {
   "cell_type": "code",
   "execution_count": 21,
   "metadata": {},
   "outputs": [
    {
     "name": "stdout",
     "output_type": "stream",
     "text": [
      "409 ms ± 2.73 ms per loop (mean ± std. dev. of 7 runs, 1 loop each)\n"
     ]
    }
   ],
   "source": [
    "def integrate_bispectrum(l1, l2, l3):\n",
    "    zeros = np.zeros_like(l1)\n",
    "    bispectrum_at_ells_of_chi = lambda chi: -chi**2*Wphiphi(chi)**3*gamma(chi)**3/(l1*l2*l3)**2*bispectrum_matter_2d(l1/chi, l2/chi, l3/chi, zeros, zeros, zeros, zofchi(chi))\n",
    "    return sinteg.quadrature(bispectrum_at_ells_of_chi, 0, chistar, miniter = 200)[0]\n",
    "\n",
    "bispectrum_kappa_single_ell = lambda l: integrate_bispectrum(l, l, l)\n",
    "%timeit bls_single_ell = list(map(bispectrum_kappa_single_ell, ls))\n",
    "bls_single_ell = np.array(list(map(bispectrum_kappa_single_ell, ls)))"
   ]
  },
  {
   "cell_type": "code",
   "execution_count": 22,
   "metadata": {},
   "outputs": [],
   "source": [
    "#np.array(bls_single_ell*ls**6)\n",
    "#interesting numpy resolution small numbers"
   ]
  },
  {
   "cell_type": "code",
   "execution_count": 23,
   "metadata": {},
   "outputs": [
    {
     "data": {
      "image/png": "[encoded data removed]",
      "text/plain": [
       "<Figure size 600x200 with 1 Axes>"
      ]
     },
     "metadata": {
      "image/png": {
       "height": 221,
       "width": 558
      }
     },
     "output_type": "display_data"
    }
   ],
   "source": [
    "plt.figure(figsize = (6, 2))\n",
    "plt.plot(ls, bls_single_ell*ls**6)\n",
    "#plt.plot(ls, bls_single_ell_quad*ls**6, ls = '--')\n",
    "plt.yscale('log')\n",
    "plt.xlabel(r'$\\ell$')\n",
    "plt.ylabel(r'$\\ell^{6} B_{\\phi \\phi \\phi}(\\ell)$')\n",
    "plt.xscale('log')\n",
    "#plt.ylim(1e-17, 1e-15)"
   ]
  },
  {
   "cell_type": "code",
   "execution_count": 24,
   "metadata": {},
   "outputs": [],
   "source": [
    "def integrate_bispectrum_with_angles(l1, l2, l3, theta1, theta2, theta3):\n",
    "    bispectrum_at_ells_of_chi = lambda chi: -chi**2*Wphiphi(chi)**3*gamma(chi)**3/(l1*l2*l3)**2*bispectrum_matter_2d(l1/chi, l2/chi, l3/chi, theta1, theta2, theta3, zofchi(chi))\n",
    "    return sinteg.quadrature(bispectrum_at_ells_of_chi, 0, chistar, miniter = 10)[0]"
   ]
  },
  {
   "cell_type": "code",
   "execution_count": 25,
   "metadata": {},
   "outputs": [],
   "source": [
    "ells = np.concatenate([np.arange(1, 100, 2), np.logspace(2, 3, 30), np.logspace(np.log10(1000), np.log10(4000), 40)])\n",
    "ells = np.unique(ells)\n",
    "\n",
    "thetas = np.linspace(0, 2*np.pi, 20)\n",
    "\n",
    "#ells = np.logspace(np.log10(1000), np.log10(4000), 100)"
   ]
  },
  {
   "cell_type": "code",
   "execution_count": 26,
   "metadata": {},
   "outputs": [],
   "source": [
    "#X, Y, Z, thetaX, thetaY, thetaZ = np.meshgrid(ells, ells, ells, thetas, thetas, thetas)\n",
    "#X, Y, Z = np.meshgrid(ells, ells, ells)\n"
   ]
  },
  {
   "cell_type": "code",
   "execution_count": 27,
   "metadata": {},
   "outputs": [],
   "source": [
    "import itertools\n",
    "\n",
    "ells = np.concatenate([np.arange(1, 100, 2), np.logspace(2, 3, 30), np.logspace(np.log10(1000), np.log10(4000), 40)])\n",
    "ells = np.unique(ells)\n",
    "\n",
    "thetas = np.linspace(0, 2*np.pi, 5)\n",
    "\n",
    "combs_ells = itertools.combinations_with_replacement(ells, 3)\n",
    "combs_thetas = itertools.combinations_with_replacement(thetas, 3)\n",
    "\n",
    "bispectrum_calculated = [integrate_bispectrum(*x) for x in combs_ells]\n",
    "\n",
    "#bispectrum_calculated = [integrate_bispectrum_with_angles(*x, *y) for x, y in zip(combs_ells, combs_thetas)]"
   ]
  },
  {
   "cell_type": "code",
   "execution_count": 28,
   "metadata": {},
   "outputs": [],
   "source": [
    "from sympy.utilities.iterables import multiset_permutations"
   ]
  },
  {
   "cell_type": "code",
   "execution_count": 29,
   "metadata": {},
   "outputs": [],
   "source": [
    "results = []\n",
    "inputsX = []\n",
    "inputsY = []\n",
    "inputsZ = []\n",
    "\n",
    "unico = []\n",
    "\n",
    "results = np.zeros((len(ells), len(ells), len(ells)))\n",
    "\n",
    "ells_list = list(ells)\n",
    "\n",
    "for i, x in enumerate(itertools.combinations_with_replacement(ells, 3)):\n",
    "    y = multiset_permutations(x)\n",
    "    for z in y:\n",
    "        inputsX += [z[0]]\n",
    "        inputsY += [z[1]]\n",
    "        inputsZ += [z[2]]\n",
    "        A, B, C = [ells_list.index(z[ii]) for ii in range(3)]\n",
    "        results[A, B, C] = bispectrum_calculated[i]\n",
    "        if len(set(z)) == 1:\n",
    "            unico += [bispectrum_calculated[i]]\n",
    "\n",
    "inputsX = np.array(inputsX)\n",
    "inputsY = np.array(inputsY)\n",
    "inputsZ = np.array(inputsZ)\n",
    "results *= ells[:, None, None]**6"
   ]
  },
  {
   "cell_type": "code",
   "execution_count": 30,
   "metadata": {},
   "outputs": [],
   "source": [
    "from scipy.interpolate import RegularGridInterpolator\n",
    "\n",
    "interp = RegularGridInterpolator((ells, ells, ells), results, bounds_error = False, fill_value = 0)\n",
    "interp_new = lambda l1, l2, l3: interp((l1, l2, l3))/l1**6"
   ]
  },
  {
   "cell_type": "code",
   "execution_count": 31,
   "metadata": {},
   "outputs": [],
   "source": [
    "#bispectrum_calculated = np.array(bispectrum_calculated)\n",
    "#np.save('bispectrum_calculated_phi.npy', bispectrum_calculated)\n",
    "#bispectrum_calculated = np.load('bispectrum_calculated_phi.npy')"
   ]
  },
  {
   "cell_type": "code",
   "execution_count": 32,
   "metadata": {},
   "outputs": [
    {
     "data": {
      "text/plain": [
       "Text(0, 0.5, '$\\\\ell^{6} B_{\\\\phi \\\\phi \\\\phi}(\\\\ell)$')"
      ]
     },
     "execution_count": 32,
     "metadata": {},
     "output_type": "execute_result"
    },
    {
     "data": {
      "image/png": "[encoded data removed]",
      "text/plain": [
       "<Figure size 600x200 with 1 Axes>"
      ]
     },
     "metadata": {
      "image/png": {
       "height": 219,
       "width": 558
      }
     },
     "output_type": "display_data"
    }
   ],
   "source": [
    "bispectrum_interp = interp_new#RegularGridInterpolator((ells, ells, ells), bispectrum_calculated*X**6, bounds_error = False, fill_value = 0)\n",
    "\n",
    "bispectrum_interp_single = lambda l: bispectrum_interp(l, l, l)\n",
    "bls_single_ell_single_calc = list(map(bispectrum_interp_single, ls))\n",
    "\n",
    "plt.figure(figsize = (6, 2))\n",
    "plt.plot(ls, bls_single_ell*ls**6)\n",
    "#plt.plot(ls, bls_single_ell_quad*ls**6, ls = '--')\n",
    "plt.loglog(ls, bls_single_ell_single_calc*ls**6, ls = ':')\n",
    "plt.xlabel(r'$\\ell$')\n",
    "plt.ylabel(r'$\\ell^{6} B_{\\phi \\phi \\phi}(\\ell)$')"
   ]
  },
  {
   "cell_type": "markdown",
   "metadata": {},
   "source": [
    "### Setting Up CMB part"
   ]
  },
  {
   "cell_type": "code",
   "execution_count": 44,
   "metadata": {},
   "outputs": [],
   "source": [
    "import camb\n",
    "import symlens as s\n",
    "from pixell import enmap, utils as putils\n",
    "import numpy as np"
   ]
  },
  {
   "cell_type": "code",
   "execution_count": 46,
   "metadata": {},
   "outputs": [
    {
     "name": "stderr",
     "output_type": "stream",
     "text": [
      "/var/folders/5s/mpby42n15_ng7rv494cv19tw0000gn/T/ipykernel_35576/3373329273.py:41: RuntimeWarning: divide by zero encountered in divide\n",
      "  Alphi = 1/integral\n"
     ]
    }
   ],
   "source": [
    "potential_file = \"lensedCMB_dmn1_lenspotentialCls.dat\"\n",
    "d = np.loadtxt(f'/Users/omard/Documents/projects/fgcmblensing/input/giulio/{potential_file}')\n",
    "l = d[:, 0]\n",
    "dd = d[:, 5]\n",
    "kk = 2*np.pi*dd/4\n",
    "pp = 4/l**2/(l+1)**2*kk\n",
    "\n",
    "TCMB = 2.73e6\n",
    "\n",
    "dd = np.loadtxt('/Users/omard/Documents/projects/fgcmblensing/input/giulio/lensedCMB_dmn1_lensedgradCls.dat')\n",
    "\n",
    "d = np.loadtxt('/Users/omard/Documents/projects/fgcmblensing/input/giulio/lensedCMB_dmn1_lensedCls.dat')\n",
    "L, TT = d[:, 0], d[:, 1]\n",
    "lfact = 2*np.pi/L/(L+1)\n",
    "TT *= lfact#/TCMB**2.\n",
    "\n",
    "\n",
    "get_noise = lambda x, level, theta: (level*np.pi/180/60)**2*np.exp(x*(x+1)*np.deg2rad(theta / 60)**2/8/np.log(2))\n",
    "\n",
    "shape,wcs = enmap.geometry(shape=(512,512),res=2.0*putils.arcmin,pos=(0,0))\n",
    "\n",
    "modlmap = enmap.modlmap(shape,wcs)\n",
    "\n",
    "f = s.Ldl1 * s.e('uC_T_T_l1') + s.Ldl2 * s.e('uC_T_T_l2')\n",
    "\n",
    "F = f / 2 / s.e('tC_T_T_l1') / s.e('tC_T_T_l2')\n",
    "\n",
    "expr1 = f * F\n",
    "\n",
    "fsky = 0.4\n",
    "noise, beam = 1., 1.\n",
    "\n",
    "feed_dict = {}\n",
    "feed_dict['uC_T_T'] = s.interp(L,TT)(modlmap)\n",
    "feed_dict['tC_T_T'] = s.interp(L,TT)(modlmap)+s.interp(L,get_noise(L, noise, beam))(modlmap)\n",
    "\n",
    "tellmin = 100\n",
    "tellmax = 3500\n",
    "xmask = s.mask_kspace(shape,wcs,lmin=tellmin,lmax=tellmax)\n",
    "integral = s.integrate(shape,wcs,feed_dict,expr1,xmask=xmask,ymask=xmask).real\n",
    "Alphi = 1/integral\n",
    "\n",
    "bin_edges = np.arange(10,3000,40)\n",
    "binner = s.bin2D(modlmap,bin_edges)\n",
    "A_l = Alphi\n",
    "\n",
    "cents, AL1D = binner.bin(A_l)"
   ]
  },
  {
   "cell_type": "code",
   "execution_count": 47,
   "metadata": {},
   "outputs": [],
   "source": [
    "lmin, lmax = tellmin, tellmax\n",
    "selection = (L >= lmin) & (L <= lmax)"
   ]
  },
  {
   "cell_type": "code",
   "execution_count": 48,
   "metadata": {},
   "outputs": [],
   "source": [
    "import scipy as sp\n",
    "\n",
    "uTT = sp.interpolate.interp1d(L[selection], TT[selection], fill_value = 0., bounds_error = False)\n",
    "tTT = sp.interpolate.interp1d(L[selection], TT[selection]+get_noise(L, noise, beam)[selection], fill_value = 1e5, bounds_error = False)"
   ]
  },
  {
   "cell_type": "code",
   "execution_count": 49,
   "metadata": {},
   "outputs": [
    {
     "data": {
      "text/plain": [
       "[<matplotlib.lines.Line2D at 0x15f140520>]"
      ]
     },
     "execution_count": 49,
     "metadata": {},
     "output_type": "execute_result"
    },
    {
     "data": {
      "image/png": "[encoded data removed]",
      "text/plain": [
       "<Figure size 500x200 with 1 Axes>"
      ]
     },
     "metadata": {
      "image/png": {
       "height": 198,
       "width": 449
      }
     },
     "output_type": "display_data"
    }
   ],
   "source": [
    "l_ = np.arange(1, 5000, 1)\n",
    "plt.loglog(l_, 1/tTT(l_))"
   ]
  },
  {
   "cell_type": "code",
   "execution_count": 50,
   "metadata": {},
   "outputs": [],
   "source": [
    "def dot(a, b):\n",
    "    return np.einsum('ab, ab -> b', a, b)\n",
    "\n",
    "    \n",
    "def fTT(l1v, l2v):\n",
    "    return dot(l1v+l2v, l1v)*uTT(np.linalg.norm(l1v, axis = 0))+dot(l1v+l2v, l2v)*uTT(np.linalg.norm(l2v, axis = 0))\n",
    "\n",
    "def ftotTT(l):\n",
    "    return tTT(l)\n",
    "\n",
    "def g(lv, Lv):\n",
    "    l1v, l2v = lv, Lv[:, None]-lv\n",
    "    return fTT(l1v, l2v)/(2*ftotTT(np.linalg.norm(l1v))*ftotTT(np.linalg.norm(l2v)))"
   ]
  },
  {
   "cell_type": "code",
   "execution_count": 51,
   "metadata": {},
   "outputs": [],
   "source": [
    "Ls = np.arange(5, 3000, 10)"
   ]
  },
  {
   "cell_type": "code",
   "execution_count": 40,
   "metadata": {},
   "outputs": [],
   "source": [
    "Rparallel = []\n",
    "for L in Ls:\n",
    "    Lvec = np.array([L, 0])\n",
    "    integrand = lambda l, theta: g(np.array([l*np.cos(theta), l*np.sin(theta)]), Lvec)*np.cos(theta)**2*uTT(l)*l**2\n",
    "    l_temp = np.arange(lmin, lmax, 3)\n",
    "    integrand_temp = []\n",
    "    thetas = np.linspace(0, 2*np.pi, 100)\n",
    "    for l_ in l_temp:\n",
    "        integrand_temp_function = lambda theta: integrand(l_, theta)\n",
    "        temp = np.array(integrand_temp_function(thetas))\n",
    "        integrand_temp.append(sp.integrate.simpson(temp, thetas))\n",
    "    integrand_temp_interp = sp.interpolate.interp1d(l_temp, integrand_temp, fill_value = 0., bounds_error = False)\n",
    "    out_integrand = lambda l: integrand_temp_interp(l)*l\n",
    "    Rparallel.append(sp.integrate.simpson(out_integrand(l_temp), l_temp))\n",
    "    #Rparallel.append(sp.integrate.quadrature(out_integrand, lmin, lmax, miniter = 2000)[0])"
   ]
  },
  {
   "cell_type": "code",
   "execution_count": 41,
   "metadata": {},
   "outputs": [],
   "source": [
    "betaparallel = []\n",
    "for L in Ls:\n",
    "    Lvec = np.array([L, 0])\n",
    "    integrand = lambda l, theta: bispectrum_interp(l, np.linalg.norm(np.array([L-l*np.cos(theta), -l*np.sin(theta)])), L)*np.cos(theta)*(l*np.cos(theta)-L)\n",
    "    l_temp = np.arange(10, 3000, 3)\n",
    "    integrand_temp = []\n",
    "    for l_ in l_temp:\n",
    "        integrand_temp_function = np.vectorize(lambda theta: integrand(l_, theta))\n",
    "        temp = np.array(integrand_temp_function(thetas))\n",
    "        integrand_temp.append(sp.integrate.simpson(temp, thetas))\n",
    "        #integrand_temp.append(sp.integrate.quadrature(integrand_temp_function, 0, 2*np.pi, miniter = 1000)[0])\n",
    "    integrand_temp_interp = sp.interpolate.interp1d(l_temp, integrand_temp, fill_value = 0., bounds_error = False)\n",
    "    out_integrand = lambda l: integrand_temp_interp(l)*l**2\n",
    "    betaparallel.append(sp.integrate.simpson(out_integrand(l_temp), l_temp))\n",
    "    #betaparallel.append(sp.integrate.quadrature(out_integrand, lmin, lmax, miniter = 1000)[0])"
   ]
  },
  {
   "cell_type": "code",
   "execution_count": 42,
   "metadata": {},
   "outputs": [
    {
     "data": {
      "text/plain": [
       "[-1.6019061442403565e-12,\n",
       " -1.258440021959714e-13,\n",
       " -3.3227551026543156e-14,\n",
       " -1.3145862098193393e-14,\n",
       " -6.9678675192462164e-15,\n",
       " -3.5458864838142702e-15,\n",
       " -1.9338842513645998e-15,\n",
       " -1.4713175124527217e-15,\n",
       " -8.976020660445464e-16,\n",
       " -5.455029527460228e-16,\n",
       " -5.139616976255057e-16,\n",
       " -3.3213325402496214e-16,\n",
       " -2.0938284945168652e-16,\n",
       " -2.2719888011758137e-16,\n",
       " -1.4993358619482137e-16,\n",
       " -9.347965406220005e-17,\n",
       " -1.1682929089482205e-16,\n",
       " -7.623075677249681e-17,\n",
       " -4.605073766243421e-17,\n",
       " -6.709497026182502e-17,\n",
       " -4.283817178410847e-17,\n",
       " -2.433273902419419e-17,\n",
       " -4.13252300625426e-17,\n",
       " -2.6023962828173967e-17,\n",
       " -1.3309941894566415e-17,\n",
       " -2.7323757431351223e-17,\n",
       " -1.651412182406156e-17,\n",
       " -7.612816135743712e-18,\n",
       " -1.8729292628797945e-17,\n",
       " -1.1003706046045362e-17,\n",
       " -4.2224392275539895e-18,\n",
       " -1.3532838408942231e-17,\n",
       " -7.528285575014012e-18,\n",
       " -2.3594007759148156e-18,\n",
       " -1.0039400339545374e-17,\n",
       " -5.2970646455970456e-18,\n",
       " -1.2390725329218206e-18,\n",
       " -7.644213408764637e-18,\n",
       " -3.839034389472884e-18,\n",
       " -5.518970052231263e-19,\n",
       " -5.959460535295962e-18,\n",
       " -2.859591380215114e-18,\n",
       " -1.2819812549875747e-19,\n",
       " -4.736510047788712e-18,\n",
       " -2.175440720097355e-18,\n",
       " 1.2682121280805215e-19,\n",
       " -3.820973757565934e-18,\n",
       " -1.6774982903161254e-18,\n",
       " 2.546655486344232e-19,\n",
       " -3.1178020201202886e-18,\n",
       " -1.304922413179099e-18,\n",
       " 3.554328581576319e-19,\n",
       " -2.6156578389140007e-18,\n",
       " -1.0243043335231284e-18,\n",
       " 4.160453960485273e-19,\n",
       " -2.216848713105482e-18,\n",
       " -8.328257927383979e-19,\n",
       " 4.343160767240492e-19,\n",
       " -1.8755622554254427e-18,\n",
       " -6.745357030490048e-19,\n",
       " 4.349329217424977e-19,\n",
       " -1.6191047402229628e-18,\n",
       " -5.461380050674095e-19,\n",
       " 4.382839744857648e-19,\n",
       " -1.410267154536577e-18,\n",
       " -4.603589168760449e-19,\n",
       " 4.1452526598206265e-19,\n",
       " -1.2160296454573171e-18,\n",
       " -3.7916260496392695e-19,\n",
       " 4.0844899822505433e-19,\n",
       " -1.0879538572555037e-18,\n",
       " -3.2414189863700643e-19,\n",
       " 3.810529404712024e-19,\n",
       " -9.520920588984094e-19,\n",
       " -2.716406470113082e-19,\n",
       " 3.7043481675061263e-19,\n",
       " -8.596722665750491e-19,\n",
       " -2.353962962221168e-19,\n",
       " 3.438118938893868e-19,\n",
       " -7.602698008353254e-19,\n",
       " -1.9955409726682473e-19,\n",
       " 3.321296045236578e-19,\n",
       " -6.936195697544714e-19,\n",
       " -1.7572462433427626e-19,\n",
       " 3.0774705255571534e-19,\n",
       " -6.17355018544118e-19,\n",
       " -1.498260653738561e-19,\n",
       " 2.9605614730626896e-19,\n",
       " -5.688607676480697e-19,\n",
       " -1.3394235615228044e-19,\n",
       " 2.7542214686677067e-19,\n",
       " -5.167619031365685e-19,\n",
       " -1.1589149979944685e-19,\n",
       " 2.622131077783285e-19,\n",
       " -4.722281515100235e-19,\n",
       " -1.0380587959759231e-19,\n",
       " 2.4639717254519156e-19,\n",
       " -4.360783981208334e-19,\n",
       " -9.36110967406202e-20,\n",
       " 2.2828270728289946e-19,\n",
       " -3.9618909147033882e-19,\n",
       " -8.232725640009208e-20,\n",
       " 2.1634948374029943e-19,\n",
       " -3.6571212114900674e-19,\n",
       " -7.357279467824242e-20,\n",
       " 2.04567379654303e-19,\n",
       " -3.389962642645961e-19,\n",
       " -6.633610358066418e-20,\n",
       " 1.9310617144107118e-19,\n",
       " -3.1448454649951035e-19,\n",
       " -6.022647380545732e-20,\n",
       " 1.8241828813570243e-19,\n",
       " -2.9029862023552863e-19,\n",
       " -5.234753911127422e-20,\n",
       " 1.7489102691263616e-19,\n",
       " -2.68125811331768e-19,\n",
       " -4.638493066829246e-20,\n",
       " 1.6661490855716567e-19,\n",
       " -2.5103485773319023e-19,\n",
       " -4.1732857856917605e-20,\n",
       " 1.5782996122728215e-19,\n",
       " -2.3468342576007647e-19,\n",
       " -3.841124902983507e-20,\n",
       " 1.4874153218946742e-19,\n",
       " -2.192801337994865e-19,\n",
       " -3.5576732405430864e-20,\n",
       " 1.4085385121622176e-19,\n",
       " -2.0732207632292616e-19,\n",
       " -3.3413713666098444e-20,\n",
       " 1.3285704359094584e-19,\n",
       " -1.959284270820671e-19,\n",
       " -3.265214800037926e-20,\n",
       " 1.2421134775872003e-19,\n",
       " -1.856613174151698e-19,\n",
       " -3.2042888972477824e-20,\n",
       " 1.1582415477975707e-19,\n",
       " -1.783833478928245e-19,\n",
       " -3.339402098037664e-20,\n",
       " 1.0566991467862471e-19,\n",
       " -1.742979671459502e-19,\n",
       " -3.928657939906048e-20,\n",
       " 8.864438055100095e-20,\n",
       " -1.8435915869718311e-19,\n",
       " -7.676782737555736e-20,\n",
       " -5.178483665922202e-20,\n",
       " -2.0570475136041587e-20,\n",
       " -8.286125656796152e-20,\n",
       " -2.256048198675656e-19,\n",
       " 9.294016220812388e-20,\n",
       " -6.02697598448968e-20,\n",
       " -2.664251331303067e-19,\n",
       " 1.3626955475978735e-19,\n",
       " -6.778850407482962e-20,\n",
       " -3.583554500360278e-19,\n",
       " 1.8994882612939438e-19,\n",
       " -9.936252415432171e-20,\n",
       " -5.668722745556279e-19,\n",
       " 2.753715544082936e-19,\n",
       " -2.0497056530266972e-19,\n",
       " -1.2698092620947022e-18,\n",
       " 4.558864371104488e-19,\n",
       " -5.328483414181123e-19,\n",
       " 6.86160425845025e-17,\n",
       " -6.539496478482925e-18,\n",
       " -8.553111868095242e-19,\n",
       " 2.637873312693816e-19,\n",
       " -1.0303213025871653e-18,\n",
       " -1.9599246061303997e-19,\n",
       " 2.606353818659026e-19,\n",
       " -5.185140653742277e-19,\n",
       " -9.570709648137375e-20,\n",
       " 1.8841244501258473e-19,\n",
       " -4.0200355297756097e-19,\n",
       " -3.041520421411374e-19,\n",
       " -4.960354985780888e-19,\n",
       " 1.8068310539443897e-19,\n",
       " -3.625866364448163e-20,\n",
       " -4.569573802070353e-19,\n",
       " 5.425542106160622e-19,\n",
       " 2.979203752710562e-19,\n",
       " -4.565703562017829e-19,\n",
       " 5.519572174234272e-18,\n",
       " 7.236873291206578e-18,\n",
       " -4.8237710161696525e-18,\n",
       " -3.2886452607771795e-18,\n",
       " -9.811824730613267e-19,\n",
       " -1.5154792659520889e-19,\n",
       " -9.584011177117866e-19,\n",
       " -5.230213290411705e-19,\n",
       " -1.263614302146858e-18,\n",
       " -1.2570380985553778e-19,\n",
       " -4.956617800231661e-19,\n",
       " -1.533986730666576e-18,\n",
       " -4.855715854313341e-19,\n",
       " -3.7081991120109174e-18,\n",
       " 9.046527442559796e-18,\n",
       " -2.2129463447632175e-18,\n",
       " -2.7886657584090114e-19,\n",
       " 1.6496159670741535e-19,\n",
       " -1.002181699681998e-18,\n",
       " -9.998290762567533e-19,\n",
       " -1.249620632188154e-18,\n",
       " -3.0577100966883257e-19,\n",
       " -1.858836718422248e-18,\n",
       " -3.602290826719828e-17,\n",
       " -3.2721933415856302e-18,\n",
       " -2.0309327351360497e-19,\n",
       " 5.86105285019876e-20,\n",
       " -1.8175573388977857e-18,\n",
       " -9.640565824659958e-19,\n",
       " -2.4813549275887112e-18,\n",
       " -2.9610103541743263e-18,\n",
       " 5.613303214641929e-18,\n",
       " 2.7679915717116476e-18,\n",
       " -1.3827906916532297e-18,\n",
       " -1.380190101822923e-18,\n",
       " -3.0007441808439234e-18,\n",
       " -4.3021555432413314e-18,\n",
       " -2.3623079775636048e-17,\n",
       " 4.919212596223918e-17,\n",
       " 3.037329300401945e-18,\n",
       " 6.524202810053733e-19,\n",
       " -1.4567869971973253e-18,\n",
       " -1.9423295560940743e-18,\n",
       " -1.927101828822847e-17,\n",
       " 7.382984433453491e-18,\n",
       " 4.886436617765218e-19,\n",
       " 1.0643925889456223e-18,\n",
       " 2.9951216943006444e-18,\n",
       " 4.280564001412472e-17,\n",
       " -2.0038351858325775e-17,\n",
       " -4.042649296705382e-18,\n",
       " -2.34927499365094e-18,\n",
       " -3.456257357053101e-18,\n",
       " 6.212779321475743e-17,\n",
       " -5.426295201629968e-19,\n",
       " 9.975185330696517e-19,\n",
       " 4.2661127871054604e-18,\n",
       " 1.8859213306583194e-16,\n",
       " -1.0444083952477851e-17,\n",
       " -6.608023491001731e-18,\n",
       " 9.017639409803461e-20,\n",
       " 4.125083978556962e-18,\n",
       " -2.175543912087722e-18,\n",
       " -1.2297591349401344e-18,\n",
       " 6.532128403051166e-19,\n",
       " -2.500815366771072e-18,\n",
       " -3.673663689938844e-18,\n",
       " -2.0321526611173676e-18,\n",
       " 2.4695797377309925e-18,\n",
       " -3.1464607766458233e-18,\n",
       " 3.626721824301505e-19,\n",
       " -1.8432387384453318e-17,\n",
       " -4.985339450762774e-18,\n",
       " -1.804607171236146e-18,\n",
       " 1.0339160105938544e-18,\n",
       " -2.9397989999644647e-18,\n",
       " 4.0829751281092126e-18,\n",
       " -8.207700719353944e-18,\n",
       " -7.067091552275637e-18,\n",
       " 4.2798612311986465e-18,\n",
       " -5.653920802726286e-19,\n",
       " 7.737727370179306e-19,\n",
       " -4.907234085518441e-18,\n",
       " -4.524820319918276e-18,\n",
       " 3.414827806953217e-17,\n",
       " -3.774155578372263e-18,\n",
       " -2.176716419299498e-17,\n",
       " -2.8316804792793577e-18,\n",
       " 1.5067435667202547e-18,\n",
       " -4.518865476488618e-18,\n",
       " -1.852983689336062e-18,\n",
       " -1.2758232785534242e-18,\n",
       " -6.057336241103678e-18,\n",
       " -9.33811112565823e-18,\n",
       " 8.64971989828238e-18,\n",
       " -2.2123215780538644e-17,\n",
       " -1.3298831522029914e-17,\n",
       " 1.332599705667268e-18,\n",
       " -3.0316271609762794e-17,\n",
       " -6.134350333323294e-18,\n",
       " 3.2906601115563913e-18,\n",
       " -2.4740497500094098e-18,\n",
       " -5.805990431559438e-17,\n",
       " -7.234247420642821e-18,\n",
       " -1.0862158277752433e-17,\n",
       " 7.161836963240708e-18,\n",
       " -1.2231673383134823e-16,\n",
       " 2.298640063037817e-16,\n",
       " -3.0200088793163813e-18,\n",
       " -3.4310084851634494e-18,\n",
       " 3.4239116180885137e-17,\n",
       " 5.882366770683664e-17,\n",
       " -3.6865917383824034e-19,\n",
       " -1.2398452620687663e-17,\n",
       " 4.0888935933308546e-17,\n",
       " 5.521525757889513e-18,\n",
       " -9.59984056228116e-18,\n",
       " -4.746191763377291e-18,\n",
       " 3.610632356069042e-18]"
      ]
     },
     "execution_count": 42,
     "metadata": {},
     "output_type": "execute_result"
    }
   ],
   "source": [
    "betaparallel"
   ]
  },
  {
   "cell_type": "code",
   "execution_count": null,
   "metadata": {},
   "outputs": [
    {
     "name": "stdout",
     "output_type": "stream",
     "text": [
      "[ 1.38363640e-06  7.05252559e-07  4.24502989e-07  2.29604885e-07\n",
      "  1.16519737e-07  5.25918352e-08  1.40251574e-08  1.65109279e-09\n",
      "  1.01151793e-09  5.29626946e-10  2.34403053e-10  1.04280113e-10\n",
      "  6.38743546e-11  3.34220333e-11  1.74929327e-11  8.29619077e-12\n",
      "  4.87569118e-12  2.19665033e-12  7.45089419e-13  1.19689670e-14\n",
      " -1.69336116e-13 -1.62447707e-13 -1.13789169e-13 -7.76091562e-14\n",
      " -5.19115033e-14 -3.40932781e-14 -2.02815980e-14 -1.16620093e-14\n",
      " -7.62913429e-15 -4.00662157e-15 -1.41473132e-15 -4.22605528e-16\n",
      " -1.16351663e-16 -5.27513340e-18 -4.85275078e-24 -3.92647725e-24\n",
      " -3.20425807e-24 -2.51585511e-24 -1.80615783e-24 -1.00199351e-24\n",
      " -0.00000000e+00 -0.00000000e+00 -0.00000000e+00 -0.00000000e+00\n",
      " -0.00000000e+00 -0.00000000e+00 -0.00000000e+00 -0.00000000e+00\n",
      " -0.00000000e+00 -0.00000000e+00 -0.00000000e+00 -0.00000000e+00\n",
      " -0.00000000e+00 -0.00000000e+00 -0.00000000e+00 -0.00000000e+00\n",
      " -0.00000000e+00 -0.00000000e+00 -0.00000000e+00 -0.00000000e+00\n",
      " -0.00000000e+00 -0.00000000e+00 -0.00000000e+00 -0.00000000e+00\n",
      " -0.00000000e+00 -0.00000000e+00 -0.00000000e+00 -0.00000000e+00\n",
      " -0.00000000e+00 -0.00000000e+00 -0.00000000e+00 -0.00000000e+00\n",
      " -0.00000000e+00 -0.00000000e+00 -0.00000000e+00 -0.00000000e+00\n",
      " -0.00000000e+00 -0.00000000e+00 -0.00000000e+00 -0.00000000e+00\n",
      " -0.00000000e+00 -0.00000000e+00 -0.00000000e+00 -0.00000000e+00\n",
      " -0.00000000e+00 -0.00000000e+00 -0.00000000e+00 -0.00000000e+00\n",
      " -0.00000000e+00 -0.00000000e+00 -0.00000000e+00 -0.00000000e+00\n",
      " -0.00000000e+00 -0.00000000e+00 -0.00000000e+00 -0.00000000e+00\n",
      " -0.00000000e+00 -0.00000000e+00 -0.00000000e+00 -0.00000000e+00\n",
      " -0.00000000e+00 -0.00000000e+00 -0.00000000e+00 -0.00000000e+00\n",
      " -0.00000000e+00 -0.00000000e+00 -0.00000000e+00 -0.00000000e+00\n",
      " -0.00000000e+00 -0.00000000e+00 -0.00000000e+00 -0.00000000e+00\n",
      " -0.00000000e+00 -0.00000000e+00 -0.00000000e+00 -0.00000000e+00\n",
      " -0.00000000e+00 -0.00000000e+00 -0.00000000e+00 -0.00000000e+00\n",
      " -0.00000000e+00 -0.00000000e+00 -0.00000000e+00 -0.00000000e+00\n",
      " -0.00000000e+00 -0.00000000e+00 -0.00000000e+00 -0.00000000e+00\n",
      " -0.00000000e+00 -0.00000000e+00 -0.00000000e+00 -0.00000000e+00\n",
      " -0.00000000e+00 -0.00000000e+00 -0.00000000e+00 -0.00000000e+00\n",
      " -0.00000000e+00 -0.00000000e+00 -0.00000000e+00 -0.00000000e+00\n",
      " -0.00000000e+00 -0.00000000e+00 -0.00000000e+00 -0.00000000e+00\n",
      " -0.00000000e+00 -0.00000000e+00 -0.00000000e+00 -0.00000000e+00\n",
      " -0.00000000e+00 -0.00000000e+00 -0.00000000e+00 -0.00000000e+00\n",
      " -0.00000000e+00 -0.00000000e+00 -0.00000000e+00 -0.00000000e+00\n",
      " -0.00000000e+00 -0.00000000e+00 -0.00000000e+00 -0.00000000e+00\n",
      " -0.00000000e+00 -0.00000000e+00 -0.00000000e+00 -0.00000000e+00\n",
      " -0.00000000e+00 -0.00000000e+00 -0.00000000e+00 -0.00000000e+00\n",
      " -0.00000000e+00 -0.00000000e+00 -0.00000000e+00 -0.00000000e+00\n",
      " -0.00000000e+00 -0.00000000e+00 -0.00000000e+00 -0.00000000e+00\n",
      " -0.00000000e+00 -0.00000000e+00 -0.00000000e+00 -0.00000000e+00\n",
      " -0.00000000e+00 -0.00000000e+00 -0.00000000e+00 -0.00000000e+00\n",
      " -0.00000000e+00 -0.00000000e+00 -0.00000000e+00 -0.00000000e+00\n",
      " -0.00000000e+00 -0.00000000e+00 -0.00000000e+00 -0.00000000e+00\n",
      " -0.00000000e+00 -0.00000000e+00 -0.00000000e+00 -0.00000000e+00\n",
      " -0.00000000e+00 -0.00000000e+00 -0.00000000e+00 -0.00000000e+00\n",
      " -0.00000000e+00 -0.00000000e+00 -0.00000000e+00 -0.00000000e+00\n",
      " -0.00000000e+00 -0.00000000e+00 -0.00000000e+00 -0.00000000e+00\n",
      " -0.00000000e+00 -0.00000000e+00 -0.00000000e+00 -0.00000000e+00\n",
      " -0.00000000e+00 -0.00000000e+00 -0.00000000e+00 -0.00000000e+00\n",
      " -0.00000000e+00 -0.00000000e+00 -0.00000000e+00 -0.00000000e+00\n",
      " -0.00000000e+00 -0.00000000e+00 -0.00000000e+00 -0.00000000e+00\n",
      " -0.00000000e+00 -0.00000000e+00 -0.00000000e+00 -0.00000000e+00\n",
      " -0.00000000e+00 -0.00000000e+00 -0.00000000e+00 -0.00000000e+00\n",
      " -0.00000000e+00 -0.00000000e+00 -0.00000000e+00 -0.00000000e+00\n",
      " -0.00000000e+00 -0.00000000e+00 -0.00000000e+00 -0.00000000e+00\n",
      " -0.00000000e+00 -0.00000000e+00 -0.00000000e+00 -0.00000000e+00\n",
      " -0.00000000e+00 -0.00000000e+00 -0.00000000e+00 -0.00000000e+00\n",
      " -0.00000000e+00 -0.00000000e+00 -0.00000000e+00 -0.00000000e+00\n",
      " -0.00000000e+00 -0.00000000e+00 -0.00000000e+00 -0.00000000e+00\n",
      " -0.00000000e+00 -0.00000000e+00 -0.00000000e+00 -0.00000000e+00\n",
      " -0.00000000e+00 -0.00000000e+00 -0.00000000e+00 -0.00000000e+00\n",
      " -0.00000000e+00 -0.00000000e+00 -0.00000000e+00 -0.00000000e+00\n",
      " -0.00000000e+00 -0.00000000e+00 -0.00000000e+00 -0.00000000e+00\n",
      " -0.00000000e+00 -0.00000000e+00 -0.00000000e+00 -0.00000000e+00\n",
      " -0.00000000e+00 -0.00000000e+00 -0.00000000e+00 -0.00000000e+00\n",
      " -0.00000000e+00 -0.00000000e+00 -0.00000000e+00 -0.00000000e+00\n",
      " -0.00000000e+00 -0.00000000e+00 -0.00000000e+00 -0.00000000e+00\n",
      " -0.00000000e+00 -0.00000000e+00 -0.00000000e+00 -0.00000000e+00\n",
      " -0.00000000e+00 -0.00000000e+00 -0.00000000e+00 -0.00000000e+00\n",
      " -0.00000000e+00 -0.00000000e+00 -0.00000000e+00 -0.00000000e+00]\n"
     ]
    },
    {
     "data": {
      "image/png": "[encoded data removed]",
      "text/plain": [
       "<Figure size 500x200 with 1 Axes>"
      ]
     },
     "metadata": {
      "image/png": {
       "height": 213,
       "width": 439
      }
     },
     "output_type": "display_data"
    }
   ],
   "source": [
    "NC1 = -4*AL**2*SLapprox*betaparallel*Rparallel\n",
    "plt.plot(Ls, NC1, label = 'NC1')\n",
    "plt.xscale('log')"
   ]
  },
  {
   "cell_type": "code",
   "execution_count": 373,
   "metadata": {},
   "outputs": [],
   "source": [
    "AL = np.interp(Ls, cents, AL1D)\n",
    "SLapprox = 1/(2*AL)"
   ]
  },
  {
   "cell_type": "code",
   "execution_count": 374,
   "metadata": {},
   "outputs": [],
   "source": [
    "Rparallel = np.array(Rparallel)\n",
    "betaparallel = np.array(betaparallel)"
   ]
  },
  {
   "cell_type": "code",
   "execution_count": 375,
   "metadata": {},
   "outputs": [],
   "source": [
    "Rperpendicular = []\n",
    "for L in Ls:\n",
    "    Lvec = np.array([L, 0])\n",
    "    integrand = lambda l, theta: g(np.array([l*np.cos(theta), l*np.sin(theta)]), Lvec)*l**2*np.sin(theta)**2*uTT(l)\n",
    "    l_temp = np.arange(10, 3000, 3)\n",
    "    integrand_temp = []\n",
    "    for l_ in l_temp:\n",
    "        integrand_temp_function = lambda theta: integrand(l_, theta)\n",
    "        temp = np.array(integrand_temp_function(thetas))\n",
    "        integrand_temp.append(sp.integrate.simpson(temp, thetas))\n",
    "        #integrand_temp.append(sp.integrate.quadrature(integrand_temp_function, 0, 2*np.pi, miniter = 1000)[0])\n",
    "    integrand_temp_interp = sp.interpolate.interp1d(l_temp, integrand_temp, fill_value = 0., bounds_error = False)\n",
    "    out_integrand = lambda l: integrand_temp_interp(l)*l\n",
    "    Rperpendicular.append(sp.integrate.simpson(out_integrand(l_temp), l_temp))\n",
    "    #Rperpendicular.append(sp.integrate.quadrature(out_integrand, lmin, lmax, miniter = 2000)[0])"
   ]
  },
  {
   "cell_type": "code",
   "execution_count": 376,
   "metadata": {},
   "outputs": [],
   "source": [
    "betaperpendicular = []\n",
    "for L in Ls:\n",
    "    Lvec = np.array([L, 0])\n",
    "    integrand = lambda l, theta: bispectrum_interp(l, np.linalg.norm(np.array([L-l*np.cos(theta), -l*np.sin(theta)])), L)*np.sin(theta)**2\n",
    "    l_temp = np.arange(10, 3000, 3)\n",
    "    integrand_temp = []\n",
    "    for l_ in l_temp:\n",
    "        integrand_temp_function = lambda theta: integrand(l_, theta)\n",
    "        temp = np.array(integrand_temp_function(thetas))\n",
    "        integrand_temp.append(sp.integrate.simpson(temp, thetas))\n",
    "        #integrand_temp.append(sp.integrate.quadrature(integrand_temp_function, 0, 2*np.pi, miniter = 1000)[0])\n",
    "    integrand_temp_interp = sp.interpolate.interp1d(l_temp, integrand_temp, fill_value = 0., bounds_error = False)\n",
    "    out_integrand = lambda l: integrand_temp_interp(l)*l**3\n",
    "    betaperpendicular.append(sp.integrate.simpson(out_integrand(l_temp), l_temp))\n",
    "    #betaperpendicular.append(sp.integrate.quadrature(out_integrand, lmin, lmax, miniter = 1000)[0])"
   ]
  },
  {
   "cell_type": "code",
   "execution_count": 377,
   "metadata": {},
   "outputs": [],
   "source": [
    "Rperpendicular, betaperpendicular = np.array(Rperpendicular), np.array(betaperpendicular)"
   ]
  },
  {
   "cell_type": "code",
   "execution_count": 384,
   "metadata": {},
   "outputs": [],
   "source": [
    "total = Rparallel*betaparallel+Rperpendicular*betaperpendicular"
   ]
  },
  {
   "cell_type": "code",
   "execution_count": 385,
   "metadata": {},
   "outputs": [],
   "source": [
    "AL = np.interp(Ls, cents, AL1D)\n",
    "SLapprox = 1/(2*AL)"
   ]
  },
  {
   "cell_type": "code",
   "execution_count": 386,
   "metadata": {},
   "outputs": [
    {
     "name": "stdout",
     "output_type": "stream",
     "text": [
      "[ 1.49394024e-06  7.60609108e-07  4.56767040e-07  2.44836642e-07\n",
      "  1.23664784e-07  5.54791400e-08  1.46658201e-08  1.69960425e-09\n",
      "  1.02949934e-09  5.30009096e-10  2.28908013e-10  9.91221299e-11\n",
      "  5.85684034e-11  2.89209763e-11  1.41531110e-11  5.92522333e-12\n",
      "  2.95871506e-12  7.83367926e-13 -2.26561849e-13 -6.61109456e-13\n",
      " -6.32254447e-13 -4.87306881e-13 -3.05296436e-13 -1.99098272e-13\n",
      " -1.24966386e-13 -8.01820916e-14 -4.45145388e-14 -2.36564539e-14\n",
      " -1.40528434e-14 -6.69606757e-15 -2.35107867e-15 -6.99398815e-16\n",
      " -1.98296779e-16 -1.00794540e-17 -8.98491168e-24 -7.04176047e-24\n",
      " -5.57279636e-24 -4.24015959e-24 -2.94925685e-24 -1.59150424e-24\n",
      " -0.00000000e+00 -0.00000000e+00 -0.00000000e+00 -0.00000000e+00\n",
      " -0.00000000e+00 -0.00000000e+00 -0.00000000e+00 -0.00000000e+00\n",
      " -0.00000000e+00 -0.00000000e+00 -0.00000000e+00 -0.00000000e+00\n",
      " -0.00000000e+00 -0.00000000e+00 -0.00000000e+00 -0.00000000e+00\n",
      " -0.00000000e+00 -0.00000000e+00 -0.00000000e+00 -0.00000000e+00\n",
      " -0.00000000e+00 -0.00000000e+00 -0.00000000e+00 -0.00000000e+00\n",
      " -0.00000000e+00 -0.00000000e+00 -0.00000000e+00 -0.00000000e+00\n",
      " -0.00000000e+00 -0.00000000e+00 -0.00000000e+00 -0.00000000e+00\n",
      " -0.00000000e+00 -0.00000000e+00 -0.00000000e+00 -0.00000000e+00\n",
      " -0.00000000e+00 -0.00000000e+00 -0.00000000e+00 -0.00000000e+00\n",
      " -0.00000000e+00 -0.00000000e+00 -0.00000000e+00 -0.00000000e+00\n",
      " -0.00000000e+00 -0.00000000e+00 -0.00000000e+00 -0.00000000e+00\n",
      " -0.00000000e+00 -0.00000000e+00 -0.00000000e+00 -0.00000000e+00\n",
      " -0.00000000e+00 -0.00000000e+00 -0.00000000e+00 -0.00000000e+00\n",
      " -0.00000000e+00 -0.00000000e+00 -0.00000000e+00 -0.00000000e+00\n",
      " -0.00000000e+00 -0.00000000e+00 -0.00000000e+00 -0.00000000e+00\n",
      " -0.00000000e+00 -0.00000000e+00 -0.00000000e+00 -0.00000000e+00\n",
      " -0.00000000e+00 -0.00000000e+00 -0.00000000e+00 -0.00000000e+00\n",
      " -0.00000000e+00 -0.00000000e+00 -0.00000000e+00 -0.00000000e+00\n",
      " -0.00000000e+00 -0.00000000e+00 -0.00000000e+00 -0.00000000e+00\n",
      " -0.00000000e+00 -0.00000000e+00 -0.00000000e+00 -0.00000000e+00\n",
      " -0.00000000e+00 -0.00000000e+00 -0.00000000e+00 -0.00000000e+00\n",
      " -0.00000000e+00 -0.00000000e+00 -0.00000000e+00 -0.00000000e+00\n",
      " -0.00000000e+00 -0.00000000e+00 -0.00000000e+00 -0.00000000e+00\n",
      " -0.00000000e+00 -0.00000000e+00 -0.00000000e+00 -0.00000000e+00\n",
      " -0.00000000e+00 -0.00000000e+00 -0.00000000e+00 -0.00000000e+00\n",
      " -0.00000000e+00 -0.00000000e+00 -0.00000000e+00 -0.00000000e+00\n",
      " -0.00000000e+00 -0.00000000e+00 -0.00000000e+00 -0.00000000e+00\n",
      " -0.00000000e+00 -0.00000000e+00 -0.00000000e+00 -0.00000000e+00\n",
      " -0.00000000e+00 -0.00000000e+00 -0.00000000e+00 -0.00000000e+00\n",
      " -0.00000000e+00 -0.00000000e+00 -0.00000000e+00 -0.00000000e+00\n",
      " -0.00000000e+00 -0.00000000e+00 -0.00000000e+00 -0.00000000e+00\n",
      " -0.00000000e+00 -0.00000000e+00 -0.00000000e+00 -0.00000000e+00\n",
      " -0.00000000e+00 -0.00000000e+00 -0.00000000e+00 -0.00000000e+00\n",
      " -0.00000000e+00 -0.00000000e+00 -0.00000000e+00 -0.00000000e+00\n",
      " -0.00000000e+00 -0.00000000e+00 -0.00000000e+00 -0.00000000e+00\n",
      " -0.00000000e+00 -0.00000000e+00 -0.00000000e+00 -0.00000000e+00\n",
      " -0.00000000e+00 -0.00000000e+00 -0.00000000e+00 -0.00000000e+00\n",
      " -0.00000000e+00 -0.00000000e+00 -0.00000000e+00 -0.00000000e+00\n",
      " -0.00000000e+00 -0.00000000e+00 -0.00000000e+00 -0.00000000e+00\n",
      " -0.00000000e+00 -0.00000000e+00 -0.00000000e+00 -0.00000000e+00\n",
      " -0.00000000e+00 -0.00000000e+00 -0.00000000e+00 -0.00000000e+00\n",
      " -0.00000000e+00 -0.00000000e+00 -0.00000000e+00 -0.00000000e+00\n",
      " -0.00000000e+00 -0.00000000e+00 -0.00000000e+00 -0.00000000e+00\n",
      " -0.00000000e+00 -0.00000000e+00 -0.00000000e+00 -0.00000000e+00\n",
      " -0.00000000e+00 -0.00000000e+00 -0.00000000e+00 -0.00000000e+00\n",
      " -0.00000000e+00 -0.00000000e+00 -0.00000000e+00 -0.00000000e+00\n",
      " -0.00000000e+00 -0.00000000e+00 -0.00000000e+00 -0.00000000e+00\n",
      " -0.00000000e+00 -0.00000000e+00 -0.00000000e+00 -0.00000000e+00\n",
      " -0.00000000e+00 -0.00000000e+00 -0.00000000e+00 -0.00000000e+00\n",
      " -0.00000000e+00 -0.00000000e+00 -0.00000000e+00 -0.00000000e+00\n",
      " -0.00000000e+00 -0.00000000e+00 -0.00000000e+00 -0.00000000e+00\n",
      " -0.00000000e+00 -0.00000000e+00 -0.00000000e+00 -0.00000000e+00\n",
      " -0.00000000e+00 -0.00000000e+00 -0.00000000e+00 -0.00000000e+00\n",
      " -0.00000000e+00 -0.00000000e+00 -0.00000000e+00 -0.00000000e+00\n",
      " -0.00000000e+00 -0.00000000e+00 -0.00000000e+00 -0.00000000e+00\n",
      " -0.00000000e+00 -0.00000000e+00 -0.00000000e+00 -0.00000000e+00\n",
      " -0.00000000e+00 -0.00000000e+00 -0.00000000e+00 -0.00000000e+00\n",
      " -0.00000000e+00 -0.00000000e+00 -0.00000000e+00 -0.00000000e+00\n",
      " -0.00000000e+00 -0.00000000e+00 -0.00000000e+00 -0.00000000e+00\n",
      " -0.00000000e+00 -0.00000000e+00 -0.00000000e+00 -0.00000000e+00\n",
      " -0.00000000e+00 -0.00000000e+00 -0.00000000e+00 -0.00000000e+00\n",
      " -0.00000000e+00 -0.00000000e+00 -0.00000000e+00 -0.00000000e+00\n",
      " -0.00000000e+00 -0.00000000e+00 -0.00000000e+00 -0.00000000e+00\n",
      " -0.00000000e+00 -0.00000000e+00 -0.00000000e+00 -0.00000000e+00]\n"
     ]
    },
    {
     "data": {
      "image/png": "[encoded data removed]",
      "text/plain": [
       "<Figure size 500x200 with 1 Axes>"
      ]
     },
     "metadata": {
      "image/png": {
       "height": 213,
       "width": 439
      }
     },
     "output_type": "display_data"
    }
   ],
   "source": [
    "NC1 = -4*AL**2*SLapprox*total\n",
    "print(NC1)\n",
    "plt.plot(Ls, NC1, label = 'NC1')\n",
    "plt.xscale('log')"
   ]
  },
  {
   "cell_type": "code",
   "execution_count": null,
   "metadata": {},
   "outputs": [],
   "source": [
    "plt.semilogx(Ls, )"
   ]
  },
  {
   "cell_type": "code",
   "execution_count": 57,
   "metadata": {},
   "outputs": [],
   "source": [
    "gradTT = lambda l: 1"
   ]
  },
  {
   "cell_type": "code",
   "execution_count": null,
   "metadata": {},
   "outputs": [],
   "source": [
    "def fTTw(l1v, l2v):\n",
    "    Lvorig = l1v+l2v\n",
    "    Lvorig = Lvorig[:, 0]\n",
    "\n",
    "    l1 = np.linalg.norm(l1v, axis = 0)\n",
    "    l2 = np.linalg.norm(l2v, axis = 0)\n",
    "\n",
    "    selection1 = np.logical_and(l1>=lmin, l1<=lmax)\n",
    "    selection2 = np.logical_and(l2>=lmin, l2<=lmax)\n",
    "\n",
    "    return ((Lvorig@l1v)*gradTT(l1)+(Lvorig@(l2v))*gradTT(l2))*selection1*selection2\n",
    "\n",
    "def ftotTT(l):\n",
    "    return tTT(l)\n",
    "\n",
    "def g(l1v, l2v):\n",
    "    l1 = np.linalg.norm(l1v, axis = 0)\n",
    "    l2 = np.linalg.norm(l2v, axis = 0)\n",
    "    return fTTw(l1v, l2v)/2/ftotTT(l1)/ftotTT(l2)\n",
    "    "
   ]
  },
  {
   "cell_type": "code",
   "execution_count": null,
   "metadata": {},
   "outputs": [],
   "source": [
    "Cl = lambda l: 1"
   ]
  },
  {
   "cell_type": "code",
   "execution_count": null,
   "metadata": {},
   "outputs": [],
   "source": [
    "l5v = l1v-l2v\n",
    "l4v = Lv-l2v\n",
    "l3v = Lv-l1v\n",
    "l5vdotl3v = np.dot(l5v, l3v)\n",
    "l5vdotl1v = np.dot(l5v, l1v)\n",
    "\n",
    "product_internal_integrand = g(l2v, Lv)*Cl(l5v)*l5vdotl3v*l5vdotl1v\n",
    "\n",
    "Lmax = 1000\n",
    "Ls = np.arange(1, Lmax, 200)\n",
    "\n",
    "integ = vegas.Integrator([[lmin, lmax], [0, 2*np.pi], [lmin, lmax], [0, 2*np.pi]])\n",
    "nitn, neval = 100, 1e5\n",
    "\n",
    "for Lvalue in Ls:\n",
    "    Lv = np.array([Lvalue, 0])\n",
    "    l3 = Lvalue\n",
    "    integrand = lambda l1v: integrate_bispectrum(Lvalue, np.linalg.norm(l1v), l3)\n",
    "    result = integ(integrand, nitn = nitn, neval = neval)\n",
    "    "
   ]
  },
  {
   "cell_type": "code",
   "execution_count": 75,
   "metadata": {},
   "outputs": [
    {
     "name": "stdout",
     "output_type": "stream",
     "text": [
      "Done\n",
      "Done\n",
      "Done\n",
      "Done\n",
      "Done\n"
     ]
    }
   ],
   "source": [
    "Lmax = 1000\n",
    "Ls = np.arange(1, Lmax, 200)\n",
    "\n",
    "integ = vegas.Integrator([[lmin, lmax], [0, 2*np.pi]])\n",
    "nitn, neval = 100, 1e3\n",
    "\n",
    "for Lvalue in Ls:\n",
    "    Lv = np.array([Lvalue, 0])\n",
    "    l3 = Lvalue\n",
    "    integrand = lambda l1v: bispectrum_interp((Lvalue, np.linalg.norm(l1v), l3))\n",
    "    integrand_polar = vegas.batchintegrand(lambda l1vnorm, phi: integrand(np.array([l1vnorm*np.cos(phi), l1vnorm*np.sin(phi)])))\n",
    "    result = integ(integrand, nitn = nitn, neval = neval)\n",
    "    print('Done')"
   ]
  }
 ],
 "metadata": {
  "kernelspec": {
   "display_name": "cmbanalysis",
   "language": "python",
   "name": "python3"
  },
  "language_info": {
   "codemirror_mode": {
    "name": "ipython",
    "version": 3
   },
   "file_extension": ".py",
   "mimetype": "text/x-python",
   "name": "python",
   "nbconvert_exporter": "python",
   "pygments_lexer": "ipython3",
   "version": "3.10.8"
  },
  "orig_nbformat": 4,
  "vscode": {
   "interpreter": {
    "hash": "a97e346d83063552f6247100e010157514edc1d1f87080a4424b3fd402ef6968"
   }
  }
 },
 "nbformat": 4,
 "nbformat_minor": 2
}
