{
 "cells": [
  {
   "cell_type": "markdown",
   "metadata": {},
   "source": [
    "# Foreground reconstruction on maps\n",
    "\n",
    "## What is it here\n",
    "\n",
    "* Reconstruction from CMB\n",
    "* Reconstruction from foreground maps"
   ]
  },
  {
   "cell_type": "code",
   "execution_count": 1,
   "metadata": {},
   "outputs": [
    {
     "name": "stderr",
     "output_type": "stream",
     "text": [
      "\n",
      "WARNING: version mismatch between CFITSIO header (v4.000999999999999) and linked library (v4.01).\n",
      "\n",
      "\n",
      "WARNING: version mismatch between CFITSIO header (v4.000999999999999) and linked library (v4.01).\n",
      "\n",
      "\n",
      "WARNING: version mismatch between CFITSIO header (v4.000999999999999) and linked library (v4.01).\n",
      "\n"
     ]
    },
    {
     "name": "stdout",
     "output_type": "stream",
     "text": [
      "CONFIG /global/homes/o/omard/.conda/envs/foregrounds/lib/python3.8/site-packages/falafel-0.1.0-py3.8.egg/falafel/../input/config.yml\n"
     ]
    }
   ],
   "source": [
    "import os\n",
    "\n",
    "import pathlib\n",
    "\n",
    "import healpy as hp\n",
    "\n",
    "import numpy as np\n",
    "\n",
    "import matplotlib.pyplot as plt\n",
    "%matplotlib inline\n",
    "\n",
    "import pathlib\n",
    "\n",
    "from falafel import utils, qe\n",
    "\n",
    "import solenspipe\n",
    "\n",
    "import pytempura\n",
    "\n",
    "\n",
    "sys.path.append('/global/homes/o/omard/fgcmblensing/bin/')\n",
    "import constants as const\n",
    "\n",
    "from pixell import lensing, curvedsky"
   ]
  },
  {
   "cell_type": "code",
   "execution_count": 4,
   "metadata": {},
   "outputs": [],
   "source": [
    "def gauss_beam(ell: np.ndarray, fwhm: float):\n",
    "    '''\n",
    "    Parameters\n",
    "    ----------\n",
    "    ell: np.ndarray\n",
    "    fwhm: float, in arcmin\n",
    "\n",
    "    Returns\n",
    "    -------\n",
    "    gauss_beam: np.ndarray\n",
    "    '''\n",
    "    tht_fwhm = np.deg2rad(fwhm / 60.)\n",
    "    return np.exp(-(tht_fwhm**2.)*(ell**2.) / (16.*np.log(2.)))\n",
    "\n",
    "\n",
    "def dummy_teb(alms):\n",
    "    '''\n",
    "    Creates a list of maps with the order [Tlm, Elm, Blm] and Elm, Blm = 0, 0\n",
    "    '''\n",
    "    return [alms, np.zeros_like(alms), np.zeros_like(alms)]\n",
    "\n",
    "def filter_alms(alms, tcls, lmin, lmax):\n",
    "    '''\n",
    "    Takes input alms, and makes an isotropic filtering with tcls\n",
    "    '''\n",
    "    if len(alms)!=3:\n",
    "        alms = dummy_teb(alms)\n",
    "    alms_filtered = utils.isotropic_filter(alms,\n",
    "            tcls, lmin, lmax, ignore_te = True)\n",
    "    return alms_filtered\n",
    "\n",
    "\n",
    "def fnu(nu, tcmb = const.default_tcmb):\n",
    "    \"\"\"\n",
    "    nu in GHz\n",
    "    tcmb in Kelvin\n",
    "    \"\"\"\n",
    "    nu = np.asarray(nu)\n",
    "    mu = const.H_CGS*(1e9*nu)/(const.K_CGS*tcmb)\n",
    "    ans = mu/np.tanh(mu/2.0) - 4.0\n",
    "    return ans\n",
    "\n",
    "def tsz_factor_for_ymap(freq, tcmb = const.default_tcmb):\n",
    "    return fnu(freq) * tcmb * 1e6\n",
    "\n",
    "def process_tsz(comptony, freq, tcmb = const.default_tcmb):\n",
    "    return tsz_factor_for_ymap(freq = freq, tcmb = tcmb) * comptony\n",
    "\n",
    "\n"
   ]
  },
  {
   "cell_type": "markdown",
   "metadata": {},
   "source": [
    "### Some settings"
   ]
  },
  {
   "cell_type": "code",
   "execution_count": 5,
   "metadata": {},
   "outputs": [],
   "source": [
    "mlmax = 6000"
   ]
  },
  {
   "cell_type": "code",
   "execution_count": 6,
   "metadata": {},
   "outputs": [],
   "source": [
    "freq = 145"
   ]
  },
  {
   "cell_type": "markdown",
   "metadata": {},
   "source": [
    "### Setting modes of reconstruction"
   ]
  },
  {
   "cell_type": "code",
   "execution_count": 7,
   "metadata": {},
   "outputs": [],
   "source": [
    "kappa_lmin, kappa_lmax = 100, 3000"
   ]
  },
  {
   "cell_type": "markdown",
   "metadata": {},
   "source": [
    "### Source maps"
   ]
  },
  {
   "cell_type": "code",
   "execution_count": 8,
   "metadata": {},
   "outputs": [],
   "source": [
    "source_dir = pathlib.Path('/global/cscratch1/sd/omard/scatteringtfms/sims/')"
   ]
  },
  {
   "cell_type": "code",
   "execution_count": 7,
   "metadata": {},
   "outputs": [],
   "source": [
    "kappa_name = 'healpix_4096_KappaeffLSStoCMBfullsky.fits'\n",
    "\n",
    "cmb_name = 'Sehgalsimparams_healpix_4096_KappaeffLSStoCMBfullsky_phi_SimLens_Tsynfastnopell_fast_lmax8000_nside4096_interp2.5_method1_1_lensed_map.fits'\n",
    "\n",
    "tsz_name = 'tSZ_skymap_healpix_nopell_Nside4096_y_tSZrescale0p75.fits'\n",
    "ksz_name = '148_ksz_healpix_nopell_Nside4096_DeltaT_uK.fits'\n",
    "\n",
    "mask_name = 'source_mask_145GHz.fits'"
   ]
  },
  {
   "cell_type": "code",
   "execution_count": 2,
   "metadata": {},
   "outputs": [],
   "source": [
    "sehgal_sims_dir = '/global/cscratch1/sd/omard/scatteringtfms/sims/'"
   ]
  },
  {
   "cell_type": "code",
   "execution_count": 3,
   "metadata": {},
   "outputs": [],
   "source": [
    "tsz_map = hp.read_alm(f'{sehgal_sims_dir}tsz_alm.fits')\n",
    "\n",
    "#maskf = hp.read_map(source_dir/mask_name)\n",
    "#tsz_map_masked = tsz_map*maskf"
   ]
  },
  {
   "cell_type": "code",
   "execution_count": 4,
   "metadata": {},
   "outputs": [],
   "source": [
    "clstsz = hp.alm2cl(tsz_map)"
   ]
  },
  {
   "cell_type": "code",
   "execution_count": 5,
   "metadata": {},
   "outputs": [],
   "source": [
    "lmax = hp.sphtfunc.Alm.getlmax(len(tsz_map))"
   ]
  },
  {
   "cell_type": "code",
   "execution_count": 6,
   "metadata": {},
   "outputs": [],
   "source": [
    "f = lambda size: np.exp(1j*np.random.uniform(0., 2.*np.pi, size = size))"
   ]
  },
  {
   "cell_type": "code",
   "execution_count": 7,
   "metadata": {},
   "outputs": [],
   "source": [
    "size = len(tsz_map)\n",
    "factors = f(size)"
   ]
  },
  {
   "cell_type": "code",
   "execution_count": 8,
   "metadata": {},
   "outputs": [],
   "source": [
    "tsz_map_randomized = hp.almxfl(tsz_map, factors)"
   ]
  },
  {
   "cell_type": "code",
   "execution_count": 9,
   "metadata": {},
   "outputs": [],
   "source": [
    "hp.write_alm(f'{sehgal_sims_dir}tsz_randomized_alm.fits', tsz_map_randomized)"
   ]
  },
  {
   "cell_type": "code",
   "execution_count": 31,
   "metadata": {},
   "outputs": [],
   "source": [
    "clstsz_randomized = hp.alm2cl(tsz_map_randomized)"
   ]
  },
  {
   "cell_type": "code",
   "execution_count": 33,
   "metadata": {},
   "outputs": [
    {
     "data": {
      "text/plain": [
       "[<matplotlib.lines.Line2D at 0x1553df4305e0>]"
      ]
     },
     "execution_count": 33,
     "metadata": {},
     "output_type": "execute_result"
    },
    {
     "data": {
      "image/png": "[encoded data removed]",
      "text/plain": [
       "<Figure size 432x288 with 1 Axes>"
      ]
     },
     "metadata": {
      "needs_background": "light"
     },
     "output_type": "display_data"
    }
   ],
   "source": [
    "plt.loglog(clstsz)\n",
    "plt.loglog(clstsz_randomized)"
   ]
  },
  {
   "cell_type": "code",
   "execution_count": 11,
   "metadata": {},
   "outputs": [],
   "source": [
    "#cmboutname = 'cmb'\n",
    "#kappaoutname = 'kappa'\n",
    "#nomi = [kappaoutname, cmboutname]\n",
    "#kappa_alm, cmb_alm = [hp.read_alm(source_dir/f'{nome}_alm.fits') for nome in nomi]"
   ]
  },
  {
   "cell_type": "code",
   "execution_count": 12,
   "metadata": {},
   "outputs": [],
   "source": [
    "#tsz_map_alm = hp.map2alm(tsz_map)\n",
    "#tsz_map_masked_alm = hp.map2alm(tsz_map_masked)"
   ]
  },
  {
   "cell_type": "code",
   "execution_count": 13,
   "metadata": {},
   "outputs": [],
   "source": [
    "#np.save(source_dir/'tsz_map_alm', tsz_map_alm)\n",
    "#np.save(source_dir/'tsz_map_masked_alm', tsz_map_masked_alm)"
   ]
  },
  {
   "cell_type": "code",
   "execution_count": 35,
   "metadata": {},
   "outputs": [],
   "source": [
    "allelementstosave = np.load('../../fgestimates/input_cmb_145.npy')\n",
    "ells, lcmb, tsz, ksz, radio, cib, dust, nl145, totalcmb, totalnoisecmb = allelementstosave.T\n",
    "\n",
    "totalcmb_for_pol = lcmb+nl145 #just as temperature but no fg powere222e2eeeeeeeeeeeeeeeeeeeeeeeeeeeeeeeé        "
   ]
  },
  {
   "cell_type": "code",
   "execution_count": 36,
   "metadata": {},
   "outputs": [],
   "source": [
    "nside = 4096"
   ]
  },
  {
   "cell_type": "code",
   "execution_count": 37,
   "metadata": {},
   "outputs": [
    {
     "name": "stdout",
     "output_type": "stream",
     "text": [
      "THEORY /global/homes/o/omard/fgestimates/\n"
     ]
    },
    {
     "name": "stderr",
     "output_type": "stream",
     "text": [
      "/global/homes/o/omard/.conda/envs/foregrounds/lib/python3.8/site-packages/orphics-0.1-py3.8.egg/orphics/cosmology.py:855: RuntimeWarning: divide by zero encountered in true_divide\n",
      "  lfact = 2.*np.pi/ell/(ell+1.) if not(dells) else 1\n",
      "/global/homes/o/omard/.conda/envs/foregrounds/lib/python3.8/site-packages/orphics-0.1-py3.8.egg/orphics/cosmology.py:857: RuntimeWarning: invalid value encountered in multiply\n",
      "  lcltt *= mult\n",
      "/global/homes/o/omard/.conda/envs/foregrounds/lib/python3.8/site-packages/orphics-0.1-py3.8.egg/orphics/cosmology.py:858: RuntimeWarning: invalid value encountered in multiply\n",
      "  lclee *= mult\n",
      "/global/homes/o/omard/.conda/envs/foregrounds/lib/python3.8/site-packages/orphics-0.1-py3.8.egg/orphics/cosmology.py:859: RuntimeWarning: invalid value encountered in multiply\n",
      "  lclte *= mult\n",
      "/global/homes/o/omard/.conda/envs/foregrounds/lib/python3.8/site-packages/orphics-0.1-py3.8.egg/orphics/cosmology.py:860: RuntimeWarning: invalid value encountered in multiply\n",
      "  lclbb *= mult\n",
      "/global/homes/o/omard/.conda/envs/foregrounds/lib/python3.8/site-packages/orphics-0.1-py3.8.egg/orphics/cosmology.py:872: RuntimeWarning: invalid value encountered in true_divide\n",
      "  clkk = cldd*(elldd+1.)**2./elldd**2./4./TCMB**2.\n",
      "/global/homes/o/omard/.conda/envs/foregrounds/lib/python3.8/site-packages/orphics-0.1-py3.8.egg/orphics/cosmology.py:887: RuntimeWarning: divide by zero encountered in true_divide\n",
      "  lfact = 2.*np.pi/ell/(ell+1.) if not(dells) else 1\n",
      "/global/homes/o/omard/.conda/envs/foregrounds/lib/python3.8/site-packages/orphics-0.1-py3.8.egg/orphics/cosmology.py:889: RuntimeWarning: invalid value encountered in multiply\n",
      "  cltt *= mult\n",
      "/global/homes/o/omard/.conda/envs/foregrounds/lib/python3.8/site-packages/orphics-0.1-py3.8.egg/orphics/cosmology.py:890: RuntimeWarning: invalid value encountered in multiply\n",
      "  clee *= mult\n",
      "/global/homes/o/omard/.conda/envs/foregrounds/lib/python3.8/site-packages/orphics-0.1-py3.8.egg/orphics/cosmology.py:891: RuntimeWarning: invalid value encountered in multiply\n",
      "  clte *= mult\n"
     ]
    }
   ],
   "source": [
    "ell = np.arange(mlmax+1)\n",
    "\n",
    "tot = np.interp(ell, ells, totalcmb)\n",
    "totpol = np.interp(ell, ells, totalcmb_for_pol)\n",
    "\n",
    "Nl_tt = np.nan_to_num(tot)\n",
    "\n",
    "nells = {\"TT\": Nl_tt, \"EE\": 2*totpol, \"BB\": 2*totpol}\n",
    "\n",
    "px = qe.pixelization(nside = nside)\n",
    "\n",
    "ucls, tcls = utils.get_theory_dicts(grad = True, nells = nells, lmax = mlmax)"
   ]
  },
  {
   "cell_type": "code",
   "execution_count": 38,
   "metadata": {},
   "outputs": [
    {
     "data": {
      "image/png": "[encoded data removed]",
      "text/plain": [
       "<Figure size 432x288 with 1 Axes>"
      ]
     },
     "metadata": {
      "needs_background": "light"
     },
     "output_type": "display_data"
    }
   ],
   "source": [
    "plt.loglog(tcls['TT'])\n",
    "plt.loglog(totalcmb)\n",
    "plt.show()"
   ]
  },
  {
   "cell_type": "code",
   "execution_count": 39,
   "metadata": {},
   "outputs": [
    {
     "name": "stdout",
     "output_type": "stream",
     "text": [
      " Response (TT)\n"
     ]
    }
   ],
   "source": [
    "\n",
    "\n",
    "_, ls, Als, R_src_tt, Nl_g, Nl_c, Nl_g_bh = solenspipe.get_tempura_norms(\n",
    "        est1 = 'TT', est2 = 'TT', ucls = ucls, tcls = tcls, lmin = kappa_lmin, lmax = kappa_lmax, mlmax = mlmax)\n",
    "\n",
    "#R_src_tt = pytempura.get_cross('SRC', 'TT', ucls, tcls, kappa_lmin, kappa_lmax, k_ellmax = mlmax)\n",
    "\n",
    "norm_stuff = {\"ls\": ls, \"Als\": Als, \"R_src_tt\": R_src_tt,\n",
    "                  \"Nl_g\": Nl_g, \"Nl_c\": Nl_c, \"Nl_g_bh\": Nl_g_bh,\n",
    "    }\n",
    "\n"
   ]
  },
  {
   "cell_type": "code",
   "execution_count": 40,
   "metadata": {},
   "outputs": [],
   "source": [
    "\n",
    "\n",
    "qfunc = solenspipe.get_qfunc(px, ucls, mlmax, \"TT\", Al1 = Als['TT'])\n",
    "qfunc_bh = solenspipe.get_qfunc(px, ucls, mlmax, \"TT\", est2 = 'SRC', Al1 = Als['TT'], \n",
    "                                Al2 = Als['src'], R12 = R_src_tt)\n",
    "\n",
    "#qfunc2 = lambda X,Y: qe.qe_source(px, mlmax, fTalm=Y[0],xfTalm=X[0], profile = None)\n",
    "#qfunc_shear = lambda X,Y: qe.qe_shear(px, mlmax, Talm = X[0], fTalm = Y[0])\n",
    "\n"
   ]
  },
  {
   "cell_type": "code",
   "execution_count": 41,
   "metadata": {},
   "outputs": [
    {
     "ename": "",
     "evalue": "",
     "output_type": "error",
     "traceback": [
      "\u001b[1;31mCanceled future for execute_request message before replies were done"
     ]
    },
    {
     "ename": "",
     "evalue": "",
     "output_type": "error",
     "traceback": [
      "The Kernel crashed while executing code in the the current cell or a previous cell. Please review the code in the cell(s) to identify a possible cause of the failure. Click <a href='https://aka.ms/vscodeJupyterKernelCrash'>here</a> for more info. View Jupyter <a href='command:jupyter.viewOutput'>log</a> for further details."
     ]
    }
   ],
   "source": [
    "maps = [process_tsz(tsz_map, freq), process_tsz(tsz_map_randomized, freq)]\n",
    "\n",
    "codes = ['tsz', 'tsz_rnd']\n",
    "\n",
    "all_spectra = {}\n",
    "\n",
    "for map_alm, code in zip(maps, codes):\n",
    "    input_alm = utils.change_alm_lmax(map_alm, mlmax)\n",
    "    input_alm_filtered = filter_alms(map_alm, tcls, kappa_lmin, kappa_lmax)\n",
    "\n",
    "    versions = ['qe']#, 'bh'] \n",
    "    functions = [qfunc]\n",
    "\n",
    "    for function, version in zip(functions, versions):\n",
    "\n",
    "        stuff = {}\n",
    "\n",
    "        phi_recon_alms = function(input_alm_filtered, input_alm_filtered)\n",
    "        kappa_recon_alms = lensing.phi_to_kappa(phi_recon_alms)\n",
    "\n",
    "        cl_kk_output_output = curvedsky.alm2cl(kappa_recon_alms[0])\n",
    "        #cl_kk_input_output = curvedsky.alm2cl(kappa_recon_alms[0], kappa_alm)\n",
    "        #cl_kk_input = curvedsky.alm2cl(kappa_alm)\n",
    "\n",
    "        #np.save(source_dir/f'kappa_reconstructed_{version}{code}', kappa_recon_alms[0])\n",
    "\n",
    "        stuff['oo'] = cl_kk_output_output\n",
    "        #stuff['io'] = cl_kk_input_output\n",
    "        #stuff['ii'] = cl_kk_input\n",
    "\n",
    "    all_spectra[code] = stuff\n",
    "\n"
   ]
  },
  {
   "cell_type": "code",
   "execution_count": null,
   "metadata": {},
   "outputs": [],
   "source": []
  },
  {
   "cell_type": "code",
   "execution_count": null,
   "metadata": {},
   "outputs": [],
   "source": [
    "\n",
    "plt.loglog(cl_kk_input_output, label = '$\\hat{\\kappa}\\kappa$')\n",
    "plt.loglog(cl_kk_input, label = '$\\kappa\\kappa$')\n",
    "plt.legend()\n",
    "#plt.savefig(f'reconstruction_{version}.png')\n",
    "plt.show()"
   ]
  }
 ],
 "metadata": {
  "kernelspec": {
   "display_name": "Python 3.8.13 ('foregrounds': conda)",
   "language": "python",
   "name": "python3"
  },
  "language_info": {
   "codemirror_mode": {
    "name": "ipython",
    "version": 3
   },
   "file_extension": ".py",
   "mimetype": "text/x-python",
   "name": "python",
   "nbconvert_exporter": "python",
   "pygments_lexer": "ipython3",
   "version": "3.8.13"
  },
  "orig_nbformat": 4,
  "vscode": {
   "interpreter": {
    "hash": "01b87110312443dc4c62d525e62a79bc791fd71df70daf61941a5df51c3e9b2c"
   }
  }
 },
 "nbformat": 4,
 "nbformat_minor": 2
}
