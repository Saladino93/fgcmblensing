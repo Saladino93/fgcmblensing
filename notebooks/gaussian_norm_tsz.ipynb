{
 "cells": [
  {
   "cell_type": "code",
   "execution_count": 1,
   "metadata": {},
   "outputs": [],
   "source": [
    "#Calculating normalization for N0 contribution from tSZ Gaussian power only"
   ]
  },
  {
   "cell_type": "code",
   "execution_count": 1,
   "metadata": {},
   "outputs": [
    {
     "name": "stderr",
     "output_type": "stream",
     "text": [
      "\n",
      "WARNING: version mismatch between CFITSIO header (v4.000999999999999) and linked library (v4.01).\n",
      "\n",
      "\n",
      "WARNING: version mismatch between CFITSIO header (v4.000999999999999) and linked library (v4.01).\n",
      "\n",
      "\n",
      "WARNING: version mismatch between CFITSIO header (v4.000999999999999) and linked library (v4.01).\n",
      "\n"
     ]
    }
   ],
   "source": [
    "import pytempura as cs\n",
    "\n",
    "import numpy as np\n",
    "\n",
    "import matplotlib.pyplot as plt\n",
    "\n",
    "import healpy as hp"
   ]
  },
  {
   "cell_type": "code",
   "execution_count": 2,
   "metadata": {},
   "outputs": [
    {
     "name": "stdout",
     "output_type": "stream",
     "text": [
      "CONFIG /global/homes/o/omard/.conda/envs/foregrounds/lib/python3.8/site-packages/falafel-0.1.0-py3.8.egg/falafel/../input/config.yml\n"
     ]
    }
   ],
   "source": [
    "from falafel import utils, qe"
   ]
  },
  {
   "cell_type": "code",
   "execution_count": 3,
   "metadata": {},
   "outputs": [],
   "source": [
    "import symlens as s\n",
    "\n",
    "from pixell import enmap, utils as putils, powspec"
   ]
  },
  {
   "cell_type": "markdown",
   "metadata": {},
   "source": [
    "## Define some constants and functions"
   ]
  },
  {
   "cell_type": "code",
   "execution_count": 4,
   "metadata": {},
   "outputs": [],
   "source": [
    "\n",
    "default_tcmb = 2.726\n",
    "H_CGS = 6.62608e-27\n",
    "K_CGS = 1.3806488e-16\n",
    "C_light = 2.99792e+10\n",
    "\n",
    "\n",
    "\n",
    "C = 3.e8\n",
    "H = 6.63e-34\n",
    "KB = 1.38e-23\n",
    "TCMB = 2.726\n",
    "JANKSY = 1.e-26"
   ]
  },
  {
   "cell_type": "code",
   "execution_count": 5,
   "metadata": {},
   "outputs": [],
   "source": [
    "default_tcmb = 2.726\n",
    "H_CGS = 6.62608e-27\n",
    "K_CGS = 1.3806488e-16\n",
    "C_light = 2.99792e+10\n",
    "\n",
    "\n",
    "\n",
    "C = 3.e8\n",
    "H = 6.63e-34\n",
    "KB = 1.38e-23\n",
    "TCMB = 2.726\n",
    "JANKSY = 1.e-26\n",
    "\n",
    "\n",
    "def fnu(nu, tcmb = default_tcmb):\n",
    "    \"\"\"\n",
    "    nu in GHz\n",
    "    tcmb in Kelvin\n",
    "    \"\"\"\n",
    "    nu = np.asarray(nu)\n",
    "    mu = H_CGS*(1e9*nu)/(K_CGS*tcmb)\n",
    "    ans = mu/np.tanh(mu/2.0) - 4.0\n",
    "    return ans\n",
    "\n",
    "def tsz_factor_for_ymap(freq, tcmb = default_tcmb):\n",
    "    return fnu(freq) * tcmb * 1e6\n",
    "\n",
    "def process_tsz(comptony, freq, tcmb = default_tcmb):\n",
    "    return tsz_factor_for_ymap(freq = freq, tcmb = tcmb) * comptony"
   ]
  },
  {
   "cell_type": "markdown",
   "metadata": {},
   "source": [
    "## Define lensing reconstruction set up"
   ]
  },
  {
   "cell_type": "code",
   "execution_count": 6,
   "metadata": {},
   "outputs": [],
   "source": [
    "Tcmb  = 2.726e6    # CMB temperature\n",
    "Lmax  = 3000       # maximum multipole of output normalization\n",
    "lmax  = 3000\n",
    "rlmin, rlmax = 100, 3000  # CMB multipole range for reconstruction"
   ]
  },
  {
   "cell_type": "code",
   "execution_count": 7,
   "metadata": {},
   "outputs": [],
   "source": [
    "L = np.linspace(0,Lmax,Lmax+1)\n",
    "l = L.copy()\n",
    "Lfac = (L*(L+1.))**2/(2*np.pi)"
   ]
  },
  {
   "cell_type": "code",
   "execution_count": 8,
   "metadata": {},
   "outputs": [
    {
     "name": "stdout",
     "output_type": "stream",
     "text": [
      "THEORY /global/homes/o/omard/fgestimates/\n"
     ]
    },
    {
     "name": "stderr",
     "output_type": "stream",
     "text": [
      "/global/homes/o/omard/.conda/envs/foregrounds/lib/python3.8/site-packages/orphics-0.1-py3.8.egg/orphics/cosmology.py:855: RuntimeWarning: divide by zero encountered in true_divide\n",
      "  lfact = 2.*np.pi/ell/(ell+1.) if not(dells) else 1\n",
      "/global/homes/o/omard/.conda/envs/foregrounds/lib/python3.8/site-packages/orphics-0.1-py3.8.egg/orphics/cosmology.py:857: RuntimeWarning: invalid value encountered in multiply\n",
      "  lcltt *= mult\n",
      "/global/homes/o/omard/.conda/envs/foregrounds/lib/python3.8/site-packages/orphics-0.1-py3.8.egg/orphics/cosmology.py:858: RuntimeWarning: invalid value encountered in multiply\n",
      "  lclee *= mult\n",
      "/global/homes/o/omard/.conda/envs/foregrounds/lib/python3.8/site-packages/orphics-0.1-py3.8.egg/orphics/cosmology.py:859: RuntimeWarning: invalid value encountered in multiply\n",
      "  lclte *= mult\n",
      "/global/homes/o/omard/.conda/envs/foregrounds/lib/python3.8/site-packages/orphics-0.1-py3.8.egg/orphics/cosmology.py:860: RuntimeWarning: invalid value encountered in multiply\n",
      "  lclbb *= mult\n",
      "/global/homes/o/omard/.conda/envs/foregrounds/lib/python3.8/site-packages/orphics-0.1-py3.8.egg/orphics/cosmology.py:872: RuntimeWarning: invalid value encountered in true_divide\n",
      "  clkk = cldd*(elldd+1.)**2./elldd**2./4./TCMB**2.\n",
      "/global/homes/o/omard/.conda/envs/foregrounds/lib/python3.8/site-packages/orphics-0.1-py3.8.egg/orphics/cosmology.py:887: RuntimeWarning: divide by zero encountered in true_divide\n",
      "  lfact = 2.*np.pi/ell/(ell+1.) if not(dells) else 1\n",
      "/global/homes/o/omard/.conda/envs/foregrounds/lib/python3.8/site-packages/orphics-0.1-py3.8.egg/orphics/cosmology.py:889: RuntimeWarning: invalid value encountered in multiply\n",
      "  cltt *= mult\n",
      "/global/homes/o/omard/.conda/envs/foregrounds/lib/python3.8/site-packages/orphics-0.1-py3.8.egg/orphics/cosmology.py:890: RuntimeWarning: invalid value encountered in multiply\n",
      "  clee *= mult\n",
      "/global/homes/o/omard/.conda/envs/foregrounds/lib/python3.8/site-packages/orphics-0.1-py3.8.egg/orphics/cosmology.py:891: RuntimeWarning: invalid value encountered in multiply\n",
      "  clte *= mult\n"
     ]
    }
   ],
   "source": [
    "allelementstosave = np.load('../bin/input_cmb_145.npy')\n",
    "ells, lcmb, tsz, ksz, radio, cib, dust, nl145, totalcmb, totalnoisecmb = allelementstosave.T\n",
    "\n",
    "mlmax = 7000\n",
    "ell = np.arange(mlmax+1)\n",
    "\n",
    "fgs = tsz+ksz+radio+cib+dust\n",
    "noise = fgs+nl145\n",
    "noise = np.interp(ell, ells, noise)\n",
    "\n",
    "noisepol = nl145\n",
    "noisepol = np.interp(ell, ells, noisepol)\n",
    "\n",
    "Nl_tt = np.nan_to_num(noise)\n",
    "\n",
    "\n",
    "\n",
    "nells = {\"TT\": Nl_tt, \"EE\": 2*noisepol*0., \"BB\": 2*noisepol*0.}\n",
    "ucls, tcls = utils.get_theory_dicts(grad = True, nells = nells, lmax = mlmax)\n"
   ]
  },
  {
   "cell_type": "code",
   "execution_count": 9,
   "metadata": {},
   "outputs": [],
   "source": [
    "est_norm_list = ['TT']\n",
    "Als = cs.get_norms(est_norm_list ,ucls,tcls, rlmin, rlmax, k_ellmax = mlmax)"
   ]
  },
  {
   "cell_type": "code",
   "execution_count": 10,
   "metadata": {},
   "outputs": [],
   "source": [
    "ls = np.arange(Als['TT'][0].size)\n",
    "\n",
    "Nl_g = Als['TT'][0] * (ls*(ls+1.)/2.)**2. #this is the total N0"
   ]
  },
  {
   "cell_type": "code",
   "execution_count": 11,
   "metadata": {},
   "outputs": [],
   "source": [
    "shape, wcs = enmap.geometry(shape = (512,512), res = 2.0*putils.arcmin, pos = (0,0))\n",
    "modlmap = enmap.modlmap(shape, wcs)\n",
    "\n",
    "\n",
    "f = s.Ldl1 * s.e('uC_T_T_l1') + s.Ldl2 * s.e('uC_T_T_l2')\n",
    "F = f / 2 / s.e('tC_T_T_l1') / s.e('tC_T_T_l2')\n",
    "expr1 = f * F\n",
    "feed_dict = {}\n",
    "feed_dict['uC_T_T'] = s.interp(ell, ucls['TT'])(modlmap)\n",
    "feed_dict['tC_T_T'] = s.interp(ell,tcls['TT'])(modlmap)"
   ]
  },
  {
   "cell_type": "code",
   "execution_count": 12,
   "metadata": {},
   "outputs": [
    {
     "name": "stderr",
     "output_type": "stream",
     "text": [
      "/tmp/ipykernel_23671/3516339892.py:3: RuntimeWarning: invalid value encountered in true_divide\n",
      "  Nl = (modlmap*(modlmap+1)/2.)**2/integral\n"
     ]
    }
   ],
   "source": [
    "xmask = s.mask_kspace(shape,wcs,lmin=rlmin,lmax=rlmax)\n",
    "integral = s.integrate(shape,wcs,feed_dict,expr1,xmask=xmask,ymask=xmask).real\n",
    "Nl = (modlmap*(modlmap+1)/2.)**2/integral\n",
    "bin_edges = np.arange(10,3000,40)\n",
    "binner = s.bin2D(modlmap,bin_edges)\n",
    "cents,nl1d = binner.bin(Nl)"
   ]
  },
  {
   "cell_type": "code",
   "execution_count": 13,
   "metadata": {},
   "outputs": [
    {
     "data": {
      "text/plain": [
       "(1.0613742634215463e-07, 0.0001)"
      ]
     },
     "execution_count": 13,
     "metadata": {},
     "output_type": "execute_result"
    },
    {
     "data": {
      "image/png": "[encoded data removed]",
      "text/plain": [
       "<Figure size 432x288 with 1 Axes>"
      ]
     },
     "metadata": {
      "needs_background": "light"
     },
     "output_type": "display_data"
    }
   ],
   "source": [
    "plt.loglog(Nl_g*4)\n",
    "plt.loglog(cents, nl1d)\n",
    "plt.ylim(ymax = 1e-4)"
   ]
  },
  {
   "cell_type": "code",
   "execution_count": 60,
   "metadata": {},
   "outputs": [],
   "source": [
    "factor = tsz_factor_for_ymap(freq = 145)\n",
    "\n",
    "sehgal_sims_dir = '/global/cscratch1/sd/omard/scatteringtfms/sims/'\n",
    "\n",
    "key = 'tsz'\n",
    "key = 'cib'\n",
    "\n",
    "tsz_map = hp.read_alm(f'{sehgal_sims_dir}{key}_alm.fits')\n",
    "#tsz_map_randomized = hp.read_alm(f'{sehgal_sims_dir}{key}_randomized_alm.fits') \n",
    "\n",
    "clstsz = hp.alm2cl(tsz_map)\n",
    "#clstsz_randomized = hp.alm2cl(tsz_map_randomized)\n",
    "\n",
    "lss = np.arange(0, len(clstsz), 1)\n",
    "\n",
    "factor = 1 if key != 'tsz' else factor\n"
   ]
  },
  {
   "cell_type": "code",
   "execution_count": 104,
   "metadata": {},
   "outputs": [],
   "source": [
    "f = lambda size: np.exp(1j*np.random.uniform(0., 2.*np.pi, size = size))\n",
    "size = len(tsz_map)\n",
    "factors = f(size)\n",
    "tsz_map_randomized_alm = hp.almxfl(tsz_map, factors) #hp.read_alm(f'{source_dir}/tsz_randomized_alm.fits')"
   ]
  },
  {
   "cell_type": "code",
   "execution_count": 105,
   "metadata": {},
   "outputs": [],
   "source": [
    "clstsz_randomized = hp.alm2cl(tsz_map_randomized_alm)"
   ]
  },
  {
   "cell_type": "code",
   "execution_count": 108,
   "metadata": {},
   "outputs": [
    {
     "data": {
      "text/plain": [
       "<matplotlib.legend.Legend at 0x1552f948c340>"
      ]
     },
     "execution_count": 108,
     "metadata": {},
     "output_type": "execute_result"
    },
    {
     "data": {
      "image/png": "[encoded data removed]",
      "text/plain": [
       "<Figure size 432x288 with 1 Axes>"
      ]
     },
     "metadata": {
      "needs_background": "light"
     },
     "output_type": "display_data"
    }
   ],
   "source": [
    "plt.loglog(clstsz*lss*(lss+1)/(2*np.pi), label = 'CIB')\n",
    "plt.loglog(clstsz_randomized*lss*(lss+1)/(2*np.pi), label = 'CIB (randomized)')\n",
    "plt.xlim(100)\n",
    "plt.ylim(1e-2)\n",
    "plt.ylabel('$l(l+1)C_l/(2\\pi)$')\n",
    "plt.xlabel('$l$')\n",
    "plt.legend()"
   ]
  },
  {
   "cell_type": "code",
   "execution_count": 73,
   "metadata": {},
   "outputs": [],
   "source": [
    "feed_dict['dC_T_T'] = np.nan_to_num(s.interp(lss, clstsz)(modlmap))*factor**2.\n",
    "feed_dict['nC_T_T'] = np.nan_to_num(s.interp(lss, clstsz)(modlmap))*factor**2.\n",
    "\n",
    "RDN0 = s.RDN0_analytic(shape,wcs,feed_dict,'hu_ok','TT','hu_ok','TT', xmask = xmask, ymask = xmask)"
   ]
  },
  {
   "cell_type": "code",
   "execution_count": 74,
   "metadata": {},
   "outputs": [],
   "source": [
    "cents, n0 = binner.bin(RDN0)"
   ]
  },
  {
   "cell_type": "code",
   "execution_count": 77,
   "metadata": {},
   "outputs": [
    {
     "data": {
      "text/plain": [
       "(1e-11, 0.0001)"
      ]
     },
     "execution_count": 77,
     "metadata": {},
     "output_type": "execute_result"
    },
    {
     "data": {
      "image/png": "[encoded data removed]",
      "text/plain": [
       "<Figure size 432x288 with 1 Axes>"
      ]
     },
     "metadata": {
      "needs_background": "light"
     },
     "output_type": "display_data"
    }
   ],
   "source": [
    "plt.loglog(cents, n0, label = 'N0')\n",
    "plt.loglog(Nl_g, ls = '--')\n",
    "plt.ylim(1e-11, 1e-4)\n"
   ]
  },
  {
   "cell_type": "code",
   "execution_count": null,
   "metadata": {},
   "outputs": [],
   "source": []
  },
  {
   "cell_type": "code",
   "execution_count": 109,
   "metadata": {},
   "outputs": [],
   "source": [
    "all_spectra = np.load('../bin/all_spectra_randomized_3000.npy',  allow_pickle = True) if key == 'tsz' else np.load(f'../bin/all_spectra_{key}_randomized_3000.npy',  allow_pickle = True)"
   ]
  },
  {
   "cell_type": "code",
   "execution_count": 110,
   "metadata": {},
   "outputs": [
    {
     "data": {
      "text/plain": [
       "array([0.00000000e+00, 1.84235314e-10, 7.09401237e-09, ...,\n",
       "       1.50659881e+09, 1.47815847e+09, 0.00000000e+00])"
      ]
     },
     "execution_count": 110,
     "metadata": {},
     "output_type": "execute_result"
    }
   ],
   "source": [
    "ctsz = f'{key}'\n",
    "ctszr = f'{key}_randomized'\n",
    "\n",
    "dd = all_spectra.item().get(ctszr)\n",
    "dd['qe']['oo']"
   ]
  },
  {
   "cell_type": "code",
   "execution_count": 114,
   "metadata": {},
   "outputs": [
    {
     "data": {
      "text/plain": [
       "Text(0, 0.5, '$C_L^{kk}$')"
      ]
     },
     "execution_count": 114,
     "metadata": {},
     "output_type": "execute_result"
    },
    {
     "data": {
      "image/png": "[encoded data removed]",
      "text/plain": [
       "<Figure size 432x288 with 1 Axes>"
      ]
     },
     "metadata": {
      "needs_background": "light"
     },
     "output_type": "display_data"
    }
   ],
   "source": [
    "plt.loglog(dd['qe']['oo'], label = f'Power from lensing rec for randomized {key}')\n",
    "plt.loglog(all_spectra.item().get(ctsz)['qe']['oo'], label = f'Power from lensing rec for {key}')\n",
    "plt.loglog(cents, n0, label = f'N0 for Gaussian {key}')\n",
    "plt.legend()\n",
    "plt.xlabel('$L$')\n",
    "plt.ylabel('$C_L^{kk}$')"
   ]
  },
  {
   "cell_type": "code",
   "execution_count": 113,
   "metadata": {},
   "outputs": [
    {
     "data": {
      "text/plain": [
       "Text(0, 0.5, '$C_L^{kk}$')"
      ]
     },
     "execution_count": 113,
     "metadata": {},
     "output_type": "execute_result"
    },
    {
     "data": {
      "image/png": "[encoded data removed]",
      "text/plain": [
       "<Figure size 432x288 with 1 Axes>"
      ]
     },
     "metadata": {
      "needs_background": "light"
     },
     "output_type": "display_data"
    }
   ],
   "source": [
    "plt.loglog(all_spectra.item().get(ctsz)['qe']['oo'], label = f'Power from lensing rec for {key}')\n",
    "plt.loglog(all_spectra.item().get(ctsz)['qe']['oo']-dd['qe']['oo'], label = 'Difference in powers')\n",
    "plt.ylim(1e-12, 1e-6)\n",
    "plt.legend()\n",
    "plt.xlabel('$L$')\n",
    "plt.ylabel('$C_L^{kk}$')"
   ]
  },
  {
   "cell_type": "code",
   "execution_count": null,
   "metadata": {},
   "outputs": [],
   "source": []
  }
 ],
 "metadata": {
  "kernelspec": {
   "display_name": "Python 3.8.13 ('foregrounds': conda)",
   "language": "python",
   "name": "python3"
  },
  "language_info": {
   "codemirror_mode": {
    "name": "ipython",
    "version": 3
   },
   "file_extension": ".py",
   "mimetype": "text/x-python",
   "name": "python",
   "nbconvert_exporter": "python",
   "pygments_lexer": "ipython3",
   "version": "3.8.13"
  },
  "orig_nbformat": 4,
  "vscode": {
   "interpreter": {
    "hash": "01b87110312443dc4c62d525e62a79bc791fd71df70daf61941a5df51c3e9b2c"
   }
  }
 },
 "nbformat": 4,
 "nbformat_minor": 2
}
