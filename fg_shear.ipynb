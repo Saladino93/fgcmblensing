{
 "cells": [
  {
   "cell_type": "code",
   "execution_count": 3,
   "metadata": {},
   "outputs": [
    {
     "name": "stderr",
     "output_type": "stream",
     "text": [
      "\n",
      "WARNING: version mismatch between CFITSIO header (v4.000999999999999) and linked library (v4.01).\n",
      "\n",
      "\n",
      "WARNING: version mismatch between CFITSIO header (v4.000999999999999) and linked library (v4.01).\n",
      "\n",
      "\n",
      "WARNING: version mismatch between CFITSIO header (v4.000999999999999) and linked library (v4.01).\n",
      "\n"
     ]
    }
   ],
   "source": [
    "import pathlib\n",
    "\n",
    "from falafel import utils, qe\n",
    "\n",
    "from pixell import lensing, curvedsky\n",
    "\n",
    "import solenspipe\n",
    "\n",
    "import pytempura\n",
    "\n",
    "import healpy as hp\n",
    "\n",
    "import numpy as np\n",
    "\n",
    "import constants as const\n",
    "\n",
    "import matplotlib.pyplot as plt\n",
    "\n",
    "%matplotlib inline\n"
   ]
  },
  {
   "cell_type": "code",
   "execution_count": 4,
   "metadata": {},
   "outputs": [],
   "source": [
    "\n",
    "\n",
    "def gauss_beam(ell: np.ndarray, fwhm: float):\n",
    "    '''\n",
    "    Parameters\n",
    "    ----------\n",
    "    ell: np.ndarray\n",
    "    fwhm: float, in arcmin\n",
    "\n",
    "    Returns\n",
    "    -------\n",
    "    gauss_beam: np.ndarray\n",
    "    '''\n",
    "    tht_fwhm = np.deg2rad(fwhm / 60.)\n",
    "    return np.exp(-(tht_fwhm**2.)*(ell**2.) / (16.*np.log(2.)))\n",
    "\n",
    "\n",
    "def dummy_teb(alms):\n",
    "    '''\n",
    "    Creates a list of maps with the order [Tlm, Elm, Blm] and Elm, Blm = 0, 0\n",
    "    '''\n",
    "    return [alms, np.zeros_like(alms), np.zeros_like(alms)]\n",
    "\n",
    "def filter_alms(alms, tcls, lmin, lmax):\n",
    "    '''\n",
    "    Takes input alms, and makes an isotropic filtering with tcls\n",
    "    '''\n",
    "    if len(alms)!=3:\n",
    "        alms = dummy_teb(alms)\n",
    "    alms_filtered = utils.isotropic_filter(alms,\n",
    "            tcls, lmin, lmax, ignore_te = True)\n",
    "    return alms_filtered\n",
    "\n",
    "\n",
    "def fnu(nu, tcmb = const.default_tcmb):\n",
    "    \"\"\"\n",
    "    nu in GHz\n",
    "    tcmb in Kelvin\n",
    "    \"\"\"\n",
    "    nu = np.asarray(nu)\n",
    "    mu = const.H_CGS*(1e9*nu)/(const.K_CGS*tcmb)\n",
    "    ans = mu/np.tanh(mu/2.0) - 4.0\n",
    "    return ans\n",
    "\n",
    "def tsz_factor_for_ymap(freq, tcmb = const.default_tcmb):\n",
    "    return fnu(freq) * tcmb * 1e6\n",
    "\n",
    "def process_tsz(comptony, freq, tcmb = const.default_tcmb):\n",
    "    return tsz_factor_for_ymap(freq = freq, tcmb = tcmb) * comptony\n",
    "\n",
    "\n",
    "\n",
    "nside = 4096\n",
    "noise_sigma = 17\n",
    "mlmax = 6000\n",
    "fwhm = 1.4\n",
    "\n",
    "kappa_lmin, kappa_lmax = 100, 3000\n",
    "\n",
    "source_dir = pathlib.Path('/global/cscratch1/sd/omard/scatteringtfms/sims/')\n",
    "\n",
    "kappa_name = 'healpix_4096_KappaeffLSStoCMBfullsky.fits'\n",
    "cmb_name = 'Sehgalsimparams_healpix_4096_KappaeffLSStoCMBfullsky_phi_SimLens_Tsynfastnopell_fast_lmax8000_nside4096_interp2.5_method1_1_lensed_map.fits'\n",
    "\n",
    "freq = 148 #GHz\n",
    "\n",
    "tsz_power = 'Sehgal_sim_tSZPS_unbinned_8192_y_rescale0p75.txt'\n",
    "ksz_power = 'kSZ_PS_Sehgal_healpix_Nside4096_DeltaT_uK.txt'\n",
    "\n",
    "ell, cltsz = np.loadtxt(source_dir/tsz_power, unpack = True)\n",
    "cltsz *= (tsz_factor_for_ymap(freq))**2\n",
    "ell, clksz = np.loadtxt(source_dir/ksz_power, unpack = True)\n",
    "\n",
    "#names = [kappa_name, cmb_name]\n",
    "#maps = [hp.read_map(source_dir/name) for name in names]\n",
    "\n",
    "#alms = [hp.map2alm(mappa, lmax = mlmax) for mappa in maps]\n",
    "cmboutname = 'cmb'\n",
    "kappaoutname = 'kappa'\n",
    "kszoutname = 'ksz'\n",
    "tszoutname = 'tsz'\n",
    "nomi = [kappaoutname, cmboutname, kszoutname, tszoutname]\n",
    "#[hp.write_alm(source_dir/f'{nome}_alm.fits', alm) for nome, alm in zip(nomi, alms)]\n",
    "\n",
    "alms = [hp.read_alm(source_dir/f'{nome}_alm.fits') for nome in nomi]\n",
    "\n",
    "ells = np.arange(mlmax+1)\n",
    "\n",
    "fgs = clksz+cltsz\n",
    "fgpower = np.interp(ells, ell, fgs)*0.\n",
    "\n",
    "bfact = gauss_beam(ells, fwhm)\n",
    "Nl_tt = (noise_sigma*np.pi/180./60.)**2./bfact #beam deconvolved noise\n",
    "#HAVE TO INCLUDE FOREGROUND POWER TOO\n",
    "Nl_tt = np.nan_to_num(Nl_tt+fgpower)\n",
    "nells = {\"TT\": Nl_tt, \"EE\": 2*Nl_tt, \"BB\": 2*Nl_tt}\n"
   ]
  },
  {
   "cell_type": "code",
   "execution_count": 5,
   "metadata": {},
   "outputs": [
    {
     "name": "stdout",
     "output_type": "stream",
     "text": [
      " Response (TT)\n"
     ]
    }
   ],
   "source": [
    "\n",
    "px = qe.pixelization(nside = nside)\n",
    "\n",
    "ucls, tcls = utils.get_theory_dicts(grad = True, nells = nells, lmax = mlmax)\n",
    "\n",
    "_, ls, Als, R_src_tt, Nl_g, Nl_c, Nl_g_bh = solenspipe.get_tempura_norms(\n",
    "        est1 = 'TT', est2 = 'TT', ucls = ucls, tcls = tcls, lmin = kappa_lmin, lmax = kappa_lmax, mlmax = mlmax)\n",
    "\n",
    "#R_src_tt = pytempura.get_cross('SRC', 'TT', ucls, tcls, kappa_lmin, kappa_lmax, k_ellmax = mlmax)\n",
    "\n",
    "norm_stuff = {\"ls\": ls, \"Als\": Als, \"R_src_tt\": R_src_tt,\n",
    "                  \"Nl_g\": Nl_g, \"Nl_c\": Nl_c, \"Nl_g_bh\": Nl_g_bh,\n",
    "    }\n",
    "\n",
    "qfunc = solenspipe.get_qfunc(px, ucls, mlmax, \"TT\", Al1 = Als['TT'])\n",
    "qfunc_bh = solenspipe.get_qfunc(px, ucls, mlmax, \"TT\", est2 = 'SRC', Al1 = Als['TT'], \n",
    "                                Al2 = Als['src'], R12 = R_src_tt)\n",
    "\n",
    "qfunc2 = lambda X,Y: qe.qe_source(px, mlmax, fTalm=Y[0],xfTalm=X[0], profile = None)\n",
    "\n",
    "qfunc_shear = lambda X,Y: qe.qe_shear(px, mlmax, Talm = X[0], fTalm = Y[0])\n",
    "\n",
    "\n",
    "kappa_alm, cmb_alm, ksz_alm, tsz_alm = alms\n",
    "tsz_alm = process_tsz(tsz_alm, freq)\n",
    "\n",
    "cmb_alm = utils.change_alm_lmax(cmb_alm, mlmax)\n",
    "cmb_alm_filtered = filter_alms(cmb_alm, tcls, kappa_lmin, kappa_lmax)\n",
    "\n",
    "versions = ['shear']#['qe', 'bh']\n",
    "functions = [qfunc_shear] #[qfunc, qfunc_bh]\n"
   ]
  },
  {
   "cell_type": "code",
   "execution_count": 27,
   "metadata": {},
   "outputs": [
    {
     "name": "stderr",
     "output_type": "stream",
     "text": [
      "/tmp/ipykernel_485/2703318173.py:2: RuntimeWarning: divide by zero encountered in true_divide\n",
      "  filt_t = lambda x: (1./(x*(tcls['TT'])**2))*der(tcls['TT'])\n"
     ]
    },
    {
     "ename": "ValueError",
     "evalue": "Buffer has wrong number of dimensions (expected 2, got 3)",
     "output_type": "error",
     "traceback": [
      "\u001b[0;31m---------------------------------------------------------------------------\u001b[0m",
      "\u001b[0;31mValueError\u001b[0m                                Traceback (most recent call last)",
      "\u001b[1;32m/global/homes/o/omard/fgestimates/fg_shear.ipynb Cell 4\u001b[0m in \u001b[0;36m<cell line: 5>\u001b[0;34m()\u001b[0m\n\u001b[1;32m      <a href='vscode-notebook-cell://ssh-remote%2B7b22686f73744e616d65223a22636f72692e6e657273632e676f76222c2275736572223a226f6d617264227d/global/homes/o/omard/fgestimates/fg_shear.ipynb#X15sdnNjb2RlLXJlbW90ZQ%3D%3D?line=1'>2</a>\u001b[0m filt_t \u001b[39m=\u001b[39m \u001b[39mlambda\u001b[39;00m x: (\u001b[39m1.\u001b[39m\u001b[39m/\u001b[39m(x\u001b[39m*\u001b[39m(tcls[\u001b[39m'\u001b[39m\u001b[39mTT\u001b[39m\u001b[39m'\u001b[39m])\u001b[39m*\u001b[39m\u001b[39m*\u001b[39m\u001b[39m2\u001b[39m))\u001b[39m*\u001b[39mder(tcls[\u001b[39m'\u001b[39m\u001b[39mTT\u001b[39m\u001b[39m'\u001b[39m])\n\u001b[1;32m      <a href='vscode-notebook-cell://ssh-remote%2B7b22686f73744e616d65223a22636f72692e6e657273632e676f76222c2275736572223a226f6d617264227d/global/homes/o/omard/fgestimates/fg_shear.ipynb#X15sdnNjb2RlLXJlbW90ZQ%3D%3D?line=2'>3</a>\u001b[0m almt \u001b[39m=\u001b[39m qe\u001b[39m.\u001b[39mfilter_alms(np\u001b[39m.\u001b[39marray([cmb_alm]), filt_t(ells),lmin \u001b[39m=\u001b[39m kappa_lmin, lmax \u001b[39m=\u001b[39m kappa_lmax)\n\u001b[0;32m----> <a href='vscode-notebook-cell://ssh-remote%2B7b22686f73744e616d65223a22636f72692e6e657273632e676f76222c2275736572223a226f6d617264227d/global/homes/o/omard/fgestimates/fg_shear.ipynb#X15sdnNjb2RlLXJlbW90ZQ%3D%3D?line=4'>5</a>\u001b[0m alms \u001b[39m=\u001b[39m qe\u001b[39m.\u001b[39;49malmxfl(np\u001b[39m.\u001b[39;49mstack((almt, almt)) ,np\u001b[39m.\u001b[39;49msqrt((ells\u001b[39m-\u001b[39;49m\u001b[39m1.\u001b[39;49m)\u001b[39m*\u001b[39;49mells\u001b[39m*\u001b[39;49m(ells\u001b[39m+\u001b[39;49m\u001b[39m1.\u001b[39;49m)\u001b[39m*\u001b[39;49m(ells\u001b[39m+\u001b[39;49m\u001b[39m2.\u001b[39;49m)))\n",
      "File \u001b[0;32m~/.conda/envs/foregrounds/lib/python3.8/site-packages/falafel-0.1.0-py3.8.egg/falafel/qe.py:136\u001b[0m, in \u001b[0;36malmxfl\u001b[0;34m(alm, fl)\u001b[0m\n\u001b[1;32m    134\u001b[0m ncomp \u001b[39m=\u001b[39m alm\u001b[39m.\u001b[39mshape[\u001b[39m0\u001b[39m]\n\u001b[1;32m    135\u001b[0m \u001b[39massert\u001b[39;00m ncomp \u001b[39min\u001b[39;00m [\u001b[39m1\u001b[39m,\u001b[39m2\u001b[39m,\u001b[39m3\u001b[39m]\n\u001b[0;32m--> 136\u001b[0m res \u001b[39m=\u001b[39m cs\u001b[39m.\u001b[39;49malmxfl(alm,fl)\n\u001b[1;32m    137\u001b[0m \u001b[39mreturn\u001b[39;00m res\n",
      "File \u001b[0;32m~/pixell/pixell/curvedsky.py:711\u001b[0m, in \u001b[0;36malmxfl\u001b[0;34m(alm, lfilter, ainfo)\u001b[0m\n\u001b[1;32m    709\u001b[0m \tl \u001b[39m=\u001b[39m np\u001b[39m.\u001b[39marange(ainfo\u001b[39m.\u001b[39mlmax\u001b[39m+\u001b[39m\u001b[39m1.0\u001b[39m)\n\u001b[1;32m    710\u001b[0m \tlfilter \u001b[39m=\u001b[39m lfilter(l)\n\u001b[0;32m--> 711\u001b[0m \u001b[39mreturn\u001b[39;00m ainfo\u001b[39m.\u001b[39;49mlmul(alm, lfilter)\n",
      "File \u001b[0;32msharp.pyx:359\u001b[0m, in \u001b[0;36msharp.alm_info.lmul\u001b[0;34m()\u001b[0m\n",
      "File \u001b[0;32msharp.pyx:365\u001b[0m, in \u001b[0;36msharp.alm_info.lmul_dp\u001b[0;34m()\u001b[0m\n",
      "\u001b[0;31mValueError\u001b[0m: Buffer has wrong number of dimensions (expected 2, got 3)"
     ]
    }
   ],
   "source": [
    "der = lambda x: np.gradient(x)\n",
    "filt_t = lambda x: (1./(x*(tcls['TT'])**2))*der(tcls['TT'])\n",
    "almt = qe.filter_alms(np.array([cmb_alm]), filt_t(ells),lmin = kappa_lmin, lmax = kappa_lmax)\n",
    "\n",
    "alms = qe.almxfl(np.stack((almt, almt)), np.sqrt((ells-1.)*ells*(ells+1.)*(ells+2.)))"
   ]
  },
  {
   "cell_type": "code",
   "execution_count": 29,
   "metadata": {},
   "outputs": [
    {
     "name": "stdout",
     "output_type": "stream",
     "text": [
      "\u001b[0;31mSignature:\u001b[0m \u001b[0mqe\u001b[0m\u001b[0;34m.\u001b[0m\u001b[0malmxfl\u001b[0m\u001b[0;34m(\u001b[0m\u001b[0malm\u001b[0m\u001b[0;34m,\u001b[0m \u001b[0mfl\u001b[0m\u001b[0;34m)\u001b[0m\u001b[0;34m\u001b[0m\u001b[0;34m\u001b[0m\u001b[0m\n",
      "\u001b[0;31mDocstring:\u001b[0m <no docstring>\n",
      "\u001b[0;31mFile:\u001b[0m      ~/.conda/envs/foregrounds/lib/python3.8/site-packages/falafel-0.1.0-py3.8.egg/falafel/qe.py\n",
      "\u001b[0;31mType:\u001b[0m      function\n"
     ]
    }
   ],
   "source": [
    "qe.almxfl?"
   ]
  },
  {
   "cell_type": "code",
   "execution_count": 22,
   "metadata": {},
   "outputs": [
    {
     "data": {
      "text/plain": [
       "0"
      ]
     },
     "execution_count": 22,
     "metadata": {},
     "output_type": "execute_result"
    }
   ],
   "source": [
    "qe.get_mlmax(np.array([cmb_alm[0]]))"
   ]
  },
  {
   "cell_type": "code",
   "execution_count": 10,
   "metadata": {},
   "outputs": [
    {
     "data": {
      "text/plain": [
       "(18009001,)"
      ]
     },
     "execution_count": 10,
     "metadata": {},
     "output_type": "execute_result"
    }
   ],
   "source": [
    "cmb_alm.shape"
   ]
  },
  {
   "cell_type": "code",
   "execution_count": 11,
   "metadata": {},
   "outputs": [],
   "source": [
    "\n",
    "for function, version in zip(functions, versions):\n",
    "    phi_recon_alms = function([cmb_alm], [cmb_alm])\n",
    "    kappa_recon_alms = lensing.phi_to_kappa(phi_recon_alms)\n",
    "\n",
    "    cl_kk_input_output = curvedsky.alm2cl(kappa_recon_alms, kappa_alm)\n",
    "    cl_kk_input = curvedsky.alm2cl(kappa_alm)\n",
    "\n",
    "    np.save(source_dir/f'kappa_reconstructed_{version}', kappa_recon_alms[0])\n",
    "\n",
    "    plt.loglog(cl_kk_input_output, label = '$\\hat{\\kappa}\\kappa$')\n",
    "    plt.loglog(cl_kk_input, label = '$\\kappa\\kappa$')\n",
    "    plt.legend()\n",
    "    plt.savefig(f'reconstruction_{version}.png')\n",
    "    plt.close()\n",
    "\n"
   ]
  },
  {
   "cell_type": "code",
   "execution_count": 12,
   "metadata": {},
   "outputs": [],
   "source": [
    "cl_kk_input_output = curvedsky.alm2cl(kappa_recon_alms, kappa_alm)\n",
    "cl_kk_input = curvedsky.alm2cl(kappa_alm)"
   ]
  },
  {
   "cell_type": "code",
   "execution_count": 13,
   "metadata": {},
   "outputs": [
    {
     "data": {
      "image/png": "[encoded data removed]",
      "text/plain": [
       "<Figure size 432x288 with 1 Axes>"
      ]
     },
     "metadata": {
      "needs_background": "light"
     },
     "output_type": "display_data"
    }
   ],
   "source": [
    "plt.loglog(cl_kk_input_output, label = '$\\hat{\\kappa}\\kappa$')\n",
    "plt.loglog(cl_kk_input, ls = '--', label = '$\\kappa\\kappa$')\n",
    "plt.legend()\n",
    "plt.show()"
   ]
  },
  {
   "cell_type": "code",
   "execution_count": null,
   "metadata": {},
   "outputs": [],
   "source": []
  }
 ],
 "metadata": {
  "kernelspec": {
   "display_name": "Python 3.8.13 ('foregrounds': conda)",
   "language": "python",
   "name": "python3"
  },
  "language_info": {
   "codemirror_mode": {
    "name": "ipython",
    "version": 3
   },
   "file_extension": ".py",
   "mimetype": "text/x-python",
   "name": "python",
   "nbconvert_exporter": "python",
   "pygments_lexer": "ipython3",
   "version": "3.8.13"
  },
  "orig_nbformat": 4,
  "vscode": {
   "interpreter": {
    "hash": "01b87110312443dc4c62d525e62a79bc791fd71df70daf61941a5df51c3e9b2c"
   }
  }
 },
 "nbformat": 4,
 "nbformat_minor": 2
}
